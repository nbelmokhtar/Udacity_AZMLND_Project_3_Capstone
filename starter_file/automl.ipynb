{
 "cells": [
  {
   "cell_type": "markdown",
   "metadata": {},
   "source": [
    "# Automated ML\n",
    "\n",
    "Import of all the dependencies that we need to complete the project."
   ]
  },
  {
   "cell_type": "code",
   "execution_count": 1,
   "metadata": {
    "gather": {
     "logged": 1598423888013
    },
    "jupyter": {
     "outputs_hidden": false,
     "source_hidden": false
    },
    "nteract": {
     "transient": {
      "deleting": false
     }
    }
   },
   "outputs": [
    {
     "name": "stdout",
     "output_type": "stream",
     "text": [
      "SDK version: 1.20.0\n"
     ]
    }
   ],
   "source": [
    "from azureml.core import Workspace, Experiment, Dataset\n",
    "from azureml.core.compute import ComputeTarget, AmlCompute\n",
    "from azureml.core.compute_target import ComputeTargetException\n",
    "from azureml.widgets import RunDetails\n",
    "\n",
    "import azureml.core\n",
    "from azureml.data.dataset_factory import TabularDatasetFactory\n",
    "from sklearn.model_selection import train_test_split\n",
    "from azureml.train.automl import AutoMLConfig\n",
    "\n",
    "import os\n",
    "import joblib\n",
    "import pandas as pd\n",
    "import numpy as np\n",
    "\n",
    "# Check core SDK version number\n",
    "print(\"SDK version:\", azureml.core.VERSION)"
   ]
  },
  {
   "cell_type": "markdown",
   "metadata": {},
   "source": [
    "## Dataset\n",
    "\n",
    "### Overview\n",
    "\n",
    "Dataset from Davide Chicco, Giuseppe Jurman: Machine learning can predict survival of patients with heart failure from serum creatinine and ejection fraction alone. BMC Medical Informatics and Decision Making 20, 16 (2020)\n",
    "\n",
    "Heart failure is a common event caused by Cardiovascular diseases (CVDs) and this dataset contains 12 features that can be used to predict mortality by heart failure.\n",
    "\n",
    "01- age : Age of the patient (years)\n",
    "02- anaemia : Decrease of red blood cells or hemoglobin (boolean)\n",
    "03- creatinine_phosphokinase : Level of the CPK enzyme in the blood (mcg/L)\n",
    "04- diabetes : If the patient has diabetes (boolean)\n",
    "05- ejection_fraction : Percentage of blood leaving the heart at each contraction (percentage)\n",
    "06- high_blood_pressure : If the patient has hypertension (boolean)\n",
    "07- platelets : Platelets in the blood (kiloplatelets/mL)\n",
    "08- serum_creatinine : Level of serum creatinine in the blood (mg/dL)\n",
    "09- serum_sodium :Level of serum sodium in the blood (mEq/L)\n",
    "10- sex : Woman or man (binary)\n",
    "11- smoking : If the patient smokes or not (boolean)\n",
    "12- time : Follow-up period (days)\n",
    "\n",
    "### Task\n",
    "\n",
    "An Azure Auto ML will be performed to predict if the patient deceased during the follow-up period (DEATH_EVENT : boolean), based on the 12 clinical features. "
   ]
  },
  {
   "cell_type": "markdown",
   "metadata": {},
   "source": [
    "### Connect to a workspace"
   ]
  },
  {
   "cell_type": "code",
   "execution_count": 2,
   "metadata": {
    "gather": {
     "logged": 1598423890461
    },
    "jupyter": {
     "outputs_hidden": false,
     "source_hidden": false
    },
    "nteract": {
     "transient": {
      "deleting": false
     }
    }
   },
   "outputs": [
    {
     "name": "stdout",
     "output_type": "stream",
     "text": [
      "Workspace name: quick-starts-ws-138754\n",
      "Azure region: southcentralus\n",
      "Subscription id: a0a76bad-11a1-4a2d-9887-97a29122c8ed\n",
      "Resource group: aml-quickstarts-138754\n"
     ]
    }
   ],
   "source": [
    "ws = Workspace.from_config()\n",
    "\n",
    "print('Workspace name: ' + ws.name, \n",
    "      'Azure region: ' + ws.location, \n",
    "      'Subscription id: ' + ws.subscription_id, \n",
    "      'Resource group: ' + ws.resource_group, sep = '\\n')"
   ]
  },
  {
   "cell_type": "markdown",
   "metadata": {},
   "source": [
    "### Create an Azure ML experiment"
   ]
  },
  {
   "cell_type": "code",
   "execution_count": 3,
   "metadata": {},
   "outputs": [],
   "source": [
    "# choose a name for experiment\n",
    "experiment_name = 'automl_heart_failure_experiment'\n",
    "project_folder = './automl-model'\n",
    "experiment=Experiment(ws, experiment_name)\n",
    "experiment\n",
    "run = experiment.start_logging()"
   ]
  },
  {
   "cell_type": "markdown",
   "metadata": {},
   "source": [
    "### Create and explore dataset"
   ]
  },
  {
   "cell_type": "code",
   "execution_count": 5,
   "metadata": {},
   "outputs": [
    {
     "data": {
      "text/html": [
       "<div>\n",
       "<style scoped>\n",
       "    .dataframe tbody tr th:only-of-type {\n",
       "        vertical-align: middle;\n",
       "    }\n",
       "\n",
       "    .dataframe tbody tr th {\n",
       "        vertical-align: top;\n",
       "    }\n",
       "\n",
       "    .dataframe thead th {\n",
       "        text-align: right;\n",
       "    }\n",
       "</style>\n",
       "<table border=\"1\" class=\"dataframe\">\n",
       "  <thead>\n",
       "    <tr style=\"text-align: right;\">\n",
       "      <th></th>\n",
       "      <th>age</th>\n",
       "      <th>anaemia</th>\n",
       "      <th>creatinine_phosphokinase</th>\n",
       "      <th>diabetes</th>\n",
       "      <th>ejection_fraction</th>\n",
       "      <th>high_blood_pressure</th>\n",
       "      <th>platelets</th>\n",
       "      <th>serum_creatinine</th>\n",
       "      <th>serum_sodium</th>\n",
       "      <th>sex</th>\n",
       "      <th>smoking</th>\n",
       "      <th>time</th>\n",
       "      <th>DEATH_EVENT</th>\n",
       "    </tr>\n",
       "  </thead>\n",
       "  <tbody>\n",
       "    <tr>\n",
       "      <th>0</th>\n",
       "      <td>75.0</td>\n",
       "      <td>0</td>\n",
       "      <td>582</td>\n",
       "      <td>0</td>\n",
       "      <td>20</td>\n",
       "      <td>1</td>\n",
       "      <td>265000.00</td>\n",
       "      <td>1.9</td>\n",
       "      <td>130</td>\n",
       "      <td>1</td>\n",
       "      <td>0</td>\n",
       "      <td>4</td>\n",
       "      <td>1</td>\n",
       "    </tr>\n",
       "    <tr>\n",
       "      <th>1</th>\n",
       "      <td>55.0</td>\n",
       "      <td>0</td>\n",
       "      <td>7861</td>\n",
       "      <td>0</td>\n",
       "      <td>38</td>\n",
       "      <td>0</td>\n",
       "      <td>263358.03</td>\n",
       "      <td>1.1</td>\n",
       "      <td>136</td>\n",
       "      <td>1</td>\n",
       "      <td>0</td>\n",
       "      <td>6</td>\n",
       "      <td>1</td>\n",
       "    </tr>\n",
       "    <tr>\n",
       "      <th>2</th>\n",
       "      <td>65.0</td>\n",
       "      <td>0</td>\n",
       "      <td>146</td>\n",
       "      <td>0</td>\n",
       "      <td>20</td>\n",
       "      <td>0</td>\n",
       "      <td>162000.00</td>\n",
       "      <td>1.3</td>\n",
       "      <td>129</td>\n",
       "      <td>1</td>\n",
       "      <td>1</td>\n",
       "      <td>7</td>\n",
       "      <td>1</td>\n",
       "    </tr>\n",
       "    <tr>\n",
       "      <th>3</th>\n",
       "      <td>50.0</td>\n",
       "      <td>1</td>\n",
       "      <td>111</td>\n",
       "      <td>0</td>\n",
       "      <td>20</td>\n",
       "      <td>0</td>\n",
       "      <td>210000.00</td>\n",
       "      <td>1.9</td>\n",
       "      <td>137</td>\n",
       "      <td>1</td>\n",
       "      <td>0</td>\n",
       "      <td>7</td>\n",
       "      <td>1</td>\n",
       "    </tr>\n",
       "    <tr>\n",
       "      <th>4</th>\n",
       "      <td>65.0</td>\n",
       "      <td>1</td>\n",
       "      <td>160</td>\n",
       "      <td>1</td>\n",
       "      <td>20</td>\n",
       "      <td>0</td>\n",
       "      <td>327000.00</td>\n",
       "      <td>2.7</td>\n",
       "      <td>116</td>\n",
       "      <td>0</td>\n",
       "      <td>0</td>\n",
       "      <td>8</td>\n",
       "      <td>1</td>\n",
       "    </tr>\n",
       "  </tbody>\n",
       "</table>\n",
       "</div>"
      ],
      "text/plain": [
       "    age  anaemia  creatinine_phosphokinase  diabetes  ejection_fraction  \\\n",
       "0  75.0        0                       582         0                 20   \n",
       "1  55.0        0                      7861         0                 38   \n",
       "2  65.0        0                       146         0                 20   \n",
       "3  50.0        1                       111         0                 20   \n",
       "4  65.0        1                       160         1                 20   \n",
       "\n",
       "   high_blood_pressure  platelets  serum_creatinine  serum_sodium  sex  \\\n",
       "0                    1  265000.00               1.9           130    1   \n",
       "1                    0  263358.03               1.1           136    1   \n",
       "2                    0  162000.00               1.3           129    1   \n",
       "3                    0  210000.00               1.9           137    1   \n",
       "4                    0  327000.00               2.7           116    0   \n",
       "\n",
       "   smoking  time  DEATH_EVENT  \n",
       "0        0     4            1  \n",
       "1        0     6            1  \n",
       "2        1     7            1  \n",
       "3        0     7            1  \n",
       "4        0     8            1  "
      ]
     },
     "execution_count": 5,
     "metadata": {},
     "output_type": "execute_result"
    }
   ],
   "source": [
    "# Data set was downloaded as a csv file and registered as data set in the workspace\n",
    "dataset=Dataset.get_by_name(ws,name=\"heart_failure_clinical_records_dataset\")\n",
    "df = dataset.to_pandas_dataframe()\n",
    "df.describe()\n",
    "dataset.take(5).to_pandas_dataframe()"
   ]
  },
  {
   "cell_type": "code",
   "execution_count": 6,
   "metadata": {},
   "outputs": [
    {
     "name": "stdout",
     "output_type": "stream",
     "text": [
      "/mnt/batch/tasks/shared/LS_root/mounts/clusters/notebook138754/code/Users\n"
     ]
    },
    {
     "data": {
      "text/plain": [
       "['.config',\n",
       " '.ipynb_checkpoints',\n",
       " 'automl.ipynb',\n",
       " 'hyperparameter_tuning.ipynb',\n",
       " 'outputs',\n",
       " 'train.py',\n",
       " 'training']"
      ]
     },
     "execution_count": 6,
     "metadata": {},
     "output_type": "execute_result"
    }
   ],
   "source": [
    "currDir=os.getcwd()\n",
    "print(currDir)\n",
    "os.listdir(currDir)"
   ]
  },
  {
   "cell_type": "markdown",
   "metadata": {},
   "source": [
    "### Create or Attach a Compute Resource"
   ]
  },
  {
   "cell_type": "code",
   "execution_count": 7,
   "metadata": {},
   "outputs": [
    {
     "name": "stdout",
     "output_type": "stream",
     "text": [
      "Found existing compute target, use it\n",
      "Succeeded\n",
      "AmlCompute wait for completion finished\n",
      "\n",
      "Minimum number of nodes requested have been provisioned\n",
      "{'currentNodeCount': 0, 'targetNodeCount': 0, 'nodeStateCounts': {'preparingNodeCount': 0, 'runningNodeCount': 0, 'idleNodeCount': 0, 'unusableNodeCount': 0, 'leavingNodeCount': 0, 'preemptedNodeCount': 0}, 'allocationState': 'Steady', 'allocationStateTransitionTime': '2021-02-13T00:42:36.664000+00:00', 'errors': None, 'creationTime': '2021-02-13T00:28:24.556267+00:00', 'modifiedTime': '2021-02-13T00:28:39.925629+00:00', 'provisioningState': 'Succeeded', 'provisioningStateTransitionTime': None, 'scaleSettings': {'minNodeCount': 0, 'maxNodeCount': 5, 'nodeIdleTimeBeforeScaleDown': 'PT120S'}, 'vmPriority': 'Dedicated', 'vmSize': 'STANDARD_D3_V2'}\n"
     ]
    }
   ],
   "source": [
    "# Create compute cluster\n",
    "# Use vm_size = \"STANDARD_D3_V2\" in provisioning configuration.\n",
    "# max_nodes 5.\n",
    "\n",
    "# Choose a name for CPU cluster\n",
    "cluster_name = \"my-cpu-cluster\"\n",
    "\n",
    "# Check if the compute target exists\n",
    "try:\n",
    "    compute_target = ComputeTarget(workspace=ws, name=cluster_name)\n",
    "    print('Found existing compute target, use it')\n",
    "except ComputeTargetException:\n",
    "    print('Creating a new compute target...')\n",
    "    compute_config = AmlCompute.provisioning_configuration(vm_size='Standard_D3_V2', \n",
    "                                                           max_nodes=5)\n",
    "    # create the cluster\n",
    "    compute_target = ComputeTarget.create(ws, cluster_name, compute_config)\n",
    "\n",
    "compute_target.wait_for_completion(show_output=True)\n",
    "\n",
    "# get a detailed status for the current cluster\n",
    "print(compute_target.get_status().serialize())"
   ]
  },
  {
   "cell_type": "markdown",
   "metadata": {},
   "source": [
    "## AutoML Configuration\n",
    "\n",
    "We didn't explicitly specified either a validation_data or n_cross_validation parameter, automated ML applies default techniques depending on the number of rows provided in the single training_data=dataset. Dataset is less than 1,000 rows, 10 folds are used."
   ]
  },
  {
   "cell_type": "code",
   "execution_count": 8,
   "metadata": {
    "gather": {
     "logged": 1598429217746
    },
    "jupyter": {
     "outputs_hidden": false,
     "source_hidden": false
    },
    "nteract": {
     "transient": {
      "deleting": false
     }
    }
   },
   "outputs": [],
   "source": [
    "# AutoML settings\n",
    "automl_settings = {\n",
    "    \"experiment_timeout_minutes\": 30,\n",
    "    \"max_concurrent_iterations\": 4,\n",
    "    \"primary_metric\" : 'accuracy',\n",
    "}\n",
    "\n",
    "# AutoML config\n",
    "automl_config = AutoMLConfig(compute_target=compute_target,\n",
    "                             task = \"classification\",\n",
    "                             training_data=dataset,\n",
    "                             label_column_name=\"DEATH_EVENT\",   \n",
    "                             path = project_folder,\n",
    "                             enable_early_stopping= True,\n",
    "                             debug_log = \"automl_errors.log\",\n",
    "                             **automl_settings\n",
    ")"
   ]
  },
  {
   "cell_type": "code",
   "execution_count": 9,
   "metadata": {
    "gather": {
     "logged": 1598431107951
    },
    "jupyter": {
     "outputs_hidden": false,
     "source_hidden": false
    },
    "nteract": {
     "transient": {
      "deleting": false
     }
    }
   },
   "outputs": [
    {
     "name": "stdout",
     "output_type": "stream",
     "text": [
      "Running on remote.\n"
     ]
    }
   ],
   "source": [
    "# Submit the experiment\n",
    "remote_run = experiment.submit(automl_config)"
   ]
  },
  {
   "cell_type": "markdown",
   "metadata": {},
   "source": [
    "## Run Details\n",
    "\n",
    "OPTIONAL: Write about the different models trained and their performance. Why do you think some models did better than others?\n",
    "\n",
    "Using the `RunDetails` widget to show the different experiments."
   ]
  },
  {
   "cell_type": "code",
   "execution_count": 10,
   "metadata": {},
   "outputs": [
    {
     "data": {
      "text/html": [
       "<table style=\"width:100%\"><tr><th>Experiment</th><th>Id</th><th>Type</th><th>Status</th><th>Details Page</th><th>Docs Page</th></tr><tr><td>automl_heart_failure_experiment</td><td>AutoML_bad8b7b1-697e-402a-91c9-8730f9b52493</td><td>automl</td><td>NotStarted</td><td><a href=\"https://ml.azure.com/experiments/automl_heart_failure_experiment/runs/AutoML_bad8b7b1-697e-402a-91c9-8730f9b52493?wsid=/subscriptions/a0a76bad-11a1-4a2d-9887-97a29122c8ed/resourcegroups/aml-quickstarts-138754/workspaces/quick-starts-ws-138754\" target=\"_blank\" rel=\"noopener\">Link to Azure Machine Learning studio</a></td><td><a href=\"https://docs.microsoft.com/en-us/python/api/overview/azure/ml/intro?view=azure-ml-py\" target=\"_blank\" rel=\"noopener\">Link to Documentation</a></td></tr></table>"
      ],
      "text/plain": [
       "Run(Experiment: automl_heart_failure_experiment,\n",
       "Id: AutoML_bad8b7b1-697e-402a-91c9-8730f9b52493,\n",
       "Type: automl,\n",
       "Status: NotStarted)"
      ]
     },
     "execution_count": 10,
     "metadata": {},
     "output_type": "execute_result"
    }
   ],
   "source": [
    "remote_run"
   ]
  },
  {
   "cell_type": "code",
   "execution_count": 11,
   "metadata": {
    "gather": {
     "logged": 1598431121770
    },
    "jupyter": {
     "outputs_hidden": false,
     "source_hidden": false
    },
    "nteract": {
     "transient": {
      "deleting": false
     }
    }
   },
   "outputs": [
    {
     "data": {
      "application/vnd.jupyter.widget-view+json": {
       "model_id": "6682742803854efab93809091b2f7aae",
       "version_major": 2,
       "version_minor": 0
      },
      "text/plain": [
       "_AutoMLWidget(widget_settings={'childWidgetDisplay': 'popup', 'send_telemetry': False, 'log_level': 'INFO', 's…"
      ]
     },
     "metadata": {},
     "output_type": "display_data"
    },
    {
     "data": {
      "application/aml.mini.widget.v1": "{\"status\": \"Completed\", \"workbench_run_details_uri\": \"https://ml.azure.com/experiments/automl_heart_failure_experiment/runs/AutoML_bad8b7b1-697e-402a-91c9-8730f9b52493?wsid=/subscriptions/a0a76bad-11a1-4a2d-9887-97a29122c8ed/resourcegroups/aml-quickstarts-138754/workspaces/quick-starts-ws-138754\", \"run_id\": \"AutoML_bad8b7b1-697e-402a-91c9-8730f9b52493\", \"run_properties\": {\"run_id\": \"AutoML_bad8b7b1-697e-402a-91c9-8730f9b52493\", \"created_utc\": \"2021-02-13T00:45:16.163236Z\", \"properties\": {\"num_iterations\": \"1000\", \"training_type\": \"TrainFull\", \"acquisition_function\": \"EI\", \"primary_metric\": \"accuracy\", \"train_split\": \"0\", \"acquisition_parameter\": \"0\", \"num_cross_validation\": null, \"target\": \"my-cpu-cluster\", \"AMLSettingsJsonString\": \"{\\\"path\\\":null,\\\"name\\\":\\\"automl_heart_failure_experiment\\\",\\\"subscription_id\\\":\\\"a0a76bad-11a1-4a2d-9887-97a29122c8ed\\\",\\\"resource_group\\\":\\\"aml-quickstarts-138754\\\",\\\"workspace_name\\\":\\\"quick-starts-ws-138754\\\",\\\"region\\\":\\\"southcentralus\\\",\\\"compute_target\\\":\\\"my-cpu-cluster\\\",\\\"spark_service\\\":null,\\\"azure_service\\\":\\\"remote\\\",\\\"many_models\\\":false,\\\"pipeline_fetch_max_batch_size\\\":1,\\\"iterations\\\":1000,\\\"primary_metric\\\":\\\"accuracy\\\",\\\"task_type\\\":\\\"classification\\\",\\\"data_script\\\":null,\\\"validation_size\\\":0.0,\\\"n_cross_validations\\\":null,\\\"y_min\\\":null,\\\"y_max\\\":null,\\\"num_classes\\\":null,\\\"featurization\\\":\\\"auto\\\",\\\"_ignore_package_version_incompatibilities\\\":false,\\\"is_timeseries\\\":false,\\\"max_cores_per_iteration\\\":1,\\\"max_concurrent_iterations\\\":4,\\\"iteration_timeout_minutes\\\":null,\\\"mem_in_mb\\\":null,\\\"enforce_time_on_windows\\\":false,\\\"experiment_timeout_minutes\\\":30,\\\"experiment_exit_score\\\":null,\\\"whitelist_models\\\":null,\\\"blacklist_algos\\\":[\\\"TensorFlowLinearClassifier\\\",\\\"TensorFlowDNN\\\"],\\\"supported_models\\\":[\\\"SGD\\\",\\\"TensorFlowLinearClassifier\\\",\\\"BernoulliNaiveBayes\\\",\\\"AveragedPerceptronClassifier\\\",\\\"XGBoostClassifier\\\",\\\"TensorFlowDNN\\\",\\\"LogisticRegression\\\",\\\"MultinomialNaiveBayes\\\",\\\"KNN\\\",\\\"RandomForest\\\",\\\"DecisionTree\\\",\\\"ExtremeRandomTrees\\\",\\\"LightGBM\\\",\\\"SVM\\\",\\\"LinearSVM\\\",\\\"GradientBoosting\\\"],\\\"auto_blacklist\\\":true,\\\"blacklist_samples_reached\\\":false,\\\"exclude_nan_labels\\\":true,\\\"verbosity\\\":20,\\\"_debug_log\\\":\\\"azureml_automl.log\\\",\\\"show_warnings\\\":false,\\\"model_explainability\\\":true,\\\"service_url\\\":null,\\\"sdk_url\\\":null,\\\"sdk_packages\\\":null,\\\"enable_onnx_compatible_models\\\":false,\\\"enable_split_onnx_featurizer_estimator_models\\\":false,\\\"vm_type\\\":\\\"STANDARD_D3_V2\\\",\\\"telemetry_verbosity\\\":20,\\\"send_telemetry\\\":true,\\\"enable_dnn\\\":false,\\\"scenario\\\":\\\"SDK-1.13.0\\\",\\\"environment_label\\\":null,\\\"force_text_dnn\\\":false,\\\"enable_feature_sweeping\\\":true,\\\"enable_early_stopping\\\":true,\\\"early_stopping_n_iters\\\":10,\\\"metrics\\\":null,\\\"enable_ensembling\\\":true,\\\"enable_stack_ensembling\\\":true,\\\"ensemble_iterations\\\":15,\\\"enable_tf\\\":false,\\\"enable_subsampling\\\":null,\\\"subsample_seed\\\":null,\\\"enable_nimbusml\\\":false,\\\"enable_streaming\\\":false,\\\"force_streaming\\\":false,\\\"track_child_runs\\\":true,\\\"allowed_private_models\\\":[],\\\"label_column_name\\\":\\\"DEATH_EVENT\\\",\\\"weight_column_name\\\":null,\\\"cv_split_column_names\\\":null,\\\"enable_local_managed\\\":false,\\\"_local_managed_run_id\\\":null,\\\"cost_mode\\\":1,\\\"lag_length\\\":0,\\\"metric_operation\\\":\\\"maximize\\\",\\\"preprocess\\\":true}\", \"DataPrepJsonString\": \"{\\\\\\\"training_data\\\\\\\": \\\\\\\"{\\\\\\\\\\\\\\\"blocks\\\\\\\\\\\\\\\": [{\\\\\\\\\\\\\\\"id\\\\\\\\\\\\\\\": \\\\\\\\\\\\\\\"bd93aa91-a5c7-47c1-a4c8-31df9d2c97ae\\\\\\\\\\\\\\\", \\\\\\\\\\\\\\\"type\\\\\\\\\\\\\\\": \\\\\\\\\\\\\\\"Microsoft.DPrep.GetDatastoreFilesBlock\\\\\\\\\\\\\\\", \\\\\\\\\\\\\\\"arguments\\\\\\\\\\\\\\\": {\\\\\\\\\\\\\\\"datastores\\\\\\\\\\\\\\\": [{\\\\\\\\\\\\\\\"datastoreName\\\\\\\\\\\\\\\": \\\\\\\\\\\\\\\"workspaceblobstore\\\\\\\\\\\\\\\", \\\\\\\\\\\\\\\"path\\\\\\\\\\\\\\\": \\\\\\\\\\\\\\\"UI/02-13-2021_124405_UTC/heart_failure_clinical_records_dataset.csv\\\\\\\\\\\\\\\", \\\\\\\\\\\\\\\"resourceGroup\\\\\\\\\\\\\\\": \\\\\\\\\\\\\\\"aml-quickstarts-138754\\\\\\\\\\\\\\\", \\\\\\\\\\\\\\\"subscription\\\\\\\\\\\\\\\": \\\\\\\\\\\\\\\"a0a76bad-11a1-4a2d-9887-97a29122c8ed\\\\\\\\\\\\\\\", \\\\\\\\\\\\\\\"workspaceName\\\\\\\\\\\\\\\": \\\\\\\\\\\\\\\"quick-starts-ws-138754\\\\\\\\\\\\\\\"}]}, \\\\\\\\\\\\\\\"localData\\\\\\\\\\\\\\\": {}, \\\\\\\\\\\\\\\"isEnabled\\\\\\\\\\\\\\\": true, \\\\\\\\\\\\\\\"name\\\\\\\\\\\\\\\": null, \\\\\\\\\\\\\\\"annotation\\\\\\\\\\\\\\\": null}, {\\\\\\\\\\\\\\\"id\\\\\\\\\\\\\\\": \\\\\\\\\\\\\\\"3a72a6b4-d0fa-4a86-9fad-af2e8caf1065\\\\\\\\\\\\\\\", \\\\\\\\\\\\\\\"type\\\\\\\\\\\\\\\": \\\\\\\\\\\\\\\"Microsoft.DPrep.ParseDelimitedBlock\\\\\\\\\\\\\\\", \\\\\\\\\\\\\\\"arguments\\\\\\\\\\\\\\\": {\\\\\\\\\\\\\\\"columnHeadersMode\\\\\\\\\\\\\\\": 1, \\\\\\\\\\\\\\\"fileEncoding\\\\\\\\\\\\\\\": 0, \\\\\\\\\\\\\\\"handleQuotedLineBreaks\\\\\\\\\\\\\\\": false, \\\\\\\\\\\\\\\"preview\\\\\\\\\\\\\\\": false, \\\\\\\\\\\\\\\"separator\\\\\\\\\\\\\\\": \\\\\\\\\\\\\\\",\\\\\\\\\\\\\\\", \\\\\\\\\\\\\\\"skipRows\\\\\\\\\\\\\\\": 0, \\\\\\\\\\\\\\\"skipRowsMode\\\\\\\\\\\\\\\": 0}, \\\\\\\\\\\\\\\"localData\\\\\\\\\\\\\\\": {}, \\\\\\\\\\\\\\\"isEnabled\\\\\\\\\\\\\\\": true, \\\\\\\\\\\\\\\"name\\\\\\\\\\\\\\\": null, \\\\\\\\\\\\\\\"annotation\\\\\\\\\\\\\\\": null}, {\\\\\\\\\\\\\\\"id\\\\\\\\\\\\\\\": \\\\\\\\\\\\\\\"651d3115-6242-4c44-a439-68cb757563df\\\\\\\\\\\\\\\", \\\\\\\\\\\\\\\"type\\\\\\\\\\\\\\\": \\\\\\\\\\\\\\\"Microsoft.DPrep.DropColumnsBlock\\\\\\\\\\\\\\\", \\\\\\\\\\\\\\\"arguments\\\\\\\\\\\\\\\": {\\\\\\\\\\\\\\\"columns\\\\\\\\\\\\\\\": {\\\\\\\\\\\\\\\"type\\\\\\\\\\\\\\\": 0, \\\\\\\\\\\\\\\"details\\\\\\\\\\\\\\\": {\\\\\\\\\\\\\\\"selectedColumns\\\\\\\\\\\\\\\": [\\\\\\\\\\\\\\\"Path\\\\\\\\\\\\\\\"]}}}, \\\\\\\\\\\\\\\"localData\\\\\\\\\\\\\\\": {}, \\\\\\\\\\\\\\\"isEnabled\\\\\\\\\\\\\\\": true, \\\\\\\\\\\\\\\"name\\\\\\\\\\\\\\\": null, \\\\\\\\\\\\\\\"annotation\\\\\\\\\\\\\\\": null}, {\\\\\\\\\\\\\\\"id\\\\\\\\\\\\\\\": \\\\\\\\\\\\\\\"448c613a-8d81-48be-890e-71b2bfec0a1e\\\\\\\\\\\\\\\", \\\\\\\\\\\\\\\"type\\\\\\\\\\\\\\\": \\\\\\\\\\\\\\\"Microsoft.DPrep.SetColumnTypesBlock\\\\\\\\\\\\\\\", \\\\\\\\\\\\\\\"arguments\\\\\\\\\\\\\\\": {\\\\\\\\\\\\\\\"columnConversion\\\\\\\\\\\\\\\": [{\\\\\\\\\\\\\\\"column\\\\\\\\\\\\\\\": {\\\\\\\\\\\\\\\"type\\\\\\\\\\\\\\\": 2, \\\\\\\\\\\\\\\"details\\\\\\\\\\\\\\\": {\\\\\\\\\\\\\\\"selectedColumn\\\\\\\\\\\\\\\": \\\\\\\\\\\\\\\"Path\\\\\\\\\\\\\\\"}}, \\\\\\\\\\\\\\\"typeProperty\\\\\\\\\\\\\\\": 0}, {\\\\\\\\\\\\\\\"column\\\\\\\\\\\\\\\": {\\\\\\\\\\\\\\\"type\\\\\\\\\\\\\\\": 2, \\\\\\\\\\\\\\\"details\\\\\\\\\\\\\\\": {\\\\\\\\\\\\\\\"selectedColumn\\\\\\\\\\\\\\\": \\\\\\\\\\\\\\\"age\\\\\\\\\\\\\\\"}}, \\\\\\\\\\\\\\\"typeProperty\\\\\\\\\\\\\\\": 3}, {\\\\\\\\\\\\\\\"column\\\\\\\\\\\\\\\": {\\\\\\\\\\\\\\\"type\\\\\\\\\\\\\\\": 2, \\\\\\\\\\\\\\\"details\\\\\\\\\\\\\\\": {\\\\\\\\\\\\\\\"selectedColumn\\\\\\\\\\\\\\\": \\\\\\\\\\\\\\\"anaemia\\\\\\\\\\\\\\\"}}, \\\\\\\\\\\\\\\"typeProperty\\\\\\\\\\\\\\\": 2}, {\\\\\\\\\\\\\\\"column\\\\\\\\\\\\\\\": {\\\\\\\\\\\\\\\"type\\\\\\\\\\\\\\\": 2, \\\\\\\\\\\\\\\"details\\\\\\\\\\\\\\\": {\\\\\\\\\\\\\\\"selectedColumn\\\\\\\\\\\\\\\": \\\\\\\\\\\\\\\"creatinine_phosphokinase\\\\\\\\\\\\\\\"}}, \\\\\\\\\\\\\\\"typeProperty\\\\\\\\\\\\\\\": 2}, {\\\\\\\\\\\\\\\"column\\\\\\\\\\\\\\\": {\\\\\\\\\\\\\\\"type\\\\\\\\\\\\\\\": 2, \\\\\\\\\\\\\\\"details\\\\\\\\\\\\\\\": {\\\\\\\\\\\\\\\"selectedColumn\\\\\\\\\\\\\\\": \\\\\\\\\\\\\\\"diabetes\\\\\\\\\\\\\\\"}}, \\\\\\\\\\\\\\\"typeProperty\\\\\\\\\\\\\\\": 2}, {\\\\\\\\\\\\\\\"column\\\\\\\\\\\\\\\": {\\\\\\\\\\\\\\\"type\\\\\\\\\\\\\\\": 2, \\\\\\\\\\\\\\\"details\\\\\\\\\\\\\\\": {\\\\\\\\\\\\\\\"selectedColumn\\\\\\\\\\\\\\\": \\\\\\\\\\\\\\\"ejection_fraction\\\\\\\\\\\\\\\"}}, \\\\\\\\\\\\\\\"typeProperty\\\\\\\\\\\\\\\": 2}, {\\\\\\\\\\\\\\\"column\\\\\\\\\\\\\\\": {\\\\\\\\\\\\\\\"type\\\\\\\\\\\\\\\": 2, \\\\\\\\\\\\\\\"details\\\\\\\\\\\\\\\": {\\\\\\\\\\\\\\\"selectedColumn\\\\\\\\\\\\\\\": \\\\\\\\\\\\\\\"high_blood_pressure\\\\\\\\\\\\\\\"}}, \\\\\\\\\\\\\\\"typeProperty\\\\\\\\\\\\\\\": 2}, {\\\\\\\\\\\\\\\"column\\\\\\\\\\\\\\\": {\\\\\\\\\\\\\\\"type\\\\\\\\\\\\\\\": 2, \\\\\\\\\\\\\\\"details\\\\\\\\\\\\\\\": {\\\\\\\\\\\\\\\"selectedColumn\\\\\\\\\\\\\\\": \\\\\\\\\\\\\\\"platelets\\\\\\\\\\\\\\\"}}, \\\\\\\\\\\\\\\"typeProperty\\\\\\\\\\\\\\\": 3}, {\\\\\\\\\\\\\\\"column\\\\\\\\\\\\\\\": {\\\\\\\\\\\\\\\"type\\\\\\\\\\\\\\\": 2, \\\\\\\\\\\\\\\"details\\\\\\\\\\\\\\\": {\\\\\\\\\\\\\\\"selectedColumn\\\\\\\\\\\\\\\": \\\\\\\\\\\\\\\"serum_creatinine\\\\\\\\\\\\\\\"}}, \\\\\\\\\\\\\\\"typeProperty\\\\\\\\\\\\\\\": 3}, {\\\\\\\\\\\\\\\"column\\\\\\\\\\\\\\\": {\\\\\\\\\\\\\\\"type\\\\\\\\\\\\\\\": 2, \\\\\\\\\\\\\\\"details\\\\\\\\\\\\\\\": {\\\\\\\\\\\\\\\"selectedColumn\\\\\\\\\\\\\\\": \\\\\\\\\\\\\\\"serum_sodium\\\\\\\\\\\\\\\"}}, \\\\\\\\\\\\\\\"typeProperty\\\\\\\\\\\\\\\": 2}, {\\\\\\\\\\\\\\\"column\\\\\\\\\\\\\\\": {\\\\\\\\\\\\\\\"type\\\\\\\\\\\\\\\": 2, \\\\\\\\\\\\\\\"details\\\\\\\\\\\\\\\": {\\\\\\\\\\\\\\\"selectedColumn\\\\\\\\\\\\\\\": \\\\\\\\\\\\\\\"sex\\\\\\\\\\\\\\\"}}, \\\\\\\\\\\\\\\"typeProperty\\\\\\\\\\\\\\\": 2}, {\\\\\\\\\\\\\\\"column\\\\\\\\\\\\\\\": {\\\\\\\\\\\\\\\"type\\\\\\\\\\\\\\\": 2, \\\\\\\\\\\\\\\"details\\\\\\\\\\\\\\\": {\\\\\\\\\\\\\\\"selectedColumn\\\\\\\\\\\\\\\": \\\\\\\\\\\\\\\"smoking\\\\\\\\\\\\\\\"}}, \\\\\\\\\\\\\\\"typeProperty\\\\\\\\\\\\\\\": 2}, {\\\\\\\\\\\\\\\"column\\\\\\\\\\\\\\\": {\\\\\\\\\\\\\\\"type\\\\\\\\\\\\\\\": 2, \\\\\\\\\\\\\\\"details\\\\\\\\\\\\\\\": {\\\\\\\\\\\\\\\"selectedColumn\\\\\\\\\\\\\\\": \\\\\\\\\\\\\\\"time\\\\\\\\\\\\\\\"}}, \\\\\\\\\\\\\\\"typeProperty\\\\\\\\\\\\\\\": 2}, {\\\\\\\\\\\\\\\"column\\\\\\\\\\\\\\\": {\\\\\\\\\\\\\\\"type\\\\\\\\\\\\\\\": 2, \\\\\\\\\\\\\\\"details\\\\\\\\\\\\\\\": {\\\\\\\\\\\\\\\"selectedColumn\\\\\\\\\\\\\\\": \\\\\\\\\\\\\\\"DEATH_EVENT\\\\\\\\\\\\\\\"}}, \\\\\\\\\\\\\\\"typeProperty\\\\\\\\\\\\\\\": 2}]}, \\\\\\\\\\\\\\\"localData\\\\\\\\\\\\\\\": {}, \\\\\\\\\\\\\\\"isEnabled\\\\\\\\\\\\\\\": true, \\\\\\\\\\\\\\\"name\\\\\\\\\\\\\\\": null, \\\\\\\\\\\\\\\"annotation\\\\\\\\\\\\\\\": null}], \\\\\\\\\\\\\\\"inspectors\\\\\\\\\\\\\\\": [], \\\\\\\\\\\\\\\"meta\\\\\\\\\\\\\\\": {\\\\\\\\\\\\\\\"savedDatasetId\\\\\\\\\\\\\\\": \\\\\\\\\\\\\\\"4db5ea7c-968e-4fc0-a256-61d246c577c5\\\\\\\\\\\\\\\", \\\\\\\\\\\\\\\"datasetType\\\\\\\\\\\\\\\": \\\\\\\\\\\\\\\"tabular\\\\\\\\\\\\\\\", \\\\\\\\\\\\\\\"subscriptionId\\\\\\\\\\\\\\\": \\\\\\\\\\\\\\\"a0a76bad-11a1-4a2d-9887-97a29122c8ed\\\\\\\\\\\\\\\", \\\\\\\\\\\\\\\"workspaceId\\\\\\\\\\\\\\\": \\\\\\\\\\\\\\\"4eda3621-5c55-44df-b29b-e4473297281a\\\\\\\\\\\\\\\", \\\\\\\\\\\\\\\"workspaceLocation\\\\\\\\\\\\\\\": \\\\\\\\\\\\\\\"southcentralus\\\\\\\\\\\\\\\"}}\\\\\\\", \\\\\\\"activities\\\\\\\": 0}\", \"EnableSubsampling\": null, \"runTemplate\": \"AutoML\", \"azureml.runsource\": \"automl\", \"display_task_type\": \"classification\", \"dependencies_versions\": \"{\\\"azureml-widgets\\\": \\\"1.20.0\\\", \\\"azureml-train\\\": \\\"1.20.0\\\", \\\"azureml-train-restclients-hyperdrive\\\": \\\"1.20.0\\\", \\\"azureml-train-core\\\": \\\"1.20.0\\\", \\\"azureml-train-automl\\\": \\\"1.20.0\\\", \\\"azureml-train-automl-runtime\\\": \\\"1.20.0\\\", \\\"azureml-train-automl-client\\\": \\\"1.20.0\\\", \\\"azureml-tensorboard\\\": \\\"1.20.0\\\", \\\"azureml-telemetry\\\": \\\"1.20.0\\\", \\\"azureml-sdk\\\": \\\"1.20.0\\\", \\\"azureml-samples\\\": \\\"0+unknown\\\", \\\"azureml-pipeline\\\": \\\"1.20.0\\\", \\\"azureml-pipeline-steps\\\": \\\"1.20.0\\\", \\\"azureml-pipeline-core\\\": \\\"1.20.0\\\", \\\"azureml-opendatasets\\\": \\\"1.20.0\\\", \\\"azureml-model-management-sdk\\\": \\\"1.0.1b6.post1\\\", \\\"azureml-mlflow\\\": \\\"1.20.0.post1\\\", \\\"azureml-interpret\\\": \\\"1.20.0\\\", \\\"azureml-explain-model\\\": \\\"1.20.0\\\", \\\"azureml-defaults\\\": \\\"1.20.0\\\", \\\"azureml-dataset-runtime\\\": \\\"1.20.0\\\", \\\"azureml-dataprep\\\": \\\"2.7.3\\\", \\\"azureml-dataprep-rslex\\\": \\\"1.5.0\\\", \\\"azureml-dataprep-native\\\": \\\"27.0.0\\\", \\\"azureml-datadrift\\\": \\\"1.20.0\\\", \\\"azureml-core\\\": \\\"1.20.0\\\", \\\"azureml-contrib-services\\\": \\\"1.20.0\\\", \\\"azureml-contrib-server\\\": \\\"1.20.0\\\", \\\"azureml-contrib-reinforcementlearning\\\": \\\"1.20.0\\\", \\\"azureml-contrib-pipeline-steps\\\": \\\"1.20.0\\\", \\\"azureml-contrib-notebook\\\": \\\"1.20.0\\\", \\\"azureml-contrib-interpret\\\": \\\"1.20.0\\\", \\\"azureml-contrib-gbdt\\\": \\\"1.20.0\\\", \\\"azureml-contrib-fairness\\\": \\\"1.20.0\\\", \\\"azureml-contrib-dataset\\\": \\\"1.20.0\\\", \\\"azureml-cli-common\\\": \\\"1.20.0\\\", \\\"azureml-automl-runtime\\\": \\\"1.20.0\\\", \\\"azureml-automl-core\\\": \\\"1.20.0\\\", \\\"azureml-accel-models\\\": \\\"1.20.0\\\"}\", \"_aml_system_scenario_identification\": \"Remote.Parent\", \"ClientType\": \"SDK\", \"environment_cpu_name\": \"AzureML-AutoML\", \"environment_cpu_label\": \"prod\", \"environment_gpu_name\": \"AzureML-AutoML-GPU\", \"environment_gpu_label\": \"prod\", \"root_attribution\": \"automl\", \"attribution\": \"AutoML\", \"Orchestrator\": \"AutoML\", \"CancelUri\": \"https://southcentralus.experiments.azureml.net/jasmine/v1.0/subscriptions/a0a76bad-11a1-4a2d-9887-97a29122c8ed/resourceGroups/aml-quickstarts-138754/providers/Microsoft.MachineLearningServices/workspaces/quick-starts-ws-138754/experimentids/43a09711-b227-4d5d-924f-1e4c9b07e2f0/cancel/AutoML_bad8b7b1-697e-402a-91c9-8730f9b52493\", \"ClientSdkVersion\": \"1.21.0\", \"snapshotId\": \"00000000-0000-0000-0000-000000000000\", \"SetupRunId\": \"AutoML_bad8b7b1-697e-402a-91c9-8730f9b52493_setup\", \"SetupRunContainerId\": \"dcid.AutoML_bad8b7b1-697e-402a-91c9-8730f9b52493_setup\", \"FeaturizationRunJsonPath\": \"featurizer_container.json\", \"FeaturizationRunId\": \"AutoML_bad8b7b1-697e-402a-91c9-8730f9b52493_featurize\", \"ProblemInfoJsonString\": \"{\\\"dataset_num_categorical\\\": 0, \\\"is_sparse\\\": false, \\\"subsampling\\\": false, \\\"dataset_classes\\\": 2, \\\"dataset_features\\\": 12, \\\"dataset_samples\\\": 299, \\\"single_frequency_class_detected\\\": false}\", \"ModelExplainRunId\": \"AutoML_bad8b7b1-697e-402a-91c9-8730f9b52493_ModelExplain\"}, \"tags\": {\"model_explain_run\": \"best_run\", \"_aml_system_azureml.automlComponent\": \"AutoML\", \"pipeline_id\": \"\", \"score\": \"\", \"predicted_cost\": \"\", \"fit_time\": \"\", \"training_percent\": \"\", \"iteration\": \"\", \"run_preprocessor\": \"\", \"run_algorithm\": \"\", \"dynamic_whitelisting_iterations\": \"<25>;<30>;<35>;\", \"automl_best_child_run_id\": \"AutoML_bad8b7b1-697e-402a-91c9-8730f9b52493_36\", \"model_explain_best_run_child_id\": \"AutoML_bad8b7b1-697e-402a-91c9-8730f9b52493_36\"}, \"end_time_utc\": \"2021-02-13T01:08:03.154766Z\", \"status\": \"Completed\", \"log_files\": {}, \"log_groups\": [], \"run_duration\": \"0:22:46\"}, \"child_runs\": [{\"run_id\": \"AutoML_bad8b7b1-697e-402a-91c9-8730f9b52493_0\", \"run_number\": 6, \"metric\": null, \"status\": \"Completed\", \"run_type\": \"azureml.scriptrun\", \"training_percent\": \"100\", \"start_time\": \"2021-02-13T00:53:04.789374Z\", \"end_time\": \"2021-02-13T00:53:53.685768Z\", \"created_time\": \"2021-02-13T00:52:53.270721Z\", \"created_time_dt\": \"2021-02-13T00:52:53.270721Z\", \"duration\": \"0:01:00\", \"iteration\": \"0\", \"goal\": \"accuracy_max\", \"run_name\": \"MaxAbsScaler, LightGBM\", \"run_properties\": \"copy=True\", \"primary_metric\": 0.83597701, \"best_metric\": 0.83597701}, {\"run_id\": \"AutoML_bad8b7b1-697e-402a-91c9-8730f9b52493_1\", \"run_number\": 7, \"metric\": null, \"status\": \"Completed\", \"run_type\": \"azureml.scriptrun\", \"training_percent\": \"100\", \"start_time\": \"2021-02-13T00:53:56.260834Z\", \"end_time\": \"2021-02-13T00:54:50.142074Z\", \"created_time\": \"2021-02-13T00:52:53.275083Z\", \"created_time_dt\": \"2021-02-13T00:52:53.275083Z\", \"duration\": \"0:01:56\", \"iteration\": \"1\", \"goal\": \"accuracy_max\", \"run_name\": \"MaxAbsScaler, XGBoostClassifier\", \"run_properties\": \"copy=True\", \"primary_metric\": 0.83586207, \"best_metric\": 0.83597701}, {\"run_id\": \"AutoML_bad8b7b1-697e-402a-91c9-8730f9b52493_2\", \"run_number\": 8, \"metric\": null, \"status\": \"Completed\", \"run_type\": \"azureml.scriptrun\", \"training_percent\": \"100\", \"start_time\": \"2021-02-13T00:54:53.596453Z\", \"end_time\": \"2021-02-13T00:55:48.625225Z\", \"created_time\": \"2021-02-13T00:52:53.289835Z\", \"created_time_dt\": \"2021-02-13T00:52:53.289835Z\", \"duration\": \"0:02:55\", \"iteration\": \"2\", \"goal\": \"accuracy_max\", \"run_name\": \"MinMaxScaler, RandomForest\", \"run_properties\": \"copy=True, feature_range=(0, 1\", \"primary_metric\": 0.85954023, \"best_metric\": 0.85954023}, {\"run_id\": \"AutoML_bad8b7b1-697e-402a-91c9-8730f9b52493_3\", \"run_number\": 9, \"metric\": null, \"status\": \"Completed\", \"run_type\": \"azureml.scriptrun\", \"training_percent\": \"100\", \"start_time\": \"2021-02-13T00:55:51.182679Z\", \"end_time\": \"2021-02-13T00:56:47.520894Z\", \"created_time\": \"2021-02-13T00:52:53.292341Z\", \"created_time_dt\": \"2021-02-13T00:52:53.292341Z\", \"duration\": \"0:03:54\", \"iteration\": \"3\", \"goal\": \"accuracy_max\", \"run_name\": \"MinMaxScaler, RandomForest\", \"run_properties\": \"copy=True, feature_range=(0, 1\", \"primary_metric\": 0.83252874, \"best_metric\": 0.85954023}, {\"run_id\": \"AutoML_bad8b7b1-697e-402a-91c9-8730f9b52493_4\", \"run_number\": 10, \"metric\": null, \"status\": \"Completed\", \"run_type\": \"azureml.scriptrun\", \"training_percent\": \"100\", \"start_time\": \"2021-02-13T00:56:16.865712Z\", \"end_time\": \"2021-02-13T00:58:44.293267Z\", \"created_time\": \"2021-02-13T00:53:54.955915Z\", \"created_time_dt\": \"2021-02-13T00:53:54.955915Z\", \"duration\": \"0:04:49\", \"iteration\": \"4\", \"goal\": \"accuracy_max\", \"run_name\": \"MinMaxScaler, RandomForest\", \"run_properties\": \"copy=True, feature_range=(0, 1\", \"primary_metric\": 0.83908046, \"best_metric\": 0.85954023}, {\"run_id\": \"AutoML_bad8b7b1-697e-402a-91c9-8730f9b52493_5\", \"run_number\": 11, \"metric\": null, \"status\": \"Completed\", \"run_type\": \"azureml.scriptrun\", \"training_percent\": \"100\", \"start_time\": \"2021-02-13T00:56:15.533602Z\", \"end_time\": \"2021-02-13T00:58:38.673578Z\", \"created_time\": \"2021-02-13T00:54:51.779149Z\", \"created_time_dt\": \"2021-02-13T00:54:51.779149Z\", \"duration\": \"0:03:46\", \"iteration\": \"5\", \"goal\": \"accuracy_max\", \"run_name\": \"SparseNormalizer, XGBoostClassifier\", \"run_properties\": \"<azureml.automl.runtime.shared.model_wrappers.SparseNormalizer object at 0x7fd7207c2e80\", \"primary_metric\": 0.8391954, \"best_metric\": 0.85954023}, {\"run_id\": \"AutoML_bad8b7b1-697e-402a-91c9-8730f9b52493_6\", \"run_number\": 12, \"metric\": null, \"status\": \"Completed\", \"run_type\": \"azureml.scriptrun\", \"training_percent\": \"100\", \"start_time\": \"2021-02-13T00:56:17.003865Z\", \"end_time\": \"2021-02-13T00:58:39.311403Z\", \"created_time\": \"2021-02-13T00:55:51.533432Z\", \"created_time_dt\": \"2021-02-13T00:55:51.533432Z\", \"duration\": \"0:02:47\", \"iteration\": \"6\", \"goal\": \"accuracy_max\", \"run_name\": \"StandardScalerWrapper, XGBoostClassifier\", \"run_properties\": \"<azureml.automl.runtime.shared.model_wrappers.StandardScalerWrapper object at 0x7fa90ad2e6a0\", \"primary_metric\": 0.84264368, \"best_metric\": 0.85954023}, {\"run_id\": \"AutoML_bad8b7b1-697e-402a-91c9-8730f9b52493_7\", \"run_number\": 13, \"metric\": null, \"status\": \"Completed\", \"run_type\": \"azureml.scriptrun\", \"training_percent\": \"100\", \"start_time\": \"2021-02-13T00:56:59.609091Z\", \"end_time\": \"2021-02-13T00:57:49.981826Z\", \"created_time\": \"2021-02-13T00:56:49.401395Z\", \"created_time_dt\": \"2021-02-13T00:56:49.401395Z\", \"duration\": \"0:01:00\", \"iteration\": \"7\", \"goal\": \"accuracy_max\", \"run_name\": \"MinMaxScaler, SVM\", \"run_properties\": \"copy=True, feature_range=(0, 1\", \"primary_metric\": 0.73287356, \"best_metric\": 0.85954023}, {\"run_id\": \"AutoML_bad8b7b1-697e-402a-91c9-8730f9b52493_8\", \"run_number\": 14, \"metric\": null, \"status\": \"Completed\", \"run_type\": \"azureml.scriptrun\", \"training_percent\": \"100\", \"start_time\": \"2021-02-13T00:58:03.264241Z\", \"end_time\": \"2021-02-13T00:58:52.273822Z\", \"created_time\": \"2021-02-13T00:57:52.082305Z\", \"created_time_dt\": \"2021-02-13T00:57:52.082305Z\", \"duration\": \"0:01:00\", \"iteration\": \"8\", \"goal\": \"accuracy_max\", \"run_name\": \"MaxAbsScaler, GradientBoosting\", \"run_properties\": \"copy=True\", \"primary_metric\": 0.84264368, \"best_metric\": 0.85954023}, {\"run_id\": \"AutoML_bad8b7b1-697e-402a-91c9-8730f9b52493_9\", \"run_number\": 15, \"metric\": null, \"status\": \"Completed\", \"run_type\": \"azureml.scriptrun\", \"training_percent\": \"100\", \"start_time\": \"2021-02-13T00:58:52.501632Z\", \"end_time\": \"2021-02-13T00:59:44.400366Z\", \"created_time\": \"2021-02-13T00:58:40.681116Z\", \"created_time_dt\": \"2021-02-13T00:58:40.681116Z\", \"duration\": \"0:01:03\", \"iteration\": \"9\", \"goal\": \"accuracy_max\", \"run_name\": \"StandardScalerWrapper, LightGBM\", \"run_properties\": \"<azureml.automl.runtime.shared.model_wrappers.StandardScalerWrapper object at 0x7fb7d909cf60\", \"primary_metric\": 0.83252874, \"best_metric\": 0.85954023}, {\"run_id\": \"AutoML_bad8b7b1-697e-402a-91c9-8730f9b52493_10\", \"run_number\": 16, \"metric\": null, \"status\": \"Completed\", \"run_type\": \"azureml.scriptrun\", \"training_percent\": \"100\", \"start_time\": \"2021-02-13T00:58:56.888638Z\", \"end_time\": \"2021-02-13T00:59:46.759546Z\", \"created_time\": \"2021-02-13T00:58:44.42465Z\", \"created_time_dt\": \"2021-02-13T00:58:44.42465Z\", \"duration\": \"0:01:02\", \"iteration\": \"10\", \"goal\": \"accuracy_max\", \"run_name\": \"SparseNormalizer, XGBoostClassifier\", \"run_properties\": \"<azureml.automl.runtime.shared.model_wrappers.SparseNormalizer object at 0x7ff7827aa668\", \"primary_metric\": 0.80931034, \"best_metric\": 0.85954023}, {\"run_id\": \"AutoML_bad8b7b1-697e-402a-91c9-8730f9b52493_11\", \"run_number\": 17, \"metric\": null, \"status\": \"Completed\", \"run_type\": \"azureml.scriptrun\", \"training_percent\": \"100\", \"start_time\": \"2021-02-13T00:59:00.786436Z\", \"end_time\": \"2021-02-13T00:59:53.002161Z\", \"created_time\": \"2021-02-13T00:58:48.617538Z\", \"created_time_dt\": \"2021-02-13T00:58:48.617538Z\", \"duration\": \"0:01:04\", \"iteration\": \"11\", \"goal\": \"accuracy_max\", \"run_name\": \"MinMaxScaler, LightGBM\", \"run_properties\": \"copy=True, feature_range=(0, 1\", \"primary_metric\": 0.80264368, \"best_metric\": 0.85954023}, {\"run_id\": \"AutoML_bad8b7b1-697e-402a-91c9-8730f9b52493_12\", \"run_number\": 18, \"metric\": null, \"status\": \"Completed\", \"run_type\": \"azureml.scriptrun\", \"training_percent\": \"100\", \"start_time\": \"2021-02-13T00:59:06.14795Z\", \"end_time\": \"2021-02-13T01:00:04.977641Z\", \"created_time\": \"2021-02-13T00:58:54.090317Z\", \"created_time_dt\": \"2021-02-13T00:58:54.090317Z\", \"duration\": \"0:01:10\", \"iteration\": \"12\", \"goal\": \"accuracy_max\", \"run_name\": \"SparseNormalizer, LightGBM\", \"run_properties\": \"<azureml.automl.runtime.shared.model_wrappers.SparseNormalizer object at 0x7f0e4ff2f0b8\", \"primary_metric\": 0.75597701, \"best_metric\": 0.85954023}, {\"run_id\": \"AutoML_bad8b7b1-697e-402a-91c9-8730f9b52493_13\", \"run_number\": 19, \"metric\": null, \"status\": \"Completed\", \"run_type\": \"azureml.scriptrun\", \"training_percent\": \"100\", \"start_time\": \"2021-02-13T00:59:58.636377Z\", \"end_time\": \"2021-02-13T01:00:53.094375Z\", \"created_time\": \"2021-02-13T00:59:47.075816Z\", \"created_time_dt\": \"2021-02-13T00:59:47.075816Z\", \"duration\": \"0:01:06\", \"iteration\": \"13\", \"goal\": \"accuracy_max\", \"run_name\": \"SparseNormalizer, XGBoostClassifier\", \"run_properties\": \"<azureml.automl.runtime.shared.model_wrappers.SparseNormalizer object at 0x7fd17378e2b0\", \"primary_metric\": 0.84954023, \"best_metric\": 0.85954023}, {\"run_id\": \"AutoML_bad8b7b1-697e-402a-91c9-8730f9b52493_14\", \"run_number\": 20, \"metric\": null, \"status\": \"Completed\", \"run_type\": \"azureml.scriptrun\", \"training_percent\": \"100\", \"start_time\": \"2021-02-13T01:00:00.385225Z\", \"end_time\": \"2021-02-13T01:00:51.17581Z\", \"created_time\": \"2021-02-13T00:59:49.914949Z\", \"created_time_dt\": \"2021-02-13T00:59:49.914949Z\", \"duration\": \"0:01:01\", \"iteration\": \"14\", \"goal\": \"accuracy_max\", \"run_name\": \"StandardScalerWrapper, XGBoostClassifier\", \"run_properties\": \"<azureml.automl.runtime.shared.model_wrappers.StandardScalerWrapper object at 0x7fc3542d35c0\", \"primary_metric\": 0.81954023, \"best_metric\": 0.85954023}, {\"run_id\": \"AutoML_bad8b7b1-697e-402a-91c9-8730f9b52493_15\", \"run_number\": 21, \"metric\": null, \"status\": \"Completed\", \"run_type\": \"azureml.scriptrun\", \"training_percent\": \"100\", \"start_time\": \"2021-02-13T01:00:06.089853Z\", \"end_time\": \"2021-02-13T01:00:55.927196Z\", \"created_time\": \"2021-02-13T00:59:54.69377Z\", \"created_time_dt\": \"2021-02-13T00:59:54.69377Z\", \"duration\": \"0:01:01\", \"iteration\": \"15\", \"goal\": \"accuracy_max\", \"run_name\": \"StandardScalerWrapper, RandomForest\", \"run_properties\": \"<azureml.automl.runtime.shared.model_wrappers.StandardScalerWrapper object at 0x7fbeb47408d0\", \"primary_metric\": 0.82931034, \"best_metric\": 0.85954023}, {\"run_id\": \"AutoML_bad8b7b1-697e-402a-91c9-8730f9b52493_16\", \"run_number\": 22, \"metric\": null, \"status\": \"Completed\", \"run_type\": \"azureml.scriptrun\", \"training_percent\": \"100\", \"start_time\": \"2021-02-13T01:00:16.590935Z\", \"end_time\": \"2021-02-13T01:01:07.307632Z\", \"created_time\": \"2021-02-13T01:00:06.662778Z\", \"created_time_dt\": \"2021-02-13T01:00:06.662778Z\", \"duration\": \"0:01:00\", \"iteration\": \"16\", \"goal\": \"accuracy_max\", \"run_name\": \"SparseNormalizer, XGBoostClassifier\", \"run_properties\": \"<azureml.automl.runtime.shared.model_wrappers.SparseNormalizer object at 0x7f42c84260b8\", \"primary_metric\": 0.8491954, \"best_metric\": 0.85954023}, {\"run_id\": \"AutoML_bad8b7b1-697e-402a-91c9-8730f9b52493_17\", \"run_number\": 23, \"metric\": null, \"status\": \"Completed\", \"run_type\": \"azureml.scriptrun\", \"training_percent\": \"100\", \"start_time\": \"2021-02-13T01:01:05.524633Z\", \"end_time\": \"2021-02-13T01:01:54.906312Z\", \"created_time\": \"2021-02-13T01:00:52.988972Z\", \"created_time_dt\": \"2021-02-13T01:00:52.988972Z\", \"duration\": \"0:01:01\", \"iteration\": \"17\", \"goal\": \"accuracy_max\", \"run_name\": \"SparseNormalizer, XGBoostClassifier\", \"run_properties\": \"<azureml.automl.runtime.shared.model_wrappers.SparseNormalizer object at 0x7f68042cbbe0\", \"primary_metric\": 0.8362069, \"best_metric\": 0.85954023}, {\"run_id\": \"AutoML_bad8b7b1-697e-402a-91c9-8730f9b52493_18\", \"run_number\": 24, \"metric\": null, \"status\": \"Completed\", \"run_type\": \"azureml.scriptrun\", \"training_percent\": \"100\", \"start_time\": \"2021-02-13T01:01:09.336256Z\", \"end_time\": \"2021-02-13T01:01:58.792764Z\", \"created_time\": \"2021-02-13T01:00:56.288698Z\", \"created_time_dt\": \"2021-02-13T01:00:56.288698Z\", \"duration\": \"0:01:02\", \"iteration\": \"18\", \"goal\": \"accuracy_max\", \"run_name\": \"MaxAbsScaler, LightGBM\", \"run_properties\": \"copy=True\", \"primary_metric\": 0.83931034, \"best_metric\": 0.85954023}, {\"run_id\": \"AutoML_bad8b7b1-697e-402a-91c9-8730f9b52493_19\", \"run_number\": 25, \"metric\": null, \"status\": \"Completed\", \"run_type\": \"azureml.scriptrun\", \"training_percent\": \"100\", \"start_time\": \"2021-02-13T01:01:12.875835Z\", \"end_time\": \"2021-02-13T01:01:59.556668Z\", \"created_time\": \"2021-02-13T01:01:00.156645Z\", \"created_time_dt\": \"2021-02-13T01:01:00.156645Z\", \"duration\": \"0:00:59\", \"iteration\": \"19\", \"goal\": \"accuracy_max\", \"run_name\": \"StandardScalerWrapper, ExtremeRandomTrees\", \"run_properties\": \"<azureml.automl.runtime.shared.model_wrappers.StandardScalerWrapper object at 0x7f55d7dc62e8\", \"primary_metric\": 0.84287356, \"best_metric\": 0.85954023}, {\"run_id\": \"AutoML_bad8b7b1-697e-402a-91c9-8730f9b52493_20\", \"run_number\": 26, \"metric\": null, \"status\": \"Completed\", \"run_type\": \"azureml.scriptrun\", \"training_percent\": \"100\", \"start_time\": \"2021-02-13T01:01:21.39626Z\", \"end_time\": \"2021-02-13T01:02:10.517901Z\", \"created_time\": \"2021-02-13T01:01:09.155302Z\", \"created_time_dt\": \"2021-02-13T01:01:09.155302Z\", \"duration\": \"0:01:01\", \"iteration\": \"20\", \"goal\": \"accuracy_max\", \"run_name\": \"SparseNormalizer, XGBoostClassifier\", \"run_properties\": \"<azureml.automl.runtime.shared.model_wrappers.SparseNormalizer object at 0x7f20cd147e10\", \"primary_metric\": 0.83310345, \"best_metric\": 0.85954023}, {\"run_id\": \"AutoML_bad8b7b1-697e-402a-91c9-8730f9b52493_21\", \"run_number\": 27, \"metric\": null, \"status\": \"Completed\", \"run_type\": \"azureml.scriptrun\", \"training_percent\": \"100\", \"start_time\": \"2021-02-13T01:02:09.470975Z\", \"end_time\": \"2021-02-13T01:03:04.853623Z\", \"created_time\": \"2021-02-13T01:01:56.84578Z\", \"created_time_dt\": \"2021-02-13T01:01:56.84578Z\", \"duration\": \"0:01:08\", \"iteration\": \"21\", \"goal\": \"accuracy_max\", \"run_name\": \"RobustScaler, GradientBoosting\", \"run_properties\": \"copy=True, quantile_range=[25, 75], with_centering=True,\\n             with_scaling=True\", \"primary_metric\": 0.83275862, \"best_metric\": 0.85954023}, {\"run_id\": \"AutoML_bad8b7b1-697e-402a-91c9-8730f9b52493_22\", \"run_number\": 28, \"metric\": null, \"status\": \"Completed\", \"run_type\": \"azureml.scriptrun\", \"training_percent\": \"100\", \"start_time\": \"2021-02-13T01:02:10.626627Z\", \"end_time\": \"2021-02-13T01:03:01.728133Z\", \"created_time\": \"2021-02-13T01:02:00.851064Z\", \"created_time_dt\": \"2021-02-13T01:02:00.851064Z\", \"duration\": \"0:01:00\", \"iteration\": \"22\", \"goal\": \"accuracy_max\", \"run_name\": \"RobustScaler, LightGBM\", \"run_properties\": \"copy=True, quantile_range=[25, 75], with_centering=False,\\n             with_scaling=False\", \"primary_metric\": 0.84252874, \"best_metric\": 0.85954023}, {\"run_id\": \"AutoML_bad8b7b1-697e-402a-91c9-8730f9b52493_23\", \"run_number\": 29, \"metric\": null, \"status\": \"Completed\", \"run_type\": \"azureml.scriptrun\", \"training_percent\": \"100\", \"start_time\": \"2021-02-13T01:02:13.62202Z\", \"end_time\": \"2021-02-13T01:03:04.689404Z\", \"created_time\": \"2021-02-13T01:02:03.795112Z\", \"created_time_dt\": \"2021-02-13T01:02:03.795112Z\", \"duration\": \"0:01:00\", \"iteration\": \"23\", \"goal\": \"accuracy_max\", \"run_name\": \"TruncatedSVDWrapper, RandomForest\", \"run_properties\": \"n_components=0.9005263157894737, random_state=None\", \"primary_metric\": 0.77885057, \"best_metric\": 0.85954023}, {\"run_id\": \"AutoML_bad8b7b1-697e-402a-91c9-8730f9b52493_24\", \"run_number\": 30, \"metric\": null, \"status\": \"Completed\", \"run_type\": \"azureml.scriptrun\", \"training_percent\": \"100\", \"start_time\": \"2021-02-13T01:02:22.417283Z\", \"end_time\": \"2021-02-13T01:03:16.643068Z\", \"created_time\": \"2021-02-13T01:02:12.396351Z\", \"created_time_dt\": \"2021-02-13T01:02:12.396351Z\", \"duration\": \"0:01:04\", \"iteration\": \"24\", \"goal\": \"accuracy_max\", \"run_name\": \"MaxAbsScaler, ExtremeRandomTrees\", \"run_properties\": \"copy=True\", \"primary_metric\": 0.84287356, \"best_metric\": 0.85954023}, {\"run_id\": \"AutoML_bad8b7b1-697e-402a-91c9-8730f9b52493_25\", \"run_number\": 31, \"metric\": null, \"status\": \"Completed\", \"run_type\": \"azureml.scriptrun\", \"training_percent\": \"100\", \"start_time\": \"2021-02-13T01:03:19.290921Z\", \"end_time\": \"2021-02-13T01:04:11.541341Z\", \"created_time\": \"2021-02-13T01:03:05.751655Z\", \"created_time_dt\": \"2021-02-13T01:03:05.751655Z\", \"duration\": \"0:01:05\", \"iteration\": \"25\", \"goal\": \"accuracy_max\", \"run_name\": \"MaxAbsScaler, RandomForest\", \"run_properties\": \"copy=True\", \"primary_metric\": 0.73206897, \"best_metric\": 0.85954023}, {\"run_id\": \"AutoML_bad8b7b1-697e-402a-91c9-8730f9b52493_26\", \"run_number\": 32, \"metric\": null, \"status\": \"Completed\", \"run_type\": \"azureml.scriptrun\", \"training_percent\": \"100\", \"start_time\": \"2021-02-13T01:03:23.18223Z\", \"end_time\": \"2021-02-13T01:04:11.9003Z\", \"created_time\": \"2021-02-13T01:03:11.516216Z\", \"created_time_dt\": \"2021-02-13T01:03:11.516216Z\", \"duration\": \"0:01:00\", \"iteration\": \"26\", \"goal\": \"accuracy_max\", \"run_name\": \"MinMaxScaler, LightGBM\", \"run_properties\": \"copy=True, feature_range=(0, 1\", \"primary_metric\": 0.79931034, \"best_metric\": 0.85954023}, {\"run_id\": \"AutoML_bad8b7b1-697e-402a-91c9-8730f9b52493_27\", \"run_number\": 33, \"metric\": null, \"status\": \"Completed\", \"run_type\": \"azureml.scriptrun\", \"training_percent\": \"100\", \"start_time\": \"2021-02-13T01:03:22.927602Z\", \"end_time\": \"2021-02-13T01:04:13.433805Z\", \"created_time\": \"2021-02-13T01:03:11.527158Z\", \"created_time_dt\": \"2021-02-13T01:03:11.527158Z\", \"duration\": \"0:01:01\", \"iteration\": \"27\", \"goal\": \"accuracy_max\", \"run_name\": \"MaxAbsScaler, ExtremeRandomTrees\", \"run_properties\": \"copy=True\", \"primary_metric\": 0.79942529, \"best_metric\": 0.85954023}, {\"run_id\": \"AutoML_bad8b7b1-697e-402a-91c9-8730f9b52493_28\", \"run_number\": 34, \"metric\": null, \"status\": \"Completed\", \"run_type\": \"azureml.scriptrun\", \"training_percent\": \"100\", \"start_time\": \"2021-02-13T01:03:28.677538Z\", \"end_time\": \"2021-02-13T01:04:16.252049Z\", \"created_time\": \"2021-02-13T01:03:18.376903Z\", \"created_time_dt\": \"2021-02-13T01:03:18.376903Z\", \"duration\": \"0:00:57\", \"iteration\": \"28\", \"goal\": \"accuracy_max\", \"run_name\": \"MaxAbsScaler, LightGBM\", \"run_properties\": \"copy=True\", \"primary_metric\": 0.84954023, \"best_metric\": 0.85954023}, {\"run_id\": \"AutoML_bad8b7b1-697e-402a-91c9-8730f9b52493_29\", \"run_number\": 35, \"metric\": null, \"status\": \"Completed\", \"run_type\": \"azureml.scriptrun\", \"training_percent\": \"100\", \"start_time\": \"2021-02-13T01:04:24.125353Z\", \"end_time\": \"2021-02-13T01:05:12.14459Z\", \"created_time\": \"2021-02-13T01:04:13.334006Z\", \"created_time_dt\": \"2021-02-13T01:04:13.334006Z\", \"duration\": \"0:00:58\", \"iteration\": \"29\", \"goal\": \"accuracy_max\", \"run_name\": \"MaxAbsScaler, LightGBM\", \"run_properties\": \"copy=True\", \"primary_metric\": 0.84954023, \"best_metric\": 0.85954023}, {\"run_id\": \"AutoML_bad8b7b1-697e-402a-91c9-8730f9b52493_30\", \"run_number\": 36, \"metric\": null, \"status\": \"Completed\", \"run_type\": \"azureml.scriptrun\", \"training_percent\": \"100\", \"start_time\": \"2021-02-13T01:04:30.486524Z\", \"end_time\": \"2021-02-13T01:05:22.409341Z\", \"created_time\": \"2021-02-13T01:04:18.046089Z\", \"created_time_dt\": \"2021-02-13T01:04:18.046089Z\", \"duration\": \"0:01:04\", \"iteration\": \"30\", \"goal\": \"accuracy_max\", \"run_name\": \"MaxAbsScaler, RandomForest\", \"run_properties\": \"copy=True\", \"primary_metric\": 0.83597701, \"best_metric\": 0.85954023}, {\"run_id\": \"AutoML_bad8b7b1-697e-402a-91c9-8730f9b52493_31\", \"run_number\": 37, \"metric\": null, \"status\": \"Completed\", \"run_type\": \"azureml.scriptrun\", \"training_percent\": \"100\", \"start_time\": \"2021-02-13T01:04:28.511098Z\", \"end_time\": \"2021-02-13T01:05:16.356488Z\", \"created_time\": \"2021-02-13T01:04:18.091687Z\", \"created_time_dt\": \"2021-02-13T01:04:18.091687Z\", \"duration\": \"0:00:58\", \"iteration\": \"31\", \"goal\": \"accuracy_max\", \"run_name\": \"MinMaxScaler, LogisticRegression\", \"run_properties\": \"copy=True, feature_range=(0, 1\", \"primary_metric\": 0.82252874, \"best_metric\": 0.85954023}, {\"run_id\": \"AutoML_bad8b7b1-697e-402a-91c9-8730f9b52493_32\", \"run_number\": 38, \"metric\": null, \"status\": \"Completed\", \"run_type\": \"azureml.scriptrun\", \"training_percent\": \"100\", \"start_time\": \"2021-02-13T01:04:31.879273Z\", \"end_time\": \"2021-02-13T01:05:19.43414Z\", \"created_time\": \"2021-02-13T01:04:21.774772Z\", \"created_time_dt\": \"2021-02-13T01:04:21.774772Z\", \"duration\": \"0:00:57\", \"iteration\": \"32\", \"goal\": \"accuracy_max\", \"run_name\": \"MaxAbsScaler, LightGBM\", \"run_properties\": \"copy=True\", \"primary_metric\": 0.84931034, \"best_metric\": 0.85954023}, {\"run_id\": \"AutoML_bad8b7b1-697e-402a-91c9-8730f9b52493_33\", \"run_number\": 39, \"metric\": null, \"status\": \"Canceled\", \"run_type\": \"azureml.scriptrun\", \"training_percent\": \"100\", \"start_time\": \"2021-02-13T01:05:15.561355Z\", \"end_time\": \"2021-02-13T01:05:34.011449Z\", \"created_time\": \"2021-02-13T01:05:15.561355Z\", \"created_time_dt\": \"2021-02-13T01:05:15.561355Z\", \"duration\": \"0:00:18\", \"iteration\": \"33\", \"goal\": null, \"run_name\": \"Canceled\", \"run_properties\": null}, {\"run_id\": \"AutoML_bad8b7b1-697e-402a-91c9-8730f9b52493_34\", \"run_number\": 40, \"metric\": null, \"status\": \"Canceled\", \"run_type\": \"azureml.scriptrun\", \"training_percent\": \"100\", \"start_time\": \"2021-02-13T01:05:19.227829Z\", \"end_time\": \"2021-02-13T01:05:37.460333Z\", \"created_time\": \"2021-02-13T01:05:19.227829Z\", \"created_time_dt\": \"2021-02-13T01:05:19.227829Z\", \"duration\": \"0:00:18\", \"iteration\": \"34\", \"goal\": null, \"run_name\": \"Canceled\", \"run_properties\": null}, {\"run_id\": \"AutoML_bad8b7b1-697e-402a-91c9-8730f9b52493_35\", \"run_number\": 41, \"metric\": null, \"status\": \"Canceled\", \"run_type\": \"azureml.scriptrun\", \"training_percent\": \"100\", \"start_time\": \"2021-02-13T01:05:24.552193Z\", \"end_time\": \"2021-02-13T01:05:40.816324Z\", \"created_time\": \"2021-02-13T01:05:24.552193Z\", \"created_time_dt\": \"2021-02-13T01:05:24.552193Z\", \"duration\": \"0:00:16\", \"iteration\": \"35\", \"goal\": null, \"run_name\": \"Canceled\", \"run_properties\": null}, {\"run_id\": \"AutoML_bad8b7b1-697e-402a-91c9-8730f9b52493_37\", \"run_number\": 42, \"metric\": null, \"status\": \"Completed\", \"run_type\": \"azureml.scriptrun\", \"training_percent\": \"100\", \"start_time\": \"2021-02-13T01:05:54.200143Z\", \"end_time\": \"2021-02-13T01:07:48.830067Z\", \"created_time\": \"2021-02-13T01:05:42.126175Z\", \"created_time_dt\": \"2021-02-13T01:05:42.126175Z\", \"duration\": \"0:02:06\", \"iteration\": \"37\", \"goal\": \"accuracy_max\", \"run_name\": \"StackEnsemble\", \"run_properties\": \"base_learners=[('2',\\n                                        Pipeline(memory=None,\\n                                                 steps=[('minmaxscaler',\\n                                                         MinMaxScaler(copy=True,\\n                                                                      feature_range=(0,\\n                                                                                     1\", \"primary_metric\": 0.8562069, \"best_metric\": 0.8762069}, {\"run_id\": \"AutoML_bad8b7b1-697e-402a-91c9-8730f9b52493_36\", \"run_number\": 43, \"metric\": null, \"status\": \"Completed\", \"run_type\": \"azureml.scriptrun\", \"training_percent\": \"100\", \"start_time\": \"2021-02-13T01:05:52.438737Z\", \"end_time\": \"2021-02-13T01:07:49.342391Z\", \"created_time\": \"2021-02-13T01:05:42.148139Z\", \"created_time_dt\": \"2021-02-13T01:05:42.148139Z\", \"duration\": \"0:02:07\", \"iteration\": \"36\", \"goal\": \"accuracy_max\", \"run_name\": \"VotingEnsemble\", \"run_properties\": \"classification_labels=None,\\n                              estimators=[('2',\\n                                           Pipeline(memory=None,\\n                                                    steps=[('minmaxscaler',\\n                                                            MinMaxScaler(copy=True,\\n                                                                         feature_range=(0,\\n                                                                                        1\", \"primary_metric\": 0.8762069, \"best_metric\": 0.8762069}], \"children_metrics\": {\"categories\": [0], \"series\": {\"matthews_correlation\": [{\"categories\": [\"0\", \"1\", \"2\", \"3\", \"4\", \"5\", \"6\", \"7\", \"8\", \"9\", \"10\", \"11\", \"12\", \"13\", \"14\", \"15\", \"16\", \"17\", \"18\", \"19\", \"20\", \"21\", \"22\", \"23\", \"24\", \"25\", \"26\", \"27\", \"28\", \"29\", \"30\", \"31\", \"32\", \"36\", \"37\"], \"mode\": \"markers\", \"name\": \"matthews_correlation\", \"stepped\": false, \"type\": \"scatter\", \"data\": [0.6231314496952846, 0.6345538749068885, 0.6726716030338032, 0.6085856424137293, 0.6362393999790485, 0.6359611725606609, 0.6511816389283341, 0.3560424105901728, 0.6453738441924203, 0.610283417163898, 0.5420631828594559, 0.538863619506813, 0.3833422588348133, 0.6526669490817252, 0.5859889020033766, 0.5971517116958729, 0.6623467105390038, 0.6291702367253744, 0.6320897071733595, 0.64518717804003, 0.6123332816414019, 0.6133993356483127, 0.6374186591928249, 0.4915782987184336, 0.6435091815702293, 0.4552234954988587, 0.5333272077100224, 0.5252113325354072, 0.653652904745881, 0.6542269479405818, 0.6166496738975804, 0.5986771914346563, 0.6560003074182693, 0.7246893419636183, 0.6852526525022963]}, {\"categories\": [\"0\", \"1\", \"2\", \"3\", \"4\", \"5\", \"6\", \"7\", \"8\", \"9\", \"10\", \"11\", \"12\", \"13\", \"14\", \"15\", \"16\", \"17\", \"18\", \"19\", \"20\", \"21\", \"22\", \"23\", \"24\", \"25\", \"26\", \"27\", \"28\", \"29\", \"30\", \"31\", \"32\", \"36\", \"37\"], \"mode\": \"lines\", \"name\": \"matthews_correlation_max\", \"stepped\": true, \"type\": \"scatter\", \"data\": [0.6231314496952846, 0.6345538749068885, 0.6726716030338032, 0.6726716030338032, 0.6726716030338032, 0.6726716030338032, 0.6726716030338032, 0.6726716030338032, 0.6726716030338032, 0.6726716030338032, 0.6726716030338032, 0.6726716030338032, 0.6726716030338032, 0.6726716030338032, 0.6726716030338032, 0.6726716030338032, 0.6726716030338032, 0.6726716030338032, 0.6726716030338032, 0.6726716030338032, 0.6726716030338032, 0.6726716030338032, 0.6726716030338032, 0.6726716030338032, 0.6726716030338032, 0.6726716030338032, 0.6726716030338032, 0.6726716030338032, 0.6726716030338032, 0.6726716030338032, 0.6726716030338032, 0.6726716030338032, 0.6726716030338032, 0.7246893419636183, 0.7246893419636183]}], \"precision_score_weighted\": [{\"categories\": [\"0\", \"1\", \"2\", \"3\", \"4\", \"5\", \"6\", \"7\", \"8\", \"9\", \"10\", \"11\", \"12\", \"13\", \"14\", \"15\", \"16\", \"17\", \"18\", \"19\", \"20\", \"21\", \"22\", \"23\", \"24\", \"25\", \"26\", \"27\", \"28\", \"29\", \"30\", \"31\", \"32\", \"36\", \"37\"], \"mode\": \"markers\", \"name\": \"precision_score_weighted\", \"stepped\": false, \"type\": \"scatter\", \"data\": [0.8443308716969533, 0.8506678986628277, 0.8723643478781167, 0.842382869114543, 0.8528167477123821, 0.8539619816145697, 0.8575560535093562, 0.75253356224818, 0.8588608388869037, 0.8494995299094643, 0.8214794960088856, 0.8267503915217809, 0.7841864758910736, 0.8632553265105122, 0.840623900302411, 0.8344773972473017, 0.8624447449102621, 0.8464264202888815, 0.8553606304186647, 0.8618670108418984, 0.8502544768741169, 0.8433280464941768, 0.8528011598457625, 0.7967716451668949, 0.8606974424875474, 0.77979533771607, 0.8291493687120625, 0.8264692583278789, 0.8661284303406006, 0.8651546375472426, 0.8469609053698258, 0.8413501419573877, 0.8616377708589763, 0.8923286974647808, 0.8781067314134031]}, {\"categories\": [\"0\", \"1\", \"2\", \"3\", \"4\", \"5\", \"6\", \"7\", \"8\", \"9\", \"10\", \"11\", \"12\", \"13\", \"14\", \"15\", \"16\", \"17\", \"18\", \"19\", \"20\", \"21\", \"22\", \"23\", \"24\", \"25\", \"26\", \"27\", \"28\", \"29\", \"30\", \"31\", \"32\", \"36\", \"37\"], \"mode\": \"lines\", \"name\": \"precision_score_weighted_max\", \"stepped\": true, \"type\": \"scatter\", \"data\": [0.8443308716969533, 0.8506678986628277, 0.8723643478781167, 0.8723643478781167, 0.8723643478781167, 0.8723643478781167, 0.8723643478781167, 0.8723643478781167, 0.8723643478781167, 0.8723643478781167, 0.8723643478781167, 0.8723643478781167, 0.8723643478781167, 0.8723643478781167, 0.8723643478781167, 0.8723643478781167, 0.8723643478781167, 0.8723643478781167, 0.8723643478781167, 0.8723643478781167, 0.8723643478781167, 0.8723643478781167, 0.8723643478781167, 0.8723643478781167, 0.8723643478781167, 0.8723643478781167, 0.8723643478781167, 0.8723643478781167, 0.8723643478781167, 0.8723643478781167, 0.8723643478781167, 0.8723643478781167, 0.8723643478781167, 0.8923286974647808, 0.8923286974647808]}], \"average_precision_score_weighted\": [{\"categories\": [\"0\", \"1\", \"2\", \"3\", \"4\", \"5\", \"6\", \"7\", \"8\", \"9\", \"10\", \"11\", \"12\", \"13\", \"14\", \"15\", \"16\", \"17\", \"18\", \"19\", \"20\", \"21\", \"22\", \"23\", \"24\", \"25\", \"26\", \"27\", \"28\", \"29\", \"30\", \"31\", \"32\", \"36\", \"37\"], \"mode\": \"markers\", \"name\": \"average_precision_score_weighted\", \"stepped\": false, \"type\": \"scatter\", \"data\": [0.9061112830231934, 0.907154018724502, 0.9268615336587276, 0.9146968903338802, 0.9188777294440029, 0.9191583985058751, 0.9222370193071479, 0.7902984708289256, 0.9254590157315097, 0.9196896625977816, 0.8764764478120824, 0.8910526567414232, 0.8829812883464841, 0.9060660336140408, 0.9080352585855126, 0.9132565897274476, 0.9142454524858756, 0.9051350361494794, 0.9185264340158863, 0.914792229654467, 0.894761696592598, 0.9239334270590778, 0.912529107918125, 0.8870275707614178, 0.9118460951302968, 0.835608911006069, 0.9114769289570116, 0.8977796574488632, 0.9176704745401298, 0.9235173109679353, 0.8032471717251785, 0.8879444208863108, 0.9197606877992346, 0.9274005670774113, 0.928599339948225]}, {\"categories\": [\"0\", \"1\", \"2\", \"3\", \"4\", \"5\", \"6\", \"7\", \"8\", \"9\", \"10\", \"11\", \"12\", \"13\", \"14\", \"15\", \"16\", \"17\", \"18\", \"19\", \"20\", \"21\", \"22\", \"23\", \"24\", \"25\", \"26\", \"27\", \"28\", \"29\", \"30\", \"31\", \"32\", \"36\", \"37\"], \"mode\": \"lines\", \"name\": \"average_precision_score_weighted_max\", \"stepped\": true, \"type\": \"scatter\", \"data\": [0.9061112830231934, 0.907154018724502, 0.9268615336587276, 0.9268615336587276, 0.9268615336587276, 0.9268615336587276, 0.9268615336587276, 0.9268615336587276, 0.9268615336587276, 0.9268615336587276, 0.9268615336587276, 0.9268615336587276, 0.9268615336587276, 0.9268615336587276, 0.9268615336587276, 0.9268615336587276, 0.9268615336587276, 0.9268615336587276, 0.9268615336587276, 0.9268615336587276, 0.9268615336587276, 0.9268615336587276, 0.9268615336587276, 0.9268615336587276, 0.9268615336587276, 0.9268615336587276, 0.9268615336587276, 0.9268615336587276, 0.9268615336587276, 0.9268615336587276, 0.9268615336587276, 0.9268615336587276, 0.9268615336587276, 0.9274005670774113, 0.928599339948225]}], \"f1_score_macro\": [{\"categories\": [\"0\", \"1\", \"2\", \"3\", \"4\", \"5\", \"6\", \"7\", \"8\", \"9\", \"10\", \"11\", \"12\", \"13\", \"14\", \"15\", \"16\", \"17\", \"18\", \"19\", \"20\", \"21\", \"22\", \"23\", \"24\", \"25\", \"26\", \"27\", \"28\", \"29\", \"30\", \"31\", \"32\", \"36\", \"37\"], \"mode\": \"markers\", \"name\": \"f1_score_macro\", \"stepped\": false, \"type\": \"scatter\", \"data\": [0.8043314151248963, 0.8078501228997539, 0.8265950046041641, 0.7957487197699844, 0.8118196395108159, 0.8081309767640941, 0.8157190013750082, 0.6368224719666478, 0.8112421060407394, 0.7901699674133443, 0.7603669925285953, 0.7335658587307311, 0.632950422884477, 0.8139218100656445, 0.7695296688112171, 0.791376834963317, 0.8228123403425822, 0.8062936525373925, 0.800592919675218, 0.800844109179908, 0.7830451555584783, 0.7974579547321127, 0.809956110225244, 0.7321895233626454, 0.8002971463443111, 0.7096860903962958, 0.7250573811082435, 0.7231324831191338, 0.8134732439678627, 0.8144782766854229, 0.796071674161138, 0.7859665734784926, 0.8195642020869908, 0.849309570549831, 0.8241198790518419]}, {\"categories\": [\"0\", \"1\", \"2\", \"3\", \"4\", \"5\", \"6\", \"7\", \"8\", \"9\", \"10\", \"11\", \"12\", \"13\", \"14\", \"15\", \"16\", \"17\", \"18\", \"19\", \"20\", \"21\", \"22\", \"23\", \"24\", \"25\", \"26\", \"27\", \"28\", \"29\", \"30\", \"31\", \"32\", \"36\", \"37\"], \"mode\": \"lines\", \"name\": \"f1_score_macro_max\", \"stepped\": true, \"type\": \"scatter\", \"data\": [0.8043314151248963, 0.8078501228997539, 0.8265950046041641, 0.8265950046041641, 0.8265950046041641, 0.8265950046041641, 0.8265950046041641, 0.8265950046041641, 0.8265950046041641, 0.8265950046041641, 0.8265950046041641, 0.8265950046041641, 0.8265950046041641, 0.8265950046041641, 0.8265950046041641, 0.8265950046041641, 0.8265950046041641, 0.8265950046041641, 0.8265950046041641, 0.8265950046041641, 0.8265950046041641, 0.8265950046041641, 0.8265950046041641, 0.8265950046041641, 0.8265950046041641, 0.8265950046041641, 0.8265950046041641, 0.8265950046041641, 0.8265950046041641, 0.8265950046041641, 0.8265950046041641, 0.8265950046041641, 0.8265950046041641, 0.849309570549831, 0.849309570549831]}], \"accuracy\": [{\"categories\": [\"0\", \"1\", \"2\", \"3\", \"4\", \"5\", \"6\", \"7\", \"8\", \"9\", \"10\", \"11\", \"12\", \"13\", \"14\", \"15\", \"16\", \"17\", \"18\", \"19\", \"20\", \"21\", \"22\", \"23\", \"24\", \"25\", \"26\", \"27\", \"28\", \"29\", \"30\", \"31\", \"32\", \"36\", \"37\"], \"mode\": \"markers\", \"name\": \"accuracy\", \"stepped\": false, \"type\": \"scatter\", \"data\": [0.8359770114942527, 0.8358620689655172, 0.8595402298850574, 0.8325287356321841, 0.839080459770115, 0.8391954022988506, 0.8426436781609195, 0.7328735632183909, 0.8426436781609195, 0.8325287356321839, 0.8093103448275862, 0.8026436781609195, 0.7559770114942529, 0.8495402298850575, 0.8195402298850574, 0.8293103448275861, 0.8491954022988505, 0.8362068965517242, 0.8393103448275863, 0.8428735632183908, 0.8331034482758621, 0.8327586206896551, 0.8425287356321839, 0.7788505747126437, 0.8428735632183908, 0.7320689655172414, 0.7993103448275863, 0.7994252873563219, 0.8495402298850576, 0.8495402298850575, 0.8359770114942527, 0.822528735632184, 0.8493103448275863, 0.8762068965517242, 0.8562068965517243]}, {\"categories\": [\"0\", \"1\", \"2\", \"3\", \"4\", \"5\", \"6\", \"7\", \"8\", \"9\", \"10\", \"11\", \"12\", \"13\", \"14\", \"15\", \"16\", \"17\", \"18\", \"19\", \"20\", \"21\", \"22\", \"23\", \"24\", \"25\", \"26\", \"27\", \"28\", \"29\", \"30\", \"31\", \"32\", \"36\", \"37\"], \"mode\": \"lines\", \"name\": \"accuracy_max\", \"stepped\": true, \"type\": \"scatter\", \"data\": [0.8359770114942527, 0.8359770114942527, 0.8595402298850574, 0.8595402298850574, 0.8595402298850574, 0.8595402298850574, 0.8595402298850574, 0.8595402298850574, 0.8595402298850574, 0.8595402298850574, 0.8595402298850574, 0.8595402298850574, 0.8595402298850574, 0.8595402298850574, 0.8595402298850574, 0.8595402298850574, 0.8595402298850574, 0.8595402298850574, 0.8595402298850574, 0.8595402298850574, 0.8595402298850574, 0.8595402298850574, 0.8595402298850574, 0.8595402298850574, 0.8595402298850574, 0.8595402298850574, 0.8595402298850574, 0.8595402298850574, 0.8595402298850574, 0.8595402298850574, 0.8595402298850574, 0.8595402298850574, 0.8595402298850574, 0.8762068965517242, 0.8762068965517242]}], \"AUC_macro\": [{\"categories\": [\"0\", \"1\", \"2\", \"3\", \"4\", \"5\", \"6\", \"7\", \"8\", \"9\", \"10\", \"11\", \"12\", \"13\", \"14\", \"15\", \"16\", \"17\", \"18\", \"19\", \"20\", \"21\", \"22\", \"23\", \"24\", \"25\", \"26\", \"27\", \"28\", \"29\", \"30\", \"31\", \"32\", \"36\", \"37\"], \"mode\": \"markers\", \"name\": \"AUC_macro\", \"stepped\": false, \"type\": \"scatter\", \"data\": [0.8840955354735103, 0.8847369443591411, 0.9033104265384587, 0.8936330829269045, 0.9003648282707207, 0.9020171457134272, 0.9046200299827303, 0.7472287308356531, 0.9105113357614503, 0.9025306153504093, 0.8608370342027666, 0.8588236855313515, 0.8630312751575909, 0.8905101635291567, 0.8956902993787719, 0.8917102608024232, 0.8973898099442723, 0.8879981568848561, 0.9022516357593588, 0.8980338035470758, 0.8767071191098079, 0.9058843473968187, 0.8998310874765965, 0.8658668336960099, 0.890216831824841, 0.8054746868131021, 0.9002623886516907, 0.8722499768030089, 0.9011830003478172, 0.9073673366827257, 0.8071502241550297, 0.8638387105774978, 0.9041655316100968, 0.9125050639609565, 0.9146304947700827]}, {\"categories\": [\"0\", \"1\", \"2\", \"3\", \"4\", \"5\", \"6\", \"7\", \"8\", \"9\", \"10\", \"11\", \"12\", \"13\", \"14\", \"15\", \"16\", \"17\", \"18\", \"19\", \"20\", \"21\", \"22\", \"23\", \"24\", \"25\", \"26\", \"27\", \"28\", \"29\", \"30\", \"31\", \"32\", \"36\", \"37\"], \"mode\": \"lines\", \"name\": \"AUC_macro_max\", \"stepped\": true, \"type\": \"scatter\", \"data\": [0.8840955354735103, 0.8847369443591411, 0.9033104265384587, 0.9033104265384587, 0.9033104265384587, 0.9033104265384587, 0.9046200299827303, 0.9046200299827303, 0.9105113357614503, 0.9105113357614503, 0.9105113357614503, 0.9105113357614503, 0.9105113357614503, 0.9105113357614503, 0.9105113357614503, 0.9105113357614503, 0.9105113357614503, 0.9105113357614503, 0.9105113357614503, 0.9105113357614503, 0.9105113357614503, 0.9105113357614503, 0.9105113357614503, 0.9105113357614503, 0.9105113357614503, 0.9105113357614503, 0.9105113357614503, 0.9105113357614503, 0.9105113357614503, 0.9105113357614503, 0.9105113357614503, 0.9105113357614503, 0.9105113357614503, 0.9125050639609565, 0.9146304947700827]}], \"recall_score_micro\": [{\"categories\": [\"0\", \"1\", \"2\", \"3\", \"4\", \"5\", \"6\", \"7\", \"8\", \"9\", \"10\", \"11\", \"12\", \"13\", \"14\", \"15\", \"16\", \"17\", \"18\", \"19\", \"20\", \"21\", \"22\", \"23\", \"24\", \"25\", \"26\", \"27\", \"28\", \"29\", \"30\", \"31\", \"32\", \"36\", \"37\"], \"mode\": \"markers\", \"name\": \"recall_score_micro\", \"stepped\": false, \"type\": \"scatter\", \"data\": [0.8359770114942527, 0.8358620689655172, 0.8595402298850574, 0.8325287356321841, 0.839080459770115, 0.8391954022988506, 0.8426436781609195, 0.7328735632183909, 0.8426436781609195, 0.8325287356321839, 0.8093103448275862, 0.8026436781609195, 0.7559770114942529, 0.8495402298850575, 0.8195402298850574, 0.8293103448275861, 0.8491954022988505, 0.8362068965517242, 0.8393103448275863, 0.8428735632183908, 0.8331034482758621, 0.8327586206896551, 0.8425287356321839, 0.7788505747126437, 0.8428735632183908, 0.7320689655172414, 0.7993103448275863, 0.7994252873563219, 0.8495402298850576, 0.8495402298850575, 0.8359770114942527, 0.822528735632184, 0.8493103448275863, 0.8762068965517242, 0.8562068965517243]}, {\"categories\": [\"0\", \"1\", \"2\", \"3\", \"4\", \"5\", \"6\", \"7\", \"8\", \"9\", \"10\", \"11\", \"12\", \"13\", \"14\", \"15\", \"16\", \"17\", \"18\", \"19\", \"20\", \"21\", \"22\", \"23\", \"24\", \"25\", \"26\", \"27\", \"28\", \"29\", \"30\", \"31\", \"32\", \"36\", \"37\"], \"mode\": \"lines\", \"name\": \"recall_score_micro_max\", \"stepped\": true, \"type\": \"scatter\", \"data\": [0.8359770114942527, 0.8359770114942527, 0.8595402298850574, 0.8595402298850574, 0.8595402298850574, 0.8595402298850574, 0.8595402298850574, 0.8595402298850574, 0.8595402298850574, 0.8595402298850574, 0.8595402298850574, 0.8595402298850574, 0.8595402298850574, 0.8595402298850574, 0.8595402298850574, 0.8595402298850574, 0.8595402298850574, 0.8595402298850574, 0.8595402298850574, 0.8595402298850574, 0.8595402298850574, 0.8595402298850574, 0.8595402298850574, 0.8595402298850574, 0.8595402298850574, 0.8595402298850574, 0.8595402298850574, 0.8595402298850574, 0.8595402298850574, 0.8595402298850574, 0.8595402298850574, 0.8595402298850574, 0.8595402298850574, 0.8762068965517242, 0.8762068965517242]}], \"log_loss\": [{\"categories\": [\"0\", \"1\", \"2\", \"3\", \"4\", \"5\", \"6\", \"7\", \"8\", \"9\", \"10\", \"11\", \"12\", \"13\", \"14\", \"15\", \"16\", \"17\", \"18\", \"19\", \"20\", \"21\", \"22\", \"23\", \"24\", \"25\", \"26\", \"27\", \"28\", \"29\", \"30\", \"31\", \"32\", \"36\", \"37\"], \"mode\": \"markers\", \"name\": \"log_loss\", \"stepped\": false, \"type\": \"scatter\", \"data\": [0.4772179826627182, 0.41764279466886123, 0.37869323380702363, 0.4053066181704576, 0.3815531241659639, 0.41331012886714247, 0.3656386119544646, 0.5739105794448884, 0.3568483006226823, 0.38231145959136503, 0.488972342400222, 0.4569952585357953, 0.49702308732573447, 0.3964188793382829, 0.4937811237209755, 0.409537484923087, 0.3953933738936336, 0.4182362547689416, 0.41916278548122055, 0.4268974713700103, 0.5230151187022564, 0.36976002041980344, 0.398054177581154, 0.4287154102128561, 0.42556164841502975, 0.5818107125315446, 0.48387396114211506, 0.46964868927854725, 0.38011215464656817, 0.3702905490287439, 0.4590062295844472, 0.4318618325308111, 0.36959959296560757, 0.3478588717093275, 0.36446738068096407]}, {\"categories\": [\"0\", \"1\", \"2\", \"3\", \"4\", \"5\", \"6\", \"7\", \"8\", \"9\", \"10\", \"11\", \"12\", \"13\", \"14\", \"15\", \"16\", \"17\", \"18\", \"19\", \"20\", \"21\", \"22\", \"23\", \"24\", \"25\", \"26\", \"27\", \"28\", \"29\", \"30\", \"31\", \"32\", \"36\", \"37\"], \"mode\": \"lines\", \"name\": \"log_loss_min\", \"stepped\": true, \"type\": \"scatter\", \"data\": [0.4772179826627182, 0.41764279466886123, 0.37869323380702363, 0.37869323380702363, 0.37869323380702363, 0.37869323380702363, 0.3656386119544646, 0.3656386119544646, 0.3568483006226823, 0.3568483006226823, 0.3568483006226823, 0.3568483006226823, 0.3568483006226823, 0.3568483006226823, 0.3568483006226823, 0.3568483006226823, 0.3568483006226823, 0.3568483006226823, 0.3568483006226823, 0.3568483006226823, 0.3568483006226823, 0.3568483006226823, 0.3568483006226823, 0.3568483006226823, 0.3568483006226823, 0.3568483006226823, 0.3568483006226823, 0.3568483006226823, 0.3568483006226823, 0.3568483006226823, 0.3568483006226823, 0.3568483006226823, 0.3568483006226823, 0.3478588717093275, 0.3478588717093275]}], \"AUC_micro\": [{\"categories\": [\"0\", \"1\", \"2\", \"3\", \"4\", \"5\", \"6\", \"7\", \"8\", \"9\", \"10\", \"11\", \"12\", \"13\", \"14\", \"15\", \"16\", \"17\", \"18\", \"19\", \"20\", \"21\", \"22\", \"23\", \"24\", \"25\", \"26\", \"27\", \"28\", \"29\", \"30\", \"31\", \"32\", \"36\", \"37\"], \"mode\": \"markers\", \"name\": \"AUC_micro\", \"stepped\": false, \"type\": \"scatter\", \"data\": [0.9035422116527941, 0.9042166732725592, 0.9175090500726648, 0.9056455278108071, 0.9109438499141234, 0.906292641035804, 0.9164466904478795, 0.7885754392918485, 0.9197292905271501, 0.9128853217069628, 0.8808599550799313, 0.8734642621218127, 0.8477292905271503, 0.9005986259743691, 0.9036357510899722, 0.901019817677368, 0.9036903157616594, 0.8939495309816357, 0.9062068965517242, 0.9030938036728763, 0.8883432421720174, 0.9152946228035408, 0.9064408772625182, 0.8762148236226714, 0.8996513409961686, 0.8055057471264367, 0.8784408772625181, 0.8750568106751222, 0.914805258290395, 0.9192808825472321, 0.8490763641167922, 0.8820451843043996, 0.9143180076628352, 0.9227740784780023, 0.921011890606421]}, {\"categories\": [\"0\", \"1\", \"2\", \"3\", \"4\", \"5\", \"6\", \"7\", \"8\", \"9\", \"10\", \"11\", \"12\", \"13\", \"14\", \"15\", \"16\", \"17\", \"18\", \"19\", \"20\", \"21\", \"22\", \"23\", \"24\", \"25\", \"26\", \"27\", \"28\", \"29\", \"30\", \"31\", \"32\", \"36\", \"37\"], \"mode\": \"lines\", \"name\": \"AUC_micro_max\", \"stepped\": true, \"type\": \"scatter\", \"data\": [0.9035422116527941, 0.9042166732725592, 0.9175090500726648, 0.9175090500726648, 0.9175090500726648, 0.9175090500726648, 0.9175090500726648, 0.9175090500726648, 0.9197292905271501, 0.9197292905271501, 0.9197292905271501, 0.9197292905271501, 0.9197292905271501, 0.9197292905271501, 0.9197292905271501, 0.9197292905271501, 0.9197292905271501, 0.9197292905271501, 0.9197292905271501, 0.9197292905271501, 0.9197292905271501, 0.9197292905271501, 0.9197292905271501, 0.9197292905271501, 0.9197292905271501, 0.9197292905271501, 0.9197292905271501, 0.9197292905271501, 0.9197292905271501, 0.9197292905271501, 0.9197292905271501, 0.9197292905271501, 0.9197292905271501, 0.9227740784780023, 0.9227740784780023]}], \"AUC_weighted\": [{\"categories\": [\"0\", \"1\", \"2\", \"3\", \"4\", \"5\", \"6\", \"7\", \"8\", \"9\", \"10\", \"11\", \"12\", \"13\", \"14\", \"15\", \"16\", \"17\", \"18\", \"19\", \"20\", \"21\", \"22\", \"23\", \"24\", \"25\", \"26\", \"27\", \"28\", \"29\", \"30\", \"31\", \"32\", \"36\", \"37\"], \"mode\": \"markers\", \"name\": \"AUC_weighted\", \"stepped\": false, \"type\": \"scatter\", \"data\": [0.8840955354735103, 0.8847369443591411, 0.9033104265384585, 0.8936330829269045, 0.9003648282707207, 0.9020171457134272, 0.9046200299827303, 0.747228730835653, 0.9105113357614503, 0.9025306153504093, 0.8608370342027666, 0.8588236855313515, 0.863031275157591, 0.8905101635291566, 0.8956902993787719, 0.8917102608024232, 0.8973898099442723, 0.8879981568848561, 0.9022516357593588, 0.8980338035470758, 0.8767071191098079, 0.9058843473968187, 0.8998310874765965, 0.8658668336960099, 0.890216831824841, 0.8054746868131021, 0.9002623886516907, 0.8722499768030089, 0.9011830003478172, 0.9073673366827257, 0.8071502241550297, 0.8638387105774978, 0.9041655316100968, 0.9125050639609565, 0.9146304947700828]}, {\"categories\": [\"0\", \"1\", \"2\", \"3\", \"4\", \"5\", \"6\", \"7\", \"8\", \"9\", \"10\", \"11\", \"12\", \"13\", \"14\", \"15\", \"16\", \"17\", \"18\", \"19\", \"20\", \"21\", \"22\", \"23\", \"24\", \"25\", \"26\", \"27\", \"28\", \"29\", \"30\", \"31\", \"32\", \"36\", \"37\"], \"mode\": \"lines\", \"name\": \"AUC_weighted_max\", \"stepped\": true, \"type\": \"scatter\", \"data\": [0.8840955354735103, 0.8847369443591411, 0.9033104265384585, 0.9033104265384585, 0.9033104265384585, 0.9033104265384585, 0.9046200299827303, 0.9046200299827303, 0.9105113357614503, 0.9105113357614503, 0.9105113357614503, 0.9105113357614503, 0.9105113357614503, 0.9105113357614503, 0.9105113357614503, 0.9105113357614503, 0.9105113357614503, 0.9105113357614503, 0.9105113357614503, 0.9105113357614503, 0.9105113357614503, 0.9105113357614503, 0.9105113357614503, 0.9105113357614503, 0.9105113357614503, 0.9105113357614503, 0.9105113357614503, 0.9105113357614503, 0.9105113357614503, 0.9105113357614503, 0.9105113357614503, 0.9105113357614503, 0.9105113357614503, 0.9125050639609565, 0.9146304947700828]}], \"average_precision_score_macro\": [{\"categories\": [\"0\", \"1\", \"2\", \"3\", \"4\", \"5\", \"6\", \"7\", \"8\", \"9\", \"10\", \"11\", \"12\", \"13\", \"14\", \"15\", \"16\", \"17\", \"18\", \"19\", \"20\", \"21\", \"22\", \"23\", \"24\", \"25\", \"26\", \"27\", \"28\", \"29\", \"30\", \"31\", \"32\", \"36\", \"37\"], \"mode\": \"markers\", \"name\": \"average_precision_score_macro\", \"stepped\": false, \"type\": \"scatter\", \"data\": [0.8807888197525153, 0.8807340475847678, 0.9029944972295064, 0.8874083877133915, 0.8912151648181512, 0.8985789056253781, 0.8982888583011063, 0.745469896825244, 0.9015799184873756, 0.8945349664625457, 0.8401142754782065, 0.8618577753040094, 0.8534413132635805, 0.8801441796559588, 0.8846017871895763, 0.8925695585055424, 0.8921984804098407, 0.8819949781809319, 0.8918742359962035, 0.8913957286884194, 0.8718346611014851, 0.9026909653449093, 0.8816389761044438, 0.8502437834191378, 0.8897221254221186, 0.7958102041107153, 0.8842085957271237, 0.8720614242253092, 0.8908390780006936, 0.8975012928089591, 0.7657102965039349, 0.8531397251050148, 0.8942590558911627, 0.9020131687352985, 0.9031496246592686]}, {\"categories\": [\"0\", \"1\", \"2\", \"3\", \"4\", \"5\", \"6\", \"7\", \"8\", \"9\", \"10\", \"11\", \"12\", \"13\", \"14\", \"15\", \"16\", \"17\", \"18\", \"19\", \"20\", \"21\", \"22\", \"23\", \"24\", \"25\", \"26\", \"27\", \"28\", \"29\", \"30\", \"31\", \"32\", \"36\", \"37\"], \"mode\": \"lines\", \"name\": \"average_precision_score_macro_max\", \"stepped\": true, \"type\": \"scatter\", \"data\": [0.8807888197525153, 0.8807888197525153, 0.9029944972295064, 0.9029944972295064, 0.9029944972295064, 0.9029944972295064, 0.9029944972295064, 0.9029944972295064, 0.9029944972295064, 0.9029944972295064, 0.9029944972295064, 0.9029944972295064, 0.9029944972295064, 0.9029944972295064, 0.9029944972295064, 0.9029944972295064, 0.9029944972295064, 0.9029944972295064, 0.9029944972295064, 0.9029944972295064, 0.9029944972295064, 0.9029944972295064, 0.9029944972295064, 0.9029944972295064, 0.9029944972295064, 0.9029944972295064, 0.9029944972295064, 0.9029944972295064, 0.9029944972295064, 0.9029944972295064, 0.9029944972295064, 0.9029944972295064, 0.9029944972295064, 0.9029944972295064, 0.9031496246592686]}], \"precision_score_macro\": [{\"categories\": [\"0\", \"1\", \"2\", \"3\", \"4\", \"5\", \"6\", \"7\", \"8\", \"9\", \"10\", \"11\", \"12\", \"13\", \"14\", \"15\", \"16\", \"17\", \"18\", \"19\", \"20\", \"21\", \"22\", \"23\", \"24\", \"25\", \"26\", \"27\", \"28\", \"29\", \"30\", \"31\", \"32\", \"36\", \"37\"], \"mode\": \"markers\", \"name\": \"precision_score_macro\", \"stepped\": false, \"type\": \"scatter\", \"data\": [0.8167365852764965, 0.8232986049897815, 0.8451056227446893, 0.814860894000482, 0.8137494568106696, 0.8240526588209656, 0.8326347171583747, 0.7259484859218743, 0.8324388397550162, 0.8256218986962693, 0.7853385886633968, 0.829479990621295, 0.7534096704700154, 0.8451538107313784, 0.8349356593487027, 0.8112075907819614, 0.8384522933207144, 0.8208112856094415, 0.8366777806592385, 0.8679116173681392, 0.8594646935190413, 0.8169032653195059, 0.8268486449985305, 0.7555958318315298, 0.8695071534745449, 0.7104888721529589, 0.8346163711489799, 0.8323156103156105, 0.8447211269123034, 0.8415236709865865, 0.8280084227366835, 0.8133497194072137, 0.8315507207342246, 0.8829376138212455, 0.8702992864623299]}, {\"categories\": [\"0\", \"1\", \"2\", \"3\", \"4\", \"5\", \"6\", \"7\", \"8\", \"9\", \"10\", \"11\", \"12\", \"13\", \"14\", \"15\", \"16\", \"17\", \"18\", \"19\", \"20\", \"21\", \"22\", \"23\", \"24\", \"25\", \"26\", \"27\", \"28\", \"29\", \"30\", \"31\", \"32\", \"36\", \"37\"], \"mode\": \"lines\", \"name\": \"precision_score_macro_max\", \"stepped\": true, \"type\": \"scatter\", \"data\": [0.8167365852764965, 0.8232986049897815, 0.8451056227446893, 0.8451056227446893, 0.8451056227446893, 0.8451056227446893, 0.8451056227446893, 0.8451056227446893, 0.8451056227446893, 0.8451056227446893, 0.8451056227446893, 0.8451056227446893, 0.8451056227446893, 0.8451538107313784, 0.8451538107313784, 0.8451538107313784, 0.8451538107313784, 0.8451538107313784, 0.8451538107313784, 0.8679116173681392, 0.8679116173681392, 0.8679116173681392, 0.8679116173681392, 0.8679116173681392, 0.8695071534745449, 0.8695071534745449, 0.8695071534745449, 0.8695071534745449, 0.8695071534745449, 0.8695071534745449, 0.8695071534745449, 0.8695071534745449, 0.8695071534745449, 0.8829376138212455, 0.8829376138212455]}], \"weighted_accuracy\": [{\"categories\": [\"0\", \"1\", \"2\", \"3\", \"4\", \"5\", \"6\", \"7\", \"8\", \"9\", \"10\", \"11\", \"12\", \"13\", \"14\", \"15\", \"16\", \"17\", \"18\", \"19\", \"20\", \"21\", \"22\", \"23\", \"24\", \"25\", \"26\", \"27\", \"28\", \"29\", \"30\", \"31\", \"32\", \"36\", \"37\"], \"mode\": \"markers\", \"name\": \"weighted_accuracy\", \"stepped\": false, \"type\": \"scatter\", \"data\": [0.8541321922200625, 0.8502962163535492, 0.8782960284744098, 0.8561264546326193, 0.8480379007469973, 0.8565629404728614, 0.8562135112477766, 0.7890115459914335, 0.8597934450315865, 0.8601908221055835, 0.8385082313085942, 0.8532830096702548, 0.8219603315724845, 0.8734514076072569, 0.8569762141082642, 0.855877950712919, 0.8640717967348153, 0.8535480316158818, 0.8669339017794584, 0.880127853338543, 0.87580944966903, 0.8550462711183094, 0.8623964506212038, 0.8058486596603409, 0.8820560547954402, 0.7223485556695703, 0.8546062943730799, 0.8561969842389372, 0.8712713595224635, 0.8696692281901395, 0.8655348430577368, 0.8451681878460313, 0.864173809519335, 0.8955354852265893, 0.8794040930046689]}, {\"categories\": [\"0\", \"1\", \"2\", \"3\", \"4\", \"5\", \"6\", \"7\", \"8\", \"9\", \"10\", \"11\", \"12\", \"13\", \"14\", \"15\", \"16\", \"17\", \"18\", \"19\", \"20\", \"21\", \"22\", \"23\", \"24\", \"25\", \"26\", \"27\", \"28\", \"29\", \"30\", \"31\", \"32\", \"36\", \"37\"], \"mode\": \"lines\", \"name\": \"weighted_accuracy_max\", \"stepped\": true, \"type\": \"scatter\", \"data\": [0.8541321922200625, 0.8541321922200625, 0.8782960284744098, 0.8782960284744098, 0.8782960284744098, 0.8782960284744098, 0.8782960284744098, 0.8782960284744098, 0.8782960284744098, 0.8782960284744098, 0.8782960284744098, 0.8782960284744098, 0.8782960284744098, 0.8782960284744098, 0.8782960284744098, 0.8782960284744098, 0.8782960284744098, 0.8782960284744098, 0.8782960284744098, 0.880127853338543, 0.880127853338543, 0.880127853338543, 0.880127853338543, 0.880127853338543, 0.8820560547954402, 0.8820560547954402, 0.8820560547954402, 0.8820560547954402, 0.8820560547954402, 0.8820560547954402, 0.8820560547954402, 0.8820560547954402, 0.8820560547954402, 0.8955354852265893, 0.8955354852265893]}], \"f1_score_weighted\": [{\"categories\": [\"0\", \"1\", \"2\", \"3\", \"4\", \"5\", \"6\", \"7\", \"8\", \"9\", \"10\", \"11\", \"12\", \"13\", \"14\", \"15\", \"16\", \"17\", \"18\", \"19\", \"20\", \"21\", \"22\", \"23\", \"24\", \"25\", \"26\", \"27\", \"28\", \"29\", \"30\", \"31\", \"32\", \"36\", \"37\"], \"mode\": \"markers\", \"name\": \"f1_score_weighted\", \"stepped\": false, \"type\": \"scatter\", \"data\": [0.8333388901455894, 0.8342588560383983, 0.8568845822377267, 0.8288190672290872, 0.8402302795131396, 0.836783391008564, 0.8406317474203396, 0.6992413224031901, 0.8397457835992121, 0.8263420407700537, 0.8048217845216165, 0.7803166311449481, 0.712005275382643, 0.8444890292067422, 0.8080979228611413, 0.8250735199655489, 0.847653042588387, 0.8330919162782356, 0.8323341032522762, 0.8324974182469432, 0.8210007234363339, 0.8287188715096319, 0.8390705680141874, 0.7756178464437966, 0.8321042116339719, 0.7413141877265814, 0.773663315261468, 0.7758059687253938, 0.8450468673128178, 0.8450885145894226, 0.8293789917697438, 0.81906121720746, 0.8473059349153711, 0.8719963534251892, 0.8487618701753018]}, {\"categories\": [\"0\", \"1\", \"2\", \"3\", \"4\", \"5\", \"6\", \"7\", \"8\", \"9\", \"10\", \"11\", \"12\", \"13\", \"14\", \"15\", \"16\", \"17\", \"18\", \"19\", \"20\", \"21\", \"22\", \"23\", \"24\", \"25\", \"26\", \"27\", \"28\", \"29\", \"30\", \"31\", \"32\", \"36\", \"37\"], \"mode\": \"lines\", \"name\": \"f1_score_weighted_max\", \"stepped\": true, \"type\": \"scatter\", \"data\": [0.8333388901455894, 0.8342588560383983, 0.8568845822377267, 0.8568845822377267, 0.8568845822377267, 0.8568845822377267, 0.8568845822377267, 0.8568845822377267, 0.8568845822377267, 0.8568845822377267, 0.8568845822377267, 0.8568845822377267, 0.8568845822377267, 0.8568845822377267, 0.8568845822377267, 0.8568845822377267, 0.8568845822377267, 0.8568845822377267, 0.8568845822377267, 0.8568845822377267, 0.8568845822377267, 0.8568845822377267, 0.8568845822377267, 0.8568845822377267, 0.8568845822377267, 0.8568845822377267, 0.8568845822377267, 0.8568845822377267, 0.8568845822377267, 0.8568845822377267, 0.8568845822377267, 0.8568845822377267, 0.8568845822377267, 0.8719963534251892, 0.8719963534251892]}], \"average_precision_score_micro\": [{\"categories\": [\"0\", \"1\", \"2\", \"3\", \"4\", \"5\", \"6\", \"7\", \"8\", \"9\", \"10\", \"11\", \"12\", \"13\", \"14\", \"15\", \"16\", \"17\", \"18\", \"19\", \"20\", \"21\", \"22\", \"23\", \"24\", \"25\", \"26\", \"27\", \"28\", \"29\", \"30\", \"31\", \"32\", \"36\", \"37\"], \"mode\": \"markers\", \"name\": \"average_precision_score_micro\", \"stepped\": false, \"type\": \"scatter\", \"data\": [0.9020054536251629, 0.9033793522124445, 0.9209980926040426, 0.908805125376799, 0.9148985346820961, 0.9092395863658285, 0.9187993042578313, 0.782235649296685, 0.9234938572560493, 0.9153552510550519, 0.876380860099481, 0.8776105133940522, 0.857012473749144, 0.9015291478498986, 0.9019715624413595, 0.902592733154218, 0.9049225471325315, 0.8969673089031585, 0.9100085270296232, 0.9047355412899641, 0.8819667353190452, 0.9177192812903854, 0.9086134097539054, 0.8843114301072161, 0.9007455917533175, 0.8069451481552488, 0.8846513134526216, 0.8783868183013229, 0.9154957952299771, 0.9225955810736469, 0.8143513973265616, 0.8850299274029687, 0.9167154185667681, 0.9267420938784745, 0.9248664471507062]}, {\"categories\": [\"0\", \"1\", \"2\", \"3\", \"4\", \"5\", \"6\", \"7\", \"8\", \"9\", \"10\", \"11\", \"12\", \"13\", \"14\", \"15\", \"16\", \"17\", \"18\", \"19\", \"20\", \"21\", \"22\", \"23\", \"24\", \"25\", \"26\", \"27\", \"28\", \"29\", \"30\", \"31\", \"32\", \"36\", \"37\"], \"mode\": \"lines\", \"name\": \"average_precision_score_micro_max\", \"stepped\": true, \"type\": \"scatter\", \"data\": [0.9020054536251629, 0.9033793522124445, 0.9209980926040426, 0.9209980926040426, 0.9209980926040426, 0.9209980926040426, 0.9209980926040426, 0.9209980926040426, 0.9234938572560493, 0.9234938572560493, 0.9234938572560493, 0.9234938572560493, 0.9234938572560493, 0.9234938572560493, 0.9234938572560493, 0.9234938572560493, 0.9234938572560493, 0.9234938572560493, 0.9234938572560493, 0.9234938572560493, 0.9234938572560493, 0.9234938572560493, 0.9234938572560493, 0.9234938572560493, 0.9234938572560493, 0.9234938572560493, 0.9234938572560493, 0.9234938572560493, 0.9234938572560493, 0.9234938572560493, 0.9234938572560493, 0.9234938572560493, 0.9234938572560493, 0.9267420938784745, 0.9267420938784745]}], \"precision_score_micro\": [{\"categories\": [\"0\", \"1\", \"2\", \"3\", \"4\", \"5\", \"6\", \"7\", \"8\", \"9\", \"10\", \"11\", \"12\", \"13\", \"14\", \"15\", \"16\", \"17\", \"18\", \"19\", \"20\", \"21\", \"22\", \"23\", \"24\", \"25\", \"26\", \"27\", \"28\", \"29\", \"30\", \"31\", \"32\", \"36\", \"37\"], \"mode\": \"markers\", \"name\": \"precision_score_micro\", \"stepped\": false, \"type\": \"scatter\", \"data\": [0.8359770114942527, 0.8358620689655172, 0.8595402298850574, 0.8325287356321841, 0.839080459770115, 0.8391954022988506, 0.8426436781609195, 0.7328735632183909, 0.8426436781609195, 0.8325287356321839, 0.8093103448275862, 0.8026436781609195, 0.7559770114942529, 0.8495402298850575, 0.8195402298850574, 0.8293103448275861, 0.8491954022988505, 0.8362068965517242, 0.8393103448275863, 0.8428735632183908, 0.8331034482758621, 0.8327586206896551, 0.8425287356321839, 0.7788505747126437, 0.8428735632183908, 0.7320689655172414, 0.7993103448275863, 0.7994252873563219, 0.8495402298850576, 0.8495402298850575, 0.8359770114942527, 0.822528735632184, 0.8493103448275863, 0.8762068965517242, 0.8562068965517243]}, {\"categories\": [\"0\", \"1\", \"2\", \"3\", \"4\", \"5\", \"6\", \"7\", \"8\", \"9\", \"10\", \"11\", \"12\", \"13\", \"14\", \"15\", \"16\", \"17\", \"18\", \"19\", \"20\", \"21\", \"22\", \"23\", \"24\", \"25\", \"26\", \"27\", \"28\", \"29\", \"30\", \"31\", \"32\", \"36\", \"37\"], \"mode\": \"lines\", \"name\": \"precision_score_micro_max\", \"stepped\": true, \"type\": \"scatter\", \"data\": [0.8359770114942527, 0.8359770114942527, 0.8595402298850574, 0.8595402298850574, 0.8595402298850574, 0.8595402298850574, 0.8595402298850574, 0.8595402298850574, 0.8595402298850574, 0.8595402298850574, 0.8595402298850574, 0.8595402298850574, 0.8595402298850574, 0.8595402298850574, 0.8595402298850574, 0.8595402298850574, 0.8595402298850574, 0.8595402298850574, 0.8595402298850574, 0.8595402298850574, 0.8595402298850574, 0.8595402298850574, 0.8595402298850574, 0.8595402298850574, 0.8595402298850574, 0.8595402298850574, 0.8595402298850574, 0.8595402298850574, 0.8595402298850574, 0.8595402298850574, 0.8595402298850574, 0.8595402298850574, 0.8595402298850574, 0.8762068965517242, 0.8762068965517242]}], \"f1_score_micro\": [{\"categories\": [\"0\", \"1\", \"2\", \"3\", \"4\", \"5\", \"6\", \"7\", \"8\", \"9\", \"10\", \"11\", \"12\", \"13\", \"14\", \"15\", \"16\", \"17\", \"18\", \"19\", \"20\", \"21\", \"22\", \"23\", \"24\", \"25\", \"26\", \"27\", \"28\", \"29\", \"30\", \"31\", \"32\", \"36\", \"37\"], \"mode\": \"markers\", \"name\": \"f1_score_micro\", \"stepped\": false, \"type\": \"scatter\", \"data\": [0.8359770114942527, 0.8358620689655172, 0.8595402298850574, 0.8325287356321841, 0.839080459770115, 0.8391954022988506, 0.8426436781609198, 0.7328735632183909, 0.8426436781609198, 0.8325287356321839, 0.8093103448275862, 0.8026436781609195, 0.7559770114942529, 0.8495402298850575, 0.8195402298850574, 0.8293103448275861, 0.8491954022988505, 0.8362068965517242, 0.8393103448275863, 0.8428735632183908, 0.8331034482758621, 0.8327586206896551, 0.842528735632184, 0.7788505747126437, 0.8428735632183908, 0.7320689655172414, 0.7993103448275863, 0.7994252873563219, 0.8495402298850576, 0.8495402298850575, 0.8359770114942527, 0.822528735632184, 0.8493103448275863, 0.8762068965517242, 0.8562068965517243]}, {\"categories\": [\"0\", \"1\", \"2\", \"3\", \"4\", \"5\", \"6\", \"7\", \"8\", \"9\", \"10\", \"11\", \"12\", \"13\", \"14\", \"15\", \"16\", \"17\", \"18\", \"19\", \"20\", \"21\", \"22\", \"23\", \"24\", \"25\", \"26\", \"27\", \"28\", \"29\", \"30\", \"31\", \"32\", \"36\", \"37\"], \"mode\": \"lines\", \"name\": \"f1_score_micro_max\", \"stepped\": true, \"type\": \"scatter\", \"data\": [0.8359770114942527, 0.8359770114942527, 0.8595402298850574, 0.8595402298850574, 0.8595402298850574, 0.8595402298850574, 0.8595402298850574, 0.8595402298850574, 0.8595402298850574, 0.8595402298850574, 0.8595402298850574, 0.8595402298850574, 0.8595402298850574, 0.8595402298850574, 0.8595402298850574, 0.8595402298850574, 0.8595402298850574, 0.8595402298850574, 0.8595402298850574, 0.8595402298850574, 0.8595402298850574, 0.8595402298850574, 0.8595402298850574, 0.8595402298850574, 0.8595402298850574, 0.8595402298850574, 0.8595402298850574, 0.8595402298850574, 0.8595402298850574, 0.8595402298850574, 0.8595402298850574, 0.8595402298850574, 0.8595402298850574, 0.8762068965517242, 0.8762068965517242]}], \"recall_score_weighted\": [{\"categories\": [\"0\", \"1\", \"2\", \"3\", \"4\", \"5\", \"6\", \"7\", \"8\", \"9\", \"10\", \"11\", \"12\", \"13\", \"14\", \"15\", \"16\", \"17\", \"18\", \"19\", \"20\", \"21\", \"22\", \"23\", \"24\", \"25\", \"26\", \"27\", \"28\", \"29\", \"30\", \"31\", \"32\", \"36\", \"37\"], \"mode\": \"markers\", \"name\": \"recall_score_weighted\", \"stepped\": false, \"type\": \"scatter\", \"data\": [0.8359770114942527, 0.8358620689655172, 0.8595402298850574, 0.8325287356321841, 0.839080459770115, 0.8391954022988506, 0.8426436781609195, 0.7328735632183909, 0.8426436781609195, 0.8325287356321839, 0.8093103448275862, 0.8026436781609195, 0.7559770114942529, 0.8495402298850575, 0.8195402298850574, 0.8293103448275861, 0.8491954022988505, 0.8362068965517242, 0.8393103448275863, 0.8428735632183908, 0.8331034482758621, 0.8327586206896551, 0.8425287356321839, 0.7788505747126437, 0.8428735632183908, 0.7320689655172414, 0.7993103448275863, 0.7994252873563219, 0.8495402298850576, 0.8495402298850575, 0.8359770114942527, 0.822528735632184, 0.8493103448275863, 0.8762068965517242, 0.8562068965517243]}, {\"categories\": [\"0\", \"1\", \"2\", \"3\", \"4\", \"5\", \"6\", \"7\", \"8\", \"9\", \"10\", \"11\", \"12\", \"13\", \"14\", \"15\", \"16\", \"17\", \"18\", \"19\", \"20\", \"21\", \"22\", \"23\", \"24\", \"25\", \"26\", \"27\", \"28\", \"29\", \"30\", \"31\", \"32\", \"36\", \"37\"], \"mode\": \"lines\", \"name\": \"recall_score_weighted_max\", \"stepped\": true, \"type\": \"scatter\", \"data\": [0.8359770114942527, 0.8359770114942527, 0.8595402298850574, 0.8595402298850574, 0.8595402298850574, 0.8595402298850574, 0.8595402298850574, 0.8595402298850574, 0.8595402298850574, 0.8595402298850574, 0.8595402298850574, 0.8595402298850574, 0.8595402298850574, 0.8595402298850574, 0.8595402298850574, 0.8595402298850574, 0.8595402298850574, 0.8595402298850574, 0.8595402298850574, 0.8595402298850574, 0.8595402298850574, 0.8595402298850574, 0.8595402298850574, 0.8595402298850574, 0.8595402298850574, 0.8595402298850574, 0.8595402298850574, 0.8595402298850574, 0.8595402298850574, 0.8595402298850574, 0.8595402298850574, 0.8595402298850574, 0.8595402298850574, 0.8762068965517242, 0.8762068965517242]}], \"balanced_accuracy\": [{\"categories\": [\"0\", \"1\", \"2\", \"3\", \"4\", \"5\", \"6\", \"7\", \"8\", \"9\", \"10\", \"11\", \"12\", \"13\", \"14\", \"15\", \"16\", \"17\", \"18\", \"19\", \"20\", \"21\", \"22\", \"23\", \"24\", \"25\", \"26\", \"27\", \"28\", \"29\", \"30\", \"31\", \"32\", \"36\", \"37\"], \"mode\": \"markers\", \"name\": \"balanced_accuracy\", \"stepped\": false, \"type\": \"scatter\", \"data\": [0.8077082895810014, 0.8130249020938379, 0.8300340471567587, 0.7950350344735356, 0.8234140662922128, 0.8135974129163488, 0.820404145657292, 0.6500328794648017, 0.8155271615303079, 0.7885545690642944, 0.758680183247975, 0.7237428799270904, 0.6492251090506239, 0.810638899207835, 0.7603868201465456, 0.7872943285420402, 0.8253696845044098, 0.8095071398852862, 0.7992019669562576, 0.7864199551084562, 0.7631085639824198, 0.7978394764084124, 0.8119827892359357, 0.7402845891078156, 0.7828398998979663, 0.7474952549357583, 0.7149401790048242, 0.7126961095096107, 0.8128530045469405, 0.8156303902047609, 0.7910603183683846, 0.7878200375774747, 0.825745415498562, 0.8454608689048048, 0.820379700073636]}, {\"categories\": [\"0\", \"1\", \"2\", \"3\", \"4\", \"5\", \"6\", \"7\", \"8\", \"9\", \"10\", \"11\", \"12\", \"13\", \"14\", \"15\", \"16\", \"17\", \"18\", \"19\", \"20\", \"21\", \"22\", \"23\", \"24\", \"25\", \"26\", \"27\", \"28\", \"29\", \"30\", \"31\", \"32\", \"36\", \"37\"], \"mode\": \"lines\", \"name\": \"balanced_accuracy_max\", \"stepped\": true, \"type\": \"scatter\", \"data\": [0.8077082895810014, 0.8130249020938379, 0.8300340471567587, 0.8300340471567587, 0.8300340471567587, 0.8300340471567587, 0.8300340471567587, 0.8300340471567587, 0.8300340471567587, 0.8300340471567587, 0.8300340471567587, 0.8300340471567587, 0.8300340471567587, 0.8300340471567587, 0.8300340471567587, 0.8300340471567587, 0.8300340471567587, 0.8300340471567587, 0.8300340471567587, 0.8300340471567587, 0.8300340471567587, 0.8300340471567587, 0.8300340471567587, 0.8300340471567587, 0.8300340471567587, 0.8300340471567587, 0.8300340471567587, 0.8300340471567587, 0.8300340471567587, 0.8300340471567587, 0.8300340471567587, 0.8300340471567587, 0.8300340471567587, 0.8454608689048048, 0.8454608689048048]}], \"recall_score_macro\": [{\"categories\": [\"0\", \"1\", \"2\", \"3\", \"4\", \"5\", \"6\", \"7\", \"8\", \"9\", \"10\", \"11\", \"12\", \"13\", \"14\", \"15\", \"16\", \"17\", \"18\", \"19\", \"20\", \"21\", \"22\", \"23\", \"24\", \"25\", \"26\", \"27\", \"28\", \"29\", \"30\", \"31\", \"32\", \"36\", \"37\"], \"mode\": \"markers\", \"name\": \"recall_score_macro\", \"stepped\": false, \"type\": \"scatter\", \"data\": [0.8077082895810014, 0.8130249020938379, 0.8300340471567587, 0.7950350344735356, 0.8234140662922128, 0.8135974129163488, 0.820404145657292, 0.6500328794648017, 0.8155271615303079, 0.7885545690642944, 0.758680183247975, 0.7237428799270904, 0.6492251090506239, 0.810638899207835, 0.7603868201465456, 0.7872943285420402, 0.8253696845044098, 0.8095071398852862, 0.7992019669562576, 0.7864199551084562, 0.7631085639824198, 0.7978394764084124, 0.8119827892359357, 0.7402845891078156, 0.7828398998979663, 0.7474952549357583, 0.7149401790048242, 0.7126961095096107, 0.8128530045469405, 0.8156303902047609, 0.7910603183683846, 0.7878200375774747, 0.825745415498562, 0.8454608689048048, 0.820379700073636]}, {\"categories\": [\"0\", \"1\", \"2\", \"3\", \"4\", \"5\", \"6\", \"7\", \"8\", \"9\", \"10\", \"11\", \"12\", \"13\", \"14\", \"15\", \"16\", \"17\", \"18\", \"19\", \"20\", \"21\", \"22\", \"23\", \"24\", \"25\", \"26\", \"27\", \"28\", \"29\", \"30\", \"31\", \"32\", \"36\", \"37\"], \"mode\": \"lines\", \"name\": \"recall_score_macro_max\", \"stepped\": true, \"type\": \"scatter\", \"data\": [0.8077082895810014, 0.8130249020938379, 0.8300340471567587, 0.8300340471567587, 0.8300340471567587, 0.8300340471567587, 0.8300340471567587, 0.8300340471567587, 0.8300340471567587, 0.8300340471567587, 0.8300340471567587, 0.8300340471567587, 0.8300340471567587, 0.8300340471567587, 0.8300340471567587, 0.8300340471567587, 0.8300340471567587, 0.8300340471567587, 0.8300340471567587, 0.8300340471567587, 0.8300340471567587, 0.8300340471567587, 0.8300340471567587, 0.8300340471567587, 0.8300340471567587, 0.8300340471567587, 0.8300340471567587, 0.8300340471567587, 0.8300340471567587, 0.8300340471567587, 0.8300340471567587, 0.8300340471567587, 0.8300340471567587, 0.8454608689048048, 0.8454608689048048]}], \"norm_macro_recall\": [{\"categories\": [\"0\", \"1\", \"2\", \"3\", \"4\", \"5\", \"6\", \"7\", \"8\", \"9\", \"10\", \"11\", \"12\", \"13\", \"14\", \"15\", \"16\", \"17\", \"18\", \"19\", \"20\", \"21\", \"22\", \"23\", \"24\", \"25\", \"26\", \"27\", \"28\", \"29\", \"30\", \"31\", \"32\", \"36\", \"37\"], \"mode\": \"markers\", \"name\": \"norm_macro_recall\", \"stepped\": false, \"type\": \"scatter\", \"data\": [0.6154165791620023, 0.626049804187676, 0.6600680943135175, 0.5900700689470713, 0.6468281325844256, 0.6271948258326977, 0.6408082913145842, 0.31729063931237844, 0.6310543230606159, 0.5771091381285889, 0.5173603664959501, 0.4474857598541808, 0.29845021810124783, 0.6212777984156702, 0.5207736402930911, 0.5745886570840805, 0.6507393690088199, 0.6190142797705727, 0.598403933912515, 0.5728399102169125, 0.5262171279648397, 0.5956789528168247, 0.6239655784718714, 0.4805691782156313, 0.5656797997959325, 0.4949905098715167, 0.4298803580096486, 0.42539221901922125, 0.625706009093881, 0.6312607804095218, 0.5821206367367694, 0.5756400751549493, 0.6514908309971238, 0.6909217378096096, 0.6407594001472721]}, {\"categories\": [\"0\", \"1\", \"2\", \"3\", \"4\", \"5\", \"6\", \"7\", \"8\", \"9\", \"10\", \"11\", \"12\", \"13\", \"14\", \"15\", \"16\", \"17\", \"18\", \"19\", \"20\", \"21\", \"22\", \"23\", \"24\", \"25\", \"26\", \"27\", \"28\", \"29\", \"30\", \"31\", \"32\", \"36\", \"37\"], \"mode\": \"lines\", \"name\": \"norm_macro_recall_max\", \"stepped\": true, \"type\": \"scatter\", \"data\": [0.6154165791620023, 0.626049804187676, 0.6600680943135175, 0.6600680943135175, 0.6600680943135175, 0.6600680943135175, 0.6600680943135175, 0.6600680943135175, 0.6600680943135175, 0.6600680943135175, 0.6600680943135175, 0.6600680943135175, 0.6600680943135175, 0.6600680943135175, 0.6600680943135175, 0.6600680943135175, 0.6600680943135175, 0.6600680943135175, 0.6600680943135175, 0.6600680943135175, 0.6600680943135175, 0.6600680943135175, 0.6600680943135175, 0.6600680943135175, 0.6600680943135175, 0.6600680943135175, 0.6600680943135175, 0.6600680943135175, 0.6600680943135175, 0.6600680943135175, 0.6600680943135175, 0.6600680943135175, 0.6600680943135175, 0.6909217378096096, 0.6909217378096096]}]}, \"metricName\": null, \"primaryMetricName\": \"accuracy\", \"showLegend\": false}, \"run_metrics\": [{\"name\": \"experiment_status\", \"run_id\": \"AutoML_bad8b7b1-697e-402a-91c9-8730f9b52493\", \"categories\": [0, 1, 2, 3, 4, 5, 6, 7, 8, 9, 10, 11, 12, 13], \"series\": [{\"data\": [\"DatasetEvaluation\", \"FeaturesGeneration\", \"DatasetFeaturization\", \"DatasetFeaturizationCompleted\", \"DatasetCrossValidationSplit\", \"ModelSelection\", \"BestRunExplainModel\", \"ModelExplanationDataSetSetup\", \"PickSurrogateModel\", \"EngineeredFeatureExplanations\", \"EngineeredFeatureExplanations\", \"RawFeaturesExplanations\", \"RawFeaturesExplanations\", \"BestRunExplainModel\"]}]}, {\"name\": \"experiment_status_description\", \"run_id\": \"AutoML_bad8b7b1-697e-402a-91c9-8730f9b52493\", \"categories\": [0, 1, 2, 3, 4, 5, 6, 7, 8, 9, 10, 11, 12, 13], \"series\": [{\"data\": [\"Gathering dataset statistics.\", \"Generating features for the dataset.\", \"Beginning to fit featurizers and featurize the dataset.\", \"Completed fit featurizers and featurizing the dataset.\", \"Generating individually featurized CV splits.\", \"Beginning model selection.\", \"Best run model explanations started\", \"Model explanations data setup completed\", \"Choosing LightGBM as the surrogate model for explanations\", \"Computation of engineered features started\", \"Computation of engineered features completed\", \"Computation of raw features started\", \"Computation of raw features completed\", \"Best run model explanations completed\"]}]}, {\"name\": \"average_precision_score_macro\", \"run_id\": \"AutoML_bad8b7b1-697e-402a-91c9-8730f9b52493\", \"categories\": [0], \"series\": [{\"data\": [0.9020131687352985]}]}, {\"name\": \"f1_score_weighted\", \"run_id\": \"AutoML_bad8b7b1-697e-402a-91c9-8730f9b52493\", \"categories\": [0], \"series\": [{\"data\": [0.8719963534251892]}]}, {\"name\": \"average_precision_score_weighted\", \"run_id\": \"AutoML_bad8b7b1-697e-402a-91c9-8730f9b52493\", \"categories\": [0], \"series\": [{\"data\": [0.9274005670774113]}]}, {\"name\": \"matthews_correlation\", \"run_id\": \"AutoML_bad8b7b1-697e-402a-91c9-8730f9b52493\", \"categories\": [0], \"series\": [{\"data\": [0.7246893419636183]}]}, {\"name\": \"AUC_weighted\", \"run_id\": \"AutoML_bad8b7b1-697e-402a-91c9-8730f9b52493\", \"categories\": [0], \"series\": [{\"data\": [0.9125050639609565]}]}, {\"name\": \"accuracy\", \"run_id\": \"AutoML_bad8b7b1-697e-402a-91c9-8730f9b52493\", \"categories\": [0], \"series\": [{\"data\": [0.8762068965517242]}]}, {\"name\": \"f1_score_micro\", \"run_id\": \"AutoML_bad8b7b1-697e-402a-91c9-8730f9b52493\", \"categories\": [0], \"series\": [{\"data\": [0.8762068965517242]}]}, {\"name\": \"precision_score_macro\", \"run_id\": \"AutoML_bad8b7b1-697e-402a-91c9-8730f9b52493\", \"categories\": [0], \"series\": [{\"data\": [0.8829376138212455]}]}, {\"name\": \"recall_score_weighted\", \"run_id\": \"AutoML_bad8b7b1-697e-402a-91c9-8730f9b52493\", \"categories\": [0], \"series\": [{\"data\": [0.8762068965517242]}]}, {\"name\": \"precision_score_micro\", \"run_id\": \"AutoML_bad8b7b1-697e-402a-91c9-8730f9b52493\", \"categories\": [0], \"series\": [{\"data\": [0.8762068965517242]}]}, {\"name\": \"precision_score_weighted\", \"run_id\": \"AutoML_bad8b7b1-697e-402a-91c9-8730f9b52493\", \"categories\": [0], \"series\": [{\"data\": [0.8923286974647808]}]}, {\"name\": \"recall_score_micro\", \"run_id\": \"AutoML_bad8b7b1-697e-402a-91c9-8730f9b52493\", \"categories\": [0], \"series\": [{\"data\": [0.8762068965517242]}]}, {\"name\": \"norm_macro_recall\", \"run_id\": \"AutoML_bad8b7b1-697e-402a-91c9-8730f9b52493\", \"categories\": [0], \"series\": [{\"data\": [0.6909217378096096]}]}, {\"name\": \"weighted_accuracy\", \"run_id\": \"AutoML_bad8b7b1-697e-402a-91c9-8730f9b52493\", \"categories\": [0], \"series\": [{\"data\": [0.8955354852265893]}]}, {\"name\": \"AUC_macro\", \"run_id\": \"AutoML_bad8b7b1-697e-402a-91c9-8730f9b52493\", \"categories\": [0], \"series\": [{\"data\": [0.9125050639609565]}]}, {\"name\": \"balanced_accuracy\", \"run_id\": \"AutoML_bad8b7b1-697e-402a-91c9-8730f9b52493\", \"categories\": [0], \"series\": [{\"data\": [0.8454608689048048]}]}, {\"name\": \"AUC_micro\", \"run_id\": \"AutoML_bad8b7b1-697e-402a-91c9-8730f9b52493\", \"categories\": [0], \"series\": [{\"data\": [0.9227740784780023]}]}, {\"name\": \"average_precision_score_micro\", \"run_id\": \"AutoML_bad8b7b1-697e-402a-91c9-8730f9b52493\", \"categories\": [0], \"series\": [{\"data\": [0.9267420938784745]}]}, {\"name\": \"recall_score_macro\", \"run_id\": \"AutoML_bad8b7b1-697e-402a-91c9-8730f9b52493\", \"categories\": [0], \"series\": [{\"data\": [0.8454608689048048]}]}, {\"name\": \"log_loss\", \"run_id\": \"AutoML_bad8b7b1-697e-402a-91c9-8730f9b52493\", \"categories\": [0], \"series\": [{\"data\": [0.3478588717093275]}]}, {\"name\": \"f1_score_macro\", \"run_id\": \"AutoML_bad8b7b1-697e-402a-91c9-8730f9b52493\", \"categories\": [0], \"series\": [{\"data\": [0.849309570549831]}]}], \"run_logs\": \"\\nRun is completed.\", \"graph\": {}, \"widget_settings\": {\"childWidgetDisplay\": \"popup\", \"send_telemetry\": false, \"log_level\": \"INFO\", \"sdk_version\": \"1.20.0\"}, \"loading\": false}"
     },
     "metadata": {},
     "output_type": "display_data"
    },
    {
     "name": "stdout",
     "output_type": "stream",
     "text": [
      "\n",
      "Current status: FeaturesGeneration. Generating features for the dataset.\n",
      "Current status: ModelSelection. Beginning model selection.\n",
      "\n",
      "****************************************************************************************************\n",
      "DATA GUARDRAILS: \n",
      "\n",
      "TYPE:         Cross validation\n",
      "STATUS:       DONE\n",
      "DESCRIPTION:  Each iteration of the trained model was validated through cross-validation.\n",
      "              \n",
      "DETAILS:      \n",
      "+---------------------------------+\n",
      "|Number of folds                  |\n",
      "+=================================+\n",
      "|10                               |\n",
      "+---------------------------------+\n",
      "\n",
      "****************************************************************************************************\n",
      "\n",
      "TYPE:         Class balancing detection\n",
      "STATUS:       PASSED\n",
      "DESCRIPTION:  Your inputs were analyzed, and all classes are balanced in your training data.\n",
      "              Learn more about imbalanced data: https://aka.ms/AutomatedMLImbalancedData\n",
      "\n",
      "****************************************************************************************************\n",
      "\n",
      "TYPE:         Missing feature values imputation\n",
      "STATUS:       PASSED\n",
      "DESCRIPTION:  No feature missing values were detected in the training data.\n",
      "              Learn more about missing value imputation: https://aka.ms/AutomatedMLFeaturization\n",
      "\n",
      "****************************************************************************************************\n",
      "\n",
      "TYPE:         High cardinality feature detection\n",
      "STATUS:       PASSED\n",
      "DESCRIPTION:  Your inputs were analyzed, and no high cardinality features were detected.\n",
      "              Learn more about high cardinality feature handling: https://aka.ms/AutomatedMLFeaturization\n",
      "\n",
      "****************************************************************************************************\n",
      "\n",
      "****************************************************************************************************\n",
      "ITERATION: The iteration being evaluated.\n",
      "PIPELINE: A summary description of the pipeline being evaluated.\n",
      "DURATION: Time taken for the current iteration.\n",
      "METRIC: The result of computing score on the fitted pipeline.\n",
      "BEST: The best observed score thus far.\n",
      "****************************************************************************************************\n",
      "\n",
      " ITERATION   PIPELINE                                       DURATION      METRIC      BEST\n",
      "         0   MaxAbsScaler LightGBM                          0:00:49       0.8360    0.8360\n",
      "         1   MaxAbsScaler XGBoostClassifier                 0:00:54       0.8359    0.8360\n",
      "         2   MinMaxScaler RandomForest                      0:00:55       0.8595    0.8595\n",
      "         3   MinMaxScaler RandomForest                      0:00:56       0.8325    0.8595\n",
      "         7   MinMaxScaler SVM                               0:00:50       0.7329    0.8595\n",
      "         4   MinMaxScaler RandomForest                      0:02:27       0.8391    0.8595\n",
      "         5   SparseNormalizer XGBoostClassifier             0:02:23       0.8392    0.8595\n",
      "         6   StandardScalerWrapper XGBoostClassifier        0:02:22       0.8426    0.8595\n",
      "         8   MaxAbsScaler GradientBoosting                  0:00:49       0.8426    0.8595\n",
      "        10   SparseNormalizer XGBoostClassifier             0:00:50       0.8093    0.8595\n",
      "         9   StandardScalerWrapper LightGBM                 0:00:52       0.8325    0.8595\n",
      "        11   MinMaxScaler LightGBM                          0:00:52       0.8026    0.8595\n",
      "        12   SparseNormalizer LightGBM                      0:00:59       0.7560    0.8595\n",
      "        14   StandardScalerWrapper XGBoostClassifier        0:00:51       0.8195    0.8595\n",
      "        13   SparseNormalizer XGBoostClassifier             0:00:54       0.8495    0.8595\n",
      "        15   StandardScalerWrapper RandomForest             0:00:50       0.8293    0.8595\n",
      "        16   SparseNormalizer XGBoostClassifier             0:00:51       0.8492    0.8595\n",
      "        17   SparseNormalizer XGBoostClassifier             0:00:49       0.8362    0.8595\n",
      "        18   MaxAbsScaler LightGBM                          0:00:49       0.8393    0.8595\n",
      "        19   StandardScalerWrapper ExtremeRandomTrees       0:00:47       0.8429    0.8595\n",
      "        20   SparseNormalizer XGBoostClassifier             0:00:49       0.8331    0.8595\n",
      "        21   RobustScaler GradientBoosting                  0:00:55       0.8328    0.8595\n",
      "        22   RobustScaler LightGBM                          0:00:51       0.8425    0.8595\n",
      "        23   TruncatedSVDWrapper RandomForest               0:00:51       0.7789    0.8595\n",
      "        24   MaxAbsScaler ExtremeRandomTrees                0:00:54       0.8429    0.8595\n",
      "        25   MaxAbsScaler RandomForest                      0:00:52       0.7321    0.8595\n",
      "        26   MinMaxScaler LightGBM                          0:00:49       0.7993    0.8595\n",
      "        27   MaxAbsScaler ExtremeRandomTrees                0:00:51       0.7994    0.8595\n",
      "        28   MaxAbsScaler LightGBM                          0:00:48       0.8495    0.8595\n",
      "        29   MaxAbsScaler LightGBM                          0:00:48       0.8495    0.8595\n",
      "        31   MinMaxScaler LogisticRegression                0:00:48       0.8225    0.8595\n",
      "        32   MaxAbsScaler LightGBM                          0:00:48       0.8493    0.8595\n",
      "        30   MaxAbsScaler RandomForest                      0:00:52       0.8360    0.8595\n",
      "        33                                                  0:00:18          nan    0.8595\n",
      "        34                                                  0:00:18          nan    0.8595\n",
      "        35                                                  0:00:16          nan    0.8595\n",
      "        36    VotingEnsemble                                0:01:57       0.8762    0.8762\n",
      "        37    StackEnsemble                                 0:01:55       0.8562    0.8762\n"
     ]
    },
    {
     "data": {
      "text/plain": [
       "{'runId': 'AutoML_bad8b7b1-697e-402a-91c9-8730f9b52493',\n",
       " 'target': 'my-cpu-cluster',\n",
       " 'status': 'Completed',\n",
       " 'startTimeUtc': '2021-02-13T00:45:34.39659Z',\n",
       " 'endTimeUtc': '2021-02-13T01:08:03.154766Z',\n",
       " 'properties': {'num_iterations': '1000',\n",
       "  'training_type': 'TrainFull',\n",
       "  'acquisition_function': 'EI',\n",
       "  'primary_metric': 'accuracy',\n",
       "  'train_split': '0',\n",
       "  'acquisition_parameter': '0',\n",
       "  'num_cross_validation': None,\n",
       "  'target': 'my-cpu-cluster',\n",
       "  'AMLSettingsJsonString': '{\"path\":null,\"name\":\"automl_heart_failure_experiment\",\"subscription_id\":\"a0a76bad-11a1-4a2d-9887-97a29122c8ed\",\"resource_group\":\"aml-quickstarts-138754\",\"workspace_name\":\"quick-starts-ws-138754\",\"region\":\"southcentralus\",\"compute_target\":\"my-cpu-cluster\",\"spark_service\":null,\"azure_service\":\"remote\",\"many_models\":false,\"pipeline_fetch_max_batch_size\":1,\"iterations\":1000,\"primary_metric\":\"accuracy\",\"task_type\":\"classification\",\"data_script\":null,\"validation_size\":0.0,\"n_cross_validations\":null,\"y_min\":null,\"y_max\":null,\"num_classes\":null,\"featurization\":\"auto\",\"_ignore_package_version_incompatibilities\":false,\"is_timeseries\":false,\"max_cores_per_iteration\":1,\"max_concurrent_iterations\":4,\"iteration_timeout_minutes\":null,\"mem_in_mb\":null,\"enforce_time_on_windows\":false,\"experiment_timeout_minutes\":30,\"experiment_exit_score\":null,\"whitelist_models\":null,\"blacklist_algos\":[\"TensorFlowLinearClassifier\",\"TensorFlowDNN\"],\"supported_models\":[\"SGD\",\"TensorFlowLinearClassifier\",\"BernoulliNaiveBayes\",\"AveragedPerceptronClassifier\",\"XGBoostClassifier\",\"TensorFlowDNN\",\"LogisticRegression\",\"MultinomialNaiveBayes\",\"KNN\",\"RandomForest\",\"DecisionTree\",\"ExtremeRandomTrees\",\"LightGBM\",\"SVM\",\"LinearSVM\",\"GradientBoosting\"],\"auto_blacklist\":true,\"blacklist_samples_reached\":false,\"exclude_nan_labels\":true,\"verbosity\":20,\"_debug_log\":\"azureml_automl.log\",\"show_warnings\":false,\"model_explainability\":true,\"service_url\":null,\"sdk_url\":null,\"sdk_packages\":null,\"enable_onnx_compatible_models\":false,\"enable_split_onnx_featurizer_estimator_models\":false,\"vm_type\":\"STANDARD_D3_V2\",\"telemetry_verbosity\":20,\"send_telemetry\":true,\"enable_dnn\":false,\"scenario\":\"SDK-1.13.0\",\"environment_label\":null,\"force_text_dnn\":false,\"enable_feature_sweeping\":true,\"enable_early_stopping\":true,\"early_stopping_n_iters\":10,\"metrics\":null,\"enable_ensembling\":true,\"enable_stack_ensembling\":true,\"ensemble_iterations\":15,\"enable_tf\":false,\"enable_subsampling\":null,\"subsample_seed\":null,\"enable_nimbusml\":false,\"enable_streaming\":false,\"force_streaming\":false,\"track_child_runs\":true,\"allowed_private_models\":[],\"label_column_name\":\"DEATH_EVENT\",\"weight_column_name\":null,\"cv_split_column_names\":null,\"enable_local_managed\":false,\"_local_managed_run_id\":null,\"cost_mode\":1,\"lag_length\":0,\"metric_operation\":\"maximize\",\"preprocess\":true}',\n",
       "  'DataPrepJsonString': '{\\\\\"training_data\\\\\": \\\\\"{\\\\\\\\\\\\\"blocks\\\\\\\\\\\\\": [{\\\\\\\\\\\\\"id\\\\\\\\\\\\\": \\\\\\\\\\\\\"bd93aa91-a5c7-47c1-a4c8-31df9d2c97ae\\\\\\\\\\\\\", \\\\\\\\\\\\\"type\\\\\\\\\\\\\": \\\\\\\\\\\\\"Microsoft.DPrep.GetDatastoreFilesBlock\\\\\\\\\\\\\", \\\\\\\\\\\\\"arguments\\\\\\\\\\\\\": {\\\\\\\\\\\\\"datastores\\\\\\\\\\\\\": [{\\\\\\\\\\\\\"datastoreName\\\\\\\\\\\\\": \\\\\\\\\\\\\"workspaceblobstore\\\\\\\\\\\\\", \\\\\\\\\\\\\"path\\\\\\\\\\\\\": \\\\\\\\\\\\\"UI/02-13-2021_124405_UTC/heart_failure_clinical_records_dataset.csv\\\\\\\\\\\\\", \\\\\\\\\\\\\"resourceGroup\\\\\\\\\\\\\": \\\\\\\\\\\\\"aml-quickstarts-138754\\\\\\\\\\\\\", \\\\\\\\\\\\\"subscription\\\\\\\\\\\\\": \\\\\\\\\\\\\"a0a76bad-11a1-4a2d-9887-97a29122c8ed\\\\\\\\\\\\\", \\\\\\\\\\\\\"workspaceName\\\\\\\\\\\\\": \\\\\\\\\\\\\"quick-starts-ws-138754\\\\\\\\\\\\\"}]}, \\\\\\\\\\\\\"localData\\\\\\\\\\\\\": {}, \\\\\\\\\\\\\"isEnabled\\\\\\\\\\\\\": true, \\\\\\\\\\\\\"name\\\\\\\\\\\\\": null, \\\\\\\\\\\\\"annotation\\\\\\\\\\\\\": null}, {\\\\\\\\\\\\\"id\\\\\\\\\\\\\": \\\\\\\\\\\\\"3a72a6b4-d0fa-4a86-9fad-af2e8caf1065\\\\\\\\\\\\\", \\\\\\\\\\\\\"type\\\\\\\\\\\\\": \\\\\\\\\\\\\"Microsoft.DPrep.ParseDelimitedBlock\\\\\\\\\\\\\", \\\\\\\\\\\\\"arguments\\\\\\\\\\\\\": {\\\\\\\\\\\\\"columnHeadersMode\\\\\\\\\\\\\": 1, \\\\\\\\\\\\\"fileEncoding\\\\\\\\\\\\\": 0, \\\\\\\\\\\\\"handleQuotedLineBreaks\\\\\\\\\\\\\": false, \\\\\\\\\\\\\"preview\\\\\\\\\\\\\": false, \\\\\\\\\\\\\"separator\\\\\\\\\\\\\": \\\\\\\\\\\\\",\\\\\\\\\\\\\", \\\\\\\\\\\\\"skipRows\\\\\\\\\\\\\": 0, \\\\\\\\\\\\\"skipRowsMode\\\\\\\\\\\\\": 0}, \\\\\\\\\\\\\"localData\\\\\\\\\\\\\": {}, \\\\\\\\\\\\\"isEnabled\\\\\\\\\\\\\": true, \\\\\\\\\\\\\"name\\\\\\\\\\\\\": null, \\\\\\\\\\\\\"annotation\\\\\\\\\\\\\": null}, {\\\\\\\\\\\\\"id\\\\\\\\\\\\\": \\\\\\\\\\\\\"651d3115-6242-4c44-a439-68cb757563df\\\\\\\\\\\\\", \\\\\\\\\\\\\"type\\\\\\\\\\\\\": \\\\\\\\\\\\\"Microsoft.DPrep.DropColumnsBlock\\\\\\\\\\\\\", \\\\\\\\\\\\\"arguments\\\\\\\\\\\\\": {\\\\\\\\\\\\\"columns\\\\\\\\\\\\\": {\\\\\\\\\\\\\"type\\\\\\\\\\\\\": 0, \\\\\\\\\\\\\"details\\\\\\\\\\\\\": {\\\\\\\\\\\\\"selectedColumns\\\\\\\\\\\\\": [\\\\\\\\\\\\\"Path\\\\\\\\\\\\\"]}}}, \\\\\\\\\\\\\"localData\\\\\\\\\\\\\": {}, \\\\\\\\\\\\\"isEnabled\\\\\\\\\\\\\": true, \\\\\\\\\\\\\"name\\\\\\\\\\\\\": null, \\\\\\\\\\\\\"annotation\\\\\\\\\\\\\": null}, {\\\\\\\\\\\\\"id\\\\\\\\\\\\\": \\\\\\\\\\\\\"448c613a-8d81-48be-890e-71b2bfec0a1e\\\\\\\\\\\\\", \\\\\\\\\\\\\"type\\\\\\\\\\\\\": \\\\\\\\\\\\\"Microsoft.DPrep.SetColumnTypesBlock\\\\\\\\\\\\\", \\\\\\\\\\\\\"arguments\\\\\\\\\\\\\": {\\\\\\\\\\\\\"columnConversion\\\\\\\\\\\\\": [{\\\\\\\\\\\\\"column\\\\\\\\\\\\\": {\\\\\\\\\\\\\"type\\\\\\\\\\\\\": 2, \\\\\\\\\\\\\"details\\\\\\\\\\\\\": {\\\\\\\\\\\\\"selectedColumn\\\\\\\\\\\\\": \\\\\\\\\\\\\"Path\\\\\\\\\\\\\"}}, \\\\\\\\\\\\\"typeProperty\\\\\\\\\\\\\": 0}, {\\\\\\\\\\\\\"column\\\\\\\\\\\\\": {\\\\\\\\\\\\\"type\\\\\\\\\\\\\": 2, \\\\\\\\\\\\\"details\\\\\\\\\\\\\": {\\\\\\\\\\\\\"selectedColumn\\\\\\\\\\\\\": \\\\\\\\\\\\\"age\\\\\\\\\\\\\"}}, \\\\\\\\\\\\\"typeProperty\\\\\\\\\\\\\": 3}, {\\\\\\\\\\\\\"column\\\\\\\\\\\\\": {\\\\\\\\\\\\\"type\\\\\\\\\\\\\": 2, \\\\\\\\\\\\\"details\\\\\\\\\\\\\": {\\\\\\\\\\\\\"selectedColumn\\\\\\\\\\\\\": \\\\\\\\\\\\\"anaemia\\\\\\\\\\\\\"}}, \\\\\\\\\\\\\"typeProperty\\\\\\\\\\\\\": 2}, {\\\\\\\\\\\\\"column\\\\\\\\\\\\\": {\\\\\\\\\\\\\"type\\\\\\\\\\\\\": 2, \\\\\\\\\\\\\"details\\\\\\\\\\\\\": {\\\\\\\\\\\\\"selectedColumn\\\\\\\\\\\\\": \\\\\\\\\\\\\"creatinine_phosphokinase\\\\\\\\\\\\\"}}, \\\\\\\\\\\\\"typeProperty\\\\\\\\\\\\\": 2}, {\\\\\\\\\\\\\"column\\\\\\\\\\\\\": {\\\\\\\\\\\\\"type\\\\\\\\\\\\\": 2, \\\\\\\\\\\\\"details\\\\\\\\\\\\\": {\\\\\\\\\\\\\"selectedColumn\\\\\\\\\\\\\": \\\\\\\\\\\\\"diabetes\\\\\\\\\\\\\"}}, \\\\\\\\\\\\\"typeProperty\\\\\\\\\\\\\": 2}, {\\\\\\\\\\\\\"column\\\\\\\\\\\\\": {\\\\\\\\\\\\\"type\\\\\\\\\\\\\": 2, \\\\\\\\\\\\\"details\\\\\\\\\\\\\": {\\\\\\\\\\\\\"selectedColumn\\\\\\\\\\\\\": \\\\\\\\\\\\\"ejection_fraction\\\\\\\\\\\\\"}}, \\\\\\\\\\\\\"typeProperty\\\\\\\\\\\\\": 2}, {\\\\\\\\\\\\\"column\\\\\\\\\\\\\": {\\\\\\\\\\\\\"type\\\\\\\\\\\\\": 2, \\\\\\\\\\\\\"details\\\\\\\\\\\\\": {\\\\\\\\\\\\\"selectedColumn\\\\\\\\\\\\\": \\\\\\\\\\\\\"high_blood_pressure\\\\\\\\\\\\\"}}, \\\\\\\\\\\\\"typeProperty\\\\\\\\\\\\\": 2}, {\\\\\\\\\\\\\"column\\\\\\\\\\\\\": {\\\\\\\\\\\\\"type\\\\\\\\\\\\\": 2, \\\\\\\\\\\\\"details\\\\\\\\\\\\\": {\\\\\\\\\\\\\"selectedColumn\\\\\\\\\\\\\": \\\\\\\\\\\\\"platelets\\\\\\\\\\\\\"}}, \\\\\\\\\\\\\"typeProperty\\\\\\\\\\\\\": 3}, {\\\\\\\\\\\\\"column\\\\\\\\\\\\\": {\\\\\\\\\\\\\"type\\\\\\\\\\\\\": 2, \\\\\\\\\\\\\"details\\\\\\\\\\\\\": {\\\\\\\\\\\\\"selectedColumn\\\\\\\\\\\\\": \\\\\\\\\\\\\"serum_creatinine\\\\\\\\\\\\\"}}, \\\\\\\\\\\\\"typeProperty\\\\\\\\\\\\\": 3}, {\\\\\\\\\\\\\"column\\\\\\\\\\\\\": {\\\\\\\\\\\\\"type\\\\\\\\\\\\\": 2, \\\\\\\\\\\\\"details\\\\\\\\\\\\\": {\\\\\\\\\\\\\"selectedColumn\\\\\\\\\\\\\": \\\\\\\\\\\\\"serum_sodium\\\\\\\\\\\\\"}}, \\\\\\\\\\\\\"typeProperty\\\\\\\\\\\\\": 2}, {\\\\\\\\\\\\\"column\\\\\\\\\\\\\": {\\\\\\\\\\\\\"type\\\\\\\\\\\\\": 2, \\\\\\\\\\\\\"details\\\\\\\\\\\\\": {\\\\\\\\\\\\\"selectedColumn\\\\\\\\\\\\\": \\\\\\\\\\\\\"sex\\\\\\\\\\\\\"}}, \\\\\\\\\\\\\"typeProperty\\\\\\\\\\\\\": 2}, {\\\\\\\\\\\\\"column\\\\\\\\\\\\\": {\\\\\\\\\\\\\"type\\\\\\\\\\\\\": 2, \\\\\\\\\\\\\"details\\\\\\\\\\\\\": {\\\\\\\\\\\\\"selectedColumn\\\\\\\\\\\\\": \\\\\\\\\\\\\"smoking\\\\\\\\\\\\\"}}, \\\\\\\\\\\\\"typeProperty\\\\\\\\\\\\\": 2}, {\\\\\\\\\\\\\"column\\\\\\\\\\\\\": {\\\\\\\\\\\\\"type\\\\\\\\\\\\\": 2, \\\\\\\\\\\\\"details\\\\\\\\\\\\\": {\\\\\\\\\\\\\"selectedColumn\\\\\\\\\\\\\": \\\\\\\\\\\\\"time\\\\\\\\\\\\\"}}, \\\\\\\\\\\\\"typeProperty\\\\\\\\\\\\\": 2}, {\\\\\\\\\\\\\"column\\\\\\\\\\\\\": {\\\\\\\\\\\\\"type\\\\\\\\\\\\\": 2, \\\\\\\\\\\\\"details\\\\\\\\\\\\\": {\\\\\\\\\\\\\"selectedColumn\\\\\\\\\\\\\": \\\\\\\\\\\\\"DEATH_EVENT\\\\\\\\\\\\\"}}, \\\\\\\\\\\\\"typeProperty\\\\\\\\\\\\\": 2}]}, \\\\\\\\\\\\\"localData\\\\\\\\\\\\\": {}, \\\\\\\\\\\\\"isEnabled\\\\\\\\\\\\\": true, \\\\\\\\\\\\\"name\\\\\\\\\\\\\": null, \\\\\\\\\\\\\"annotation\\\\\\\\\\\\\": null}], \\\\\\\\\\\\\"inspectors\\\\\\\\\\\\\": [], \\\\\\\\\\\\\"meta\\\\\\\\\\\\\": {\\\\\\\\\\\\\"savedDatasetId\\\\\\\\\\\\\": \\\\\\\\\\\\\"4db5ea7c-968e-4fc0-a256-61d246c577c5\\\\\\\\\\\\\", \\\\\\\\\\\\\"datasetType\\\\\\\\\\\\\": \\\\\\\\\\\\\"tabular\\\\\\\\\\\\\", \\\\\\\\\\\\\"subscriptionId\\\\\\\\\\\\\": \\\\\\\\\\\\\"a0a76bad-11a1-4a2d-9887-97a29122c8ed\\\\\\\\\\\\\", \\\\\\\\\\\\\"workspaceId\\\\\\\\\\\\\": \\\\\\\\\\\\\"4eda3621-5c55-44df-b29b-e4473297281a\\\\\\\\\\\\\", \\\\\\\\\\\\\"workspaceLocation\\\\\\\\\\\\\": \\\\\\\\\\\\\"southcentralus\\\\\\\\\\\\\"}}\\\\\", \\\\\"activities\\\\\": 0}',\n",
       "  'EnableSubsampling': None,\n",
       "  'runTemplate': 'AutoML',\n",
       "  'azureml.runsource': 'automl',\n",
       "  'display_task_type': 'classification',\n",
       "  'dependencies_versions': '{\"azureml-widgets\": \"1.20.0\", \"azureml-train\": \"1.20.0\", \"azureml-train-restclients-hyperdrive\": \"1.20.0\", \"azureml-train-core\": \"1.20.0\", \"azureml-train-automl\": \"1.20.0\", \"azureml-train-automl-runtime\": \"1.20.0\", \"azureml-train-automl-client\": \"1.20.0\", \"azureml-tensorboard\": \"1.20.0\", \"azureml-telemetry\": \"1.20.0\", \"azureml-sdk\": \"1.20.0\", \"azureml-samples\": \"0+unknown\", \"azureml-pipeline\": \"1.20.0\", \"azureml-pipeline-steps\": \"1.20.0\", \"azureml-pipeline-core\": \"1.20.0\", \"azureml-opendatasets\": \"1.20.0\", \"azureml-model-management-sdk\": \"1.0.1b6.post1\", \"azureml-mlflow\": \"1.20.0.post1\", \"azureml-interpret\": \"1.20.0\", \"azureml-explain-model\": \"1.20.0\", \"azureml-defaults\": \"1.20.0\", \"azureml-dataset-runtime\": \"1.20.0\", \"azureml-dataprep\": \"2.7.3\", \"azureml-dataprep-rslex\": \"1.5.0\", \"azureml-dataprep-native\": \"27.0.0\", \"azureml-datadrift\": \"1.20.0\", \"azureml-core\": \"1.20.0\", \"azureml-contrib-services\": \"1.20.0\", \"azureml-contrib-server\": \"1.20.0\", \"azureml-contrib-reinforcementlearning\": \"1.20.0\", \"azureml-contrib-pipeline-steps\": \"1.20.0\", \"azureml-contrib-notebook\": \"1.20.0\", \"azureml-contrib-interpret\": \"1.20.0\", \"azureml-contrib-gbdt\": \"1.20.0\", \"azureml-contrib-fairness\": \"1.20.0\", \"azureml-contrib-dataset\": \"1.20.0\", \"azureml-cli-common\": \"1.20.0\", \"azureml-automl-runtime\": \"1.20.0\", \"azureml-automl-core\": \"1.20.0\", \"azureml-accel-models\": \"1.20.0\"}',\n",
       "  '_aml_system_scenario_identification': 'Remote.Parent',\n",
       "  'ClientType': 'SDK',\n",
       "  'environment_cpu_name': 'AzureML-AutoML',\n",
       "  'environment_cpu_label': 'prod',\n",
       "  'environment_gpu_name': 'AzureML-AutoML-GPU',\n",
       "  'environment_gpu_label': 'prod',\n",
       "  'root_attribution': 'automl',\n",
       "  'attribution': 'AutoML',\n",
       "  'Orchestrator': 'AutoML',\n",
       "  'CancelUri': 'https://southcentralus.experiments.azureml.net/jasmine/v1.0/subscriptions/a0a76bad-11a1-4a2d-9887-97a29122c8ed/resourceGroups/aml-quickstarts-138754/providers/Microsoft.MachineLearningServices/workspaces/quick-starts-ws-138754/experimentids/43a09711-b227-4d5d-924f-1e4c9b07e2f0/cancel/AutoML_bad8b7b1-697e-402a-91c9-8730f9b52493',\n",
       "  'ClientSdkVersion': '1.21.0',\n",
       "  'snapshotId': '00000000-0000-0000-0000-000000000000',\n",
       "  'SetupRunId': 'AutoML_bad8b7b1-697e-402a-91c9-8730f9b52493_setup',\n",
       "  'SetupRunContainerId': 'dcid.AutoML_bad8b7b1-697e-402a-91c9-8730f9b52493_setup',\n",
       "  'FeaturizationRunJsonPath': 'featurizer_container.json',\n",
       "  'FeaturizationRunId': 'AutoML_bad8b7b1-697e-402a-91c9-8730f9b52493_featurize',\n",
       "  'ProblemInfoJsonString': '{\"dataset_num_categorical\": 0, \"is_sparse\": false, \"subsampling\": false, \"dataset_classes\": 2, \"dataset_features\": 12, \"dataset_samples\": 299, \"single_frequency_class_detected\": false}',\n",
       "  'ModelExplainRunId': 'AutoML_bad8b7b1-697e-402a-91c9-8730f9b52493_ModelExplain'},\n",
       " 'inputDatasets': [{'dataset': {'id': '4db5ea7c-968e-4fc0-a256-61d246c577c5'}, 'consumptionDetails': {'type': 'RunInput', 'inputName': 'training_data', 'mechanism': 'Direct'}}],\n",
       " 'outputDatasets': [],\n",
       " 'logFiles': {},\n",
       " 'submittedBy': 'ODL_User 138754'}"
      ]
     },
     "execution_count": 11,
     "metadata": {},
     "output_type": "execute_result"
    }
   ],
   "source": [
    "RunDetails(remote_run).show()\n",
    "remote_run.wait_for_completion(show_output=True)"
   ]
  },
  {
   "cell_type": "markdown",
   "metadata": {},
   "source": [
    "## Best Model\n",
    "\n",
    "Getting the best model from the automl experiments and displaying all the properties of the model."
   ]
  },
  {
   "cell_type": "code",
   "execution_count": 12,
   "metadata": {
    "gather": {
     "logged": 1598431425670
    },
    "jupyter": {
     "outputs_hidden": false,
     "source_hidden": false
    },
    "nteract": {
     "transient": {
      "deleting": false
     }
    }
   },
   "outputs": [
    {
     "name": "stderr",
     "output_type": "stream",
     "text": [
      "WARNING:root:The version of the SDK does not match the version the model was trained on.\n",
      "WARNING:root:The consistency in the result may not be guaranteed.\n",
      "WARNING:root:Package:azureml-automl-core, training version:1.21.0, current version:1.20.0\n",
      "Package:azureml-automl-runtime, training version:1.21.0, current version:1.20.0\n",
      "Package:azureml-core, training version:1.21.0.post1, current version:1.20.0\n",
      "Package:azureml-dataprep, training version:2.8.2, current version:2.7.3\n",
      "Package:azureml-dataprep-native, training version:28.0.0, current version:27.0.0\n",
      "Package:azureml-dataprep-rslex, training version:1.6.0, current version:1.5.0\n",
      "Package:azureml-dataset-runtime, training version:1.21.0, current version:1.20.0\n",
      "Package:azureml-defaults, training version:1.21.0, current version:1.20.0\n",
      "Package:azureml-interpret, training version:1.21.0, current version:1.20.0\n",
      "Package:azureml-pipeline-core, training version:1.21.0, current version:1.20.0\n",
      "Package:azureml-telemetry, training version:1.21.0, current version:1.20.0\n",
      "Package:azureml-train-automl-client, training version:1.21.0, current version:1.20.0\n",
      "Package:azureml-train-automl-runtime, training version:1.21.0, current version:1.20.0\n",
      "WARNING:root:Please ensure the version of your local conda dependencies match the version on which your model was trained in order to properly retrieve your model.\n"
     ]
    }
   ],
   "source": [
    "# Retrieve and save the best automl model.\n",
    "automl_best_run, fitted_automl_best_model = remote_run.get_output()\n",
    "best_run_metrics = automl_best_run.get_metrics()\n"
   ]
  },
  {
   "cell_type": "code",
   "execution_count": 13,
   "metadata": {},
   "outputs": [
    {
     "name": "stdout",
     "output_type": "stream",
     "text": [
      "=========================== Best Run ID ===========================\n",
      "AutoML_bad8b7b1-697e-402a-91c9-8730f9b52493_36\n",
      "=========================== Best Run ===========================\n",
      "Run(Experiment: automl_heart_failure_experiment,\n",
      "Id: AutoML_bad8b7b1-697e-402a-91c9-8730f9b52493_36,\n",
      "Type: azureml.scriptrun,\n",
      "Status: Completed)\n",
      "=========================== Best Model ===========================\n",
      "Pipeline(memory=None,\n",
      "         steps=[('datatransformer',\n",
      "                 DataTransformer(enable_dnn=None, enable_feature_sweeping=None,\n",
      "                                 feature_sweeping_config=None,\n",
      "                                 feature_sweeping_timeout=None,\n",
      "                                 featurization_config=None, force_text_dnn=None,\n",
      "                                 is_cross_validation=None,\n",
      "                                 is_onnx_compatible=None, logger=None,\n",
      "                                 observer=None, task=None, working_dir=None)),\n",
      "                ('prefittedsoftvotingclassifier',...\n",
      "                                                                                                n_estimators=50,\n",
      "                                                                                                n_jobs=1,\n",
      "                                                                                                num_leaves=44,\n",
      "                                                                                                objective=None,\n",
      "                                                                                                random_state=None,\n",
      "                                                                                                reg_alpha=0,\n",
      "                                                                                                reg_lambda=0.8421052631578947,\n",
      "                                                                                                silent=True,\n",
      "                                                                                                subsample=1,\n",
      "                                                                                                subsample_for_bin=200000,\n",
      "                                                                                                subsample_freq=0,\n",
      "                                                                                                verbose=-10))],\n",
      "                                                                     verbose=False))],\n",
      "                                               flatten_transform=None,\n",
      "                                               weights=[0.16666666666666666,\n",
      "                                                        0.16666666666666666,\n",
      "                                                        0.3333333333333333,\n",
      "                                                        0.16666666666666666,\n",
      "                                                        0.16666666666666666]))],\n",
      "         verbose=False)\n",
      "=========================== Best Run File Names ===========================\n",
      "['accuracy_table', 'automl_driver.py', 'azureml-logs/55_azureml-execution-tvmps_4793262fcd4805ad7c46e9702f2f4b5ae535c1ea98c375b5770146e315188004_d.txt', 'azureml-logs/65_job_prep-tvmps_4793262fcd4805ad7c46e9702f2f4b5ae535c1ea98c375b5770146e315188004_d.txt', 'azureml-logs/70_driver_log.txt', 'azureml-logs/75_job_post-tvmps_4793262fcd4805ad7c46e9702f2f4b5ae535c1ea98c375b5770146e315188004_d.txt', 'azureml-logs/process_info.json', 'azureml-logs/process_status.json', 'confusion_matrix', 'logs/azureml/106_azureml.log', 'logs/azureml/azureml_automl.log', 'logs/azureml/job_prep_azureml.log', 'logs/azureml/job_release_azureml.log', 'outputs/conda_env_v_1_0_0.yml', 'outputs/env_dependencies.json', 'outputs/internal_cross_validated_models.pkl', 'outputs/model.pkl', 'outputs/pipeline_graph.json', 'outputs/scoring_file_v_1_0_0.py']\n",
      "=========================== Best Run Metrics ===========================\n",
      "{'log_loss': 0.3478588717093275, 'f1_score_macro': 0.849309570549831, 'precision_score_macro': 0.8829376138212455, 'accuracy': 0.8762068965517242, 'recall_score_weighted': 0.8762068965517242, 'recall_score_micro': 0.8762068965517242, 'balanced_accuracy': 0.8454608689048048, 'norm_macro_recall': 0.6909217378096096, 'AUC_weighted': 0.9125050639609565, 'average_precision_score_weighted': 0.9274005670774113, 'AUC_macro': 0.9125050639609565, 'average_precision_score_micro': 0.9267420938784745, 'f1_score_weighted': 0.8719963534251892, 'matthews_correlation': 0.7246893419636183, 'f1_score_micro': 0.8762068965517242, 'precision_score_weighted': 0.8923286974647808, 'AUC_micro': 0.9227740784780023, 'precision_score_micro': 0.8762068965517242, 'recall_score_macro': 0.8454608689048048, 'weighted_accuracy': 0.8955354852265893, 'average_precision_score_macro': 0.9020131687352985, 'accuracy_table': 'aml://artifactId/ExperimentRun/dcid.AutoML_bad8b7b1-697e-402a-91c9-8730f9b52493_36/accuracy_table', 'confusion_matrix': 'aml://artifactId/ExperimentRun/dcid.AutoML_bad8b7b1-697e-402a-91c9-8730f9b52493_36/confusion_matrix'}\n"
     ]
    }
   ],
   "source": [
    "print('=========================== Best Run ID ===========================')\n",
    "print(automl_best_run.id)\n",
    "print('=========================== Best Run ===========================')\n",
    "print(automl_best_run)\n",
    "print('=========================== Best Model ===========================')\n",
    "print(fitted_automl_best_model)\n",
    "print('=========================== Best Run File Names ===========================')\n",
    "print(automl_best_run.get_file_names())\n",
    "print('=========================== Best Run Metrics ===========================')\n",
    "print(best_run_metrics)"
   ]
  },
  {
   "cell_type": "code",
   "execution_count": 14,
   "metadata": {},
   "outputs": [
    {
     "name": "stdout",
     "output_type": "stream",
     "text": [
      "log_loss 0.3478588717093275\n",
      "f1_score_macro 0.849309570549831\n",
      "precision_score_macro 0.8829376138212455\n",
      "accuracy 0.8762068965517242\n",
      "recall_score_weighted 0.8762068965517242\n",
      "recall_score_micro 0.8762068965517242\n",
      "balanced_accuracy 0.8454608689048048\n",
      "norm_macro_recall 0.6909217378096096\n",
      "AUC_weighted 0.9125050639609565\n",
      "average_precision_score_weighted 0.9274005670774113\n",
      "AUC_macro 0.9125050639609565\n",
      "average_precision_score_micro 0.9267420938784745\n",
      "f1_score_weighted 0.8719963534251892\n",
      "matthews_correlation 0.7246893419636183\n",
      "f1_score_micro 0.8762068965517242\n",
      "precision_score_weighted 0.8923286974647808\n",
      "AUC_micro 0.9227740784780023\n",
      "precision_score_micro 0.8762068965517242\n",
      "recall_score_macro 0.8454608689048048\n",
      "weighted_accuracy 0.8955354852265893\n",
      "average_precision_score_macro 0.9020131687352985\n",
      "accuracy_table aml://artifactId/ExperimentRun/dcid.AutoML_bad8b7b1-697e-402a-91c9-8730f9b52493_36/accuracy_table\n",
      "confusion_matrix aml://artifactId/ExperimentRun/dcid.AutoML_bad8b7b1-697e-402a-91c9-8730f9b52493_36/confusion_matrix\n",
      "\n",
      "Accuracy of Best Run\n",
      "0.8762068965517242\n",
      "Run(Experiment: automl_heart_failure_experiment,\n",
      "Id: AutoML_bad8b7b1-697e-402a-91c9-8730f9b52493_36,\n",
      "Type: azureml.scriptrun,\n",
      "Status: Completed)\n"
     ]
    }
   ],
   "source": [
    "# Metric in best run\n",
    "\n",
    "for metric_name in best_run_metrics:\n",
    "    metric = best_run_metrics[metric_name]\n",
    "    print(metric_name, metric)\n",
    "    \n",
    "print('\\nAccuracy of Best Run',best_run_metrics['accuracy'],sep='\\n')\n",
    "print(automl_best_run)"
   ]
  },
  {
   "cell_type": "code",
   "execution_count": 15,
   "metadata": {},
   "outputs": [
    {
     "name": "stdout",
     "output_type": "stream",
     "text": [
      "=========================== Best Run Properties ===========================\n"
     ]
    },
    {
     "data": {
      "text/plain": [
       "'AutoMLbad8b7b1636'"
      ]
     },
     "execution_count": 15,
     "metadata": {},
     "output_type": "execute_result"
    }
   ],
   "source": [
    "print('=========================== Best Run Properties ===========================')\n",
    "model_name = automl_best_run.properties['model_name']\n",
    "model_name"
   ]
  },
  {
   "cell_type": "code",
   "execution_count": 16,
   "metadata": {
    "gather": {
     "logged": 1598431426111
    },
    "jupyter": {
     "outputs_hidden": false,
     "source_hidden": false
    },
    "nteract": {
     "transient": {
      "deleting": false
     }
    }
   },
   "outputs": [
    {
     "data": {
      "text/plain": [
       "['outputs/automl_best_model.joblib']"
      ]
     },
     "execution_count": 16,
     "metadata": {},
     "output_type": "execute_result"
    }
   ],
   "source": [
    "#TODO: Save the best model\n",
    "\n",
    "os.makedirs('./outputs', exist_ok=True)\n",
    "joblib.dump(fitted_automl_best_model, filename='outputs/automl_best_model.joblib')"
   ]
  },
  {
   "cell_type": "markdown",
   "metadata": {},
   "source": [
    "## Model Deployment\n",
    "\n",
    "We have to deploy only one of the two models we trained.\n",
    "\n",
    "In the cell below, register the model, create an inference config and deploy the model as a web service."
   ]
  },
  {
   "cell_type": "code",
   "execution_count": 17,
   "metadata": {
    "gather": {
     "logged": 1598431435189
    },
    "jupyter": {
     "outputs_hidden": false,
     "source_hidden": false
    },
    "nteract": {
     "transient": {
      "deleting": false
     }
    }
   },
   "outputs": [
    {
     "name": "stdout",
     "output_type": "stream",
     "text": [
      "AutoMLbad8b7b1636\tAutoMLbad8b7b1636:1\t1\n"
     ]
    }
   ],
   "source": [
    "#Register the model\n",
    "\n",
    "description = 'AutoML Model trained on heart failure dataset to predict if the patient deceased during the follow-up period'\n",
    "tags = None\n",
    "model = remote_run.register_model(model_name=model_name, description=description, tags=tags)\n",
    "print(model.name, model.id, model.version, sep='\\t')"
   ]
  },
  {
   "cell_type": "code",
   "execution_count": 19,
   "metadata": {},
   "outputs": [
    {
     "name": "stdout",
     "output_type": "stream",
     "text": [
      "Tips: You can try get_logs(): https://aka.ms/debugimage#dockerlog or local deployment: https://aka.ms/debugimage#debug-locally to debug if deployment takes longer than 10 minutes.\n",
      "Running...........................................\n",
      "Succeeded\n",
      "ACI service creation operation finished, operation \"Succeeded\"\n",
      "http://97794ab3-9cbe-4a65-a0c4-eca9b82214a4.southcentralus.azurecontainer.io/score\n"
     ]
    }
   ],
   "source": [
    "#create an inference config and deploy the model as a web service on Azure Container Instance\n",
    "\n",
    "from azureml.core.model import InferenceConfig\n",
    "from azureml.core.webservice import AciWebservice\n",
    "from azureml.core.webservice import Webservice\n",
    "from azureml.core.model import Model\n",
    "from azureml.core.environment import Environment\n",
    "\n",
    "\n",
    "environment = Environment.get(ws, \"AzureML-AutoML\")\n",
    "\n",
    "inference_config = InferenceConfig(entry_script='score.py',\n",
    "                                   environment=environment)\n",
    "service_name = 'heart-failure-automl-deploy'\n",
    "deployment_config = AciWebservice.deploy_configuration(cpu_cores=1, memory_gb=1)\n",
    "\n",
    "service = Model.deploy(workspace=ws,\n",
    "                       name=service_name,\n",
    "                       models=[model],\n",
    "                       inference_config=inference_config,\n",
    "                       deployment_config=deployment_config,\n",
    "                       overwrite=True\n",
    "                      )\n",
    "service.wait_for_deployment(show_output=True)\n",
    "\n",
    "scoring_uri = service.scoring_uri\n",
    "print(scoring_uri)"
   ]
  },
  {
   "cell_type": "code",
   "execution_count": 20,
   "metadata": {},
   "outputs": [],
   "source": [
    "service.update(enable_app_insights=True)"
   ]
  },
  {
   "cell_type": "markdown",
   "metadata": {
    "collapsed": true,
    "gather": {
     "logged": 1598431657736
    },
    "jupyter": {
     "outputs_hidden": false,
     "source_hidden": false
    },
    "nteract": {
     "transient": {
      "deleting": false
     }
    }
   },
   "source": [
    "Sending a request to the web service we deployed to test it."
   ]
  },
  {
   "cell_type": "code",
   "execution_count": 21,
   "metadata": {
    "gather": {
     "logged": 1598432707604
    },
    "jupyter": {
     "outputs_hidden": false,
     "source_hidden": false
    },
    "nteract": {
     "transient": {
      "deleting": false
     }
    }
   },
   "outputs": [
    {
     "name": "stdout",
     "output_type": "stream",
     "text": [
      "b'\"{\\\\\"result\\\\\": [1, 0]}\"'\n"
     ]
    }
   ],
   "source": [
    "import urllib.request\n",
    "import json\n",
    "import os\n",
    "import ssl\n",
    "\n",
    "def allowSelfSignedHttps(allowed):\n",
    "    # bypass the server certificate verification on client side\n",
    "    if allowed and not os.environ.get('PYTHONHTTPSVERIFY', '') and getattr(ssl, '_create_unverified_context', None):\n",
    "        ssl._create_default_https_context = ssl._create_unverified_context\n",
    "\n",
    "allowSelfSignedHttps(True) # this line is needed if you use self-signed certificate in your scoring service.\n",
    "\n",
    "data = {\n",
    "    \"data\":\n",
    "    [\n",
    "        {\n",
    "            'age': \"75\",\n",
    "            'anaemia': \"0\",\n",
    "            'creatinine_phosphokinase': \"582\",\n",
    "            'diabetes': \"0\",\n",
    "            'ejection_fraction': \"20\",\n",
    "            'high_blood_pressure': \"1\",\n",
    "            'platelets': \"265000\",\n",
    "            'serum_creatinine': \"1.9\",\n",
    "            'serum_sodium': \"130\",\n",
    "            'sex': \"1\",\n",
    "            'smoking': \"0\",\n",
    "            'time': \"4\",\n",
    "        },\n",
    "        {\n",
    "            'age': \"42\",\n",
    "            'anaemia': \"0\",\n",
    "            'creatinine_phosphokinase': \"320\",\n",
    "            'diabetes': \"0\",\n",
    "            'ejection_fraction': \"31\",\n",
    "            'high_blood_pressure': \"0\",\n",
    "            'platelets': \"221000\",\n",
    "            'serum_creatinine': \"1\",\n",
    "            'serum_sodium': \"130\",\n",
    "            'sex': \"1\",\n",
    "            'smoking': \"0\",\n",
    "            'time': \"144\",\n",
    "        },\n",
    "    ],\n",
    "}\n",
    "\n",
    "body = str.encode(json.dumps(data))\n",
    "\n",
    "url = 'http://97794ab3-9cbe-4a65-a0c4-eca9b82214a4.southcentralus.azurecontainer.io/score'\n",
    "api_key = '' # Replace this with the API key for the web service\n",
    "headers = {'Content-Type':'application/json', 'Authorization':('Bearer '+ api_key)}\n",
    "\n",
    "req = urllib.request.Request(url, body, headers)\n",
    "\n",
    "try:\n",
    "    response = urllib.request.urlopen(req)\n",
    "\n",
    "    result = response.read()\n",
    "    print(result)\n",
    "except urllib.error.HTTPError as error:\n",
    "    print(\"The request failed with status code: \" + str(error.code))\n",
    "\n",
    "    # Print the headers - they include the requert ID and the timestamp, which are useful for debugging the failure\n",
    "    print(error.info())\n",
    "    print(json.loads(error.read().decode(\"utf8\", 'ignore')))"
   ]
  },
  {
   "cell_type": "markdown",
   "metadata": {
    "collapsed": true,
    "gather": {
     "logged": 1598432765711
    },
    "jupyter": {
     "outputs_hidden": false,
     "source_hidden": false
    },
    "nteract": {
     "transient": {
      "deleting": false
     }
    }
   },
   "source": [
    "Print the logs of the web service and delete the service"
   ]
  },
  {
   "cell_type": "code",
   "execution_count": 22,
   "metadata": {
    "jupyter": {
     "outputs_hidden": false,
     "source_hidden": false
    },
    "nteract": {
     "transient": {
      "deleting": false
     }
    }
   },
   "outputs": [
    {
     "data": {
      "text/plain": [
       "'2021-02-13T01:21:43,818943363+00:00 - nginx/run \\n/usr/sbin/nginx: /azureml-envs/azureml_09ff55f546b313bb1ab136a466214499/lib/libcrypto.so.1.0.0: no version information available (required by /usr/sbin/nginx)\\n/usr/sbin/nginx: /azureml-envs/azureml_09ff55f546b313bb1ab136a466214499/lib/libcrypto.so.1.0.0: no version information available (required by /usr/sbin/nginx)\\n/usr/sbin/nginx: /azureml-envs/azureml_09ff55f546b313bb1ab136a466214499/lib/libssl.so.1.0.0: no version information available (required by /usr/sbin/nginx)\\n/usr/sbin/nginx: /azureml-envs/azureml_09ff55f546b313bb1ab136a466214499/lib/libssl.so.1.0.0: no version information available (required by /usr/sbin/nginx)\\n/usr/sbin/nginx: /azureml-envs/azureml_09ff55f546b313bb1ab136a466214499/lib/libssl.so.1.0.0: no version information available (required by /usr/sbin/nginx)\\n2021-02-13T01:21:43,821673260+00:00 - iot-server/run \\n2021-02-13T01:21:43,823274158+00:00 - rsyslog/run \\n2021-02-13T01:21:43,824250857+00:00 - gunicorn/run \\nrsyslogd: /azureml-envs/azureml_09ff55f546b313bb1ab136a466214499/lib/libuuid.so.1: no version information available (required by rsyslogd)\\nEdgeHubConnectionString and IOTEDGE_IOTHUBHOSTNAME are not set. Exiting...\\n2021-02-13T01:21:44,014674541+00:00 - iot-server/finish 1 0\\n2021-02-13T01:21:44,016326739+00:00 - Exit code 1 is normal. Not restarting iot-server.\\nStarting gunicorn 19.9.0\\nListening at: http://127.0.0.1:31311 (15)\\nUsing worker: sync\\nworker timeout is set to 300\\nBooting worker with pid: 42\\nSPARK_HOME not set. Skipping PySpark Initialization.\\nGenerating new fontManager, this may take some time...\\nInitializing logger\\n2021-02-13 01:21:45,519 | root | INFO | Starting up app insights client\\n2021-02-13 01:21:45,520 | root | INFO | Starting up request id generator\\n2021-02-13 01:21:45,520 | root | INFO | Starting up app insight hooks\\n2021-02-13 01:21:45,520 | root | INFO | Invoking user\\'s init function\\n2021-02-13 01:21:48,309 | root | INFO | Users\\'s init has completed successfully\\n2021-02-13 01:21:48,319 | root | INFO | Skipping middleware: dbg_model_info as it\\'s not enabled.\\n2021-02-13 01:21:48,319 | root | INFO | Skipping middleware: dbg_resource_usage as it\\'s not enabled.\\n2021-02-13 01:21:48,322 | root | INFO | Scoring timeout is found from os.environ: 60000 ms\\n2021-02-13 01:21:49,740 | root | INFO | 200\\n127.0.0.1 - - [13/Feb/2021:01:21:49 +0000] \"GET /swagger.json HTTP/1.0\" 200 2866 \"-\" \"Go-http-client/1.1\"\\n2021-02-13 01:21:50,023 | root | INFO | 200\\n127.0.0.1 - - [13/Feb/2021:01:21:50 +0000] \"GET /swagger.json HTTP/1.0\" 200 2866 \"-\" \"Go-http-client/1.1\"\\n2021-02-13 01:21:50,155 | root | INFO | 200\\n127.0.0.1 - - [13/Feb/2021:01:21:50 +0000] \"GET /swagger.json HTTP/1.0\" 200 2866 \"-\" \"Go-http-client/1.1\"\\n2021-02-13 01:23:18,142 | root | INFO | 200\\n127.0.0.1 - - [13/Feb/2021:01:23:18 +0000] \"GET /swagger.json HTTP/1.0\" 200 2866 \"-\" \"Go-http-client/1.1\"\\n2021-02-13 01:23:19,983 | root | INFO | 200\\n127.0.0.1 - - [13/Feb/2021:01:23:19 +0000] \"GET /swagger.json HTTP/1.0\" 200 2866 \"-\" \"Go-http-client/1.1\"\\n2021-02-13 01:24:22,524 | root | INFO | Validation Request Content-Type\\n2021-02-13 01:24:22,525 | root | INFO | Scoring Timer is set to 60.0 seconds\\n2021-02-13 01:24:22,596 | root | INFO | 200\\n127.0.0.1 - - [13/Feb/2021:01:24:22 +0000] \"POST /score HTTP/1.0\" 200 22 \"-\" \"Python-urllib/3.6\"\\n'"
      ]
     },
     "execution_count": 22,
     "metadata": {},
     "output_type": "execute_result"
    }
   ],
   "source": [
    "service.get_logs()"
   ]
  },
  {
   "cell_type": "code",
   "execution_count": 29,
   "metadata": {},
   "outputs": [],
   "source": [
    "service.delete()"
   ]
  },
  {
   "cell_type": "code",
   "execution_count": null,
   "metadata": {},
   "outputs": [],
   "source": []
  }
 ],
 "metadata": {
  "kernel_info": {
   "name": "python3-azureml"
  },
  "kernelspec": {
   "display_name": "Python 3.6 - AzureML",
   "language": "python",
   "name": "python3-azureml"
  },
  "language_info": {
   "codemirror_mode": {
    "name": "ipython",
    "version": 3
   },
   "file_extension": ".py",
   "mimetype": "text/x-python",
   "name": "python",
   "nbconvert_exporter": "python",
   "pygments_lexer": "ipython3",
   "version": "3.6.9"
  },
  "nteract": {
   "version": "nteract-front-end@1.0.0"
  }
 },
 "nbformat": 4,
 "nbformat_minor": 2
}
