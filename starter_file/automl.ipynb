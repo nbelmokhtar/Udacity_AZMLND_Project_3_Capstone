{
 "cells": [
  {
   "cell_type": "markdown",
   "metadata": {},
   "source": [
    "# Automated ML\n",
    "\n",
    "Import of all the dependencies that we need to complete the project."
   ]
  },
  {
   "cell_type": "code",
   "execution_count": 1,
   "metadata": {
    "gather": {
     "logged": 1598423888013
    },
    "jupyter": {
     "outputs_hidden": false,
     "source_hidden": false
    },
    "nteract": {
     "transient": {
      "deleting": false
     }
    }
   },
   "outputs": [
    {
     "name": "stdout",
     "output_type": "stream",
     "text": [
      "SDK version: 1.20.0\n"
     ]
    }
   ],
   "source": [
    "from azureml.core import Workspace, Experiment, Dataset\n",
    "from azureml.core.compute import ComputeTarget, AmlCompute\n",
    "from azureml.core.compute_target import ComputeTargetException\n",
    "from azureml.widgets import RunDetails\n",
    "\n",
    "import azureml.core\n",
    "from azureml.data.dataset_factory import TabularDatasetFactory\n",
    "from sklearn.model_selection import train_test_split\n",
    "from azureml.train.automl import AutoMLConfig\n",
    "\n",
    "import os\n",
    "import joblib\n",
    "import pandas as pd\n",
    "import numpy as np\n",
    "\n",
    "# Check core SDK version number\n",
    "print(\"SDK version:\", azureml.core.VERSION)"
   ]
  },
  {
   "cell_type": "markdown",
   "metadata": {},
   "source": [
    "## Dataset\n",
    "\n",
    "### Overview\n",
    "\n",
    "Dataset from Davide Chicco, Giuseppe Jurman: Machine learning can predict survival of patients with heart failure from serum creatinine and ejection fraction alone. BMC Medical Informatics and Decision Making 20, 16 (2020)\n",
    "\n",
    "Heart failure is a common event caused by Cardiovascular diseases (CVDs) and this dataset contains 12 features that can be used to predict mortality by heart failure.\n",
    "\n",
    "01- age : Age of the patient (years)\n",
    "02- anaemia : Decrease of red blood cells or hemoglobin (boolean)\n",
    "03- creatinine_phosphokinase : Level of the CPK enzyme in the blood (mcg/L)\n",
    "04- diabetes : If the patient has diabetes (boolean)\n",
    "05- ejection_fraction : Percentage of blood leaving the heart at each contraction (percentage)\n",
    "06- high_blood_pressure : If the patient has hypertension (boolean)\n",
    "07- platelets : Platelets in the blood (kiloplatelets/mL)\n",
    "08- serum_creatinine : Level of serum creatinine in the blood (mg/dL)\n",
    "09- serum_sodium :Level of serum sodium in the blood (mEq/L)\n",
    "10- sex : Woman or man (binary)\n",
    "11- smoking : If the patient smokes or not (boolean)\n",
    "12- time : Follow-up period (days)\n",
    "\n",
    "### Task\n",
    "\n",
    "An Azure Auto ML will be performed to predict if the patient deceased during the follow-up period (DEATH_EVENT : boolean), based on the 12 clinical features. "
   ]
  },
  {
   "cell_type": "markdown",
   "metadata": {},
   "source": [
    "### Connect to a workspace"
   ]
  },
  {
   "cell_type": "code",
   "execution_count": 2,
   "metadata": {
    "gather": {
     "logged": 1598423890461
    },
    "jupyter": {
     "outputs_hidden": false,
     "source_hidden": false
    },
    "nteract": {
     "transient": {
      "deleting": false
     }
    }
   },
   "outputs": [
    {
     "name": "stdout",
     "output_type": "stream",
     "text": [
      "Workspace name: quick-starts-ws-138652\n",
      "Azure region: southcentralus\n",
      "Subscription id: 976ee174-3882-4721-b90a-b5fef6b72f24\n",
      "Resource group: aml-quickstarts-138652\n"
     ]
    }
   ],
   "source": [
    "ws = Workspace.from_config()\n",
    "\n",
    "print('Workspace name: ' + ws.name, \n",
    "      'Azure region: ' + ws.location, \n",
    "      'Subscription id: ' + ws.subscription_id, \n",
    "      'Resource group: ' + ws.resource_group, sep = '\\n')"
   ]
  },
  {
   "cell_type": "markdown",
   "metadata": {},
   "source": [
    "### Create an Azure ML experiment"
   ]
  },
  {
   "cell_type": "code",
   "execution_count": 3,
   "metadata": {},
   "outputs": [],
   "source": [
    "# choose a name for experiment\n",
    "experiment_name = 'automl_heart_failure_experiment'\n",
    "project_folder = './automl-model'\n",
    "experiment=Experiment(ws, experiment_name)\n",
    "experiment\n",
    "run = experiment.start_logging()"
   ]
  },
  {
   "cell_type": "markdown",
   "metadata": {},
   "source": [
    "### Create and explore dataset"
   ]
  },
  {
   "cell_type": "code",
   "execution_count": 4,
   "metadata": {},
   "outputs": [
    {
     "data": {
      "text/html": [
       "<div>\n",
       "<style scoped>\n",
       "    .dataframe tbody tr th:only-of-type {\n",
       "        vertical-align: middle;\n",
       "    }\n",
       "\n",
       "    .dataframe tbody tr th {\n",
       "        vertical-align: top;\n",
       "    }\n",
       "\n",
       "    .dataframe thead th {\n",
       "        text-align: right;\n",
       "    }\n",
       "</style>\n",
       "<table border=\"1\" class=\"dataframe\">\n",
       "  <thead>\n",
       "    <tr style=\"text-align: right;\">\n",
       "      <th></th>\n",
       "      <th>age</th>\n",
       "      <th>anaemia</th>\n",
       "      <th>creatinine_phosphokinase</th>\n",
       "      <th>diabetes</th>\n",
       "      <th>ejection_fraction</th>\n",
       "      <th>high_blood_pressure</th>\n",
       "      <th>platelets</th>\n",
       "      <th>serum_creatinine</th>\n",
       "      <th>serum_sodium</th>\n",
       "      <th>sex</th>\n",
       "      <th>smoking</th>\n",
       "      <th>time</th>\n",
       "      <th>DEATH_EVENT</th>\n",
       "    </tr>\n",
       "  </thead>\n",
       "  <tbody>\n",
       "    <tr>\n",
       "      <th>0</th>\n",
       "      <td>75.0</td>\n",
       "      <td>0</td>\n",
       "      <td>582</td>\n",
       "      <td>0</td>\n",
       "      <td>20</td>\n",
       "      <td>1</td>\n",
       "      <td>265000.00</td>\n",
       "      <td>1.9</td>\n",
       "      <td>130</td>\n",
       "      <td>1</td>\n",
       "      <td>0</td>\n",
       "      <td>4</td>\n",
       "      <td>1</td>\n",
       "    </tr>\n",
       "    <tr>\n",
       "      <th>1</th>\n",
       "      <td>55.0</td>\n",
       "      <td>0</td>\n",
       "      <td>7861</td>\n",
       "      <td>0</td>\n",
       "      <td>38</td>\n",
       "      <td>0</td>\n",
       "      <td>263358.03</td>\n",
       "      <td>1.1</td>\n",
       "      <td>136</td>\n",
       "      <td>1</td>\n",
       "      <td>0</td>\n",
       "      <td>6</td>\n",
       "      <td>1</td>\n",
       "    </tr>\n",
       "    <tr>\n",
       "      <th>2</th>\n",
       "      <td>65.0</td>\n",
       "      <td>0</td>\n",
       "      <td>146</td>\n",
       "      <td>0</td>\n",
       "      <td>20</td>\n",
       "      <td>0</td>\n",
       "      <td>162000.00</td>\n",
       "      <td>1.3</td>\n",
       "      <td>129</td>\n",
       "      <td>1</td>\n",
       "      <td>1</td>\n",
       "      <td>7</td>\n",
       "      <td>1</td>\n",
       "    </tr>\n",
       "    <tr>\n",
       "      <th>3</th>\n",
       "      <td>50.0</td>\n",
       "      <td>1</td>\n",
       "      <td>111</td>\n",
       "      <td>0</td>\n",
       "      <td>20</td>\n",
       "      <td>0</td>\n",
       "      <td>210000.00</td>\n",
       "      <td>1.9</td>\n",
       "      <td>137</td>\n",
       "      <td>1</td>\n",
       "      <td>0</td>\n",
       "      <td>7</td>\n",
       "      <td>1</td>\n",
       "    </tr>\n",
       "    <tr>\n",
       "      <th>4</th>\n",
       "      <td>65.0</td>\n",
       "      <td>1</td>\n",
       "      <td>160</td>\n",
       "      <td>1</td>\n",
       "      <td>20</td>\n",
       "      <td>0</td>\n",
       "      <td>327000.00</td>\n",
       "      <td>2.7</td>\n",
       "      <td>116</td>\n",
       "      <td>0</td>\n",
       "      <td>0</td>\n",
       "      <td>8</td>\n",
       "      <td>1</td>\n",
       "    </tr>\n",
       "  </tbody>\n",
       "</table>\n",
       "</div>"
      ],
      "text/plain": [
       "    age  anaemia  creatinine_phosphokinase  diabetes  ejection_fraction  \\\n",
       "0  75.0        0                       582         0                 20   \n",
       "1  55.0        0                      7861         0                 38   \n",
       "2  65.0        0                       146         0                 20   \n",
       "3  50.0        1                       111         0                 20   \n",
       "4  65.0        1                       160         1                 20   \n",
       "\n",
       "   high_blood_pressure  platelets  serum_creatinine  serum_sodium  sex  \\\n",
       "0                    1  265000.00               1.9           130    1   \n",
       "1                    0  263358.03               1.1           136    1   \n",
       "2                    0  162000.00               1.3           129    1   \n",
       "3                    0  210000.00               1.9           137    1   \n",
       "4                    0  327000.00               2.7           116    0   \n",
       "\n",
       "   smoking  time  DEATH_EVENT  \n",
       "0        0     4            1  \n",
       "1        0     6            1  \n",
       "2        1     7            1  \n",
       "3        0     7            1  \n",
       "4        0     8            1  "
      ]
     },
     "execution_count": 4,
     "metadata": {},
     "output_type": "execute_result"
    }
   ],
   "source": [
    "# Data set was downloaded as a csv file and registered as data set in the workspace\n",
    "dataset=Dataset.get_by_name(ws,name=\"heart_failure_clinical_records_dataset\")\n",
    "df = dataset.to_pandas_dataframe()\n",
    "df.describe()\n",
    "dataset.take(5).to_pandas_dataframe()"
   ]
  },
  {
   "cell_type": "code",
   "execution_count": 5,
   "metadata": {},
   "outputs": [
    {
     "name": "stdout",
     "output_type": "stream",
     "text": [
      "/mnt/batch/tasks/shared/LS_root/mounts/clusters/notebook138652/code\n"
     ]
    },
    {
     "data": {
      "text/plain": [
       "['.config',\n",
       " '.ipynb_checkpoints',\n",
       " 'automl-model',\n",
       " 'automl.ipynb',\n",
       " 'automl_errors.log',\n",
       " 'azureml_automl.log',\n",
       " 'heart_failure_clinical_records_dataset.csv',\n",
       " 'hyperdrive_model.joblib',\n",
       " 'hyperparameter_tuning.ipynb',\n",
       " 'outputs',\n",
       " 'train.py',\n",
       " 'training',\n",
       " 'Users']"
      ]
     },
     "execution_count": 5,
     "metadata": {},
     "output_type": "execute_result"
    }
   ],
   "source": [
    "currDir=os.getcwd()\n",
    "print(currDir)\n",
    "os.listdir(currDir)"
   ]
  },
  {
   "cell_type": "markdown",
   "metadata": {},
   "source": [
    "### Create or Attach a Compute Resource"
   ]
  },
  {
   "cell_type": "code",
   "execution_count": 6,
   "metadata": {},
   "outputs": [
    {
     "name": "stdout",
     "output_type": "stream",
     "text": [
      "Found existing compute target, use it\n",
      "Succeeded\n",
      "AmlCompute wait for completion finished\n",
      "\n",
      "Minimum number of nodes requested have been provisioned\n",
      "{'currentNodeCount': 1, 'targetNodeCount': 1, 'nodeStateCounts': {'preparingNodeCount': 0, 'runningNodeCount': 1, 'idleNodeCount': 0, 'unusableNodeCount': 0, 'leavingNodeCount': 0, 'preemptedNodeCount': 0}, 'allocationState': 'Steady', 'allocationStateTransitionTime': '2021-02-12T02:41:33.717000+00:00', 'errors': None, 'creationTime': '2021-02-12T02:01:27.724229+00:00', 'modifiedTime': '2021-02-12T02:01:44.155997+00:00', 'provisioningState': 'Succeeded', 'provisioningStateTransitionTime': None, 'scaleSettings': {'minNodeCount': 0, 'maxNodeCount': 5, 'nodeIdleTimeBeforeScaleDown': 'PT120S'}, 'vmPriority': 'Dedicated', 'vmSize': 'STANDARD_D3_V2'}\n"
     ]
    }
   ],
   "source": [
    "# Create compute cluster\n",
    "# Use vm_size = \"STANDARD_D3_V2\" in provisioning configuration.\n",
    "# max_nodes 5.\n",
    "\n",
    "# Choose a name for CPU cluster\n",
    "cluster_name = \"my-cpu-cluster\"\n",
    "\n",
    "# Check if the compute target exists\n",
    "try:\n",
    "    compute_target = ComputeTarget(workspace=ws, name=cluster_name)\n",
    "    print('Found existing compute target, use it')\n",
    "except ComputeTargetException:\n",
    "    print('Creating a new compute target...')\n",
    "    compute_config = AmlCompute.provisioning_configuration(vm_size='Standard_D3_V2', \n",
    "                                                           max_nodes=5)\n",
    "    # create the cluster\n",
    "    compute_target = ComputeTarget.create(ws, cluster_name, compute_config)\n",
    "\n",
    "compute_target.wait_for_completion(show_output=True)\n",
    "\n",
    "# get a detailed status for the current cluster\n",
    "print(compute_target.get_status().serialize())"
   ]
  },
  {
   "cell_type": "markdown",
   "metadata": {},
   "source": [
    "## AutoML Configuration\n",
    "\n",
    "We didn't explicitly specified either a validation_data or n_cross_validation parameter, automated ML applies default techniques depending on the number of rows provided in the single training_data=dataset. Dataset is less than 1,000 rows, 10 folds are used."
   ]
  },
  {
   "cell_type": "code",
   "execution_count": 7,
   "metadata": {
    "gather": {
     "logged": 1598429217746
    },
    "jupyter": {
     "outputs_hidden": false,
     "source_hidden": false
    },
    "nteract": {
     "transient": {
      "deleting": false
     }
    }
   },
   "outputs": [],
   "source": [
    "# AutoML settings\n",
    "automl_settings = {\n",
    "    \"experiment_timeout_minutes\": 30,\n",
    "    \"max_concurrent_iterations\": 4,\n",
    "    \"primary_metric\" : 'accuracy',\n",
    "}\n",
    "\n",
    "# AutoML config\n",
    "automl_config = AutoMLConfig(compute_target=compute_target,\n",
    "                             task = \"classification\",\n",
    "                             training_data=dataset,\n",
    "                             label_column_name=\"DEATH_EVENT\",   \n",
    "                             path = project_folder,\n",
    "                             enable_early_stopping= True,\n",
    "                             debug_log = \"automl_errors.log\",\n",
    "                             **automl_settings\n",
    ")"
   ]
  },
  {
   "cell_type": "code",
   "execution_count": 8,
   "metadata": {
    "gather": {
     "logged": 1598431107951
    },
    "jupyter": {
     "outputs_hidden": false,
     "source_hidden": false
    },
    "nteract": {
     "transient": {
      "deleting": false
     }
    }
   },
   "outputs": [
    {
     "name": "stdout",
     "output_type": "stream",
     "text": [
      "Running on remote.\n"
     ]
    }
   ],
   "source": [
    "# Submit the experiment\n",
    "remote_run = experiment.submit(automl_config)"
   ]
  },
  {
   "cell_type": "markdown",
   "metadata": {},
   "source": [
    "## Run Details\n",
    "\n",
    "OPTIONAL: Write about the different models trained and their performance. Why do you think some models did better than others?\n",
    "\n",
    "Using the `RunDetails` widget to show the different experiments."
   ]
  },
  {
   "cell_type": "code",
   "execution_count": 9,
   "metadata": {},
   "outputs": [
    {
     "data": {
      "text/html": [
       "<table style=\"width:100%\"><tr><th>Experiment</th><th>Id</th><th>Type</th><th>Status</th><th>Details Page</th><th>Docs Page</th></tr><tr><td>automl_heart_failure_experiment</td><td>AutoML_415e87b7-c932-44e2-9303-71d0e67f8df7</td><td>automl</td><td>NotStarted</td><td><a href=\"https://ml.azure.com/experiments/automl_heart_failure_experiment/runs/AutoML_415e87b7-c932-44e2-9303-71d0e67f8df7?wsid=/subscriptions/976ee174-3882-4721-b90a-b5fef6b72f24/resourcegroups/aml-quickstarts-138652/workspaces/quick-starts-ws-138652\" target=\"_blank\" rel=\"noopener\">Link to Azure Machine Learning studio</a></td><td><a href=\"https://docs.microsoft.com/en-us/python/api/overview/azure/ml/intro?view=azure-ml-py\" target=\"_blank\" rel=\"noopener\">Link to Documentation</a></td></tr></table>"
      ],
      "text/plain": [
       "Run(Experiment: automl_heart_failure_experiment,\n",
       "Id: AutoML_415e87b7-c932-44e2-9303-71d0e67f8df7,\n",
       "Type: automl,\n",
       "Status: NotStarted)"
      ]
     },
     "execution_count": 9,
     "metadata": {},
     "output_type": "execute_result"
    }
   ],
   "source": [
    "remote_run"
   ]
  },
  {
   "cell_type": "code",
   "execution_count": 10,
   "metadata": {
    "gather": {
     "logged": 1598431121770
    },
    "jupyter": {
     "outputs_hidden": false,
     "source_hidden": false
    },
    "nteract": {
     "transient": {
      "deleting": false
     }
    }
   },
   "outputs": [
    {
     "data": {
      "application/vnd.jupyter.widget-view+json": {
       "model_id": "7dfbb7fd5fc443acb32ac0beaab20b50",
       "version_major": 2,
       "version_minor": 0
      },
      "text/plain": [
       "_AutoMLWidget(widget_settings={'childWidgetDisplay': 'popup', 'send_telemetry': False, 'log_level': 'INFO', 's…"
      ]
     },
     "metadata": {},
     "output_type": "display_data"
    },
    {
     "data": {
      "application/aml.mini.widget.v1": "{\"status\": \"Completed\", \"workbench_run_details_uri\": \"https://ml.azure.com/experiments/automl_heart_failure_experiment/runs/AutoML_415e87b7-c932-44e2-9303-71d0e67f8df7?wsid=/subscriptions/976ee174-3882-4721-b90a-b5fef6b72f24/resourcegroups/aml-quickstarts-138652/workspaces/quick-starts-ws-138652\", \"run_id\": \"AutoML_415e87b7-c932-44e2-9303-71d0e67f8df7\", \"run_properties\": {\"run_id\": \"AutoML_415e87b7-c932-44e2-9303-71d0e67f8df7\", \"created_utc\": \"2021-02-12T02:42:42.822194Z\", \"properties\": {\"num_iterations\": \"1000\", \"training_type\": \"TrainFull\", \"acquisition_function\": \"EI\", \"primary_metric\": \"accuracy\", \"train_split\": \"0\", \"acquisition_parameter\": \"0\", \"num_cross_validation\": null, \"target\": \"my-cpu-cluster\", \"AMLSettingsJsonString\": \"{\\\"path\\\":null,\\\"name\\\":\\\"automl_heart_failure_experiment\\\",\\\"subscription_id\\\":\\\"976ee174-3882-4721-b90a-b5fef6b72f24\\\",\\\"resource_group\\\":\\\"aml-quickstarts-138652\\\",\\\"workspace_name\\\":\\\"quick-starts-ws-138652\\\",\\\"region\\\":\\\"southcentralus\\\",\\\"compute_target\\\":\\\"my-cpu-cluster\\\",\\\"spark_service\\\":null,\\\"azure_service\\\":\\\"remote\\\",\\\"many_models\\\":false,\\\"pipeline_fetch_max_batch_size\\\":1,\\\"iterations\\\":1000,\\\"primary_metric\\\":\\\"accuracy\\\",\\\"task_type\\\":\\\"classification\\\",\\\"data_script\\\":null,\\\"validation_size\\\":0.0,\\\"n_cross_validations\\\":null,\\\"y_min\\\":null,\\\"y_max\\\":null,\\\"num_classes\\\":null,\\\"featurization\\\":\\\"auto\\\",\\\"_ignore_package_version_incompatibilities\\\":false,\\\"is_timeseries\\\":false,\\\"max_cores_per_iteration\\\":1,\\\"max_concurrent_iterations\\\":4,\\\"iteration_timeout_minutes\\\":null,\\\"mem_in_mb\\\":null,\\\"enforce_time_on_windows\\\":false,\\\"experiment_timeout_minutes\\\":30,\\\"experiment_exit_score\\\":null,\\\"whitelist_models\\\":null,\\\"blacklist_algos\\\":[\\\"TensorFlowLinearClassifier\\\",\\\"TensorFlowDNN\\\"],\\\"supported_models\\\":[\\\"GradientBoosting\\\",\\\"BernoulliNaiveBayes\\\",\\\"LogisticRegression\\\",\\\"LinearSVM\\\",\\\"TensorFlowDNN\\\",\\\"TensorFlowLinearClassifier\\\",\\\"AveragedPerceptronClassifier\\\",\\\"MultinomialNaiveBayes\\\",\\\"ExtremeRandomTrees\\\",\\\"XGBoostClassifier\\\",\\\"KNN\\\",\\\"RandomForest\\\",\\\"SGD\\\",\\\"SVM\\\",\\\"DecisionTree\\\",\\\"LightGBM\\\"],\\\"auto_blacklist\\\":true,\\\"blacklist_samples_reached\\\":false,\\\"exclude_nan_labels\\\":true,\\\"verbosity\\\":20,\\\"_debug_log\\\":\\\"azureml_automl.log\\\",\\\"show_warnings\\\":false,\\\"model_explainability\\\":true,\\\"service_url\\\":null,\\\"sdk_url\\\":null,\\\"sdk_packages\\\":null,\\\"enable_onnx_compatible_models\\\":false,\\\"enable_split_onnx_featurizer_estimator_models\\\":false,\\\"vm_type\\\":\\\"STANDARD_D3_V2\\\",\\\"telemetry_verbosity\\\":20,\\\"send_telemetry\\\":true,\\\"enable_dnn\\\":false,\\\"scenario\\\":\\\"SDK-1.13.0\\\",\\\"environment_label\\\":null,\\\"force_text_dnn\\\":false,\\\"enable_feature_sweeping\\\":true,\\\"enable_early_stopping\\\":true,\\\"early_stopping_n_iters\\\":10,\\\"metrics\\\":null,\\\"enable_ensembling\\\":true,\\\"enable_stack_ensembling\\\":true,\\\"ensemble_iterations\\\":15,\\\"enable_tf\\\":false,\\\"enable_subsampling\\\":null,\\\"subsample_seed\\\":null,\\\"enable_nimbusml\\\":false,\\\"enable_streaming\\\":false,\\\"force_streaming\\\":false,\\\"track_child_runs\\\":true,\\\"allowed_private_models\\\":[],\\\"label_column_name\\\":\\\"DEATH_EVENT\\\",\\\"weight_column_name\\\":null,\\\"cv_split_column_names\\\":null,\\\"enable_local_managed\\\":false,\\\"_local_managed_run_id\\\":null,\\\"cost_mode\\\":1,\\\"lag_length\\\":0,\\\"metric_operation\\\":\\\"maximize\\\",\\\"preprocess\\\":true}\", \"DataPrepJsonString\": \"{\\\\\\\"training_data\\\\\\\": \\\\\\\"{\\\\\\\\\\\\\\\"blocks\\\\\\\\\\\\\\\": [{\\\\\\\\\\\\\\\"id\\\\\\\\\\\\\\\": \\\\\\\\\\\\\\\"45e12751-b944-494f-9a2d-1bfb2673fb6e\\\\\\\\\\\\\\\", \\\\\\\\\\\\\\\"type\\\\\\\\\\\\\\\": \\\\\\\\\\\\\\\"Microsoft.DPrep.GetDatastoreFilesBlock\\\\\\\\\\\\\\\", \\\\\\\\\\\\\\\"arguments\\\\\\\\\\\\\\\": {\\\\\\\\\\\\\\\"datastores\\\\\\\\\\\\\\\": [{\\\\\\\\\\\\\\\"datastoreName\\\\\\\\\\\\\\\": \\\\\\\\\\\\\\\"workspaceblobstore\\\\\\\\\\\\\\\", \\\\\\\\\\\\\\\"path\\\\\\\\\\\\\\\": \\\\\\\\\\\\\\\"UI/02-12-2021_023204_UTC/heart_failure_clinical_records_dataset.csv\\\\\\\\\\\\\\\", \\\\\\\\\\\\\\\"resourceGroup\\\\\\\\\\\\\\\": \\\\\\\\\\\\\\\"aml-quickstarts-138652\\\\\\\\\\\\\\\", \\\\\\\\\\\\\\\"subscription\\\\\\\\\\\\\\\": \\\\\\\\\\\\\\\"976ee174-3882-4721-b90a-b5fef6b72f24\\\\\\\\\\\\\\\", \\\\\\\\\\\\\\\"workspaceName\\\\\\\\\\\\\\\": \\\\\\\\\\\\\\\"quick-starts-ws-138652\\\\\\\\\\\\\\\"}]}, \\\\\\\\\\\\\\\"localData\\\\\\\\\\\\\\\": {}, \\\\\\\\\\\\\\\"isEnabled\\\\\\\\\\\\\\\": true, \\\\\\\\\\\\\\\"name\\\\\\\\\\\\\\\": null, \\\\\\\\\\\\\\\"annotation\\\\\\\\\\\\\\\": null}, {\\\\\\\\\\\\\\\"id\\\\\\\\\\\\\\\": \\\\\\\\\\\\\\\"c9a41d09-2109-4cdf-ae0b-8227d6033236\\\\\\\\\\\\\\\", \\\\\\\\\\\\\\\"type\\\\\\\\\\\\\\\": \\\\\\\\\\\\\\\"Microsoft.DPrep.ParseDelimitedBlock\\\\\\\\\\\\\\\", \\\\\\\\\\\\\\\"arguments\\\\\\\\\\\\\\\": {\\\\\\\\\\\\\\\"columnHeadersMode\\\\\\\\\\\\\\\": 1, \\\\\\\\\\\\\\\"fileEncoding\\\\\\\\\\\\\\\": 0, \\\\\\\\\\\\\\\"handleQuotedLineBreaks\\\\\\\\\\\\\\\": false, \\\\\\\\\\\\\\\"preview\\\\\\\\\\\\\\\": false, \\\\\\\\\\\\\\\"separator\\\\\\\\\\\\\\\": \\\\\\\\\\\\\\\",\\\\\\\\\\\\\\\", \\\\\\\\\\\\\\\"skipRows\\\\\\\\\\\\\\\": 0, \\\\\\\\\\\\\\\"skipRowsMode\\\\\\\\\\\\\\\": 0}, \\\\\\\\\\\\\\\"localData\\\\\\\\\\\\\\\": {}, \\\\\\\\\\\\\\\"isEnabled\\\\\\\\\\\\\\\": true, \\\\\\\\\\\\\\\"name\\\\\\\\\\\\\\\": null, \\\\\\\\\\\\\\\"annotation\\\\\\\\\\\\\\\": null}, {\\\\\\\\\\\\\\\"id\\\\\\\\\\\\\\\": \\\\\\\\\\\\\\\"d9351cf5-b52a-4c1e-981a-4e2839c6f435\\\\\\\\\\\\\\\", \\\\\\\\\\\\\\\"type\\\\\\\\\\\\\\\": \\\\\\\\\\\\\\\"Microsoft.DPrep.DropColumnsBlock\\\\\\\\\\\\\\\", \\\\\\\\\\\\\\\"arguments\\\\\\\\\\\\\\\": {\\\\\\\\\\\\\\\"columns\\\\\\\\\\\\\\\": {\\\\\\\\\\\\\\\"type\\\\\\\\\\\\\\\": 0, \\\\\\\\\\\\\\\"details\\\\\\\\\\\\\\\": {\\\\\\\\\\\\\\\"selectedColumns\\\\\\\\\\\\\\\": [\\\\\\\\\\\\\\\"Path\\\\\\\\\\\\\\\"]}}}, \\\\\\\\\\\\\\\"localData\\\\\\\\\\\\\\\": {}, \\\\\\\\\\\\\\\"isEnabled\\\\\\\\\\\\\\\": true, \\\\\\\\\\\\\\\"name\\\\\\\\\\\\\\\": null, \\\\\\\\\\\\\\\"annotation\\\\\\\\\\\\\\\": null}, {\\\\\\\\\\\\\\\"id\\\\\\\\\\\\\\\": \\\\\\\\\\\\\\\"a2391912-5c49-4997-b38d-ee405ed568bb\\\\\\\\\\\\\\\", \\\\\\\\\\\\\\\"type\\\\\\\\\\\\\\\": \\\\\\\\\\\\\\\"Microsoft.DPrep.SetColumnTypesBlock\\\\\\\\\\\\\\\", \\\\\\\\\\\\\\\"arguments\\\\\\\\\\\\\\\": {\\\\\\\\\\\\\\\"columnConversion\\\\\\\\\\\\\\\": [{\\\\\\\\\\\\\\\"column\\\\\\\\\\\\\\\": {\\\\\\\\\\\\\\\"type\\\\\\\\\\\\\\\": 2, \\\\\\\\\\\\\\\"details\\\\\\\\\\\\\\\": {\\\\\\\\\\\\\\\"selectedColumn\\\\\\\\\\\\\\\": \\\\\\\\\\\\\\\"Path\\\\\\\\\\\\\\\"}}, \\\\\\\\\\\\\\\"typeProperty\\\\\\\\\\\\\\\": 0}, {\\\\\\\\\\\\\\\"column\\\\\\\\\\\\\\\": {\\\\\\\\\\\\\\\"type\\\\\\\\\\\\\\\": 2, \\\\\\\\\\\\\\\"details\\\\\\\\\\\\\\\": {\\\\\\\\\\\\\\\"selectedColumn\\\\\\\\\\\\\\\": \\\\\\\\\\\\\\\"age\\\\\\\\\\\\\\\"}}, \\\\\\\\\\\\\\\"typeProperty\\\\\\\\\\\\\\\": 3}, {\\\\\\\\\\\\\\\"column\\\\\\\\\\\\\\\": {\\\\\\\\\\\\\\\"type\\\\\\\\\\\\\\\": 2, \\\\\\\\\\\\\\\"details\\\\\\\\\\\\\\\": {\\\\\\\\\\\\\\\"selectedColumn\\\\\\\\\\\\\\\": \\\\\\\\\\\\\\\"anaemia\\\\\\\\\\\\\\\"}}, \\\\\\\\\\\\\\\"typeProperty\\\\\\\\\\\\\\\": 2}, {\\\\\\\\\\\\\\\"column\\\\\\\\\\\\\\\": {\\\\\\\\\\\\\\\"type\\\\\\\\\\\\\\\": 2, \\\\\\\\\\\\\\\"details\\\\\\\\\\\\\\\": {\\\\\\\\\\\\\\\"selectedColumn\\\\\\\\\\\\\\\": \\\\\\\\\\\\\\\"creatinine_phosphokinase\\\\\\\\\\\\\\\"}}, \\\\\\\\\\\\\\\"typeProperty\\\\\\\\\\\\\\\": 2}, {\\\\\\\\\\\\\\\"column\\\\\\\\\\\\\\\": {\\\\\\\\\\\\\\\"type\\\\\\\\\\\\\\\": 2, \\\\\\\\\\\\\\\"details\\\\\\\\\\\\\\\": {\\\\\\\\\\\\\\\"selectedColumn\\\\\\\\\\\\\\\": \\\\\\\\\\\\\\\"diabetes\\\\\\\\\\\\\\\"}}, \\\\\\\\\\\\\\\"typeProperty\\\\\\\\\\\\\\\": 2}, {\\\\\\\\\\\\\\\"column\\\\\\\\\\\\\\\": {\\\\\\\\\\\\\\\"type\\\\\\\\\\\\\\\": 2, \\\\\\\\\\\\\\\"details\\\\\\\\\\\\\\\": {\\\\\\\\\\\\\\\"selectedColumn\\\\\\\\\\\\\\\": \\\\\\\\\\\\\\\"ejection_fraction\\\\\\\\\\\\\\\"}}, \\\\\\\\\\\\\\\"typeProperty\\\\\\\\\\\\\\\": 2}, {\\\\\\\\\\\\\\\"column\\\\\\\\\\\\\\\": {\\\\\\\\\\\\\\\"type\\\\\\\\\\\\\\\": 2, \\\\\\\\\\\\\\\"details\\\\\\\\\\\\\\\": {\\\\\\\\\\\\\\\"selectedColumn\\\\\\\\\\\\\\\": \\\\\\\\\\\\\\\"high_blood_pressure\\\\\\\\\\\\\\\"}}, \\\\\\\\\\\\\\\"typeProperty\\\\\\\\\\\\\\\": 2}, {\\\\\\\\\\\\\\\"column\\\\\\\\\\\\\\\": {\\\\\\\\\\\\\\\"type\\\\\\\\\\\\\\\": 2, \\\\\\\\\\\\\\\"details\\\\\\\\\\\\\\\": {\\\\\\\\\\\\\\\"selectedColumn\\\\\\\\\\\\\\\": \\\\\\\\\\\\\\\"platelets\\\\\\\\\\\\\\\"}}, \\\\\\\\\\\\\\\"typeProperty\\\\\\\\\\\\\\\": 3}, {\\\\\\\\\\\\\\\"column\\\\\\\\\\\\\\\": {\\\\\\\\\\\\\\\"type\\\\\\\\\\\\\\\": 2, \\\\\\\\\\\\\\\"details\\\\\\\\\\\\\\\": {\\\\\\\\\\\\\\\"selectedColumn\\\\\\\\\\\\\\\": \\\\\\\\\\\\\\\"serum_creatinine\\\\\\\\\\\\\\\"}}, \\\\\\\\\\\\\\\"typeProperty\\\\\\\\\\\\\\\": 3}, {\\\\\\\\\\\\\\\"column\\\\\\\\\\\\\\\": {\\\\\\\\\\\\\\\"type\\\\\\\\\\\\\\\": 2, \\\\\\\\\\\\\\\"details\\\\\\\\\\\\\\\": {\\\\\\\\\\\\\\\"selectedColumn\\\\\\\\\\\\\\\": \\\\\\\\\\\\\\\"serum_sodium\\\\\\\\\\\\\\\"}}, \\\\\\\\\\\\\\\"typeProperty\\\\\\\\\\\\\\\": 2}, {\\\\\\\\\\\\\\\"column\\\\\\\\\\\\\\\": {\\\\\\\\\\\\\\\"type\\\\\\\\\\\\\\\": 2, \\\\\\\\\\\\\\\"details\\\\\\\\\\\\\\\": {\\\\\\\\\\\\\\\"selectedColumn\\\\\\\\\\\\\\\": \\\\\\\\\\\\\\\"sex\\\\\\\\\\\\\\\"}}, \\\\\\\\\\\\\\\"typeProperty\\\\\\\\\\\\\\\": 2}, {\\\\\\\\\\\\\\\"column\\\\\\\\\\\\\\\": {\\\\\\\\\\\\\\\"type\\\\\\\\\\\\\\\": 2, \\\\\\\\\\\\\\\"details\\\\\\\\\\\\\\\": {\\\\\\\\\\\\\\\"selectedColumn\\\\\\\\\\\\\\\": \\\\\\\\\\\\\\\"smoking\\\\\\\\\\\\\\\"}}, \\\\\\\\\\\\\\\"typeProperty\\\\\\\\\\\\\\\": 2}, {\\\\\\\\\\\\\\\"column\\\\\\\\\\\\\\\": {\\\\\\\\\\\\\\\"type\\\\\\\\\\\\\\\": 2, \\\\\\\\\\\\\\\"details\\\\\\\\\\\\\\\": {\\\\\\\\\\\\\\\"selectedColumn\\\\\\\\\\\\\\\": \\\\\\\\\\\\\\\"time\\\\\\\\\\\\\\\"}}, \\\\\\\\\\\\\\\"typeProperty\\\\\\\\\\\\\\\": 2}, {\\\\\\\\\\\\\\\"column\\\\\\\\\\\\\\\": {\\\\\\\\\\\\\\\"type\\\\\\\\\\\\\\\": 2, \\\\\\\\\\\\\\\"details\\\\\\\\\\\\\\\": {\\\\\\\\\\\\\\\"selectedColumn\\\\\\\\\\\\\\\": \\\\\\\\\\\\\\\"DEATH_EVENT\\\\\\\\\\\\\\\"}}, \\\\\\\\\\\\\\\"typeProperty\\\\\\\\\\\\\\\": 2}]}, \\\\\\\\\\\\\\\"localData\\\\\\\\\\\\\\\": {}, \\\\\\\\\\\\\\\"isEnabled\\\\\\\\\\\\\\\": true, \\\\\\\\\\\\\\\"name\\\\\\\\\\\\\\\": null, \\\\\\\\\\\\\\\"annotation\\\\\\\\\\\\\\\": null}], \\\\\\\\\\\\\\\"inspectors\\\\\\\\\\\\\\\": [], \\\\\\\\\\\\\\\"meta\\\\\\\\\\\\\\\": {\\\\\\\\\\\\\\\"savedDatasetId\\\\\\\\\\\\\\\": \\\\\\\\\\\\\\\"9f6dcf6e-65fb-4f2a-bdba-acb22ddfe91e\\\\\\\\\\\\\\\", \\\\\\\\\\\\\\\"datasetType\\\\\\\\\\\\\\\": \\\\\\\\\\\\\\\"tabular\\\\\\\\\\\\\\\", \\\\\\\\\\\\\\\"subscriptionId\\\\\\\\\\\\\\\": \\\\\\\\\\\\\\\"976ee174-3882-4721-b90a-b5fef6b72f24\\\\\\\\\\\\\\\", \\\\\\\\\\\\\\\"workspaceId\\\\\\\\\\\\\\\": \\\\\\\\\\\\\\\"c58d1604-63d7-49d1-bcd4-3d0bdaa6fdee\\\\\\\\\\\\\\\", \\\\\\\\\\\\\\\"workspaceLocation\\\\\\\\\\\\\\\": \\\\\\\\\\\\\\\"southcentralus\\\\\\\\\\\\\\\"}}\\\\\\\", \\\\\\\"activities\\\\\\\": 0}\", \"EnableSubsampling\": null, \"runTemplate\": \"AutoML\", \"azureml.runsource\": \"automl\", \"display_task_type\": \"classification\", \"dependencies_versions\": \"{\\\"azureml-widgets\\\": \\\"1.20.0\\\", \\\"azureml-train\\\": \\\"1.20.0\\\", \\\"azureml-train-restclients-hyperdrive\\\": \\\"1.20.0\\\", \\\"azureml-train-core\\\": \\\"1.20.0\\\", \\\"azureml-train-automl\\\": \\\"1.20.0\\\", \\\"azureml-train-automl-runtime\\\": \\\"1.20.0\\\", \\\"azureml-train-automl-client\\\": \\\"1.20.0\\\", \\\"azureml-tensorboard\\\": \\\"1.20.0\\\", \\\"azureml-telemetry\\\": \\\"1.20.0\\\", \\\"azureml-sdk\\\": \\\"1.20.0\\\", \\\"azureml-samples\\\": \\\"0+unknown\\\", \\\"azureml-pipeline\\\": \\\"1.20.0\\\", \\\"azureml-pipeline-steps\\\": \\\"1.20.0\\\", \\\"azureml-pipeline-core\\\": \\\"1.20.0\\\", \\\"azureml-opendatasets\\\": \\\"1.20.0\\\", \\\"azureml-model-management-sdk\\\": \\\"1.0.1b6.post1\\\", \\\"azureml-mlflow\\\": \\\"1.20.0.post1\\\", \\\"azureml-interpret\\\": \\\"1.20.0\\\", \\\"azureml-explain-model\\\": \\\"1.20.0\\\", \\\"azureml-defaults\\\": \\\"1.20.0\\\", \\\"azureml-dataset-runtime\\\": \\\"1.20.0\\\", \\\"azureml-dataprep\\\": \\\"2.7.3\\\", \\\"azureml-dataprep-rslex\\\": \\\"1.5.0\\\", \\\"azureml-dataprep-native\\\": \\\"27.0.0\\\", \\\"azureml-datadrift\\\": \\\"1.20.0\\\", \\\"azureml-core\\\": \\\"1.20.0\\\", \\\"azureml-contrib-services\\\": \\\"1.20.0\\\", \\\"azureml-contrib-server\\\": \\\"1.20.0\\\", \\\"azureml-contrib-reinforcementlearning\\\": \\\"1.20.0\\\", \\\"azureml-contrib-pipeline-steps\\\": \\\"1.20.0\\\", \\\"azureml-contrib-notebook\\\": \\\"1.20.0\\\", \\\"azureml-contrib-interpret\\\": \\\"1.20.0\\\", \\\"azureml-contrib-gbdt\\\": \\\"1.20.0\\\", \\\"azureml-contrib-fairness\\\": \\\"1.20.0\\\", \\\"azureml-contrib-dataset\\\": \\\"1.20.0\\\", \\\"azureml-cli-common\\\": \\\"1.20.0\\\", \\\"azureml-automl-runtime\\\": \\\"1.20.0\\\", \\\"azureml-automl-core\\\": \\\"1.20.0\\\", \\\"azureml-accel-models\\\": \\\"1.20.0\\\"}\", \"_aml_system_scenario_identification\": \"Remote.Parent\", \"ClientType\": \"SDK\", \"environment_cpu_name\": \"AzureML-AutoML\", \"environment_cpu_label\": \"prod\", \"environment_gpu_name\": \"AzureML-AutoML-GPU\", \"environment_gpu_label\": \"prod\", \"root_attribution\": \"automl\", \"attribution\": \"AutoML\", \"Orchestrator\": \"AutoML\", \"CancelUri\": \"https://southcentralus.experiments.azureml.net/jasmine/v1.0/subscriptions/976ee174-3882-4721-b90a-b5fef6b72f24/resourceGroups/aml-quickstarts-138652/providers/Microsoft.MachineLearningServices/workspaces/quick-starts-ws-138652/experimentids/9f373cb0-8d35-4815-8aea-47cb34b48815/cancel/AutoML_415e87b7-c932-44e2-9303-71d0e67f8df7\", \"ClientSdkVersion\": \"1.21.0\", \"snapshotId\": \"00000000-0000-0000-0000-000000000000\", \"SetupRunId\": \"AutoML_415e87b7-c932-44e2-9303-71d0e67f8df7_setup\", \"SetupRunContainerId\": \"dcid.AutoML_415e87b7-c932-44e2-9303-71d0e67f8df7_setup\", \"FeaturizationRunJsonPath\": \"featurizer_container.json\", \"FeaturizationRunId\": \"AutoML_415e87b7-c932-44e2-9303-71d0e67f8df7_featurize\", \"ProblemInfoJsonString\": \"{\\\"dataset_num_categorical\\\": 0, \\\"is_sparse\\\": false, \\\"subsampling\\\": false, \\\"dataset_classes\\\": 2, \\\"dataset_features\\\": 12, \\\"dataset_samples\\\": 299, \\\"single_frequency_class_detected\\\": false}\", \"ModelExplainRunId\": \"AutoML_415e87b7-c932-44e2-9303-71d0e67f8df7_ModelExplain\"}, \"tags\": {\"model_explain_run\": \"best_run\", \"_aml_system_azureml.automlComponent\": \"AutoML\", \"pipeline_id\": \"\", \"score\": \"\", \"predicted_cost\": \"\", \"fit_time\": \"\", \"training_percent\": \"\", \"iteration\": \"\", \"run_preprocessor\": \"\", \"run_algorithm\": \"\", \"dynamic_whitelisting_iterations\": \"<25>;<30>;<35>;<40>;\", \"automl_best_child_run_id\": \"AutoML_415e87b7-c932-44e2-9303-71d0e67f8df7_43\", \"model_explain_best_run_child_id\": \"AutoML_415e87b7-c932-44e2-9303-71d0e67f8df7_43\"}, \"end_time_utc\": \"2021-02-12T03:05:21.070692Z\", \"status\": \"Completed\", \"log_files\": {}, \"log_groups\": [], \"run_duration\": \"0:22:38\"}, \"child_runs\": [{\"run_id\": \"AutoML_415e87b7-c932-44e2-9303-71d0e67f8df7_0\", \"run_number\": 9, \"metric\": null, \"status\": \"Completed\", \"run_type\": \"azureml.scriptrun\", \"training_percent\": \"100\", \"start_time\": \"2021-02-12T02:46:25.230388Z\", \"end_time\": \"2021-02-12T02:47:20.753169Z\", \"created_time\": \"2021-02-12T02:46:13.950189Z\", \"created_time_dt\": \"2021-02-12T02:46:13.950189Z\", \"duration\": \"0:01:06\", \"iteration\": \"0\", \"goal\": \"accuracy_max\", \"run_name\": \"MaxAbsScaler, LightGBM\", \"run_properties\": \"copy=True\", \"primary_metric\": 0.83597701, \"best_metric\": 0.83597701}, {\"run_id\": \"AutoML_415e87b7-c932-44e2-9303-71d0e67f8df7_1\", \"run_number\": 10, \"metric\": null, \"status\": \"Completed\", \"run_type\": \"azureml.scriptrun\", \"training_percent\": \"100\", \"start_time\": \"2021-02-12T02:46:26.504194Z\", \"end_time\": \"2021-02-12T02:48:51.937444Z\", \"created_time\": \"2021-02-12T02:46:14.010039Z\", \"created_time_dt\": \"2021-02-12T02:46:14.010039Z\", \"duration\": \"0:02:37\", \"iteration\": \"1\", \"goal\": \"accuracy_max\", \"run_name\": \"MaxAbsScaler, XGBoostClassifier\", \"run_properties\": \"copy=True\", \"primary_metric\": 0.83586207, \"best_metric\": 0.83597701}, {\"run_id\": \"AutoML_415e87b7-c932-44e2-9303-71d0e67f8df7_2\", \"run_number\": 11, \"metric\": null, \"status\": \"Completed\", \"run_type\": \"azureml.scriptrun\", \"training_percent\": \"100\", \"start_time\": \"2021-02-12T02:48:23.342384Z\", \"end_time\": \"2021-02-12T02:49:21.421579Z\", \"created_time\": \"2021-02-12T02:46:14.013457Z\", \"created_time_dt\": \"2021-02-12T02:46:14.013457Z\", \"duration\": \"0:03:07\", \"iteration\": \"2\", \"goal\": \"accuracy_max\", \"run_name\": \"MinMaxScaler, RandomForest\", \"run_properties\": \"copy=True, feature_range=(0, 1\", \"primary_metric\": 0.8362069, \"best_metric\": 0.8362069}, {\"run_id\": \"AutoML_415e87b7-c932-44e2-9303-71d0e67f8df7_3\", \"run_number\": 12, \"metric\": null, \"status\": \"Completed\", \"run_type\": \"azureml.scriptrun\", \"training_percent\": \"100\", \"start_time\": \"2021-02-12T02:47:25.871023Z\", \"end_time\": \"2021-02-12T02:48:22.689918Z\", \"created_time\": \"2021-02-12T02:46:14.027607Z\", \"created_time_dt\": \"2021-02-12T02:46:14.027607Z\", \"duration\": \"0:02:08\", \"iteration\": \"3\", \"goal\": \"accuracy_max\", \"run_name\": \"MinMaxScaler, RandomForest\", \"run_properties\": \"copy=True, feature_range=(0, 1\", \"primary_metric\": 0.8391954, \"best_metric\": 0.8391954}, {\"run_id\": \"AutoML_415e87b7-c932-44e2-9303-71d0e67f8df7_4\", \"run_number\": 13, \"metric\": null, \"status\": \"Completed\", \"run_type\": \"azureml.scriptrun\", \"training_percent\": \"100\", \"start_time\": \"2021-02-12T02:48:55.834665Z\", \"end_time\": \"2021-02-12T02:49:57.965166Z\", \"created_time\": \"2021-02-12T02:47:22.153997Z\", \"created_time_dt\": \"2021-02-12T02:47:22.153997Z\", \"duration\": \"0:02:35\", \"iteration\": \"4\", \"goal\": \"accuracy_max\", \"run_name\": \"MinMaxScaler, RandomForest\", \"run_properties\": \"copy=True, feature_range=(0, 1\", \"primary_metric\": 0.82218391, \"best_metric\": 0.8391954}, {\"run_id\": \"AutoML_415e87b7-c932-44e2-9303-71d0e67f8df7_5\", \"run_number\": 14, \"metric\": null, \"status\": \"Completed\", \"run_type\": \"azureml.scriptrun\", \"training_percent\": \"100\", \"start_time\": \"2021-02-12T02:49:17.130432Z\", \"end_time\": \"2021-02-12T02:51:48.196799Z\", \"created_time\": \"2021-02-12T02:48:25.864051Z\", \"created_time_dt\": \"2021-02-12T02:48:25.864051Z\", \"duration\": \"0:03:22\", \"iteration\": \"5\", \"goal\": \"accuracy_max\", \"run_name\": \"RobustScaler, LightGBM\", \"run_properties\": \"copy=True, quantile_range=[25, 75], with_centering=True,\\n             with_scaling=True\", \"primary_metric\": 0.84586207, \"best_metric\": 0.84586207}, {\"run_id\": \"AutoML_415e87b7-c932-44e2-9303-71d0e67f8df7_6\", \"run_number\": 15, \"metric\": null, \"status\": \"Completed\", \"run_type\": \"azureml.scriptrun\", \"training_percent\": \"100\", \"start_time\": \"2021-02-12T02:49:18.582853Z\", \"end_time\": \"2021-02-12T02:51:54.761705Z\", \"created_time\": \"2021-02-12T02:48:54.805961Z\", \"created_time_dt\": \"2021-02-12T02:48:54.805961Z\", \"duration\": \"0:02:59\", \"iteration\": \"6\", \"goal\": \"accuracy_max\", \"run_name\": \"RobustScaler, LightGBM\", \"run_properties\": \"copy=True, quantile_range=[25, 75], with_centering=True,\\n             with_scaling=False\", \"primary_metric\": 0.8491954, \"best_metric\": 0.8491954}, {\"run_id\": \"AutoML_415e87b7-c932-44e2-9303-71d0e67f8df7_7\", \"run_number\": 16, \"metric\": null, \"status\": \"Completed\", \"run_type\": \"azureml.scriptrun\", \"training_percent\": \"100\", \"start_time\": \"2021-02-12T02:49:40.753985Z\", \"end_time\": \"2021-02-12T02:50:46.77868Z\", \"created_time\": \"2021-02-12T02:49:23.807982Z\", \"created_time_dt\": \"2021-02-12T02:49:23.807982Z\", \"duration\": \"0:01:22\", \"iteration\": \"7\", \"goal\": \"accuracy_max\", \"run_name\": \"MinMaxScaler, SVM\", \"run_properties\": \"copy=True, feature_range=(0, 1\", \"primary_metric\": 0.72586207, \"best_metric\": 0.8491954}, {\"run_id\": \"AutoML_415e87b7-c932-44e2-9303-71d0e67f8df7_8\", \"run_number\": 17, \"metric\": null, \"status\": \"Completed\", \"run_type\": \"azureml.scriptrun\", \"training_percent\": \"100\", \"start_time\": \"2021-02-12T02:50:10.84241Z\", \"end_time\": \"2021-02-12T02:51:17.933094Z\", \"created_time\": \"2021-02-12T02:49:59.90735Z\", \"created_time_dt\": \"2021-02-12T02:49:59.90735Z\", \"duration\": \"0:01:18\", \"iteration\": \"8\", \"goal\": \"accuracy_max\", \"run_name\": \"SparseNormalizer, XGBoostClassifier\", \"run_properties\": \"<azureml.automl.runtime.shared.model_wrappers.SparseNormalizer object at 0x7fa610a47668\", \"primary_metric\": 0.82287356, \"best_metric\": 0.8491954}, {\"run_id\": \"AutoML_415e87b7-c932-44e2-9303-71d0e67f8df7_9\", \"run_number\": 18, \"metric\": null, \"status\": \"Completed\", \"run_type\": \"azureml.scriptrun\", \"training_percent\": \"100\", \"start_time\": \"2021-02-12T02:51:01.485071Z\", \"end_time\": \"2021-02-12T02:52:05.609494Z\", \"created_time\": \"2021-02-12T02:50:48.619931Z\", \"created_time_dt\": \"2021-02-12T02:50:48.619931Z\", \"duration\": \"0:01:16\", \"iteration\": \"9\", \"goal\": \"accuracy_max\", \"run_name\": \"MaxAbsScaler, GradientBoosting\", \"run_properties\": \"copy=True\", \"primary_metric\": 0.84252874, \"best_metric\": 0.8491954}, {\"run_id\": \"AutoML_415e87b7-c932-44e2-9303-71d0e67f8df7_10\", \"run_number\": 19, \"metric\": null, \"status\": \"Completed\", \"run_type\": \"azureml.scriptrun\", \"training_percent\": \"100\", \"start_time\": \"2021-02-12T02:51:29.874806Z\", \"end_time\": \"2021-02-12T02:52:30.766699Z\", \"created_time\": \"2021-02-12T02:51:19.758484Z\", \"created_time_dt\": \"2021-02-12T02:51:19.758484Z\", \"duration\": \"0:01:11\", \"iteration\": \"10\", \"goal\": \"accuracy_max\", \"run_name\": \"SparseNormalizer, LightGBM\", \"run_properties\": \"<azureml.automl.runtime.shared.model_wrappers.SparseNormalizer object at 0x7f43aa408780\", \"primary_metric\": 0.83287356, \"best_metric\": 0.8491954}, {\"run_id\": \"AutoML_415e87b7-c932-44e2-9303-71d0e67f8df7_11\", \"run_number\": 20, \"metric\": null, \"status\": \"Completed\", \"run_type\": \"azureml.scriptrun\", \"training_percent\": \"100\", \"start_time\": \"2021-02-12T02:52:00.955649Z\", \"end_time\": \"2021-02-12T02:53:01.664414Z\", \"created_time\": \"2021-02-12T02:51:49.949384Z\", \"created_time_dt\": \"2021-02-12T02:51:49.949384Z\", \"duration\": \"0:01:11\", \"iteration\": \"11\", \"goal\": \"accuracy_max\", \"run_name\": \"StandardScalerWrapper, RandomForest\", \"run_properties\": \"<azureml.automl.runtime.shared.model_wrappers.StandardScalerWrapper object at 0x7f556d7ae208\", \"primary_metric\": 0.84264368, \"best_metric\": 0.8491954}, {\"run_id\": \"AutoML_415e87b7-c932-44e2-9303-71d0e67f8df7_12\", \"run_number\": 21, \"metric\": null, \"status\": \"Completed\", \"run_type\": \"azureml.scriptrun\", \"training_percent\": \"100\", \"start_time\": \"2021-02-12T02:52:10.501582Z\", \"end_time\": \"2021-02-12T02:53:03.276179Z\", \"created_time\": \"2021-02-12T02:51:58.122681Z\", \"created_time_dt\": \"2021-02-12T02:51:58.122681Z\", \"duration\": \"0:01:05\", \"iteration\": \"12\", \"goal\": \"accuracy_max\", \"run_name\": \"StandardScalerWrapper, LightGBM\", \"run_properties\": \"<azureml.automl.runtime.shared.model_wrappers.StandardScalerWrapper object at 0x7faae8303208\", \"primary_metric\": 0.7391954, \"best_metric\": 0.8491954}, {\"run_id\": \"AutoML_415e87b7-c932-44e2-9303-71d0e67f8df7_13\", \"run_number\": 22, \"metric\": null, \"status\": \"Completed\", \"run_type\": \"azureml.scriptrun\", \"training_percent\": \"100\", \"start_time\": \"2021-02-12T02:52:17.882537Z\", \"end_time\": \"2021-02-12T02:53:09.373122Z\", \"created_time\": \"2021-02-12T02:52:07.456288Z\", \"created_time_dt\": \"2021-02-12T02:52:07.456288Z\", \"duration\": \"0:01:01\", \"iteration\": \"13\", \"goal\": \"accuracy_max\", \"run_name\": \"MaxAbsScaler, LightGBM\", \"run_properties\": \"copy=True\", \"primary_metric\": 0.82931034, \"best_metric\": 0.8491954}, {\"run_id\": \"AutoML_415e87b7-c932-44e2-9303-71d0e67f8df7_14\", \"run_number\": 23, \"metric\": null, \"status\": \"Completed\", \"run_type\": \"azureml.scriptrun\", \"training_percent\": \"100\", \"start_time\": \"2021-02-12T02:52:46.872045Z\", \"end_time\": \"2021-02-12T02:53:52.344881Z\", \"created_time\": \"2021-02-12T02:52:32.819333Z\", \"created_time_dt\": \"2021-02-12T02:52:32.819333Z\", \"duration\": \"0:01:19\", \"iteration\": \"14\", \"goal\": \"accuracy_max\", \"run_name\": \"RobustScaler, ExtremeRandomTrees\", \"run_properties\": \"copy=True, quantile_range=[25, 75], with_centering=True,\\n             with_scaling=False\", \"primary_metric\": 0.84942529, \"best_metric\": 0.84942529}, {\"run_id\": \"AutoML_415e87b7-c932-44e2-9303-71d0e67f8df7_15\", \"run_number\": 24, \"metric\": null, \"status\": \"Completed\", \"run_type\": \"azureml.scriptrun\", \"training_percent\": \"100\", \"start_time\": \"2021-02-12T02:53:19.713951Z\", \"end_time\": \"2021-02-12T02:54:42.271751Z\", \"created_time\": \"2021-02-12T02:53:04.652826Z\", \"created_time_dt\": \"2021-02-12T02:53:04.652826Z\", \"duration\": \"0:01:37\", \"iteration\": \"15\", \"goal\": \"accuracy_max\", \"run_name\": \"StandardScalerWrapper, RandomForest\", \"run_properties\": \"<azureml.automl.runtime.shared.model_wrappers.StandardScalerWrapper object at 0x7f0771b889e8\", \"primary_metric\": 0.83931034, \"best_metric\": 0.84942529}, {\"run_id\": \"AutoML_415e87b7-c932-44e2-9303-71d0e67f8df7_16\", \"run_number\": 25, \"metric\": null, \"status\": \"Completed\", \"run_type\": \"azureml.scriptrun\", \"training_percent\": \"100\", \"start_time\": \"2021-02-12T02:53:25.615307Z\", \"end_time\": \"2021-02-12T02:54:24.30637Z\", \"created_time\": \"2021-02-12T02:53:11.016996Z\", \"created_time_dt\": \"2021-02-12T02:53:11.016996Z\", \"duration\": \"0:01:13\", \"iteration\": \"16\", \"goal\": \"accuracy_max\", \"run_name\": \"StandardScalerWrapper, LightGBM\", \"run_properties\": \"<azureml.automl.runtime.shared.model_wrappers.StandardScalerWrapper object at 0x7f491366e630\", \"primary_metric\": 0.82264368, \"best_metric\": 0.84942529}, {\"run_id\": \"AutoML_415e87b7-c932-44e2-9303-71d0e67f8df7_17\", \"run_number\": 26, \"metric\": null, \"status\": \"Completed\", \"run_type\": \"azureml.scriptrun\", \"training_percent\": \"100\", \"start_time\": \"2021-02-12T02:53:32.720036Z\", \"end_time\": \"2021-02-12T02:54:41.263589Z\", \"created_time\": \"2021-02-12T02:53:17.309744Z\", \"created_time_dt\": \"2021-02-12T02:53:17.309744Z\", \"duration\": \"0:01:23\", \"iteration\": \"17\", \"goal\": \"accuracy_max\", \"run_name\": \"MinMaxScaler, LightGBM\", \"run_properties\": \"copy=True, feature_range=(0, 1\", \"primary_metric\": 0.84264368, \"best_metric\": 0.84942529}, {\"run_id\": \"AutoML_415e87b7-c932-44e2-9303-71d0e67f8df7_18\", \"run_number\": 27, \"metric\": null, \"status\": \"Completed\", \"run_type\": \"azureml.scriptrun\", \"training_percent\": \"100\", \"start_time\": \"2021-02-12T02:54:05.758845Z\", \"end_time\": \"2021-02-12T02:55:03.551596Z\", \"created_time\": \"2021-02-12T02:53:54.491538Z\", \"created_time_dt\": \"2021-02-12T02:53:54.491538Z\", \"duration\": \"0:01:09\", \"iteration\": \"18\", \"goal\": \"accuracy_max\", \"run_name\": \"StandardScalerWrapper, XGBoostClassifier\", \"run_properties\": \"<azureml.automl.runtime.shared.model_wrappers.StandardScalerWrapper object at 0x7f1443e482b0\", \"primary_metric\": 0.82931034, \"best_metric\": 0.84942529}, {\"run_id\": \"AutoML_415e87b7-c932-44e2-9303-71d0e67f8df7_19\", \"run_number\": 28, \"metric\": null, \"status\": \"Completed\", \"run_type\": \"azureml.scriptrun\", \"training_percent\": \"100\", \"start_time\": \"2021-02-12T02:54:38.927627Z\", \"end_time\": \"2021-02-12T02:55:43.906737Z\", \"created_time\": \"2021-02-12T02:54:26.052363Z\", \"created_time_dt\": \"2021-02-12T02:54:26.052363Z\", \"duration\": \"0:01:17\", \"iteration\": \"19\", \"goal\": \"accuracy_max\", \"run_name\": \"StandardScalerWrapper, LightGBM\", \"run_properties\": \"<azureml.automl.runtime.shared.model_wrappers.StandardScalerWrapper object at 0x7ff655614e48\", \"primary_metric\": 0.82597701, \"best_metric\": 0.84942529}, {\"run_id\": \"AutoML_415e87b7-c932-44e2-9303-71d0e67f8df7_20\", \"run_number\": 29, \"metric\": null, \"status\": \"Completed\", \"run_type\": \"azureml.scriptrun\", \"training_percent\": \"100\", \"start_time\": \"2021-02-12T02:54:58.172047Z\", \"end_time\": \"2021-02-12T02:56:38.694705Z\", \"created_time\": \"2021-02-12T02:54:43.755842Z\", \"created_time_dt\": \"2021-02-12T02:54:43.755842Z\", \"duration\": \"0:01:54\", \"iteration\": \"20\", \"goal\": \"accuracy_max\", \"run_name\": \"MaxAbsScaler, LightGBM\", \"run_properties\": \"copy=True\", \"primary_metric\": 0.77574713, \"best_metric\": 0.84942529}, {\"run_id\": \"AutoML_415e87b7-c932-44e2-9303-71d0e67f8df7_21\", \"run_number\": 30, \"metric\": null, \"status\": \"Completed\", \"run_type\": \"azureml.scriptrun\", \"training_percent\": \"100\", \"start_time\": \"2021-02-12T02:55:00.43096Z\", \"end_time\": \"2021-02-12T02:56:04.007323Z\", \"created_time\": \"2021-02-12T02:54:48.452941Z\", \"created_time_dt\": \"2021-02-12T02:54:48.452941Z\", \"duration\": \"0:01:15\", \"iteration\": \"21\", \"goal\": \"accuracy_max\", \"run_name\": \"MinMaxScaler, LightGBM\", \"run_properties\": \"copy=True, feature_range=(0, 1\", \"primary_metric\": 0.80931034, \"best_metric\": 0.84942529}, {\"run_id\": \"AutoML_415e87b7-c932-44e2-9303-71d0e67f8df7_22\", \"run_number\": 31, \"metric\": null, \"status\": \"Completed\", \"run_type\": \"azureml.scriptrun\", \"training_percent\": \"100\", \"start_time\": \"2021-02-12T02:55:17.419915Z\", \"end_time\": \"2021-02-12T02:56:08.370975Z\", \"created_time\": \"2021-02-12T02:55:05.314018Z\", \"created_time_dt\": \"2021-02-12T02:55:05.314018Z\", \"duration\": \"0:01:03\", \"iteration\": \"22\", \"goal\": \"accuracy_max\", \"run_name\": \"MinMaxScaler, LightGBM\", \"run_properties\": \"copy=True, feature_range=(0, 1\", \"primary_metric\": 0.80264368, \"best_metric\": 0.84942529}, {\"run_id\": \"AutoML_415e87b7-c932-44e2-9303-71d0e67f8df7_23\", \"run_number\": 32, \"metric\": null, \"status\": \"Completed\", \"run_type\": \"azureml.scriptrun\", \"training_percent\": \"100\", \"start_time\": \"2021-02-12T02:55:56.16809Z\", \"end_time\": \"2021-02-12T02:57:16.239215Z\", \"created_time\": \"2021-02-12T02:55:45.812266Z\", \"created_time_dt\": \"2021-02-12T02:55:45.812266Z\", \"duration\": \"0:01:30\", \"iteration\": \"23\", \"goal\": \"accuracy_max\", \"run_name\": \"MaxAbsScaler, LightGBM\", \"run_properties\": \"copy=True\", \"primary_metric\": 0.81597701, \"best_metric\": 0.84942529}, {\"run_id\": \"AutoML_415e87b7-c932-44e2-9303-71d0e67f8df7_24\", \"run_number\": 33, \"metric\": null, \"status\": \"Completed\", \"run_type\": \"azureml.scriptrun\", \"training_percent\": \"100\", \"start_time\": \"2021-02-12T02:56:19.404073Z\", \"end_time\": \"2021-02-12T02:57:15.110075Z\", \"created_time\": \"2021-02-12T02:56:05.574716Z\", \"created_time_dt\": \"2021-02-12T02:56:05.574716Z\", \"duration\": \"0:01:09\", \"iteration\": \"24\", \"goal\": \"accuracy_max\", \"run_name\": \"RobustScaler, LightGBM\", \"run_properties\": \"copy=True, quantile_range=[10, 90], with_centering=True,\\n             with_scaling=False\", \"primary_metric\": 0.77942529, \"best_metric\": 0.84942529}, {\"run_id\": \"AutoML_415e87b7-c932-44e2-9303-71d0e67f8df7_25\", \"run_number\": 34, \"metric\": null, \"status\": \"Completed\", \"run_type\": \"azureml.scriptrun\", \"training_percent\": \"100\", \"start_time\": \"2021-02-12T02:56:23.692479Z\", \"end_time\": \"2021-02-12T02:57:16.10988Z\", \"created_time\": \"2021-02-12T02:56:11.135165Z\", \"created_time_dt\": \"2021-02-12T02:56:11.135165Z\", \"duration\": \"0:01:04\", \"iteration\": \"25\", \"goal\": \"accuracy_max\", \"run_name\": \"MaxAbsScaler, ExtremeRandomTrees\", \"run_properties\": \"copy=True\", \"primary_metric\": 0.54413793, \"best_metric\": 0.84942529}, {\"run_id\": \"AutoML_415e87b7-c932-44e2-9303-71d0e67f8df7_26\", \"run_number\": 35, \"metric\": null, \"status\": \"Completed\", \"run_type\": \"azureml.scriptrun\", \"training_percent\": \"100\", \"start_time\": \"2021-02-12T02:56:53.168482Z\", \"end_time\": \"2021-02-12T02:57:45.588114Z\", \"created_time\": \"2021-02-12T02:56:40.666356Z\", \"created_time_dt\": \"2021-02-12T02:56:40.666356Z\", \"duration\": \"0:01:04\", \"iteration\": \"26\", \"goal\": \"accuracy_max\", \"run_name\": \"SparseNormalizer, XGBoostClassifier\", \"run_properties\": \"<azureml.automl.runtime.shared.model_wrappers.SparseNormalizer object at 0x7efe1863e5f8\", \"primary_metric\": 0.86965517, \"best_metric\": 0.86965517}, {\"run_id\": \"AutoML_415e87b7-c932-44e2-9303-71d0e67f8df7_27\", \"run_number\": 36, \"metric\": null, \"status\": \"Completed\", \"run_type\": \"azureml.scriptrun\", \"training_percent\": \"100\", \"start_time\": \"2021-02-12T02:57:29.080657Z\", \"end_time\": \"2021-02-12T02:58:21.192596Z\", \"created_time\": \"2021-02-12T02:57:17.014805Z\", \"created_time_dt\": \"2021-02-12T02:57:17.014805Z\", \"duration\": \"0:01:04\", \"iteration\": \"27\", \"goal\": \"accuracy_max\", \"run_name\": \"MaxAbsScaler, RandomForest\", \"run_properties\": \"copy=True\", \"primary_metric\": 0.82574713, \"best_metric\": 0.86965517}, {\"run_id\": \"AutoML_415e87b7-c932-44e2-9303-71d0e67f8df7_28\", \"run_number\": 37, \"metric\": null, \"status\": \"Completed\", \"run_type\": \"azureml.scriptrun\", \"training_percent\": \"100\", \"start_time\": \"2021-02-12T02:57:33.556251Z\", \"end_time\": \"2021-02-12T02:58:35.680915Z\", \"created_time\": \"2021-02-12T02:57:20.442359Z\", \"created_time_dt\": \"2021-02-12T02:57:20.442359Z\", \"duration\": \"0:01:15\", \"iteration\": \"28\", \"goal\": \"accuracy_max\", \"run_name\": \"SparseNormalizer, RandomForest\", \"run_properties\": \"<azureml.automl.runtime.shared.model_wrappers.SparseNormalizer object at 0x7f33485c5c88\", \"primary_metric\": 0.81632184, \"best_metric\": 0.86965517}, {\"run_id\": \"AutoML_415e87b7-c932-44e2-9303-71d0e67f8df7_29\", \"run_number\": 38, \"metric\": null, \"status\": \"Completed\", \"run_type\": \"azureml.scriptrun\", \"training_percent\": \"100\", \"start_time\": \"2021-02-12T02:57:33.931949Z\", \"end_time\": \"2021-02-12T02:58:30.233832Z\", \"created_time\": \"2021-02-12T02:57:20.489132Z\", \"created_time_dt\": \"2021-02-12T02:57:20.489132Z\", \"duration\": \"0:01:09\", \"iteration\": \"29\", \"goal\": \"accuracy_max\", \"run_name\": \"StandardScalerWrapper, RandomForest\", \"run_properties\": \"<azureml.automl.runtime.shared.model_wrappers.StandardScalerWrapper object at 0x7f5fd5cc46d8\", \"primary_metric\": 0.84275862, \"best_metric\": 0.86965517}, {\"run_id\": \"AutoML_415e87b7-c932-44e2-9303-71d0e67f8df7_30\", \"run_number\": 39, \"metric\": null, \"status\": \"Completed\", \"run_type\": \"azureml.scriptrun\", \"training_percent\": \"100\", \"start_time\": \"2021-02-12T02:58:01.273587Z\", \"end_time\": \"2021-02-12T02:59:02.564609Z\", \"created_time\": \"2021-02-12T02:57:49.10664Z\", \"created_time_dt\": \"2021-02-12T02:57:49.10664Z\", \"duration\": \"0:01:13\", \"iteration\": \"30\", \"goal\": \"accuracy_max\", \"run_name\": \"StandardScalerWrapper, XGBoostClassifier\", \"run_properties\": \"<azureml.automl.runtime.shared.model_wrappers.StandardScalerWrapper object at 0x7fb66835eb38\", \"primary_metric\": 0.6791954, \"best_metric\": 0.86965517}, {\"run_id\": \"AutoML_415e87b7-c932-44e2-9303-71d0e67f8df7_31\", \"run_number\": 40, \"metric\": null, \"status\": \"Completed\", \"run_type\": \"azureml.scriptrun\", \"training_percent\": \"100\", \"start_time\": \"2021-02-12T02:58:35.266394Z\", \"end_time\": \"2021-02-12T02:59:30.470925Z\", \"created_time\": \"2021-02-12T02:58:23.030119Z\", \"created_time_dt\": \"2021-02-12T02:58:23.030119Z\", \"duration\": \"0:01:07\", \"iteration\": \"31\", \"goal\": \"accuracy_max\", \"run_name\": \"SparseNormalizer, LightGBM\", \"run_properties\": \"<azureml.automl.runtime.shared.model_wrappers.SparseNormalizer object at 0x7fda033244a8\", \"primary_metric\": 0.82287356, \"best_metric\": 0.86965517}, {\"run_id\": \"AutoML_415e87b7-c932-44e2-9303-71d0e67f8df7_32\", \"run_number\": 41, \"metric\": null, \"status\": \"Completed\", \"run_type\": \"azureml.scriptrun\", \"training_percent\": \"100\", \"start_time\": \"2021-02-12T02:58:43.242019Z\", \"end_time\": \"2021-02-12T02:59:34.412707Z\", \"created_time\": \"2021-02-12T02:58:32.015752Z\", \"created_time_dt\": \"2021-02-12T02:58:32.015752Z\", \"duration\": \"0:01:02\", \"iteration\": \"32\", \"goal\": \"accuracy_max\", \"run_name\": \"SparseNormalizer, LightGBM\", \"run_properties\": \"<azureml.automl.runtime.shared.model_wrappers.SparseNormalizer object at 0x7f07d5a50208\", \"primary_metric\": 0.84942529, \"best_metric\": 0.86965517}, {\"run_id\": \"AutoML_415e87b7-c932-44e2-9303-71d0e67f8df7_33\", \"run_number\": 42, \"metric\": null, \"status\": \"Completed\", \"run_type\": \"azureml.scriptrun\", \"training_percent\": \"100\", \"start_time\": \"2021-02-12T02:58:50.546286Z\", \"end_time\": \"2021-02-12T02:59:48.717426Z\", \"created_time\": \"2021-02-12T02:58:37.672579Z\", \"created_time_dt\": \"2021-02-12T02:58:37.672579Z\", \"duration\": \"0:01:11\", \"iteration\": \"33\", \"goal\": \"accuracy_max\", \"run_name\": \"StandardScalerWrapper, LightGBM\", \"run_properties\": \"<azureml.automl.runtime.shared.model_wrappers.StandardScalerWrapper object at 0x7f7a8da78940\", \"primary_metric\": 0.82586207, \"best_metric\": 0.86965517}, {\"run_id\": \"AutoML_415e87b7-c932-44e2-9303-71d0e67f8df7_34\", \"run_number\": 43, \"metric\": null, \"status\": \"Completed\", \"run_type\": \"azureml.scriptrun\", \"training_percent\": \"100\", \"start_time\": \"2021-02-12T02:59:16.711762Z\", \"end_time\": \"2021-02-12T03:00:18.227571Z\", \"created_time\": \"2021-02-12T02:59:04.444449Z\", \"created_time_dt\": \"2021-02-12T02:59:04.444449Z\", \"duration\": \"0:01:13\", \"iteration\": \"34\", \"goal\": \"accuracy_max\", \"run_name\": \"MaxAbsScaler, LightGBM\", \"run_properties\": \"copy=True\", \"primary_metric\": 0.82931034, \"best_metric\": 0.86965517}, {\"run_id\": \"AutoML_415e87b7-c932-44e2-9303-71d0e67f8df7_35\", \"run_number\": 44, \"metric\": null, \"status\": \"Completed\", \"run_type\": \"azureml.scriptrun\", \"training_percent\": \"100\", \"start_time\": \"2021-02-12T02:59:44.553292Z\", \"end_time\": \"2021-02-12T03:00:47.688455Z\", \"created_time\": \"2021-02-12T02:59:33.127831Z\", \"created_time_dt\": \"2021-02-12T02:59:33.127831Z\", \"duration\": \"0:01:14\", \"iteration\": \"35\", \"goal\": \"accuracy_max\", \"run_name\": \"StandardScalerWrapper, XGBoostClassifier\", \"run_properties\": \"<azureml.automl.runtime.shared.model_wrappers.StandardScalerWrapper object at 0x7fac7666d550\", \"primary_metric\": 0.85264368, \"best_metric\": 0.86965517}, {\"run_id\": \"AutoML_415e87b7-c932-44e2-9303-71d0e67f8df7_36\", \"run_number\": 45, \"metric\": null, \"status\": \"Completed\", \"run_type\": \"azureml.scriptrun\", \"training_percent\": \"100\", \"start_time\": \"2021-02-12T02:59:49.892942Z\", \"end_time\": \"2021-02-12T03:00:41.887764Z\", \"created_time\": \"2021-02-12T02:59:37.453761Z\", \"created_time_dt\": \"2021-02-12T02:59:37.453761Z\", \"duration\": \"0:01:04\", \"iteration\": \"36\", \"goal\": \"accuracy_max\", \"run_name\": \"StandardScalerWrapper, LightGBM\", \"run_properties\": \"<azureml.automl.runtime.shared.model_wrappers.StandardScalerWrapper object at 0x7fe2b54360f0\", \"primary_metric\": 0.85287356, \"best_metric\": 0.86965517}, {\"run_id\": \"AutoML_415e87b7-c932-44e2-9303-71d0e67f8df7_37\", \"run_number\": 46, \"metric\": null, \"status\": \"Completed\", \"run_type\": \"azureml.scriptrun\", \"training_percent\": \"100\", \"start_time\": \"2021-02-12T03:00:03.305703Z\", \"end_time\": \"2021-02-12T03:00:57.948176Z\", \"created_time\": \"2021-02-12T02:59:50.531782Z\", \"created_time_dt\": \"2021-02-12T02:59:50.531782Z\", \"duration\": \"0:01:07\", \"iteration\": \"37\", \"goal\": \"accuracy_max\", \"run_name\": \"StandardScalerWrapper, XGBoostClassifier\", \"run_properties\": \"<azureml.automl.runtime.shared.model_wrappers.StandardScalerWrapper object at 0x7fb640f73be0\", \"primary_metric\": 0.80586207, \"best_metric\": 0.86965517}, {\"run_id\": \"AutoML_415e87b7-c932-44e2-9303-71d0e67f8df7_38\", \"run_number\": 47, \"metric\": null, \"status\": \"Completed\", \"run_type\": \"azureml.scriptrun\", \"training_percent\": \"100\", \"start_time\": \"2021-02-12T03:00:29.97848Z\", \"end_time\": \"2021-02-12T03:01:23.607359Z\", \"created_time\": \"2021-02-12T03:00:20.039871Z\", \"created_time_dt\": \"2021-02-12T03:00:20.039871Z\", \"duration\": \"0:01:03\", \"iteration\": \"38\", \"goal\": \"accuracy_max\", \"run_name\": \"StandardScalerWrapper, XGBoostClassifier\", \"run_properties\": \"<azureml.automl.runtime.shared.model_wrappers.StandardScalerWrapper object at 0x7f414c181668\", \"primary_metric\": 0.83942529, \"best_metric\": 0.86965517}, {\"run_id\": \"AutoML_415e87b7-c932-44e2-9303-71d0e67f8df7_39\", \"run_number\": 48, \"metric\": null, \"status\": \"Completed\", \"run_type\": \"azureml.scriptrun\", \"training_percent\": \"100\", \"start_time\": \"2021-02-12T03:01:00.923719Z\", \"end_time\": \"2021-02-12T03:02:01.496077Z\", \"created_time\": \"2021-02-12T03:00:46.8298Z\", \"created_time_dt\": \"2021-02-12T03:00:46.8298Z\", \"duration\": \"0:01:14\", \"iteration\": \"39\", \"goal\": \"accuracy_max\", \"run_name\": \"StandardScalerWrapper, XGBoostClassifier\", \"run_properties\": \"<azureml.automl.runtime.shared.model_wrappers.StandardScalerWrapper object at 0x7f13e03f28d0\", \"primary_metric\": 0.82586207, \"best_metric\": 0.86965517}, {\"run_id\": \"AutoML_415e87b7-c932-44e2-9303-71d0e67f8df7_40\", \"run_number\": 49, \"metric\": null, \"status\": \"Completed\", \"run_type\": \"azureml.scriptrun\", \"training_percent\": \"100\", \"start_time\": \"2021-02-12T03:01:07.764473Z\", \"end_time\": \"2021-02-12T03:02:03.307394Z\", \"created_time\": \"2021-02-12T03:00:54.347931Z\", \"created_time_dt\": \"2021-02-12T03:00:54.347931Z\", \"duration\": \"0:01:08\", \"iteration\": \"40\", \"goal\": \"accuracy_max\", \"run_name\": \"StandardScalerWrapper, XGBoostClassifier\", \"run_properties\": \"<azureml.automl.runtime.shared.model_wrappers.StandardScalerWrapper object at 0x7f88df9c4f98\", \"primary_metric\": 0.84264368, \"best_metric\": 0.86965517}, {\"run_id\": \"AutoML_415e87b7-c932-44e2-9303-71d0e67f8df7_41\", \"run_number\": 50, \"metric\": null, \"status\": \"Canceled\", \"run_type\": \"azureml.scriptrun\", \"training_percent\": \"100\", \"start_time\": \"2021-02-12T03:01:15.57708Z\", \"end_time\": \"2021-02-12T03:02:09.503218Z\", \"created_time\": \"2021-02-12T03:01:00.647107Z\", \"created_time_dt\": \"2021-02-12T03:01:00.647107Z\", \"duration\": \"0:01:08\", \"iteration\": \"41\", \"goal\": \"accuracy_max\", \"run_name\": \"StandardScalerWrapper, LightGBM\", \"run_properties\": \"<azureml.automl.runtime.shared.model_wrappers.StandardScalerWrapper object at 0x7f65613fa240\", \"primary_metric\": 0.8391954, \"best_metric\": 0.86965517}, {\"run_id\": \"AutoML_415e87b7-c932-44e2-9303-71d0e67f8df7_42\", \"run_number\": 51, \"metric\": null, \"status\": \"Canceled\", \"run_type\": \"azureml.scriptrun\", \"training_percent\": \"100\", \"start_time\": \"2021-02-12T03:01:37.300203Z\", \"end_time\": \"2021-02-12T03:02:11.141148Z\", \"created_time\": \"2021-02-12T03:01:25.274Z\", \"created_time_dt\": \"2021-02-12T03:01:25.274Z\", \"duration\": \"0:00:45\", \"iteration\": \"42\", \"goal\": \"accuracy_max\", \"run_name\": \"MaxAbsScaler, LightGBM\", \"run_properties\": \"copy=True\", \"primary_metric\": 0.83931034, \"best_metric\": 0.86965517}, {\"run_id\": \"AutoML_415e87b7-c932-44e2-9303-71d0e67f8df7_43\", \"run_number\": 52, \"metric\": null, \"status\": \"Completed\", \"run_type\": \"azureml.scriptrun\", \"training_percent\": \"100\", \"start_time\": \"2021-02-12T03:02:25.526532Z\", \"end_time\": \"2021-02-12T03:04:42.3796Z\", \"created_time\": \"2021-02-12T03:02:12.231776Z\", \"created_time_dt\": \"2021-02-12T03:02:12.231776Z\", \"duration\": \"0:02:30\", \"iteration\": \"43\", \"goal\": \"accuracy_max\", \"run_name\": \"VotingEnsemble\", \"run_properties\": \"classification_labels=None,\\n                              estimators=[('26',\\n                                           Pipeline(memory=None,\\n                                                    steps=[('sparsenormalizer',\\n                                                            <azureml.automl.runtime.shared.model_wrappers.SparseNormalizer object at 0x7effa2f58d30>\", \"primary_metric\": 0.87965517, \"best_metric\": 0.87965517}, {\"run_id\": \"AutoML_415e87b7-c932-44e2-9303-71d0e67f8df7_44\", \"run_number\": 53, \"metric\": null, \"status\": \"Completed\", \"run_type\": \"azureml.scriptrun\", \"training_percent\": \"100\", \"start_time\": \"2021-02-12T03:02:24.419949Z\", \"end_time\": \"2021-02-12T03:05:08.173133Z\", \"created_time\": \"2021-02-12T03:02:12.260096Z\", \"created_time_dt\": \"2021-02-12T03:02:12.260096Z\", \"duration\": \"0:02:55\", \"iteration\": \"44\", \"goal\": \"accuracy_max\", \"run_name\": \"StackEnsemble\", \"run_properties\": \"base_learners=[('26',\\n                                        Pipeline(memory=None,\\n                                                 steps=[('sparsenormalizer',\\n                                                         <azureml.automl.runtime.shared.model_wrappers.SparseNormalizer object at 0x7f57f605c5f8>\", \"primary_metric\": 0.87632184, \"best_metric\": 0.87965517}], \"children_metrics\": {\"categories\": [0], \"series\": {\"precision_score_micro\": [{\"categories\": [\"0\", \"1\", \"2\", \"3\", \"4\", \"5\", \"6\", \"7\", \"8\", \"9\", \"10\", \"11\", \"12\", \"13\", \"14\", \"15\", \"16\", \"17\", \"18\", \"19\", \"20\", \"21\", \"22\", \"23\", \"24\", \"25\", \"26\", \"27\", \"28\", \"29\", \"30\", \"31\", \"32\", \"33\", \"34\", \"35\", \"36\", \"37\", \"38\", \"39\", \"40\", \"41\", \"42\", \"43\", \"44\"], \"mode\": \"markers\", \"name\": \"precision_score_micro\", \"stepped\": false, \"type\": \"scatter\", \"data\": [0.8359770114942527, 0.8358620689655172, 0.8362068965517242, 0.8391954022988506, 0.8221839080459772, 0.8458620689655172, 0.8491954022988507, 0.7258620689655173, 0.8228735632183908, 0.8425287356321839, 0.8328735632183909, 0.8426436781609195, 0.7391954022988505, 0.8293103448275861, 0.849425287356322, 0.8393103448275863, 0.8226436781609194, 0.8426436781609195, 0.8293103448275861, 0.825977011494253, 0.7757471264367817, 0.8093103448275862, 0.8026436781609195, 0.8159770114942528, 0.7794252873563219, 0.5441379310344827, 0.8696551724137931, 0.8257471264367815, 0.8163218390804599, 0.8427586206896551, 0.6791954022988507, 0.8228735632183909, 0.849425287356322, 0.8258620689655173, 0.8293103448275861, 0.8526436781609196, 0.8528735632183908, 0.8058620689655172, 0.8394252873563219, 0.8258620689655171, 0.8426436781609198, 0.8391954022988506, 0.8393103448275863, 0.8796551724137931, 0.8763218390804598]}, {\"categories\": [\"0\", \"1\", \"2\", \"3\", \"4\", \"5\", \"6\", \"7\", \"8\", \"9\", \"10\", \"11\", \"12\", \"13\", \"14\", \"15\", \"16\", \"17\", \"18\", \"19\", \"20\", \"21\", \"22\", \"23\", \"24\", \"25\", \"26\", \"27\", \"28\", \"29\", \"30\", \"31\", \"32\", \"33\", \"34\", \"35\", \"36\", \"37\", \"38\", \"39\", \"40\", \"41\", \"42\", \"43\", \"44\"], \"mode\": \"lines\", \"name\": \"precision_score_micro_max\", \"stepped\": true, \"type\": \"scatter\", \"data\": [0.8359770114942527, 0.8359770114942527, 0.8362068965517242, 0.8391954022988506, 0.8391954022988506, 0.8458620689655172, 0.8491954022988507, 0.8491954022988507, 0.8491954022988507, 0.8491954022988507, 0.8491954022988507, 0.8491954022988507, 0.8491954022988507, 0.8491954022988507, 0.849425287356322, 0.849425287356322, 0.849425287356322, 0.849425287356322, 0.849425287356322, 0.849425287356322, 0.849425287356322, 0.849425287356322, 0.849425287356322, 0.849425287356322, 0.849425287356322, 0.849425287356322, 0.8696551724137931, 0.8696551724137931, 0.8696551724137931, 0.8696551724137931, 0.8696551724137931, 0.8696551724137931, 0.8696551724137931, 0.8696551724137931, 0.8696551724137931, 0.8696551724137931, 0.8696551724137931, 0.8696551724137931, 0.8696551724137931, 0.8696551724137931, 0.8696551724137931, 0.8696551724137931, 0.8696551724137931, 0.8796551724137931, 0.8796551724137931]}], \"balanced_accuracy\": [{\"categories\": [\"0\", \"1\", \"2\", \"3\", \"4\", \"5\", \"6\", \"7\", \"8\", \"9\", \"10\", \"11\", \"12\", \"13\", \"14\", \"15\", \"16\", \"17\", \"18\", \"19\", \"20\", \"21\", \"22\", \"23\", \"24\", \"25\", \"26\", \"27\", \"28\", \"29\", \"30\", \"31\", \"32\", \"33\", \"34\", \"35\", \"36\", \"37\", \"38\", \"39\", \"40\", \"41\", \"42\", \"43\", \"44\"], \"mode\": \"markers\", \"name\": \"balanced_accuracy\", \"stepped\": false, \"type\": \"scatter\", \"data\": [0.8077082895810014, 0.8130249020938379, 0.8073910826968607, 0.7937427412404529, 0.8042784241565707, 0.820009484762631, 0.8182711142150503, 0.6467861262180483, 0.785013547950905, 0.8161836322525684, 0.7999603913439726, 0.8073366217751229, 0.60502886002886, 0.7869737704769169, 0.8015083389468399, 0.8098528555413568, 0.7647936289174846, 0.8103882726414191, 0.7823264580258287, 0.7698189763770427, 0.6898960820199378, 0.7193346054530265, 0.7237428799270904, 0.7407206624103077, 0.673970152654363, 0.6188781097176406, 0.8467527159466519, 0.8235593727401508, 0.7458773865658876, 0.8135883941573301, 0.5, 0.7715784735224094, 0.8163366853398317, 0.7772883666676573, 0.7606536577775136, 0.8144415051957958, 0.8219444547633905, 0.7611262188739305, 0.8094936117467582, 0.8051596518470088, 0.8018577256712268, 0.8156263678795141, 0.7913579374160038, 0.8475941975326986, 0.8454202844892205]}, {\"categories\": [\"0\", \"1\", \"2\", \"3\", \"4\", \"5\", \"6\", \"7\", \"8\", \"9\", \"10\", \"11\", \"12\", \"13\", \"14\", \"15\", \"16\", \"17\", \"18\", \"19\", \"20\", \"21\", \"22\", \"23\", \"24\", \"25\", \"26\", \"27\", \"28\", \"29\", \"30\", \"31\", \"32\", \"33\", \"34\", \"35\", \"36\", \"37\", \"38\", \"39\", \"40\", \"41\", \"42\", \"43\", \"44\"], \"mode\": \"lines\", \"name\": \"balanced_accuracy_max\", \"stepped\": true, \"type\": \"scatter\", \"data\": [0.8077082895810014, 0.8130249020938379, 0.8130249020938379, 0.8130249020938379, 0.8130249020938379, 0.820009484762631, 0.820009484762631, 0.820009484762631, 0.820009484762631, 0.820009484762631, 0.820009484762631, 0.820009484762631, 0.820009484762631, 0.820009484762631, 0.820009484762631, 0.820009484762631, 0.820009484762631, 0.820009484762631, 0.820009484762631, 0.820009484762631, 0.820009484762631, 0.820009484762631, 0.820009484762631, 0.820009484762631, 0.820009484762631, 0.820009484762631, 0.8467527159466519, 0.8467527159466519, 0.8467527159466519, 0.8467527159466519, 0.8467527159466519, 0.8467527159466519, 0.8467527159466519, 0.8467527159466519, 0.8467527159466519, 0.8467527159466519, 0.8467527159466519, 0.8467527159466519, 0.8467527159466519, 0.8467527159466519, 0.8467527159466519, 0.8467527159466519, 0.8467527159466519, 0.8475941975326986, 0.8475941975326986]}], \"matthews_correlation\": [{\"categories\": [\"0\", \"1\", \"2\", \"3\", \"4\", \"5\", \"6\", \"7\", \"8\", \"9\", \"10\", \"11\", \"12\", \"13\", \"14\", \"15\", \"16\", \"17\", \"18\", \"19\", \"20\", \"21\", \"22\", \"23\", \"24\", \"25\", \"26\", \"27\", \"28\", \"29\", \"30\", \"31\", \"32\", \"33\", \"34\", \"35\", \"36\", \"37\", \"38\", \"39\", \"40\", \"41\", \"42\", \"43\", \"44\"], \"mode\": \"markers\", \"name\": \"matthews_correlation\", \"stepped\": false, \"type\": \"scatter\", \"data\": [0.6231314496952846, 0.6345538749068885, 0.6252804816511637, 0.6185740529247861, 0.5974138814279437, 0.6506355910755254, 0.6609509284584025, 0.33541108605682224, 0.5926056841761447, 0.6393392277858563, 0.6251514690683962, 0.6359367671692667, 0.30923138770756675, 0.6050404127354617, 0.658396075528286, 0.6325062616938255, 0.5839565871463948, 0.6355886979602132, 0.6044128177950042, 0.592534049964103, 0.4519046300757797, 0.5503307915612837, 0.538863619506813, 0.5576406829489285, 0.4788202096540526, 0.2447667312620813, 0.7107038797583013, 0.6199998019211954, 0.5634178733517023, 0.6372172209767355, 0.0, 0.5882719447657865, 0.6639600430898185, 0.6017028936543165, 0.5976543776613593, 0.6572031395362287, 0.6678895783910546, 0.5527071889517196, 0.6296966321415705, 0.6086310100471407, 0.639933734490933, 0.6375379861958811, 0.6218145550736728, 0.7351420424664441, 0.7285506498533574]}, {\"categories\": [\"0\", \"1\", \"2\", \"3\", \"4\", \"5\", \"6\", \"7\", \"8\", \"9\", \"10\", \"11\", \"12\", \"13\", \"14\", \"15\", \"16\", \"17\", \"18\", \"19\", \"20\", \"21\", \"22\", \"23\", \"24\", \"25\", \"26\", \"27\", \"28\", \"29\", \"30\", \"31\", \"32\", \"33\", \"34\", \"35\", \"36\", \"37\", \"38\", \"39\", \"40\", \"41\", \"42\", \"43\", \"44\"], \"mode\": \"lines\", \"name\": \"matthews_correlation_max\", \"stepped\": true, \"type\": \"scatter\", \"data\": [0.6231314496952846, 0.6345538749068885, 0.6345538749068885, 0.6345538749068885, 0.6345538749068885, 0.6506355910755254, 0.6609509284584025, 0.6609509284584025, 0.6609509284584025, 0.6609509284584025, 0.6609509284584025, 0.6609509284584025, 0.6609509284584025, 0.6609509284584025, 0.6609509284584025, 0.6609509284584025, 0.6609509284584025, 0.6609509284584025, 0.6609509284584025, 0.6609509284584025, 0.6609509284584025, 0.6609509284584025, 0.6609509284584025, 0.6609509284584025, 0.6609509284584025, 0.6609509284584025, 0.7107038797583013, 0.7107038797583013, 0.7107038797583013, 0.7107038797583013, 0.7107038797583013, 0.7107038797583013, 0.7107038797583013, 0.7107038797583013, 0.7107038797583013, 0.7107038797583013, 0.7107038797583013, 0.7107038797583013, 0.7107038797583013, 0.7107038797583013, 0.7107038797583013, 0.7107038797583013, 0.7107038797583013, 0.7351420424664441, 0.7351420424664441]}], \"recall_score_micro\": [{\"categories\": [\"0\", \"1\", \"2\", \"3\", \"4\", \"5\", \"6\", \"7\", \"8\", \"9\", \"10\", \"11\", \"12\", \"13\", \"14\", \"15\", \"16\", \"17\", \"18\", \"19\", \"20\", \"21\", \"22\", \"23\", \"24\", \"25\", \"26\", \"27\", \"28\", \"29\", \"30\", \"31\", \"32\", \"33\", \"34\", \"35\", \"36\", \"37\", \"38\", \"39\", \"40\", \"41\", \"42\", \"43\", \"44\"], \"mode\": \"markers\", \"name\": \"recall_score_micro\", \"stepped\": false, \"type\": \"scatter\", \"data\": [0.8359770114942527, 0.8358620689655172, 0.8362068965517242, 0.8391954022988506, 0.8221839080459772, 0.8458620689655172, 0.8491954022988507, 0.7258620689655173, 0.8228735632183908, 0.8425287356321839, 0.8328735632183909, 0.8426436781609195, 0.7391954022988505, 0.8293103448275861, 0.849425287356322, 0.8393103448275863, 0.8226436781609194, 0.8426436781609195, 0.8293103448275861, 0.825977011494253, 0.7757471264367817, 0.8093103448275862, 0.8026436781609195, 0.8159770114942528, 0.7794252873563219, 0.5441379310344827, 0.8696551724137931, 0.8257471264367815, 0.8163218390804599, 0.8427586206896551, 0.6791954022988507, 0.8228735632183909, 0.849425287356322, 0.8258620689655173, 0.8293103448275861, 0.8526436781609196, 0.8528735632183908, 0.8058620689655172, 0.8394252873563219, 0.8258620689655171, 0.8426436781609198, 0.8391954022988506, 0.8393103448275863, 0.8796551724137931, 0.8763218390804598]}, {\"categories\": [\"0\", \"1\", \"2\", \"3\", \"4\", \"5\", \"6\", \"7\", \"8\", \"9\", \"10\", \"11\", \"12\", \"13\", \"14\", \"15\", \"16\", \"17\", \"18\", \"19\", \"20\", \"21\", \"22\", \"23\", \"24\", \"25\", \"26\", \"27\", \"28\", \"29\", \"30\", \"31\", \"32\", \"33\", \"34\", \"35\", \"36\", \"37\", \"38\", \"39\", \"40\", \"41\", \"42\", \"43\", \"44\"], \"mode\": \"lines\", \"name\": \"recall_score_micro_max\", \"stepped\": true, \"type\": \"scatter\", \"data\": [0.8359770114942527, 0.8359770114942527, 0.8362068965517242, 0.8391954022988506, 0.8391954022988506, 0.8458620689655172, 0.8491954022988507, 0.8491954022988507, 0.8491954022988507, 0.8491954022988507, 0.8491954022988507, 0.8491954022988507, 0.8491954022988507, 0.8491954022988507, 0.849425287356322, 0.849425287356322, 0.849425287356322, 0.849425287356322, 0.849425287356322, 0.849425287356322, 0.849425287356322, 0.849425287356322, 0.849425287356322, 0.849425287356322, 0.849425287356322, 0.849425287356322, 0.8696551724137931, 0.8696551724137931, 0.8696551724137931, 0.8696551724137931, 0.8696551724137931, 0.8696551724137931, 0.8696551724137931, 0.8696551724137931, 0.8696551724137931, 0.8696551724137931, 0.8696551724137931, 0.8696551724137931, 0.8696551724137931, 0.8696551724137931, 0.8696551724137931, 0.8696551724137931, 0.8696551724137931, 0.8796551724137931, 0.8796551724137931]}], \"recall_score_macro\": [{\"categories\": [\"0\", \"1\", \"2\", \"3\", \"4\", \"5\", \"6\", \"7\", \"8\", \"9\", \"10\", \"11\", \"12\", \"13\", \"14\", \"15\", \"16\", \"17\", \"18\", \"19\", \"20\", \"21\", \"22\", \"23\", \"24\", \"25\", \"26\", \"27\", \"28\", \"29\", \"30\", \"31\", \"32\", \"33\", \"34\", \"35\", \"36\", \"37\", \"38\", \"39\", \"40\", \"41\", \"42\", \"43\", \"44\"], \"mode\": \"markers\", \"name\": \"recall_score_macro\", \"stepped\": false, \"type\": \"scatter\", \"data\": [0.8077082895810014, 0.8130249020938379, 0.8073910826968607, 0.7937427412404529, 0.8042784241565707, 0.820009484762631, 0.8182711142150503, 0.6467861262180483, 0.785013547950905, 0.8161836322525684, 0.7999603913439726, 0.8073366217751229, 0.60502886002886, 0.7869737704769169, 0.8015083389468399, 0.8098528555413568, 0.7647936289174846, 0.8103882726414191, 0.7823264580258287, 0.7698189763770427, 0.6898960820199378, 0.7193346054530265, 0.7237428799270904, 0.7407206624103077, 0.673970152654363, 0.6188781097176406, 0.8467527159466519, 0.8235593727401508, 0.7458773865658876, 0.8135883941573301, 0.5, 0.7715784735224094, 0.8163366853398317, 0.7772883666676573, 0.7606536577775136, 0.8144415051957958, 0.8219444547633905, 0.7611262188739305, 0.8094936117467582, 0.8051596518470088, 0.8018577256712268, 0.8156263678795141, 0.7913579374160038, 0.8475941975326986, 0.8454202844892205]}, {\"categories\": [\"0\", \"1\", \"2\", \"3\", \"4\", \"5\", \"6\", \"7\", \"8\", \"9\", \"10\", \"11\", \"12\", \"13\", \"14\", \"15\", \"16\", \"17\", \"18\", \"19\", \"20\", \"21\", \"22\", \"23\", \"24\", \"25\", \"26\", \"27\", \"28\", \"29\", \"30\", \"31\", \"32\", \"33\", \"34\", \"35\", \"36\", \"37\", \"38\", \"39\", \"40\", \"41\", \"42\", \"43\", \"44\"], \"mode\": \"lines\", \"name\": \"recall_score_macro_max\", \"stepped\": true, \"type\": \"scatter\", \"data\": [0.8077082895810014, 0.8130249020938379, 0.8130249020938379, 0.8130249020938379, 0.8130249020938379, 0.820009484762631, 0.820009484762631, 0.820009484762631, 0.820009484762631, 0.820009484762631, 0.820009484762631, 0.820009484762631, 0.820009484762631, 0.820009484762631, 0.820009484762631, 0.820009484762631, 0.820009484762631, 0.820009484762631, 0.820009484762631, 0.820009484762631, 0.820009484762631, 0.820009484762631, 0.820009484762631, 0.820009484762631, 0.820009484762631, 0.820009484762631, 0.8467527159466519, 0.8467527159466519, 0.8467527159466519, 0.8467527159466519, 0.8467527159466519, 0.8467527159466519, 0.8467527159466519, 0.8467527159466519, 0.8467527159466519, 0.8467527159466519, 0.8467527159466519, 0.8467527159466519, 0.8467527159466519, 0.8467527159466519, 0.8467527159466519, 0.8467527159466519, 0.8467527159466519, 0.8475941975326986, 0.8475941975326986]}], \"f1_score_weighted\": [{\"categories\": [\"0\", \"1\", \"2\", \"3\", \"4\", \"5\", \"6\", \"7\", \"8\", \"9\", \"10\", \"11\", \"12\", \"13\", \"14\", \"15\", \"16\", \"17\", \"18\", \"19\", \"20\", \"21\", \"22\", \"23\", \"24\", \"25\", \"26\", \"27\", \"28\", \"29\", \"30\", \"31\", \"32\", \"33\", \"34\", \"35\", \"36\", \"37\", \"38\", \"39\", \"40\", \"41\", \"42\", \"43\", \"44\"], \"mode\": \"markers\", \"name\": \"f1_score_weighted\", \"stepped\": false, \"type\": \"scatter\", \"data\": [0.8333388901455894, 0.8342588560383983, 0.834775044103637, 0.8328214612252779, 0.8235918863022669, 0.8432562739989695, 0.8458165287191768, 0.6967266174402093, 0.8182849428892383, 0.8406733357866496, 0.8280418148453291, 0.8387550469478257, 0.6732166776894909, 0.8228378700361446, 0.8412675804704774, 0.8357378829576415, 0.8099817042890736, 0.838923772767904, 0.8229754162080989, 0.814340155903589, 0.7550407397324856, 0.7843378248641013, 0.7803166311449481, 0.7999966834924516, 0.7446772135867714, 0.4825322545988107, 0.867123772251077, 0.8304910698496905, 0.8050052689615355, 0.8399687002234548, 0.5534120288954022, 0.8158035652568068, 0.8450858403833926, 0.8169177397878812, 0.8148934623133661, 0.8474811926571295, 0.8494259621235374, 0.7978951169999162, 0.8371023833740553, 0.8251453892148497, 0.8348499645675362, 0.8370314942274406, 0.8322110432877636, 0.8745402351846987, 0.871514982659446]}, {\"categories\": [\"0\", \"1\", \"2\", \"3\", \"4\", \"5\", \"6\", \"7\", \"8\", \"9\", \"10\", \"11\", \"12\", \"13\", \"14\", \"15\", \"16\", \"17\", \"18\", \"19\", \"20\", \"21\", \"22\", \"23\", \"24\", \"25\", \"26\", \"27\", \"28\", \"29\", \"30\", \"31\", \"32\", \"33\", \"34\", \"35\", \"36\", \"37\", \"38\", \"39\", \"40\", \"41\", \"42\", \"43\", \"44\"], \"mode\": \"lines\", \"name\": \"f1_score_weighted_max\", \"stepped\": true, \"type\": \"scatter\", \"data\": [0.8333388901455894, 0.8342588560383983, 0.834775044103637, 0.834775044103637, 0.834775044103637, 0.8432562739989695, 0.8458165287191768, 0.8458165287191768, 0.8458165287191768, 0.8458165287191768, 0.8458165287191768, 0.8458165287191768, 0.8458165287191768, 0.8458165287191768, 0.8458165287191768, 0.8458165287191768, 0.8458165287191768, 0.8458165287191768, 0.8458165287191768, 0.8458165287191768, 0.8458165287191768, 0.8458165287191768, 0.8458165287191768, 0.8458165287191768, 0.8458165287191768, 0.8458165287191768, 0.867123772251077, 0.867123772251077, 0.867123772251077, 0.867123772251077, 0.867123772251077, 0.867123772251077, 0.867123772251077, 0.867123772251077, 0.867123772251077, 0.867123772251077, 0.867123772251077, 0.867123772251077, 0.867123772251077, 0.867123772251077, 0.867123772251077, 0.867123772251077, 0.867123772251077, 0.8745402351846987, 0.8745402351846987]}], \"AUC_micro\": [{\"categories\": [\"0\", \"1\", \"2\", \"3\", \"4\", \"5\", \"6\", \"7\", \"8\", \"9\", \"10\", \"11\", \"12\", \"13\", \"14\", \"15\", \"16\", \"17\", \"18\", \"19\", \"20\", \"21\", \"22\", \"23\", \"24\", \"25\", \"26\", \"27\", \"28\", \"29\", \"30\", \"31\", \"32\", \"33\", \"34\", \"35\", \"36\", \"37\", \"38\", \"39\", \"40\", \"41\", \"42\", \"43\", \"44\"], \"mode\": \"markers\", \"name\": \"AUC_micro\", \"stepped\": false, \"type\": \"scatter\", \"data\": [0.9035422116527941, 0.9042166732725592, 0.9155578015589907, 0.9128365702206367, 0.9155033690051525, 0.9129788611441405, 0.9212614612234112, 0.7911914387633769, 0.8925694279297133, 0.9218657682652924, 0.898694147179284, 0.914731272294887, 0.8572985863390145, 0.8912654247588849, 0.9032146915048223, 0.9150334258158278, 0.8919398863786497, 0.915553838023517, 0.8919223147047166, 0.8944291187739465, 0.864544193420531, 0.8801932884132647, 0.8734642621218127, 0.876479852028009, 0.8740743823490554, 0.5841379310344827, 0.913273087594134, 0.9042615933412603, 0.8846687805522526, 0.9120140044920069, 0.6791954022988507, 0.8970938036728763, 0.9048618047298191, 0.9043745541022592, 0.8901932884132645, 0.9135733914651869, 0.9113647773814243, 0.8806806711586737, 0.9080724005813184, 0.9007080195534417, 0.9119047430307834, 0.9174856652133704, 0.8918697318007662, 0.922386180472982, 0.9174485400977673]}, {\"categories\": [\"0\", \"1\", \"2\", \"3\", \"4\", \"5\", \"6\", \"7\", \"8\", \"9\", \"10\", \"11\", \"12\", \"13\", \"14\", \"15\", \"16\", \"17\", \"18\", \"19\", \"20\", \"21\", \"22\", \"23\", \"24\", \"25\", \"26\", \"27\", \"28\", \"29\", \"30\", \"31\", \"32\", \"33\", \"34\", \"35\", \"36\", \"37\", \"38\", \"39\", \"40\", \"41\", \"42\", \"43\", \"44\"], \"mode\": \"lines\", \"name\": \"AUC_micro_max\", \"stepped\": true, \"type\": \"scatter\", \"data\": [0.9035422116527941, 0.9042166732725592, 0.9155578015589907, 0.9155578015589907, 0.9155578015589907, 0.9155578015589907, 0.9212614612234112, 0.9212614612234112, 0.9212614612234112, 0.9218657682652924, 0.9218657682652924, 0.9218657682652924, 0.9218657682652924, 0.9218657682652924, 0.9218657682652924, 0.9218657682652924, 0.9218657682652924, 0.9218657682652924, 0.9218657682652924, 0.9218657682652924, 0.9218657682652924, 0.9218657682652924, 0.9218657682652924, 0.9218657682652924, 0.9218657682652924, 0.9218657682652924, 0.9218657682652924, 0.9218657682652924, 0.9218657682652924, 0.9218657682652924, 0.9218657682652924, 0.9218657682652924, 0.9218657682652924, 0.9218657682652924, 0.9218657682652924, 0.9218657682652924, 0.9218657682652924, 0.9218657682652924, 0.9218657682652924, 0.9218657682652924, 0.9218657682652924, 0.9218657682652924, 0.9218657682652924, 0.922386180472982, 0.922386180472982]}], \"average_precision_score_macro\": [{\"categories\": [\"0\", \"1\", \"2\", \"3\", \"4\", \"5\", \"6\", \"7\", \"8\", \"9\", \"10\", \"11\", \"12\", \"13\", \"14\", \"15\", \"16\", \"17\", \"18\", \"19\", \"20\", \"21\", \"22\", \"23\", \"24\", \"25\", \"26\", \"27\", \"28\", \"29\", \"30\", \"31\", \"32\", \"33\", \"34\", \"35\", \"36\", \"37\", \"38\", \"39\", \"40\", \"41\", \"42\", \"43\", \"44\"], \"mode\": \"markers\", \"name\": \"average_precision_score_macro\", \"stepped\": false, \"type\": \"scatter\", \"data\": [0.8807888197525153, 0.8807340475847678, 0.9011290098551656, 0.8781534877701365, 0.8874712617805072, 0.8946717210555265, 0.9042427036309307, 0.745469896825244, 0.8749745008185043, 0.9016239751562265, 0.8793971710929904, 0.9029604293958677, 0.8763592637965589, 0.8701230666969517, 0.8897322909294407, 0.8953831248921986, 0.8893073017964932, 0.8931185900955894, 0.8735580611005606, 0.8836867009613967, 0.834706521081684, 0.8848658165285339, 0.8618577753040094, 0.8540226811644409, 0.8841645683845177, 0.6068131007986807, 0.8978270893535477, 0.8976630737002079, 0.8801878995284245, 0.8833489368197132, 0.5, 0.8789426634582863, 0.8914768827177127, 0.8822849766998608, 0.8886058630119702, 0.8963749495167042, 0.8912287654332385, 0.858182945994504, 0.8861832076717295, 0.8698800594172302, 0.8954644141954813, 0.8930868104863692, 0.8665909329839323, 0.9029492426074833, 0.9028633117033706]}, {\"categories\": [\"0\", \"1\", \"2\", \"3\", \"4\", \"5\", \"6\", \"7\", \"8\", \"9\", \"10\", \"11\", \"12\", \"13\", \"14\", \"15\", \"16\", \"17\", \"18\", \"19\", \"20\", \"21\", \"22\", \"23\", \"24\", \"25\", \"26\", \"27\", \"28\", \"29\", \"30\", \"31\", \"32\", \"33\", \"34\", \"35\", \"36\", \"37\", \"38\", \"39\", \"40\", \"41\", \"42\", \"43\", \"44\"], \"mode\": \"lines\", \"name\": \"average_precision_score_macro_max\", \"stepped\": true, \"type\": \"scatter\", \"data\": [0.8807888197525153, 0.8807888197525153, 0.9011290098551656, 0.9011290098551656, 0.9011290098551656, 0.9011290098551656, 0.9042427036309307, 0.9042427036309307, 0.9042427036309307, 0.9042427036309307, 0.9042427036309307, 0.9042427036309307, 0.9042427036309307, 0.9042427036309307, 0.9042427036309307, 0.9042427036309307, 0.9042427036309307, 0.9042427036309307, 0.9042427036309307, 0.9042427036309307, 0.9042427036309307, 0.9042427036309307, 0.9042427036309307, 0.9042427036309307, 0.9042427036309307, 0.9042427036309307, 0.9042427036309307, 0.9042427036309307, 0.9042427036309307, 0.9042427036309307, 0.9042427036309307, 0.9042427036309307, 0.9042427036309307, 0.9042427036309307, 0.9042427036309307, 0.9042427036309307, 0.9042427036309307, 0.9042427036309307, 0.9042427036309307, 0.9042427036309307, 0.9042427036309307, 0.9042427036309307, 0.9042427036309307, 0.9042427036309307, 0.9042427036309307]}], \"precision_score_macro\": [{\"categories\": [\"0\", \"1\", \"2\", \"3\", \"4\", \"5\", \"6\", \"7\", \"8\", \"9\", \"10\", \"11\", \"12\", \"13\", \"14\", \"15\", \"16\", \"17\", \"18\", \"19\", \"20\", \"21\", \"22\", \"23\", \"24\", \"25\", \"26\", \"27\", \"28\", \"29\", \"30\", \"31\", \"32\", \"33\", \"34\", \"35\", \"36\", \"37\", \"38\", \"39\", \"40\", \"41\", \"42\", \"43\", \"44\"], \"mode\": \"markers\", \"name\": \"precision_score_macro\", \"stepped\": false, \"type\": \"scatter\", \"data\": [0.8167365852764965, 0.8232986049897815, 0.8191339494904073, 0.827961054858753, 0.7945175317010355, 0.8323629083334966, 0.8467039545228905, 0.7009303631151458, 0.8098152219970096, 0.824649531024531, 0.8302320007731906, 0.8309462887212249, 0.6963876257841775, 0.8206159767006449, 0.8617141336923945, 0.8239043400662395, 0.8236542443064183, 0.8273025720372267, 0.8262792782901478, 0.8266180124223602, 0.7798344672568811, 0.8557359327468023, 0.829479990621295, 0.8258595317725753, 0.8372565606696043, 0.4861841028309081, 0.8658578735132443, 0.7977875910956573, 0.824586956521739, 0.8252076626765346, 0.33959770114942534, 0.8212485413137587, 0.8501165453539595, 0.8306639479682959, 0.8450456459804286, 0.8444950213895227, 0.8479581602607918, 0.797496918540397, 0.8211852812948855, 0.8050271946910122, 0.8418100587436973, 0.8236359898271663, 0.8332607457378625, 0.8915326605761388, 0.887257768801247]}, {\"categories\": [\"0\", \"1\", \"2\", \"3\", \"4\", \"5\", \"6\", \"7\", \"8\", \"9\", \"10\", \"11\", \"12\", \"13\", \"14\", \"15\", \"16\", \"17\", \"18\", \"19\", \"20\", \"21\", \"22\", \"23\", \"24\", \"25\", \"26\", \"27\", \"28\", \"29\", \"30\", \"31\", \"32\", \"33\", \"34\", \"35\", \"36\", \"37\", \"38\", \"39\", \"40\", \"41\", \"42\", \"43\", \"44\"], \"mode\": \"lines\", \"name\": \"precision_score_macro_max\", \"stepped\": true, \"type\": \"scatter\", \"data\": [0.8167365852764965, 0.8232986049897815, 0.8232986049897815, 0.827961054858753, 0.827961054858753, 0.8323629083334966, 0.8467039545228905, 0.8467039545228905, 0.8467039545228905, 0.8467039545228905, 0.8467039545228905, 0.8467039545228905, 0.8467039545228905, 0.8467039545228905, 0.8617141336923945, 0.8617141336923945, 0.8617141336923945, 0.8617141336923945, 0.8617141336923945, 0.8617141336923945, 0.8617141336923945, 0.8617141336923945, 0.8617141336923945, 0.8617141336923945, 0.8617141336923945, 0.8617141336923945, 0.8658578735132443, 0.8658578735132443, 0.8658578735132443, 0.8658578735132443, 0.8658578735132443, 0.8658578735132443, 0.8658578735132443, 0.8658578735132443, 0.8658578735132443, 0.8658578735132443, 0.8658578735132443, 0.8658578735132443, 0.8658578735132443, 0.8658578735132443, 0.8658578735132443, 0.8658578735132443, 0.8658578735132443, 0.8915326605761388, 0.8915326605761388]}], \"log_loss\": [{\"categories\": [\"0\", \"1\", \"2\", \"3\", \"4\", \"5\", \"6\", \"7\", \"8\", \"9\", \"10\", \"11\", \"12\", \"13\", \"14\", \"15\", \"16\", \"17\", \"18\", \"19\", \"20\", \"21\", \"22\", \"23\", \"24\", \"25\", \"26\", \"27\", \"28\", \"29\", \"30\", \"31\", \"32\", \"33\", \"34\", \"35\", \"36\", \"37\", \"38\", \"39\", \"40\", \"41\", \"42\", \"43\", \"44\"], \"mode\": \"markers\", \"name\": \"log_loss\", \"stepped\": false, \"type\": \"scatter\", \"data\": [0.4772179826627182, 0.41764279466886123, 0.36716716479118866, 0.3857981839352872, 0.37423200604335183, 0.36189740480408406, 0.354442129272284, 0.579146730110002, 0.4113226523427646, 0.3561247497847349, 0.412689902302552, 0.3977521428566814, 0.5029936166391399, 0.4509924561355497, 0.4080809987468207, 0.36160107820576515, 0.45853779779480364, 0.3704758295776969, 0.4977097528167553, 0.4436353708854745, 0.4747333530318934, 0.46841639840489313, 0.4569952585357953, 0.4774572179243627, 0.4807904268610071, 0.6876969558820077, 0.3731590931268166, 0.4168211236288143, 0.45389820048326585, 0.3760632296493378, 0.6404787364916359, 0.4019005423333387, 0.38755114891001663, 0.4006499095980418, 0.4548764754674588, 0.47639293449368514, 0.3864635744064111, 0.4957111612362331, 0.39180094338921156, 0.45122213232566033, 0.4094258232954428, 0.3607584083460776, 0.4361607801147239, 0.37523434416524704, 0.3702236125842656]}, {\"categories\": [\"0\", \"1\", \"2\", \"3\", \"4\", \"5\", \"6\", \"7\", \"8\", \"9\", \"10\", \"11\", \"12\", \"13\", \"14\", \"15\", \"16\", \"17\", \"18\", \"19\", \"20\", \"21\", \"22\", \"23\", \"24\", \"25\", \"26\", \"27\", \"28\", \"29\", \"30\", \"31\", \"32\", \"33\", \"34\", \"35\", \"36\", \"37\", \"38\", \"39\", \"40\", \"41\", \"42\", \"43\", \"44\"], \"mode\": \"lines\", \"name\": \"log_loss_min\", \"stepped\": true, \"type\": \"scatter\", \"data\": [0.4772179826627182, 0.41764279466886123, 0.36716716479118866, 0.36716716479118866, 0.36716716479118866, 0.36189740480408406, 0.354442129272284, 0.354442129272284, 0.354442129272284, 0.354442129272284, 0.354442129272284, 0.354442129272284, 0.354442129272284, 0.354442129272284, 0.354442129272284, 0.354442129272284, 0.354442129272284, 0.354442129272284, 0.354442129272284, 0.354442129272284, 0.354442129272284, 0.354442129272284, 0.354442129272284, 0.354442129272284, 0.354442129272284, 0.354442129272284, 0.354442129272284, 0.354442129272284, 0.354442129272284, 0.354442129272284, 0.354442129272284, 0.354442129272284, 0.354442129272284, 0.354442129272284, 0.354442129272284, 0.354442129272284, 0.354442129272284, 0.354442129272284, 0.354442129272284, 0.354442129272284, 0.354442129272284, 0.354442129272284, 0.354442129272284, 0.354442129272284, 0.354442129272284]}], \"AUC_macro\": [{\"categories\": [\"0\", \"1\", \"2\", \"3\", \"4\", \"5\", \"6\", \"7\", \"8\", \"9\", \"10\", \"11\", \"12\", \"13\", \"14\", \"15\", \"16\", \"17\", \"18\", \"19\", \"20\", \"21\", \"22\", \"23\", \"24\", \"25\", \"26\", \"27\", \"28\", \"29\", \"30\", \"31\", \"32\", \"33\", \"34\", \"35\", \"36\", \"37\", \"38\", \"39\", \"40\", \"41\", \"42\", \"43\", \"44\"], \"mode\": \"markers\", \"name\": \"AUC_macro\", \"stepped\": false, \"type\": \"scatter\", \"data\": [0.8840955354735103, 0.8847369443591411, 0.9057559487486833, 0.9001674409728757, 0.9033703570520505, 0.9016026019429338, 0.9084413425416858, 0.7472287308356531, 0.879342659940915, 0.9126063088661486, 0.8877728841757445, 0.9048650396027398, 0.8887855695177777, 0.8922546979548123, 0.8928921317622118, 0.9069861899478605, 0.9041695342055182, 0.9001578883253369, 0.8775869904229172, 0.9028904855325621, 0.8523181402672249, 0.8917560662195674, 0.8588236855313515, 0.8866186786960814, 0.8894343285475437, 0.6461286508431817, 0.9073201381803212, 0.9069741041778799, 0.8842443136277233, 0.8963304254680399, 0.5, 0.8839316816690387, 0.8973091952817924, 0.8922771932851454, 0.9000413526129772, 0.9053653057352428, 0.8948795810617891, 0.8701587267053228, 0.8941524045346126, 0.8922478740769358, 0.9034580436323572, 0.906794132977371, 0.8907298162512121, 0.9136457500800752, 0.9131017562571341]}, {\"categories\": [\"0\", \"1\", \"2\", \"3\", \"4\", \"5\", \"6\", \"7\", \"8\", \"9\", \"10\", \"11\", \"12\", \"13\", \"14\", \"15\", \"16\", \"17\", \"18\", \"19\", \"20\", \"21\", \"22\", \"23\", \"24\", \"25\", \"26\", \"27\", \"28\", \"29\", \"30\", \"31\", \"32\", \"33\", \"34\", \"35\", \"36\", \"37\", \"38\", \"39\", \"40\", \"41\", \"42\", \"43\", \"44\"], \"mode\": \"lines\", \"name\": \"AUC_macro_max\", \"stepped\": true, \"type\": \"scatter\", \"data\": [0.8840955354735103, 0.8847369443591411, 0.9057559487486833, 0.9057559487486833, 0.9057559487486833, 0.9057559487486833, 0.9084413425416858, 0.9084413425416858, 0.9084413425416858, 0.9126063088661486, 0.9126063088661486, 0.9126063088661486, 0.9126063088661486, 0.9126063088661486, 0.9126063088661486, 0.9126063088661486, 0.9126063088661486, 0.9126063088661486, 0.9126063088661486, 0.9126063088661486, 0.9126063088661486, 0.9126063088661486, 0.9126063088661486, 0.9126063088661486, 0.9126063088661486, 0.9126063088661486, 0.9126063088661486, 0.9126063088661486, 0.9126063088661486, 0.9126063088661486, 0.9126063088661486, 0.9126063088661486, 0.9126063088661486, 0.9126063088661486, 0.9126063088661486, 0.9126063088661486, 0.9126063088661486, 0.9126063088661486, 0.9126063088661486, 0.9126063088661486, 0.9126063088661486, 0.9126063088661486, 0.9126063088661486, 0.9136457500800752, 0.9136457500800752]}], \"f1_score_macro\": [{\"categories\": [\"0\", \"1\", \"2\", \"3\", \"4\", \"5\", \"6\", \"7\", \"8\", \"9\", \"10\", \"11\", \"12\", \"13\", \"14\", \"15\", \"16\", \"17\", \"18\", \"19\", \"20\", \"21\", \"22\", \"23\", \"24\", \"25\", \"26\", \"27\", \"28\", \"29\", \"30\", \"31\", \"32\", \"33\", \"34\", \"35\", \"36\", \"37\", \"38\", \"39\", \"40\", \"41\", \"42\", \"43\", \"44\"], \"mode\": \"markers\", \"name\": \"f1_score_macro\", \"stepped\": false, \"type\": \"scatter\", \"data\": [0.8043314151248963, 0.8078501228997539, 0.8041579065554221, 0.7967379678371815, 0.7909443409801659, 0.8156417868429362, 0.8170326532415627, 0.6329296980738738, 0.7844731356932927, 0.8108642296790691, 0.7985142741080727, 0.8076798645489554, 0.5798543908288544, 0.7897716503362009, 0.8129915450773438, 0.8072716343297973, 0.7728404384842704, 0.807313740243616, 0.7883393596762872, 0.7787939701871022, 0.6942620036771706, 0.7325397903769024, 0.7335658587307311, 0.753292833021183, 0.6818642366891708, 0.4957188420335933, 0.8446976779454873, 0.801695313945314, 0.7613378948115304, 0.8096827572089913, 0.4024893878511494, 0.7771084914685765, 0.8206630046614964, 0.7819539914520132, 0.7757156227276202, 0.81849113665418, 0.8246012423204961, 0.7577982681639169, 0.8078240434499016, 0.7948601575289661, 0.8040136264236419, 0.8089385754625715, 0.7980241222188162, 0.8544847640857043, 0.8507726428735831]}, {\"categories\": [\"0\", \"1\", \"2\", \"3\", \"4\", \"5\", \"6\", \"7\", \"8\", \"9\", \"10\", \"11\", \"12\", \"13\", \"14\", \"15\", \"16\", \"17\", \"18\", \"19\", \"20\", \"21\", \"22\", \"23\", \"24\", \"25\", \"26\", \"27\", \"28\", \"29\", \"30\", \"31\", \"32\", \"33\", \"34\", \"35\", \"36\", \"37\", \"38\", \"39\", \"40\", \"41\", \"42\", \"43\", \"44\"], \"mode\": \"lines\", \"name\": \"f1_score_macro_max\", \"stepped\": true, \"type\": \"scatter\", \"data\": [0.8043314151248963, 0.8078501228997539, 0.8078501228997539, 0.8078501228997539, 0.8078501228997539, 0.8156417868429362, 0.8170326532415627, 0.8170326532415627, 0.8170326532415627, 0.8170326532415627, 0.8170326532415627, 0.8170326532415627, 0.8170326532415627, 0.8170326532415627, 0.8170326532415627, 0.8170326532415627, 0.8170326532415627, 0.8170326532415627, 0.8170326532415627, 0.8170326532415627, 0.8170326532415627, 0.8170326532415627, 0.8170326532415627, 0.8170326532415627, 0.8170326532415627, 0.8170326532415627, 0.8446976779454873, 0.8446976779454873, 0.8446976779454873, 0.8446976779454873, 0.8446976779454873, 0.8446976779454873, 0.8446976779454873, 0.8446976779454873, 0.8446976779454873, 0.8446976779454873, 0.8446976779454873, 0.8446976779454873, 0.8446976779454873, 0.8446976779454873, 0.8446976779454873, 0.8446976779454873, 0.8446976779454873, 0.8544847640857043, 0.8544847640857043]}], \"average_precision_score_micro\": [{\"categories\": [\"0\", \"1\", \"2\", \"3\", \"4\", \"5\", \"6\", \"7\", \"8\", \"9\", \"10\", \"11\", \"12\", \"13\", \"14\", \"15\", \"16\", \"17\", \"18\", \"19\", \"20\", \"21\", \"22\", \"23\", \"24\", \"25\", \"26\", \"27\", \"28\", \"29\", \"30\", \"31\", \"32\", \"33\", \"34\", \"35\", \"36\", \"37\", \"38\", \"39\", \"40\", \"41\", \"42\", \"43\", \"44\"], \"mode\": \"markers\", \"name\": \"average_precision_score_micro\", \"stepped\": false, \"type\": \"scatter\", \"data\": [0.9020054536251629, 0.9033793522124445, 0.9174885089188944, 0.916575108474893, 0.9178959237776649, 0.9175996150832848, 0.9251546758842384, 0.7839605485715452, 0.895111815566743, 0.9258248637134863, 0.9019692978998345, 0.918629350536948, 0.8695675396775158, 0.8905441744626564, 0.9052237529862172, 0.9168240167624957, 0.8974845578120805, 0.9182723553102752, 0.8924264204831287, 0.9018326607900157, 0.8715786820343983, 0.8864849463679821, 0.8776105133940522, 0.874213726671546, 0.8834597513438405, 0.6261636620536657, 0.9147607120663389, 0.9056569877791206, 0.8894414656702118, 0.910722458035701, 0.6309528339278636, 0.8998941670513825, 0.9071702220255219, 0.9115238323257916, 0.8942384742023044, 0.9159977076181903, 0.9095910975630236, 0.8837786179053586, 0.9085758100302794, 0.9015758158986523, 0.9144093273897042, 0.9201147501241247, 0.8895749833168735, 0.9252470516459855, 0.9199960294433099]}, {\"categories\": [\"0\", \"1\", \"2\", \"3\", \"4\", \"5\", \"6\", \"7\", \"8\", \"9\", \"10\", \"11\", \"12\", \"13\", \"14\", \"15\", \"16\", \"17\", \"18\", \"19\", \"20\", \"21\", \"22\", \"23\", \"24\", \"25\", \"26\", \"27\", \"28\", \"29\", \"30\", \"31\", \"32\", \"33\", \"34\", \"35\", \"36\", \"37\", \"38\", \"39\", \"40\", \"41\", \"42\", \"43\", \"44\"], \"mode\": \"lines\", \"name\": \"average_precision_score_micro_max\", \"stepped\": true, \"type\": \"scatter\", \"data\": [0.9020054536251629, 0.9033793522124445, 0.9174885089188944, 0.9174885089188944, 0.9178959237776649, 0.9178959237776649, 0.9251546758842384, 0.9251546758842384, 0.9251546758842384, 0.9258248637134863, 0.9258248637134863, 0.9258248637134863, 0.9258248637134863, 0.9258248637134863, 0.9258248637134863, 0.9258248637134863, 0.9258248637134863, 0.9258248637134863, 0.9258248637134863, 0.9258248637134863, 0.9258248637134863, 0.9258248637134863, 0.9258248637134863, 0.9258248637134863, 0.9258248637134863, 0.9258248637134863, 0.9258248637134863, 0.9258248637134863, 0.9258248637134863, 0.9258248637134863, 0.9258248637134863, 0.9258248637134863, 0.9258248637134863, 0.9258248637134863, 0.9258248637134863, 0.9258248637134863, 0.9258248637134863, 0.9258248637134863, 0.9258248637134863, 0.9258248637134863, 0.9258248637134863, 0.9258248637134863, 0.9258248637134863, 0.9258248637134863, 0.9258248637134863]}], \"recall_score_weighted\": [{\"categories\": [\"0\", \"1\", \"2\", \"3\", \"4\", \"5\", \"6\", \"7\", \"8\", \"9\", \"10\", \"11\", \"12\", \"13\", \"14\", \"15\", \"16\", \"17\", \"18\", \"19\", \"20\", \"21\", \"22\", \"23\", \"24\", \"25\", \"26\", \"27\", \"28\", \"29\", \"30\", \"31\", \"32\", \"33\", \"34\", \"35\", \"36\", \"37\", \"38\", \"39\", \"40\", \"41\", \"42\", \"43\", \"44\"], \"mode\": \"markers\", \"name\": \"recall_score_weighted\", \"stepped\": false, \"type\": \"scatter\", \"data\": [0.8359770114942527, 0.8358620689655172, 0.8362068965517242, 0.8391954022988506, 0.8221839080459772, 0.8458620689655172, 0.8491954022988507, 0.7258620689655173, 0.8228735632183908, 0.8425287356321839, 0.8328735632183909, 0.8426436781609195, 0.7391954022988505, 0.8293103448275861, 0.849425287356322, 0.8393103448275863, 0.8226436781609194, 0.8426436781609195, 0.8293103448275861, 0.825977011494253, 0.7757471264367817, 0.8093103448275862, 0.8026436781609195, 0.8159770114942528, 0.7794252873563219, 0.5441379310344827, 0.8696551724137931, 0.8257471264367815, 0.8163218390804599, 0.8427586206896551, 0.6791954022988507, 0.8228735632183909, 0.849425287356322, 0.8258620689655173, 0.8293103448275861, 0.8526436781609196, 0.8528735632183908, 0.8058620689655172, 0.8394252873563219, 0.8258620689655171, 0.8426436781609198, 0.8391954022988506, 0.8393103448275863, 0.8796551724137931, 0.8763218390804598]}, {\"categories\": [\"0\", \"1\", \"2\", \"3\", \"4\", \"5\", \"6\", \"7\", \"8\", \"9\", \"10\", \"11\", \"12\", \"13\", \"14\", \"15\", \"16\", \"17\", \"18\", \"19\", \"20\", \"21\", \"22\", \"23\", \"24\", \"25\", \"26\", \"27\", \"28\", \"29\", \"30\", \"31\", \"32\", \"33\", \"34\", \"35\", \"36\", \"37\", \"38\", \"39\", \"40\", \"41\", \"42\", \"43\", \"44\"], \"mode\": \"lines\", \"name\": \"recall_score_weighted_max\", \"stepped\": true, \"type\": \"scatter\", \"data\": [0.8359770114942527, 0.8359770114942527, 0.8362068965517242, 0.8391954022988506, 0.8391954022988506, 0.8458620689655172, 0.8491954022988507, 0.8491954022988507, 0.8491954022988507, 0.8491954022988507, 0.8491954022988507, 0.8491954022988507, 0.8491954022988507, 0.8491954022988507, 0.849425287356322, 0.849425287356322, 0.849425287356322, 0.849425287356322, 0.849425287356322, 0.849425287356322, 0.849425287356322, 0.849425287356322, 0.849425287356322, 0.849425287356322, 0.849425287356322, 0.849425287356322, 0.8696551724137931, 0.8696551724137931, 0.8696551724137931, 0.8696551724137931, 0.8696551724137931, 0.8696551724137931, 0.8696551724137931, 0.8696551724137931, 0.8696551724137931, 0.8696551724137931, 0.8696551724137931, 0.8696551724137931, 0.8696551724137931, 0.8696551724137931, 0.8696551724137931, 0.8696551724137931, 0.8696551724137931, 0.8796551724137931, 0.8796551724137931]}], \"precision_score_weighted\": [{\"categories\": [\"0\", \"1\", \"2\", \"3\", \"4\", \"5\", \"6\", \"7\", \"8\", \"9\", \"10\", \"11\", \"12\", \"13\", \"14\", \"15\", \"16\", \"17\", \"18\", \"19\", \"20\", \"21\", \"22\", \"23\", \"24\", \"25\", \"26\", \"27\", \"28\", \"29\", \"30\", \"31\", \"32\", \"33\", \"34\", \"35\", \"36\", \"37\", \"38\", \"39\", \"40\", \"41\", \"42\", \"43\", \"44\"], \"mode\": \"markers\", \"name\": \"precision_score_weighted\", \"stepped\": false, \"type\": \"scatter\", \"data\": [0.8443308716969533, 0.8506678986628277, 0.8495282749333481, 0.8506668334115639, 0.8393314564836967, 0.8594455714257945, 0.8678314473114573, 0.7399931840856129, 0.837153057106774, 0.8558800318455491, 0.8490463978799812, 0.8549742458692368, 0.7224490586482263, 0.8413490727579933, 0.8637150422291352, 0.850412204934595, 0.8349369327241142, 0.8552090449481533, 0.8425135714369846, 0.8368690238214226, 0.7915787865391313, 0.8386989647515385, 0.8267503915217809, 0.8314714021194531, 0.8176354505897235, 0.49160591746253945, 0.8858671483357522, 0.8494220039245587, 0.8317499218644645, 0.8545832695320084, 0.47055053507728895, 0.8422133674504739, 0.8626079327399061, 0.8445519029566506, 0.8428641322094345, 0.8626281221057216, 0.8637970570298157, 0.8264288124668935, 0.8485926960957828, 0.8430301565883177, 0.8598291581823579, 0.8539538784782191, 0.8502132820295252, 0.8939134261540558, 0.8918030365436662]}, {\"categories\": [\"0\", \"1\", \"2\", \"3\", \"4\", \"5\", \"6\", \"7\", \"8\", \"9\", \"10\", \"11\", \"12\", \"13\", \"14\", \"15\", \"16\", \"17\", \"18\", \"19\", \"20\", \"21\", \"22\", \"23\", \"24\", \"25\", \"26\", \"27\", \"28\", \"29\", \"30\", \"31\", \"32\", \"33\", \"34\", \"35\", \"36\", \"37\", \"38\", \"39\", \"40\", \"41\", \"42\", \"43\", \"44\"], \"mode\": \"lines\", \"name\": \"precision_score_weighted_max\", \"stepped\": true, \"type\": \"scatter\", \"data\": [0.8443308716969533, 0.8506678986628277, 0.8506678986628277, 0.8506678986628277, 0.8506678986628277, 0.8594455714257945, 0.8678314473114573, 0.8678314473114573, 0.8678314473114573, 0.8678314473114573, 0.8678314473114573, 0.8678314473114573, 0.8678314473114573, 0.8678314473114573, 0.8678314473114573, 0.8678314473114573, 0.8678314473114573, 0.8678314473114573, 0.8678314473114573, 0.8678314473114573, 0.8678314473114573, 0.8678314473114573, 0.8678314473114573, 0.8678314473114573, 0.8678314473114573, 0.8678314473114573, 0.8858671483357522, 0.8858671483357522, 0.8858671483357522, 0.8858671483357522, 0.8858671483357522, 0.8858671483357522, 0.8858671483357522, 0.8858671483357522, 0.8858671483357522, 0.8858671483357522, 0.8858671483357522, 0.8858671483357522, 0.8858671483357522, 0.8858671483357522, 0.8858671483357522, 0.8858671483357522, 0.8858671483357522, 0.8939134261540558, 0.8939134261540558]}], \"AUC_weighted\": [{\"categories\": [\"0\", \"1\", \"2\", \"3\", \"4\", \"5\", \"6\", \"7\", \"8\", \"9\", \"10\", \"11\", \"12\", \"13\", \"14\", \"15\", \"16\", \"17\", \"18\", \"19\", \"20\", \"21\", \"22\", \"23\", \"24\", \"25\", \"26\", \"27\", \"28\", \"29\", \"30\", \"31\", \"32\", \"33\", \"34\", \"35\", \"36\", \"37\", \"38\", \"39\", \"40\", \"41\", \"42\", \"43\", \"44\"], \"mode\": \"markers\", \"name\": \"AUC_weighted\", \"stepped\": false, \"type\": \"scatter\", \"data\": [0.8840955354735103, 0.8847369443591411, 0.9057559487486833, 0.9001674409728757, 0.9033703570520505, 0.9016026019429338, 0.9084413425416858, 0.747228730835653, 0.879342659940915, 0.9126063088661486, 0.8877728841757445, 0.9048650396027398, 0.8887855695177777, 0.8922546979548123, 0.8928921317622118, 0.9069861899478605, 0.9041695342055182, 0.9001578883253369, 0.8775869904229172, 0.9028904855325622, 0.8523181402672249, 0.8917560662195674, 0.8588236855313515, 0.8866186786960814, 0.8894343285475437, 0.6461286508431817, 0.9073201381803212, 0.9069741041778799, 0.8842443136277233, 0.8963304254680399, 0.5, 0.8839316816690387, 0.8973091952817928, 0.8922771932851454, 0.9000413526129772, 0.9053653057352428, 0.8948795810617893, 0.8701587267053228, 0.8941524045346128, 0.8922478740769358, 0.9034580436323572, 0.906794132977371, 0.8907298162512121, 0.9136457500800752, 0.9131017562571339]}, {\"categories\": [\"0\", \"1\", \"2\", \"3\", \"4\", \"5\", \"6\", \"7\", \"8\", \"9\", \"10\", \"11\", \"12\", \"13\", \"14\", \"15\", \"16\", \"17\", \"18\", \"19\", \"20\", \"21\", \"22\", \"23\", \"24\", \"25\", \"26\", \"27\", \"28\", \"29\", \"30\", \"31\", \"32\", \"33\", \"34\", \"35\", \"36\", \"37\", \"38\", \"39\", \"40\", \"41\", \"42\", \"43\", \"44\"], \"mode\": \"lines\", \"name\": \"AUC_weighted_max\", \"stepped\": true, \"type\": \"scatter\", \"data\": [0.8840955354735103, 0.8847369443591411, 0.9057559487486833, 0.9057559487486833, 0.9057559487486833, 0.9057559487486833, 0.9084413425416858, 0.9084413425416858, 0.9084413425416858, 0.9126063088661486, 0.9126063088661486, 0.9126063088661486, 0.9126063088661486, 0.9126063088661486, 0.9126063088661486, 0.9126063088661486, 0.9126063088661486, 0.9126063088661486, 0.9126063088661486, 0.9126063088661486, 0.9126063088661486, 0.9126063088661486, 0.9126063088661486, 0.9126063088661486, 0.9126063088661486, 0.9126063088661486, 0.9126063088661486, 0.9126063088661486, 0.9126063088661486, 0.9126063088661486, 0.9126063088661486, 0.9126063088661486, 0.9126063088661486, 0.9126063088661486, 0.9126063088661486, 0.9126063088661486, 0.9126063088661486, 0.9126063088661486, 0.9126063088661486, 0.9126063088661486, 0.9126063088661486, 0.9126063088661486, 0.9126063088661486, 0.9136457500800752, 0.9136457500800752]}], \"f1_score_micro\": [{\"categories\": [\"0\", \"1\", \"2\", \"3\", \"4\", \"5\", \"6\", \"7\", \"8\", \"9\", \"10\", \"11\", \"12\", \"13\", \"14\", \"15\", \"16\", \"17\", \"18\", \"19\", \"20\", \"21\", \"22\", \"23\", \"24\", \"25\", \"26\", \"27\", \"28\", \"29\", \"30\", \"31\", \"32\", \"33\", \"34\", \"35\", \"36\", \"37\", \"38\", \"39\", \"40\", \"41\", \"42\", \"43\", \"44\"], \"mode\": \"markers\", \"name\": \"f1_score_micro\", \"stepped\": false, \"type\": \"scatter\", \"data\": [0.8359770114942527, 0.8358620689655172, 0.8362068965517242, 0.8391954022988506, 0.8221839080459772, 0.8458620689655172, 0.8491954022988507, 0.7258620689655173, 0.8228735632183908, 0.8425287356321839, 0.8328735632183909, 0.8426436781609195, 0.7391954022988505, 0.8293103448275861, 0.849425287356322, 0.8393103448275863, 0.8226436781609194, 0.8426436781609195, 0.8293103448275861, 0.825977011494253, 0.7757471264367817, 0.8093103448275862, 0.8026436781609195, 0.8159770114942528, 0.7794252873563219, 0.5441379310344827, 0.8696551724137931, 0.8257471264367815, 0.8163218390804599, 0.8427586206896551, 0.6791954022988507, 0.8228735632183909, 0.849425287356322, 0.8258620689655173, 0.8293103448275861, 0.8526436781609196, 0.8528735632183908, 0.8058620689655172, 0.8394252873563219, 0.8258620689655173, 0.8426436781609198, 0.8391954022988506, 0.8393103448275863, 0.8796551724137931, 0.8763218390804598]}, {\"categories\": [\"0\", \"1\", \"2\", \"3\", \"4\", \"5\", \"6\", \"7\", \"8\", \"9\", \"10\", \"11\", \"12\", \"13\", \"14\", \"15\", \"16\", \"17\", \"18\", \"19\", \"20\", \"21\", \"22\", \"23\", \"24\", \"25\", \"26\", \"27\", \"28\", \"29\", \"30\", \"31\", \"32\", \"33\", \"34\", \"35\", \"36\", \"37\", \"38\", \"39\", \"40\", \"41\", \"42\", \"43\", \"44\"], \"mode\": \"lines\", \"name\": \"f1_score_micro_max\", \"stepped\": true, \"type\": \"scatter\", \"data\": [0.8359770114942527, 0.8359770114942527, 0.8362068965517242, 0.8391954022988506, 0.8391954022988506, 0.8458620689655172, 0.8491954022988507, 0.8491954022988507, 0.8491954022988507, 0.8491954022988507, 0.8491954022988507, 0.8491954022988507, 0.8491954022988507, 0.8491954022988507, 0.849425287356322, 0.849425287356322, 0.849425287356322, 0.849425287356322, 0.849425287356322, 0.849425287356322, 0.849425287356322, 0.849425287356322, 0.849425287356322, 0.849425287356322, 0.849425287356322, 0.849425287356322, 0.8696551724137931, 0.8696551724137931, 0.8696551724137931, 0.8696551724137931, 0.8696551724137931, 0.8696551724137931, 0.8696551724137931, 0.8696551724137931, 0.8696551724137931, 0.8696551724137931, 0.8696551724137931, 0.8696551724137931, 0.8696551724137931, 0.8696551724137931, 0.8696551724137931, 0.8696551724137931, 0.8696551724137931, 0.8796551724137931, 0.8796551724137931]}], \"accuracy\": [{\"categories\": [\"0\", \"1\", \"2\", \"3\", \"4\", \"5\", \"6\", \"7\", \"8\", \"9\", \"10\", \"11\", \"12\", \"13\", \"14\", \"15\", \"16\", \"17\", \"18\", \"19\", \"20\", \"21\", \"22\", \"23\", \"24\", \"25\", \"26\", \"27\", \"28\", \"29\", \"30\", \"31\", \"32\", \"33\", \"34\", \"35\", \"36\", \"37\", \"38\", \"39\", \"40\", \"41\", \"42\", \"43\", \"44\"], \"mode\": \"markers\", \"name\": \"accuracy\", \"stepped\": false, \"type\": \"scatter\", \"data\": [0.8359770114942527, 0.8358620689655172, 0.8362068965517242, 0.8391954022988506, 0.8221839080459772, 0.8458620689655172, 0.8491954022988507, 0.7258620689655173, 0.8228735632183908, 0.8425287356321839, 0.8328735632183909, 0.8426436781609195, 0.7391954022988505, 0.8293103448275861, 0.849425287356322, 0.8393103448275863, 0.8226436781609194, 0.8426436781609195, 0.8293103448275861, 0.825977011494253, 0.7757471264367817, 0.8093103448275862, 0.8026436781609195, 0.8159770114942528, 0.7794252873563219, 0.5441379310344827, 0.8696551724137931, 0.8257471264367815, 0.8163218390804599, 0.8427586206896551, 0.6791954022988507, 0.8228735632183909, 0.849425287356322, 0.8258620689655173, 0.8293103448275861, 0.8526436781609196, 0.8528735632183908, 0.8058620689655172, 0.8394252873563219, 0.8258620689655171, 0.8426436781609198, 0.8391954022988506, 0.8393103448275863, 0.8796551724137931, 0.8763218390804598]}, {\"categories\": [\"0\", \"1\", \"2\", \"3\", \"4\", \"5\", \"6\", \"7\", \"8\", \"9\", \"10\", \"11\", \"12\", \"13\", \"14\", \"15\", \"16\", \"17\", \"18\", \"19\", \"20\", \"21\", \"22\", \"23\", \"24\", \"25\", \"26\", \"27\", \"28\", \"29\", \"30\", \"31\", \"32\", \"33\", \"34\", \"35\", \"36\", \"37\", \"38\", \"39\", \"40\", \"41\", \"42\", \"43\", \"44\"], \"mode\": \"lines\", \"name\": \"accuracy_max\", \"stepped\": true, \"type\": \"scatter\", \"data\": [0.8359770114942527, 0.8359770114942527, 0.8362068965517242, 0.8391954022988506, 0.8391954022988506, 0.8458620689655172, 0.8491954022988507, 0.8491954022988507, 0.8491954022988507, 0.8491954022988507, 0.8491954022988507, 0.8491954022988507, 0.8491954022988507, 0.8491954022988507, 0.849425287356322, 0.849425287356322, 0.849425287356322, 0.849425287356322, 0.849425287356322, 0.849425287356322, 0.849425287356322, 0.849425287356322, 0.849425287356322, 0.849425287356322, 0.849425287356322, 0.849425287356322, 0.8696551724137931, 0.8696551724137931, 0.8696551724137931, 0.8696551724137931, 0.8696551724137931, 0.8696551724137931, 0.8696551724137931, 0.8696551724137931, 0.8696551724137931, 0.8696551724137931, 0.8696551724137931, 0.8696551724137931, 0.8696551724137931, 0.8696551724137931, 0.8696551724137931, 0.8696551724137931, 0.8696551724137931, 0.8796551724137931, 0.8796551724137931]}], \"norm_macro_recall\": [{\"categories\": [\"0\", \"1\", \"2\", \"3\", \"4\", \"5\", \"6\", \"7\", \"8\", \"9\", \"10\", \"11\", \"12\", \"13\", \"14\", \"15\", \"16\", \"17\", \"18\", \"19\", \"20\", \"21\", \"22\", \"23\", \"24\", \"25\", \"26\", \"27\", \"28\", \"29\", \"30\", \"31\", \"32\", \"33\", \"34\", \"35\", \"36\", \"37\", \"38\", \"39\", \"40\", \"41\", \"42\", \"43\", \"44\"], \"mode\": \"markers\", \"name\": \"norm_macro_recall\", \"stepped\": false, \"type\": \"scatter\", \"data\": [0.6154165791620023, 0.626049804187676, 0.6147821653937215, 0.5874854824809058, 0.6085568483131413, 0.6400189695252625, 0.6365422284301003, 0.31079713281887195, 0.5700270959018099, 0.6323672645051364, 0.5999207826879452, 0.6146732435502458, 0.21460317460317455, 0.5739475409538338, 0.6030166778936802, 0.6197057110827133, 0.5295872578349694, 0.6207765452828381, 0.5646529160516576, 0.5396379527540853, 0.37979216403987565, 0.43866921090605293, 0.4474857598541808, 0.4814413248206154, 0.3479403053087263, 0.2377562194352812, 0.6935054318933037, 0.6471187454803016, 0.4917547731317754, 0.6271767883146602, 0.0, 0.5431569470448189, 0.6326733706796636, 0.5545767333353145, 0.5213073155550273, 0.6288830103915914, 0.6438889095267815, 0.5222524377478611, 0.6189872234935164, 0.6103193036940177, 0.6037154513424536, 0.6312527357590286, 0.5827158748320075, 0.6951883950653974, 0.6908405689784407]}, {\"categories\": [\"0\", \"1\", \"2\", \"3\", \"4\", \"5\", \"6\", \"7\", \"8\", \"9\", \"10\", \"11\", \"12\", \"13\", \"14\", \"15\", \"16\", \"17\", \"18\", \"19\", \"20\", \"21\", \"22\", \"23\", \"24\", \"25\", \"26\", \"27\", \"28\", \"29\", \"30\", \"31\", \"32\", \"33\", \"34\", \"35\", \"36\", \"37\", \"38\", \"39\", \"40\", \"41\", \"42\", \"43\", \"44\"], \"mode\": \"lines\", \"name\": \"norm_macro_recall_max\", \"stepped\": true, \"type\": \"scatter\", \"data\": [0.6154165791620023, 0.626049804187676, 0.626049804187676, 0.626049804187676, 0.626049804187676, 0.6400189695252625, 0.6400189695252625, 0.6400189695252625, 0.6400189695252625, 0.6400189695252625, 0.6400189695252625, 0.6400189695252625, 0.6400189695252625, 0.6400189695252625, 0.6400189695252625, 0.6400189695252625, 0.6400189695252625, 0.6400189695252625, 0.6400189695252625, 0.6400189695252625, 0.6400189695252625, 0.6400189695252625, 0.6400189695252625, 0.6400189695252625, 0.6400189695252625, 0.6400189695252625, 0.6935054318933037, 0.6935054318933037, 0.6935054318933037, 0.6935054318933037, 0.6935054318933037, 0.6935054318933037, 0.6935054318933037, 0.6935054318933037, 0.6935054318933037, 0.6935054318933037, 0.6935054318933037, 0.6935054318933037, 0.6935054318933037, 0.6935054318933037, 0.6935054318933037, 0.6935054318933037, 0.6935054318933037, 0.6951883950653974, 0.6951883950653974]}], \"average_precision_score_weighted\": [{\"categories\": [\"0\", \"1\", \"2\", \"3\", \"4\", \"5\", \"6\", \"7\", \"8\", \"9\", \"10\", \"11\", \"12\", \"13\", \"14\", \"15\", \"16\", \"17\", \"18\", \"19\", \"20\", \"21\", \"22\", \"23\", \"24\", \"25\", \"26\", \"27\", \"28\", \"29\", \"30\", \"31\", \"32\", \"33\", \"34\", \"35\", \"36\", \"37\", \"38\", \"39\", \"40\", \"41\", \"42\", \"43\", \"44\"], \"mode\": \"markers\", \"name\": \"average_precision_score_weighted\", \"stepped\": false, \"type\": \"scatter\", \"data\": [0.9061112830231934, 0.907154018724502, 0.9239405185262146, 0.9126817538574521, 0.9191978127141816, 0.9196600739195155, 0.9270145430418868, 0.7902984708289256, 0.9006152166437232, 0.927082258959724, 0.9042677325897064, 0.9256279466398357, 0.9063143562803369, 0.89933312883859, 0.9127646822345877, 0.9200741886984553, 0.916358520578126, 0.9180694915889834, 0.8998979281416123, 0.9145359592156357, 0.8773409037627611, 0.9105464490450996, 0.8910526567414232, 0.888324275117038, 0.9119588313615263, 0.6789471259187371, 0.9195309869854782, 0.922432161251608, 0.9051448876048337, 0.9107497031904321, 0.5827102655568768, 0.9055537727317233, 0.9136407010191354, 0.9135350273104205, 0.9113215758730332, 0.9201755197373455, 0.9128548952223701, 0.8898096511813464, 0.9108960512347928, 0.9007629883474955, 0.9199457460980554, 0.9207274577081682, 0.8969991744237259, 0.9271023106244887, 0.9271041309121528]}, {\"categories\": [\"0\", \"1\", \"2\", \"3\", \"4\", \"5\", \"6\", \"7\", \"8\", \"9\", \"10\", \"11\", \"12\", \"13\", \"14\", \"15\", \"16\", \"17\", \"18\", \"19\", \"20\", \"21\", \"22\", \"23\", \"24\", \"25\", \"26\", \"27\", \"28\", \"29\", \"30\", \"31\", \"32\", \"33\", \"34\", \"35\", \"36\", \"37\", \"38\", \"39\", \"40\", \"41\", \"42\", \"43\", \"44\"], \"mode\": \"lines\", \"name\": \"average_precision_score_weighted_max\", \"stepped\": true, \"type\": \"scatter\", \"data\": [0.9061112830231934, 0.907154018724502, 0.9239405185262146, 0.9239405185262146, 0.9239405185262146, 0.9239405185262146, 0.9270145430418868, 0.9270145430418868, 0.9270145430418868, 0.927082258959724, 0.927082258959724, 0.927082258959724, 0.927082258959724, 0.927082258959724, 0.927082258959724, 0.927082258959724, 0.927082258959724, 0.927082258959724, 0.927082258959724, 0.927082258959724, 0.927082258959724, 0.927082258959724, 0.927082258959724, 0.927082258959724, 0.927082258959724, 0.927082258959724, 0.927082258959724, 0.927082258959724, 0.927082258959724, 0.927082258959724, 0.927082258959724, 0.927082258959724, 0.927082258959724, 0.927082258959724, 0.927082258959724, 0.927082258959724, 0.927082258959724, 0.927082258959724, 0.927082258959724, 0.927082258959724, 0.927082258959724, 0.927082258959724, 0.927082258959724, 0.9271023106244887, 0.9271041309121528]}], \"weighted_accuracy\": [{\"categories\": [\"0\", \"1\", \"2\", \"3\", \"4\", \"5\", \"6\", \"7\", \"8\", \"9\", \"10\", \"11\", \"12\", \"13\", \"14\", \"15\", \"16\", \"17\", \"18\", \"19\", \"20\", \"21\", \"22\", \"23\", \"24\", \"25\", \"26\", \"27\", \"28\", \"29\", \"30\", \"31\", \"32\", \"33\", \"34\", \"35\", \"36\", \"37\", \"38\", \"39\", \"40\", \"41\", \"42\", \"43\", \"44\"], \"mode\": \"markers\", \"name\": \"weighted_accuracy\", \"stepped\": false, \"type\": \"scatter\", \"data\": [0.8541321922200625, 0.8502962163535492, 0.8534164129056467, 0.8682823683487598, 0.8331945088693065, 0.8627043140188004, 0.8671263543630007, 0.7797261519121693, 0.8459653173983817, 0.8589309119851786, 0.8537749403572639, 0.864866831161053, 0.8262633165105754, 0.8572318293313085, 0.8809084034778747, 0.8588592980619095, 0.8613850227996014, 0.8617661195590056, 0.8585234753328456, 0.8637411440626488, 0.8276578072504888, 0.8667297414217963, 0.8532830096702548, 0.8656750096917115, 0.8471772199465175, 0.5045671894246844, 0.8841296967969383, 0.8259175118118393, 0.8592722487345101, 0.8618220712169556, 0.7931711479234276, 0.8561061607388248, 0.8708673495008605, 0.8565084003744683, 0.8730280059608948, 0.8772139505483288, 0.872537710097095, 0.83677571517602, 0.858510125334463, 0.8390885813524012, 0.8696278012197352, 0.8543763921195522, 0.870662080112988, 0.8997600271088567, 0.8957807883545312]}, {\"categories\": [\"0\", \"1\", \"2\", \"3\", \"4\", \"5\", \"6\", \"7\", \"8\", \"9\", \"10\", \"11\", \"12\", \"13\", \"14\", \"15\", \"16\", \"17\", \"18\", \"19\", \"20\", \"21\", \"22\", \"23\", \"24\", \"25\", \"26\", \"27\", \"28\", \"29\", \"30\", \"31\", \"32\", \"33\", \"34\", \"35\", \"36\", \"37\", \"38\", \"39\", \"40\", \"41\", \"42\", \"43\", \"44\"], \"mode\": \"lines\", \"name\": \"weighted_accuracy_max\", \"stepped\": true, \"type\": \"scatter\", \"data\": [0.8541321922200625, 0.8541321922200625, 0.8541321922200625, 0.8682823683487598, 0.8682823683487598, 0.8682823683487598, 0.8682823683487598, 0.8682823683487598, 0.8682823683487598, 0.8682823683487598, 0.8682823683487598, 0.8682823683487598, 0.8682823683487598, 0.8682823683487598, 0.8809084034778747, 0.8809084034778747, 0.8809084034778747, 0.8809084034778747, 0.8809084034778747, 0.8809084034778747, 0.8809084034778747, 0.8809084034778747, 0.8809084034778747, 0.8809084034778747, 0.8809084034778747, 0.8809084034778747, 0.8841296967969383, 0.8841296967969383, 0.8841296967969383, 0.8841296967969383, 0.8841296967969383, 0.8841296967969383, 0.8841296967969383, 0.8841296967969383, 0.8841296967969383, 0.8841296967969383, 0.8841296967969383, 0.8841296967969383, 0.8841296967969383, 0.8841296967969383, 0.8841296967969383, 0.8841296967969383, 0.8841296967969383, 0.8997600271088567, 0.8997600271088567]}]}, \"metricName\": null, \"primaryMetricName\": \"accuracy\", \"showLegend\": false}, \"run_metrics\": [{\"name\": \"experiment_status\", \"run_id\": \"AutoML_415e87b7-c932-44e2-9303-71d0e67f8df7\", \"categories\": [0, 1, 2, 3, 4, 5, 6, 7, 8, 9, 10, 11, 12, 13], \"series\": [{\"data\": [\"DatasetEvaluation\", \"FeaturesGeneration\", \"DatasetFeaturization\", \"DatasetFeaturizationCompleted\", \"DatasetCrossValidationSplit\", \"ModelSelection\", \"BestRunExplainModel\", \"ModelExplanationDataSetSetup\", \"PickSurrogateModel\", \"EngineeredFeatureExplanations\", \"EngineeredFeatureExplanations\", \"RawFeaturesExplanations\", \"RawFeaturesExplanations\", \"BestRunExplainModel\"]}]}, {\"name\": \"experiment_status_description\", \"run_id\": \"AutoML_415e87b7-c932-44e2-9303-71d0e67f8df7\", \"categories\": [0, 1, 2, 3, 4, 5, 6, 7, 8, 9, 10, 11, 12, 13], \"series\": [{\"data\": [\"Gathering dataset statistics.\", \"Generating features for the dataset.\", \"Beginning to fit featurizers and featurize the dataset.\", \"Completed fit featurizers and featurizing the dataset.\", \"Generating individually featurized CV splits.\", \"Beginning model selection.\", \"Best run model explanations started\", \"Model explanations data setup completed\", \"Choosing LightGBM as the surrogate model for explanations\", \"Computation of engineered features started\", \"Computation of engineered features completed\", \"Computation of raw features started\", \"Computation of raw features completed\", \"Best run model explanations completed\"]}]}, {\"name\": \"log_loss\", \"run_id\": \"AutoML_415e87b7-c932-44e2-9303-71d0e67f8df7\", \"categories\": [0], \"series\": [{\"data\": [0.37523434416524704]}]}, {\"name\": \"recall_score_macro\", \"run_id\": \"AutoML_415e87b7-c932-44e2-9303-71d0e67f8df7\", \"categories\": [0], \"series\": [{\"data\": [0.8475941975326986]}]}, {\"name\": \"precision_score_micro\", \"run_id\": \"AutoML_415e87b7-c932-44e2-9303-71d0e67f8df7\", \"categories\": [0], \"series\": [{\"data\": [0.8796551724137931]}]}, {\"name\": \"recall_score_micro\", \"run_id\": \"AutoML_415e87b7-c932-44e2-9303-71d0e67f8df7\", \"categories\": [0], \"series\": [{\"data\": [0.8796551724137931]}]}, {\"name\": \"f1_score_macro\", \"run_id\": \"AutoML_415e87b7-c932-44e2-9303-71d0e67f8df7\", \"categories\": [0], \"series\": [{\"data\": [0.8544847640857043]}]}, {\"name\": \"norm_macro_recall\", \"run_id\": \"AutoML_415e87b7-c932-44e2-9303-71d0e67f8df7\", \"categories\": [0], \"series\": [{\"data\": [0.6951883950653974]}]}, {\"name\": \"f1_score_micro\", \"run_id\": \"AutoML_415e87b7-c932-44e2-9303-71d0e67f8df7\", \"categories\": [0], \"series\": [{\"data\": [0.8796551724137931]}]}, {\"name\": \"recall_score_weighted\", \"run_id\": \"AutoML_415e87b7-c932-44e2-9303-71d0e67f8df7\", \"categories\": [0], \"series\": [{\"data\": [0.8796551724137931]}]}, {\"name\": \"balanced_accuracy\", \"run_id\": \"AutoML_415e87b7-c932-44e2-9303-71d0e67f8df7\", \"categories\": [0], \"series\": [{\"data\": [0.8475941975326986]}]}, {\"name\": \"matthews_correlation\", \"run_id\": \"AutoML_415e87b7-c932-44e2-9303-71d0e67f8df7\", \"categories\": [0], \"series\": [{\"data\": [0.7351420424664441]}]}, {\"name\": \"weighted_accuracy\", \"run_id\": \"AutoML_415e87b7-c932-44e2-9303-71d0e67f8df7\", \"categories\": [0], \"series\": [{\"data\": [0.8997600271088567]}]}, {\"name\": \"precision_score_macro\", \"run_id\": \"AutoML_415e87b7-c932-44e2-9303-71d0e67f8df7\", \"categories\": [0], \"series\": [{\"data\": [0.8915326605761388]}]}, {\"name\": \"precision_score_weighted\", \"run_id\": \"AutoML_415e87b7-c932-44e2-9303-71d0e67f8df7\", \"categories\": [0], \"series\": [{\"data\": [0.8939134261540558]}]}, {\"name\": \"f1_score_weighted\", \"run_id\": \"AutoML_415e87b7-c932-44e2-9303-71d0e67f8df7\", \"categories\": [0], \"series\": [{\"data\": [0.8745402351846987]}]}, {\"name\": \"average_precision_score_macro\", \"run_id\": \"AutoML_415e87b7-c932-44e2-9303-71d0e67f8df7\", \"categories\": [0], \"series\": [{\"data\": [0.9029492426074833]}]}, {\"name\": \"AUC_macro\", \"run_id\": \"AutoML_415e87b7-c932-44e2-9303-71d0e67f8df7\", \"categories\": [0], \"series\": [{\"data\": [0.9136457500800752]}]}, {\"name\": \"accuracy\", \"run_id\": \"AutoML_415e87b7-c932-44e2-9303-71d0e67f8df7\", \"categories\": [0], \"series\": [{\"data\": [0.8796551724137931]}]}, {\"name\": \"AUC_micro\", \"run_id\": \"AutoML_415e87b7-c932-44e2-9303-71d0e67f8df7\", \"categories\": [0], \"series\": [{\"data\": [0.922386180472982]}]}, {\"name\": \"average_precision_score_weighted\", \"run_id\": \"AutoML_415e87b7-c932-44e2-9303-71d0e67f8df7\", \"categories\": [0], \"series\": [{\"data\": [0.9271023106244887]}]}, {\"name\": \"AUC_weighted\", \"run_id\": \"AutoML_415e87b7-c932-44e2-9303-71d0e67f8df7\", \"categories\": [0], \"series\": [{\"data\": [0.9136457500800752]}]}, {\"name\": \"average_precision_score_micro\", \"run_id\": \"AutoML_415e87b7-c932-44e2-9303-71d0e67f8df7\", \"categories\": [0], \"series\": [{\"data\": [0.9252470516459855]}]}], \"run_logs\": \"\\nRun is completed.\", \"graph\": {}, \"widget_settings\": {\"childWidgetDisplay\": \"popup\", \"send_telemetry\": false, \"log_level\": \"INFO\", \"sdk_version\": \"1.20.0\"}, \"loading\": false}"
     },
     "metadata": {},
     "output_type": "display_data"
    },
    {
     "name": "stdout",
     "output_type": "stream",
     "text": [
      "\n",
      "Current status: FeaturesGeneration. Generating features for the dataset.\n",
      "Current status: DatasetCrossValidationSplit. Beginning model selection.\n",
      "Current status: ModelSelection. Beginning model selection.\n",
      "\n",
      "****************************************************************************************************\n",
      "DATA GUARDRAILS: \n",
      "\n",
      "TYPE:         Cross validation\n",
      "STATUS:       DONE\n",
      "DESCRIPTION:  Each iteration of the trained model was validated through cross-validation.\n",
      "              \n",
      "DETAILS:      \n",
      "+---------------------------------+\n",
      "|Number of folds                  |\n",
      "+=================================+\n",
      "|10                               |\n",
      "+---------------------------------+\n",
      "\n",
      "****************************************************************************************************\n",
      "\n",
      "TYPE:         Class balancing detection\n",
      "STATUS:       PASSED\n",
      "DESCRIPTION:  Your inputs were analyzed, and all classes are balanced in your training data.\n",
      "              Learn more about imbalanced data: https://aka.ms/AutomatedMLImbalancedData\n",
      "\n",
      "****************************************************************************************************\n",
      "\n",
      "TYPE:         Missing feature values imputation\n",
      "STATUS:       PASSED\n",
      "DESCRIPTION:  No feature missing values were detected in the training data.\n",
      "              Learn more about missing value imputation: https://aka.ms/AutomatedMLFeaturization\n",
      "\n",
      "****************************************************************************************************\n",
      "\n",
      "TYPE:         High cardinality feature detection\n",
      "STATUS:       PASSED\n",
      "DESCRIPTION:  Your inputs were analyzed, and no high cardinality features were detected.\n",
      "              Learn more about high cardinality feature handling: https://aka.ms/AutomatedMLFeaturization\n",
      "\n",
      "****************************************************************************************************\n",
      "\n",
      "****************************************************************************************************\n",
      "ITERATION: The iteration being evaluated.\n",
      "PIPELINE: A summary description of the pipeline being evaluated.\n",
      "DURATION: Time taken for the current iteration.\n",
      "METRIC: The result of computing score on the fitted pipeline.\n",
      "BEST: The best observed score thus far.\n",
      "****************************************************************************************************\n",
      "\n",
      " ITERATION   PIPELINE                                       DURATION      METRIC      BEST\n",
      "         0   MaxAbsScaler LightGBM                          0:00:56       0.8360    0.8360\n",
      "         3   MinMaxScaler RandomForest                      0:00:57       0.8392    0.8392\n",
      "         1   MaxAbsScaler XGBoostClassifier                 0:02:25       0.8359    0.8392\n",
      "         2   MinMaxScaler RandomForest                      0:00:58       0.8362    0.8392\n",
      "         4   MinMaxScaler RandomForest                      0:01:02       0.8222    0.8392\n",
      "         7   MinMaxScaler SVM                               0:01:06       0.7259    0.8392\n",
      "         8   SparseNormalizer XGBoostClassifier             0:01:07       0.8229    0.8392\n",
      "         5   RobustScaler LightGBM                          0:02:31       0.8459    0.8459\n",
      "         6   RobustScaler LightGBM                          0:02:36       0.8492    0.8492\n",
      "         9   MaxAbsScaler GradientBoosting                  0:01:04       0.8425    0.8492\n",
      "        10   SparseNormalizer LightGBM                      0:01:01       0.8329    0.8492\n",
      "        11   StandardScalerWrapper RandomForest             0:01:01       0.8426    0.8492\n",
      "        12   StandardScalerWrapper LightGBM                 0:00:53       0.7392    0.8492\n",
      "        13   MaxAbsScaler LightGBM                          0:00:51       0.8293    0.8492\n",
      "        14   RobustScaler ExtremeRandomTrees                0:01:05       0.8494    0.8494\n",
      "        16   StandardScalerWrapper LightGBM                 0:00:59       0.8226    0.8494\n",
      "        15   StandardScalerWrapper RandomForest             0:01:23       0.8393    0.8494\n",
      "        17   MinMaxScaler LightGBM                          0:01:09       0.8426    0.8494\n",
      "        18   StandardScalerWrapper XGBoostClassifier        0:00:58       0.8293    0.8494\n",
      "        19   StandardScalerWrapper LightGBM                 0:01:05       0.8260    0.8494\n",
      "        21   MinMaxScaler LightGBM                          0:01:04       0.8093    0.8494\n",
      "        22   MinMaxScaler LightGBM                          0:00:51       0.8026    0.8494\n",
      "        20   MaxAbsScaler LightGBM                          0:01:41       0.7757    0.8494\n",
      "        23   MaxAbsScaler LightGBM                          0:01:20       0.8160    0.8494\n",
      "        24   RobustScaler LightGBM                          0:00:56       0.7794    0.8494\n",
      "        25   MaxAbsScaler ExtremeRandomTrees                0:00:52       0.5441    0.8494\n",
      "        26   SparseNormalizer XGBoostClassifier             0:00:52       0.8697    0.8697\n",
      "        27   MaxAbsScaler RandomForest                      0:00:52       0.8257    0.8697\n",
      "        28   SparseNormalizer RandomForest                  0:01:02       0.8163    0.8697\n",
      "        29   StandardScalerWrapper RandomForest             0:00:56       0.8428    0.8697\n",
      "        30   StandardScalerWrapper XGBoostClassifier        0:01:01       0.6792    0.8697\n",
      "        31   SparseNormalizer LightGBM                      0:00:55       0.8229    0.8697\n",
      "        32   SparseNormalizer LightGBM                      0:00:51       0.8494    0.8697\n",
      "        33   StandardScalerWrapper LightGBM                 0:00:58       0.8259    0.8697\n",
      "        34   MaxAbsScaler LightGBM                          0:01:02       0.8293    0.8697\n",
      "        35   StandardScalerWrapper XGBoostClassifier        0:01:03       0.8526    0.8697\n",
      "        36   StandardScalerWrapper LightGBM                 0:00:52       0.8529    0.8697\n",
      "        37   StandardScalerWrapper XGBoostClassifier        0:00:55       0.8059    0.8697\n",
      "        38   StandardScalerWrapper XGBoostClassifier        0:00:54       0.8394    0.8697\n",
      "        39   StandardScalerWrapper XGBoostClassifier        0:01:01       0.8259    0.8697\n",
      "        40   StandardScalerWrapper XGBoostClassifier        0:00:56       0.8426    0.8697\n",
      "        41   StandardScalerWrapper LightGBM                 0:00:54       0.8392    0.8697\n",
      "        42   MaxAbsScaler LightGBM                          0:00:34       0.8393    0.8697\n",
      "        43    VotingEnsemble                                0:02:17       0.8797    0.8797\n",
      "        44    StackEnsemble                                 0:02:44       0.8763    0.8797\n"
     ]
    },
    {
     "data": {
      "text/plain": [
       "{'runId': 'AutoML_415e87b7-c932-44e2-9303-71d0e67f8df7',\n",
       " 'target': 'my-cpu-cluster',\n",
       " 'status': 'Completed',\n",
       " 'startTimeUtc': '2021-02-12T02:42:56.837842Z',\n",
       " 'endTimeUtc': '2021-02-12T03:05:21.070692Z',\n",
       " 'properties': {'num_iterations': '1000',\n",
       "  'training_type': 'TrainFull',\n",
       "  'acquisition_function': 'EI',\n",
       "  'primary_metric': 'accuracy',\n",
       "  'train_split': '0',\n",
       "  'acquisition_parameter': '0',\n",
       "  'num_cross_validation': None,\n",
       "  'target': 'my-cpu-cluster',\n",
       "  'AMLSettingsJsonString': '{\"path\":null,\"name\":\"automl_heart_failure_experiment\",\"subscription_id\":\"976ee174-3882-4721-b90a-b5fef6b72f24\",\"resource_group\":\"aml-quickstarts-138652\",\"workspace_name\":\"quick-starts-ws-138652\",\"region\":\"southcentralus\",\"compute_target\":\"my-cpu-cluster\",\"spark_service\":null,\"azure_service\":\"remote\",\"many_models\":false,\"pipeline_fetch_max_batch_size\":1,\"iterations\":1000,\"primary_metric\":\"accuracy\",\"task_type\":\"classification\",\"data_script\":null,\"validation_size\":0.0,\"n_cross_validations\":null,\"y_min\":null,\"y_max\":null,\"num_classes\":null,\"featurization\":\"auto\",\"_ignore_package_version_incompatibilities\":false,\"is_timeseries\":false,\"max_cores_per_iteration\":1,\"max_concurrent_iterations\":4,\"iteration_timeout_minutes\":null,\"mem_in_mb\":null,\"enforce_time_on_windows\":false,\"experiment_timeout_minutes\":30,\"experiment_exit_score\":null,\"whitelist_models\":null,\"blacklist_algos\":[\"TensorFlowLinearClassifier\",\"TensorFlowDNN\"],\"supported_models\":[\"GradientBoosting\",\"BernoulliNaiveBayes\",\"LogisticRegression\",\"LinearSVM\",\"TensorFlowDNN\",\"TensorFlowLinearClassifier\",\"AveragedPerceptronClassifier\",\"MultinomialNaiveBayes\",\"ExtremeRandomTrees\",\"XGBoostClassifier\",\"KNN\",\"RandomForest\",\"SGD\",\"SVM\",\"DecisionTree\",\"LightGBM\"],\"auto_blacklist\":true,\"blacklist_samples_reached\":false,\"exclude_nan_labels\":true,\"verbosity\":20,\"_debug_log\":\"azureml_automl.log\",\"show_warnings\":false,\"model_explainability\":true,\"service_url\":null,\"sdk_url\":null,\"sdk_packages\":null,\"enable_onnx_compatible_models\":false,\"enable_split_onnx_featurizer_estimator_models\":false,\"vm_type\":\"STANDARD_D3_V2\",\"telemetry_verbosity\":20,\"send_telemetry\":true,\"enable_dnn\":false,\"scenario\":\"SDK-1.13.0\",\"environment_label\":null,\"force_text_dnn\":false,\"enable_feature_sweeping\":true,\"enable_early_stopping\":true,\"early_stopping_n_iters\":10,\"metrics\":null,\"enable_ensembling\":true,\"enable_stack_ensembling\":true,\"ensemble_iterations\":15,\"enable_tf\":false,\"enable_subsampling\":null,\"subsample_seed\":null,\"enable_nimbusml\":false,\"enable_streaming\":false,\"force_streaming\":false,\"track_child_runs\":true,\"allowed_private_models\":[],\"label_column_name\":\"DEATH_EVENT\",\"weight_column_name\":null,\"cv_split_column_names\":null,\"enable_local_managed\":false,\"_local_managed_run_id\":null,\"cost_mode\":1,\"lag_length\":0,\"metric_operation\":\"maximize\",\"preprocess\":true}',\n",
       "  'DataPrepJsonString': '{\\\\\"training_data\\\\\": \\\\\"{\\\\\\\\\\\\\"blocks\\\\\\\\\\\\\": [{\\\\\\\\\\\\\"id\\\\\\\\\\\\\": \\\\\\\\\\\\\"45e12751-b944-494f-9a2d-1bfb2673fb6e\\\\\\\\\\\\\", \\\\\\\\\\\\\"type\\\\\\\\\\\\\": \\\\\\\\\\\\\"Microsoft.DPrep.GetDatastoreFilesBlock\\\\\\\\\\\\\", \\\\\\\\\\\\\"arguments\\\\\\\\\\\\\": {\\\\\\\\\\\\\"datastores\\\\\\\\\\\\\": [{\\\\\\\\\\\\\"datastoreName\\\\\\\\\\\\\": \\\\\\\\\\\\\"workspaceblobstore\\\\\\\\\\\\\", \\\\\\\\\\\\\"path\\\\\\\\\\\\\": \\\\\\\\\\\\\"UI/02-12-2021_023204_UTC/heart_failure_clinical_records_dataset.csv\\\\\\\\\\\\\", \\\\\\\\\\\\\"resourceGroup\\\\\\\\\\\\\": \\\\\\\\\\\\\"aml-quickstarts-138652\\\\\\\\\\\\\", \\\\\\\\\\\\\"subscription\\\\\\\\\\\\\": \\\\\\\\\\\\\"976ee174-3882-4721-b90a-b5fef6b72f24\\\\\\\\\\\\\", \\\\\\\\\\\\\"workspaceName\\\\\\\\\\\\\": \\\\\\\\\\\\\"quick-starts-ws-138652\\\\\\\\\\\\\"}]}, \\\\\\\\\\\\\"localData\\\\\\\\\\\\\": {}, \\\\\\\\\\\\\"isEnabled\\\\\\\\\\\\\": true, \\\\\\\\\\\\\"name\\\\\\\\\\\\\": null, \\\\\\\\\\\\\"annotation\\\\\\\\\\\\\": null}, {\\\\\\\\\\\\\"id\\\\\\\\\\\\\": \\\\\\\\\\\\\"c9a41d09-2109-4cdf-ae0b-8227d6033236\\\\\\\\\\\\\", \\\\\\\\\\\\\"type\\\\\\\\\\\\\": \\\\\\\\\\\\\"Microsoft.DPrep.ParseDelimitedBlock\\\\\\\\\\\\\", \\\\\\\\\\\\\"arguments\\\\\\\\\\\\\": {\\\\\\\\\\\\\"columnHeadersMode\\\\\\\\\\\\\": 1, \\\\\\\\\\\\\"fileEncoding\\\\\\\\\\\\\": 0, \\\\\\\\\\\\\"handleQuotedLineBreaks\\\\\\\\\\\\\": false, \\\\\\\\\\\\\"preview\\\\\\\\\\\\\": false, \\\\\\\\\\\\\"separator\\\\\\\\\\\\\": \\\\\\\\\\\\\",\\\\\\\\\\\\\", \\\\\\\\\\\\\"skipRows\\\\\\\\\\\\\": 0, \\\\\\\\\\\\\"skipRowsMode\\\\\\\\\\\\\": 0}, \\\\\\\\\\\\\"localData\\\\\\\\\\\\\": {}, \\\\\\\\\\\\\"isEnabled\\\\\\\\\\\\\": true, \\\\\\\\\\\\\"name\\\\\\\\\\\\\": null, \\\\\\\\\\\\\"annotation\\\\\\\\\\\\\": null}, {\\\\\\\\\\\\\"id\\\\\\\\\\\\\": \\\\\\\\\\\\\"d9351cf5-b52a-4c1e-981a-4e2839c6f435\\\\\\\\\\\\\", \\\\\\\\\\\\\"type\\\\\\\\\\\\\": \\\\\\\\\\\\\"Microsoft.DPrep.DropColumnsBlock\\\\\\\\\\\\\", \\\\\\\\\\\\\"arguments\\\\\\\\\\\\\": {\\\\\\\\\\\\\"columns\\\\\\\\\\\\\": {\\\\\\\\\\\\\"type\\\\\\\\\\\\\": 0, \\\\\\\\\\\\\"details\\\\\\\\\\\\\": {\\\\\\\\\\\\\"selectedColumns\\\\\\\\\\\\\": [\\\\\\\\\\\\\"Path\\\\\\\\\\\\\"]}}}, \\\\\\\\\\\\\"localData\\\\\\\\\\\\\": {}, \\\\\\\\\\\\\"isEnabled\\\\\\\\\\\\\": true, \\\\\\\\\\\\\"name\\\\\\\\\\\\\": null, \\\\\\\\\\\\\"annotation\\\\\\\\\\\\\": null}, {\\\\\\\\\\\\\"id\\\\\\\\\\\\\": \\\\\\\\\\\\\"a2391912-5c49-4997-b38d-ee405ed568bb\\\\\\\\\\\\\", \\\\\\\\\\\\\"type\\\\\\\\\\\\\": \\\\\\\\\\\\\"Microsoft.DPrep.SetColumnTypesBlock\\\\\\\\\\\\\", \\\\\\\\\\\\\"arguments\\\\\\\\\\\\\": {\\\\\\\\\\\\\"columnConversion\\\\\\\\\\\\\": [{\\\\\\\\\\\\\"column\\\\\\\\\\\\\": {\\\\\\\\\\\\\"type\\\\\\\\\\\\\": 2, \\\\\\\\\\\\\"details\\\\\\\\\\\\\": {\\\\\\\\\\\\\"selectedColumn\\\\\\\\\\\\\": \\\\\\\\\\\\\"Path\\\\\\\\\\\\\"}}, \\\\\\\\\\\\\"typeProperty\\\\\\\\\\\\\": 0}, {\\\\\\\\\\\\\"column\\\\\\\\\\\\\": {\\\\\\\\\\\\\"type\\\\\\\\\\\\\": 2, \\\\\\\\\\\\\"details\\\\\\\\\\\\\": {\\\\\\\\\\\\\"selectedColumn\\\\\\\\\\\\\": \\\\\\\\\\\\\"age\\\\\\\\\\\\\"}}, \\\\\\\\\\\\\"typeProperty\\\\\\\\\\\\\": 3}, {\\\\\\\\\\\\\"column\\\\\\\\\\\\\": {\\\\\\\\\\\\\"type\\\\\\\\\\\\\": 2, \\\\\\\\\\\\\"details\\\\\\\\\\\\\": {\\\\\\\\\\\\\"selectedColumn\\\\\\\\\\\\\": \\\\\\\\\\\\\"anaemia\\\\\\\\\\\\\"}}, \\\\\\\\\\\\\"typeProperty\\\\\\\\\\\\\": 2}, {\\\\\\\\\\\\\"column\\\\\\\\\\\\\": {\\\\\\\\\\\\\"type\\\\\\\\\\\\\": 2, \\\\\\\\\\\\\"details\\\\\\\\\\\\\": {\\\\\\\\\\\\\"selectedColumn\\\\\\\\\\\\\": \\\\\\\\\\\\\"creatinine_phosphokinase\\\\\\\\\\\\\"}}, \\\\\\\\\\\\\"typeProperty\\\\\\\\\\\\\": 2}, {\\\\\\\\\\\\\"column\\\\\\\\\\\\\": {\\\\\\\\\\\\\"type\\\\\\\\\\\\\": 2, \\\\\\\\\\\\\"details\\\\\\\\\\\\\": {\\\\\\\\\\\\\"selectedColumn\\\\\\\\\\\\\": \\\\\\\\\\\\\"diabetes\\\\\\\\\\\\\"}}, \\\\\\\\\\\\\"typeProperty\\\\\\\\\\\\\": 2}, {\\\\\\\\\\\\\"column\\\\\\\\\\\\\": {\\\\\\\\\\\\\"type\\\\\\\\\\\\\": 2, \\\\\\\\\\\\\"details\\\\\\\\\\\\\": {\\\\\\\\\\\\\"selectedColumn\\\\\\\\\\\\\": \\\\\\\\\\\\\"ejection_fraction\\\\\\\\\\\\\"}}, \\\\\\\\\\\\\"typeProperty\\\\\\\\\\\\\": 2}, {\\\\\\\\\\\\\"column\\\\\\\\\\\\\": {\\\\\\\\\\\\\"type\\\\\\\\\\\\\": 2, \\\\\\\\\\\\\"details\\\\\\\\\\\\\": {\\\\\\\\\\\\\"selectedColumn\\\\\\\\\\\\\": \\\\\\\\\\\\\"high_blood_pressure\\\\\\\\\\\\\"}}, \\\\\\\\\\\\\"typeProperty\\\\\\\\\\\\\": 2}, {\\\\\\\\\\\\\"column\\\\\\\\\\\\\": {\\\\\\\\\\\\\"type\\\\\\\\\\\\\": 2, \\\\\\\\\\\\\"details\\\\\\\\\\\\\": {\\\\\\\\\\\\\"selectedColumn\\\\\\\\\\\\\": \\\\\\\\\\\\\"platelets\\\\\\\\\\\\\"}}, \\\\\\\\\\\\\"typeProperty\\\\\\\\\\\\\": 3}, {\\\\\\\\\\\\\"column\\\\\\\\\\\\\": {\\\\\\\\\\\\\"type\\\\\\\\\\\\\": 2, \\\\\\\\\\\\\"details\\\\\\\\\\\\\": {\\\\\\\\\\\\\"selectedColumn\\\\\\\\\\\\\": \\\\\\\\\\\\\"serum_creatinine\\\\\\\\\\\\\"}}, \\\\\\\\\\\\\"typeProperty\\\\\\\\\\\\\": 3}, {\\\\\\\\\\\\\"column\\\\\\\\\\\\\": {\\\\\\\\\\\\\"type\\\\\\\\\\\\\": 2, \\\\\\\\\\\\\"details\\\\\\\\\\\\\": {\\\\\\\\\\\\\"selectedColumn\\\\\\\\\\\\\": \\\\\\\\\\\\\"serum_sodium\\\\\\\\\\\\\"}}, \\\\\\\\\\\\\"typeProperty\\\\\\\\\\\\\": 2}, {\\\\\\\\\\\\\"column\\\\\\\\\\\\\": {\\\\\\\\\\\\\"type\\\\\\\\\\\\\": 2, \\\\\\\\\\\\\"details\\\\\\\\\\\\\": {\\\\\\\\\\\\\"selectedColumn\\\\\\\\\\\\\": \\\\\\\\\\\\\"sex\\\\\\\\\\\\\"}}, \\\\\\\\\\\\\"typeProperty\\\\\\\\\\\\\": 2}, {\\\\\\\\\\\\\"column\\\\\\\\\\\\\": {\\\\\\\\\\\\\"type\\\\\\\\\\\\\": 2, \\\\\\\\\\\\\"details\\\\\\\\\\\\\": {\\\\\\\\\\\\\"selectedColumn\\\\\\\\\\\\\": \\\\\\\\\\\\\"smoking\\\\\\\\\\\\\"}}, \\\\\\\\\\\\\"typeProperty\\\\\\\\\\\\\": 2}, {\\\\\\\\\\\\\"column\\\\\\\\\\\\\": {\\\\\\\\\\\\\"type\\\\\\\\\\\\\": 2, \\\\\\\\\\\\\"details\\\\\\\\\\\\\": {\\\\\\\\\\\\\"selectedColumn\\\\\\\\\\\\\": \\\\\\\\\\\\\"time\\\\\\\\\\\\\"}}, \\\\\\\\\\\\\"typeProperty\\\\\\\\\\\\\": 2}, {\\\\\\\\\\\\\"column\\\\\\\\\\\\\": {\\\\\\\\\\\\\"type\\\\\\\\\\\\\": 2, \\\\\\\\\\\\\"details\\\\\\\\\\\\\": {\\\\\\\\\\\\\"selectedColumn\\\\\\\\\\\\\": \\\\\\\\\\\\\"DEATH_EVENT\\\\\\\\\\\\\"}}, \\\\\\\\\\\\\"typeProperty\\\\\\\\\\\\\": 2}]}, \\\\\\\\\\\\\"localData\\\\\\\\\\\\\": {}, \\\\\\\\\\\\\"isEnabled\\\\\\\\\\\\\": true, \\\\\\\\\\\\\"name\\\\\\\\\\\\\": null, \\\\\\\\\\\\\"annotation\\\\\\\\\\\\\": null}], \\\\\\\\\\\\\"inspectors\\\\\\\\\\\\\": [], \\\\\\\\\\\\\"meta\\\\\\\\\\\\\": {\\\\\\\\\\\\\"savedDatasetId\\\\\\\\\\\\\": \\\\\\\\\\\\\"9f6dcf6e-65fb-4f2a-bdba-acb22ddfe91e\\\\\\\\\\\\\", \\\\\\\\\\\\\"datasetType\\\\\\\\\\\\\": \\\\\\\\\\\\\"tabular\\\\\\\\\\\\\", \\\\\\\\\\\\\"subscriptionId\\\\\\\\\\\\\": \\\\\\\\\\\\\"976ee174-3882-4721-b90a-b5fef6b72f24\\\\\\\\\\\\\", \\\\\\\\\\\\\"workspaceId\\\\\\\\\\\\\": \\\\\\\\\\\\\"c58d1604-63d7-49d1-bcd4-3d0bdaa6fdee\\\\\\\\\\\\\", \\\\\\\\\\\\\"workspaceLocation\\\\\\\\\\\\\": \\\\\\\\\\\\\"southcentralus\\\\\\\\\\\\\"}}\\\\\", \\\\\"activities\\\\\": 0}',\n",
       "  'EnableSubsampling': None,\n",
       "  'runTemplate': 'AutoML',\n",
       "  'azureml.runsource': 'automl',\n",
       "  'display_task_type': 'classification',\n",
       "  'dependencies_versions': '{\"azureml-widgets\": \"1.20.0\", \"azureml-train\": \"1.20.0\", \"azureml-train-restclients-hyperdrive\": \"1.20.0\", \"azureml-train-core\": \"1.20.0\", \"azureml-train-automl\": \"1.20.0\", \"azureml-train-automl-runtime\": \"1.20.0\", \"azureml-train-automl-client\": \"1.20.0\", \"azureml-tensorboard\": \"1.20.0\", \"azureml-telemetry\": \"1.20.0\", \"azureml-sdk\": \"1.20.0\", \"azureml-samples\": \"0+unknown\", \"azureml-pipeline\": \"1.20.0\", \"azureml-pipeline-steps\": \"1.20.0\", \"azureml-pipeline-core\": \"1.20.0\", \"azureml-opendatasets\": \"1.20.0\", \"azureml-model-management-sdk\": \"1.0.1b6.post1\", \"azureml-mlflow\": \"1.20.0.post1\", \"azureml-interpret\": \"1.20.0\", \"azureml-explain-model\": \"1.20.0\", \"azureml-defaults\": \"1.20.0\", \"azureml-dataset-runtime\": \"1.20.0\", \"azureml-dataprep\": \"2.7.3\", \"azureml-dataprep-rslex\": \"1.5.0\", \"azureml-dataprep-native\": \"27.0.0\", \"azureml-datadrift\": \"1.20.0\", \"azureml-core\": \"1.20.0\", \"azureml-contrib-services\": \"1.20.0\", \"azureml-contrib-server\": \"1.20.0\", \"azureml-contrib-reinforcementlearning\": \"1.20.0\", \"azureml-contrib-pipeline-steps\": \"1.20.0\", \"azureml-contrib-notebook\": \"1.20.0\", \"azureml-contrib-interpret\": \"1.20.0\", \"azureml-contrib-gbdt\": \"1.20.0\", \"azureml-contrib-fairness\": \"1.20.0\", \"azureml-contrib-dataset\": \"1.20.0\", \"azureml-cli-common\": \"1.20.0\", \"azureml-automl-runtime\": \"1.20.0\", \"azureml-automl-core\": \"1.20.0\", \"azureml-accel-models\": \"1.20.0\"}',\n",
       "  '_aml_system_scenario_identification': 'Remote.Parent',\n",
       "  'ClientType': 'SDK',\n",
       "  'environment_cpu_name': 'AzureML-AutoML',\n",
       "  'environment_cpu_label': 'prod',\n",
       "  'environment_gpu_name': 'AzureML-AutoML-GPU',\n",
       "  'environment_gpu_label': 'prod',\n",
       "  'root_attribution': 'automl',\n",
       "  'attribution': 'AutoML',\n",
       "  'Orchestrator': 'AutoML',\n",
       "  'CancelUri': 'https://southcentralus.experiments.azureml.net/jasmine/v1.0/subscriptions/976ee174-3882-4721-b90a-b5fef6b72f24/resourceGroups/aml-quickstarts-138652/providers/Microsoft.MachineLearningServices/workspaces/quick-starts-ws-138652/experimentids/9f373cb0-8d35-4815-8aea-47cb34b48815/cancel/AutoML_415e87b7-c932-44e2-9303-71d0e67f8df7',\n",
       "  'ClientSdkVersion': '1.21.0',\n",
       "  'snapshotId': '00000000-0000-0000-0000-000000000000',\n",
       "  'SetupRunId': 'AutoML_415e87b7-c932-44e2-9303-71d0e67f8df7_setup',\n",
       "  'SetupRunContainerId': 'dcid.AutoML_415e87b7-c932-44e2-9303-71d0e67f8df7_setup',\n",
       "  'FeaturizationRunJsonPath': 'featurizer_container.json',\n",
       "  'FeaturizationRunId': 'AutoML_415e87b7-c932-44e2-9303-71d0e67f8df7_featurize',\n",
       "  'ProblemInfoJsonString': '{\"dataset_num_categorical\": 0, \"is_sparse\": false, \"subsampling\": false, \"dataset_classes\": 2, \"dataset_features\": 12, \"dataset_samples\": 299, \"single_frequency_class_detected\": false}',\n",
       "  'ModelExplainRunId': 'AutoML_415e87b7-c932-44e2-9303-71d0e67f8df7_ModelExplain'},\n",
       " 'inputDatasets': [{'dataset': {'id': '9f6dcf6e-65fb-4f2a-bdba-acb22ddfe91e'}, 'consumptionDetails': {'type': 'RunInput', 'inputName': 'training_data', 'mechanism': 'Direct'}}],\n",
       " 'outputDatasets': [],\n",
       " 'logFiles': {},\n",
       " 'submittedBy': 'ODL_User 138652'}"
      ]
     },
     "execution_count": 10,
     "metadata": {},
     "output_type": "execute_result"
    }
   ],
   "source": [
    "RunDetails(remote_run).show()\n",
    "remote_run.wait_for_completion(show_output=True)"
   ]
  },
  {
   "cell_type": "markdown",
   "metadata": {},
   "source": [
    "## Best Model\n",
    "\n",
    "Getting the best model from the automl experiments and displaying all the properties of the model."
   ]
  },
  {
   "cell_type": "code",
   "execution_count": 11,
   "metadata": {
    "gather": {
     "logged": 1598431425670
    },
    "jupyter": {
     "outputs_hidden": false,
     "source_hidden": false
    },
    "nteract": {
     "transient": {
      "deleting": false
     }
    }
   },
   "outputs": [
    {
     "name": "stderr",
     "output_type": "stream",
     "text": [
      "WARNING:root:The version of the SDK does not match the version the model was trained on.\n",
      "WARNING:root:The consistency in the result may not be guaranteed.\n",
      "WARNING:root:Package:azureml-automl-core, training version:1.21.0, current version:1.20.0\n",
      "Package:azureml-automl-runtime, training version:1.21.0, current version:1.20.0\n",
      "Package:azureml-core, training version:1.21.0.post1, current version:1.20.0\n",
      "Package:azureml-dataprep, training version:2.8.2, current version:2.7.3\n",
      "Package:azureml-dataprep-native, training version:28.0.0, current version:27.0.0\n",
      "Package:azureml-dataprep-rslex, training version:1.6.0, current version:1.5.0\n",
      "Package:azureml-dataset-runtime, training version:1.21.0, current version:1.20.0\n",
      "Package:azureml-defaults, training version:1.21.0, current version:1.20.0\n",
      "Package:azureml-interpret, training version:1.21.0, current version:1.20.0\n",
      "Package:azureml-pipeline-core, training version:1.21.0, current version:1.20.0\n",
      "Package:azureml-telemetry, training version:1.21.0, current version:1.20.0\n",
      "Package:azureml-train-automl-client, training version:1.21.0, current version:1.20.0\n",
      "Package:azureml-train-automl-runtime, training version:1.21.0, current version:1.20.0\n",
      "WARNING:root:Please ensure the version of your local conda dependencies match the version on which your model was trained in order to properly retrieve your model.\n"
     ]
    }
   ],
   "source": [
    "# Retrieve and save the best automl model.\n",
    "automl_best_run, fitted_automl_best_model = remote_run.get_output()\n",
    "best_run_metrics = automl_best_run.get_metrics()\n"
   ]
  },
  {
   "cell_type": "code",
   "execution_count": 13,
   "metadata": {},
   "outputs": [
    {
     "name": "stdout",
     "output_type": "stream",
     "text": [
      "=========================== Best Run ID ===========================\n",
      "AutoML_415e87b7-c932-44e2-9303-71d0e67f8df7_43\n",
      "=========================== Best Run ===========================\n",
      "Run(Experiment: automl_heart_failure_experiment,\n",
      "Id: AutoML_415e87b7-c932-44e2-9303-71d0e67f8df7_43,\n",
      "Type: azureml.scriptrun,\n",
      "Status: Completed)\n",
      "=========================== Best Model ===========================\n",
      "Pipeline(memory=None,\n",
      "         steps=[('datatransformer',\n",
      "                 DataTransformer(enable_dnn=None, enable_feature_sweeping=None,\n",
      "                                 feature_sweeping_config=None,\n",
      "                                 feature_sweeping_timeout=None,\n",
      "                                 featurization_config=None, force_text_dnn=None,\n",
      "                                 is_cross_validation=None,\n",
      "                                 is_onnx_compatible=None, logger=None,\n",
      "                                 observer=None, task=None, working_dir=None)),\n",
      "                ('prefittedsoftvotingclassifier',...\n",
      "                                                                                                objective=None,\n",
      "                                                                                                random_state=None,\n",
      "                                                                                                reg_alpha=0.2631578947368421,\n",
      "                                                                                                reg_lambda=0.5789473684210527,\n",
      "                                                                                                silent=True,\n",
      "                                                                                                subsample=1,\n",
      "                                                                                                subsample_for_bin=200000,\n",
      "                                                                                                subsample_freq=0,\n",
      "                                                                                                verbose=-10))],\n",
      "                                                                     verbose=False))],\n",
      "                                               flatten_transform=None,\n",
      "                                               weights=[0.16666666666666666,\n",
      "                                                        0.16666666666666666,\n",
      "                                                        0.16666666666666666,\n",
      "                                                        0.16666666666666666,\n",
      "                                                        0.16666666666666666,\n",
      "                                                        0.16666666666666666]))],\n",
      "         verbose=False)\n",
      "=========================== Best Run File Names ===========================\n",
      "['accuracy_table', 'automl_driver.py', 'azureml-logs/55_azureml-execution-tvmps_3060f819fe7aeed65ec4decadf01eb0e120e012e95b198147d8a89c99fd144dc_d.txt', 'azureml-logs/65_job_prep-tvmps_3060f819fe7aeed65ec4decadf01eb0e120e012e95b198147d8a89c99fd144dc_d.txt', 'azureml-logs/70_driver_log.txt', 'azureml-logs/75_job_post-tvmps_3060f819fe7aeed65ec4decadf01eb0e120e012e95b198147d8a89c99fd144dc_d.txt', 'azureml-logs/process_info.json', 'azureml-logs/process_status.json', 'confusion_matrix', 'logs/azureml/104_azureml.log', 'logs/azureml/azureml_automl.log', 'logs/azureml/job_prep_azureml.log', 'logs/azureml/job_release_azureml.log', 'outputs/conda_env_v_1_0_0.yml', 'outputs/env_dependencies.json', 'outputs/internal_cross_validated_models.pkl', 'outputs/model.pkl', 'outputs/pipeline_graph.json', 'outputs/scoring_file_v_1_0_0.py']\n",
      "=========================== Best Run Metrics ===========================\n",
      "{'average_precision_score_micro': 0.9252470516459855, 'AUC_weighted': 0.9136457500800752, 'precision_score_macro': 0.8915326605761388, 'norm_macro_recall': 0.6951883950653974, 'precision_score_micro': 0.8796551724137931, 'f1_score_weighted': 0.8745402351846987, 'AUC_micro': 0.922386180472982, 'AUC_macro': 0.9136457500800752, 'matthews_correlation': 0.7351420424664441, 'accuracy': 0.8796551724137931, 'average_precision_score_macro': 0.9029492426074833, 'recall_score_macro': 0.8475941975326986, 'f1_score_micro': 0.8796551724137931, 'recall_score_micro': 0.8796551724137931, 'precision_score_weighted': 0.8939134261540558, 'recall_score_weighted': 0.8796551724137931, 'f1_score_macro': 0.8544847640857043, 'log_loss': 0.37523434416524704, 'average_precision_score_weighted': 0.9271023106244887, 'weighted_accuracy': 0.8997600271088567, 'balanced_accuracy': 0.8475941975326986, 'accuracy_table': 'aml://artifactId/ExperimentRun/dcid.AutoML_415e87b7-c932-44e2-9303-71d0e67f8df7_43/accuracy_table', 'confusion_matrix': 'aml://artifactId/ExperimentRun/dcid.AutoML_415e87b7-c932-44e2-9303-71d0e67f8df7_43/confusion_matrix'}\n"
     ]
    }
   ],
   "source": [
    "print('=========================== Best Run ID ===========================')\n",
    "print(automl_best_run.id)\n",
    "print('=========================== Best Run ===========================')\n",
    "print(automl_best_run)\n",
    "print('=========================== Best Model ===========================')\n",
    "print(fitted_automl_best_model)\n",
    "print('=========================== Best Run File Names ===========================')\n",
    "print(automl_best_run.get_file_names())\n",
    "print('=========================== Best Run Metrics ===========================')\n",
    "print(best_run_metrics)"
   ]
  },
  {
   "cell_type": "code",
   "execution_count": 36,
   "metadata": {},
   "outputs": [
    {
     "name": "stdout",
     "output_type": "stream",
     "text": [
      "average_precision_score_micro 0.9252470516459855\n",
      "AUC_weighted 0.9136457500800752\n",
      "precision_score_macro 0.8915326605761388\n",
      "norm_macro_recall 0.6951883950653974\n",
      "precision_score_micro 0.8796551724137931\n",
      "f1_score_weighted 0.8745402351846987\n",
      "AUC_micro 0.922386180472982\n",
      "AUC_macro 0.9136457500800752\n",
      "matthews_correlation 0.7351420424664441\n",
      "accuracy 0.8796551724137931\n",
      "average_precision_score_macro 0.9029492426074833\n",
      "recall_score_macro 0.8475941975326986\n",
      "f1_score_micro 0.8796551724137931\n",
      "recall_score_micro 0.8796551724137931\n",
      "precision_score_weighted 0.8939134261540558\n",
      "recall_score_weighted 0.8796551724137931\n",
      "f1_score_macro 0.8544847640857043\n",
      "log_loss 0.37523434416524704\n",
      "average_precision_score_weighted 0.9271023106244887\n",
      "weighted_accuracy 0.8997600271088567\n",
      "balanced_accuracy 0.8475941975326986\n",
      "accuracy_table aml://artifactId/ExperimentRun/dcid.AutoML_415e87b7-c932-44e2-9303-71d0e67f8df7_43/accuracy_table\n",
      "confusion_matrix aml://artifactId/ExperimentRun/dcid.AutoML_415e87b7-c932-44e2-9303-71d0e67f8df7_43/confusion_matrix\n",
      "\n",
      "Accuracy of Best Run\n",
      "0.8796551724137931\n",
      "Run(Experiment: automl_heart_failure_experiment,\n",
      "Id: AutoML_415e87b7-c932-44e2-9303-71d0e67f8df7_43,\n",
      "Type: azureml.scriptrun,\n",
      "Status: Completed)\n"
     ]
    }
   ],
   "source": [
    "# Metric in best run\n",
    "\n",
    "for metric_name in best_run_metrics:\n",
    "    metric = best_run_metrics[metric_name]\n",
    "    print(metric_name, metric)\n",
    "    \n",
    "print('\\nAccuracy of Best Run',best_run_metrics['accuracy'],sep='\\n')\n",
    "print(automl_best_run)"
   ]
  },
  {
   "cell_type": "code",
   "execution_count": 37,
   "metadata": {},
   "outputs": [
    {
     "name": "stdout",
     "output_type": "stream",
     "text": [
      "=========================== Best Run Properties ===========================\n"
     ]
    },
    {
     "data": {
      "text/plain": [
       "'AutoML415e87b7c43'"
      ]
     },
     "execution_count": 37,
     "metadata": {},
     "output_type": "execute_result"
    }
   ],
   "source": [
    "print('=========================== Best Run Properties ===========================')\n",
    "model_name = automl_best_run.properties['model_name']\n",
    "model_name"
   ]
  },
  {
   "cell_type": "code",
   "execution_count": 38,
   "metadata": {
    "gather": {
     "logged": 1598431426111
    },
    "jupyter": {
     "outputs_hidden": false,
     "source_hidden": false
    },
    "nteract": {
     "transient": {
      "deleting": false
     }
    }
   },
   "outputs": [
    {
     "data": {
      "text/plain": [
       "['outputs/automl_best_model.joblib']"
      ]
     },
     "execution_count": 38,
     "metadata": {},
     "output_type": "execute_result"
    }
   ],
   "source": [
    "#TODO: Save the best model\n",
    "\n",
    "os.makedirs('./outputs', exist_ok=True)\n",
    "joblib.dump(fitted_automl_best_model, filename='outputs/automl_best_model.joblib')"
   ]
  },
  {
   "cell_type": "markdown",
   "metadata": {},
   "source": [
    "## Model Deployment\n",
    "\n",
    "We have to deploy only one of the two models we trained.\n",
    "\n",
    "In the cell below, register the model, create an inference config and deploy the model as a web service."
   ]
  },
  {
   "cell_type": "code",
   "execution_count": 39,
   "metadata": {
    "gather": {
     "logged": 1598431435189
    },
    "jupyter": {
     "outputs_hidden": false,
     "source_hidden": false
    },
    "nteract": {
     "transient": {
      "deleting": false
     }
    }
   },
   "outputs": [
    {
     "name": "stdout",
     "output_type": "stream",
     "text": [
      "AutoML415e87b7c43\tAutoML415e87b7c43:4\t4\n"
     ]
    }
   ],
   "source": [
    "#Register the model\n",
    "\n",
    "description = 'AutoML Model trained on heart failure dataset to predict if the patient deceased during the follow-up period'\n",
    "tags = None\n",
    "model = remote_run.register_model(model_name=model_name, description=description, tags=tags)\n",
    "print(model.name, model.id, model.version, sep='\\t')"
   ]
  },
  {
   "cell_type": "code",
   "execution_count": 40,
   "metadata": {},
   "outputs": [
    {
     "ename": "WebserviceException",
     "evalue": "WebserviceException:\n\tMessage: Conflict of operation, another operation on same entity is already running in workspace quick-starts-ws-138652.\n\tInnerException None\n\tErrorResponse \n{\n    \"error\": {\n        \"message\": \"Conflict of operation, another operation on same entity is already running in workspace quick-starts-ws-138652.\"\n    }\n}",
     "output_type": "error",
     "traceback": [
      "\u001b[0;31m---------------------------------------------------------------------------\u001b[0m",
      "\u001b[0;31mWebserviceException\u001b[0m                       Traceback (most recent call last)",
      "\u001b[0;32m<ipython-input-40-0a08a4a43c09>\u001b[0m in \u001b[0;36m<module>\u001b[0;34m\u001b[0m\n\u001b[1;32m     20\u001b[0m                        \u001b[0minference_config\u001b[0m\u001b[0;34m=\u001b[0m\u001b[0minference_config\u001b[0m\u001b[0;34m,\u001b[0m\u001b[0;34m\u001b[0m\u001b[0;34m\u001b[0m\u001b[0m\n\u001b[1;32m     21\u001b[0m                        \u001b[0mdeployment_config\u001b[0m\u001b[0;34m=\u001b[0m\u001b[0mdeployment_config\u001b[0m\u001b[0;34m,\u001b[0m\u001b[0;34m\u001b[0m\u001b[0;34m\u001b[0m\u001b[0m\n\u001b[0;32m---> 22\u001b[0;31m                        \u001b[0moverwrite\u001b[0m\u001b[0;34m=\u001b[0m\u001b[0;32mTrue\u001b[0m\u001b[0;34m\u001b[0m\u001b[0;34m\u001b[0m\u001b[0m\n\u001b[0m\u001b[1;32m     23\u001b[0m                       )\n\u001b[1;32m     24\u001b[0m \u001b[0mservice\u001b[0m\u001b[0;34m.\u001b[0m\u001b[0mwait_for_deployment\u001b[0m\u001b[0;34m(\u001b[0m\u001b[0mshow_output\u001b[0m\u001b[0;34m=\u001b[0m\u001b[0;32mTrue\u001b[0m\u001b[0;34m)\u001b[0m\u001b[0;34m\u001b[0m\u001b[0;34m\u001b[0m\u001b[0m\n",
      "\u001b[0;32m/anaconda/envs/azureml_py36/lib/python3.6/site-packages/azureml/core/model.py\u001b[0m in \u001b[0;36mdeploy\u001b[0;34m(workspace, name, models, inference_config, deployment_config, deployment_target, overwrite)\u001b[0m\n\u001b[1;32m   1614\u001b[0m         \u001b[0;32mif\u001b[0m \u001b[0muse_env_path\u001b[0m\u001b[0;34m:\u001b[0m\u001b[0;34m\u001b[0m\u001b[0;34m\u001b[0m\u001b[0m\n\u001b[1;32m   1615\u001b[0m             return Model._deploy_with_environment(workspace, name, models, inference_config, deployment_config,\n\u001b[0;32m-> 1616\u001b[0;31m                                                   deployment_target, overwrite)\n\u001b[0m\u001b[1;32m   1617\u001b[0m \u001b[0;34m\u001b[0m\u001b[0m\n\u001b[1;32m   1618\u001b[0m         \u001b[0;31m# ContainerImage-based webservice.\u001b[0m\u001b[0;34m\u001b[0m\u001b[0;34m\u001b[0m\u001b[0;34m\u001b[0m\u001b[0m\n",
      "\u001b[0;32m/anaconda/envs/azureml_py36/lib/python3.6/site-packages/azureml/core/model.py\u001b[0m in \u001b[0;36m_deploy_with_environment\u001b[0;34m(workspace, name, models, inference_config, deployment_config, deployment_target, overwrite)\u001b[0m\n\u001b[1;32m   1814\u001b[0m \u001b[0;34m\u001b[0m\u001b[0m\n\u001b[1;32m   1815\u001b[0m         return Model._deploy_with_environment_image_request(workspace, name, environment_image_request,\n\u001b[0;32m-> 1816\u001b[0;31m                                                             deployment_config, deployment_target, overwrite)\n\u001b[0m\u001b[1;32m   1817\u001b[0m \u001b[0;34m\u001b[0m\u001b[0m\n\u001b[1;32m   1818\u001b[0m     \u001b[0;34m@\u001b[0m\u001b[0mstaticmethod\u001b[0m\u001b[0;34m\u001b[0m\u001b[0;34m\u001b[0m\u001b[0m\n",
      "\u001b[0;32m/anaconda/envs/azureml_py36/lib/python3.6/site-packages/azureml/core/model.py\u001b[0m in \u001b[0;36m_deploy_with_environment_image_request\u001b[0;34m(workspace, name, environment_image_request, deployment_config, deployment_target, overwrite)\u001b[0m\n\u001b[1;32m   1858\u001b[0m             \u001b[0mwebservice_payload\u001b[0m\u001b[0;34m[\u001b[0m\u001b[0;34m'computeName'\u001b[0m\u001b[0;34m]\u001b[0m \u001b[0;34m=\u001b[0m \u001b[0mdeployment_target\u001b[0m\u001b[0;34m.\u001b[0m\u001b[0mname\u001b[0m\u001b[0;34m\u001b[0m\u001b[0;34m\u001b[0m\u001b[0m\n\u001b[1;32m   1859\u001b[0m \u001b[0;34m\u001b[0m\u001b[0m\n\u001b[0;32m-> 1860\u001b[0;31m         \u001b[0;32mreturn\u001b[0m \u001b[0mWebservice\u001b[0m\u001b[0;34m.\u001b[0m\u001b[0m_deploy_webservice\u001b[0m\u001b[0;34m(\u001b[0m\u001b[0mworkspace\u001b[0m\u001b[0;34m,\u001b[0m \u001b[0mname\u001b[0m\u001b[0;34m,\u001b[0m \u001b[0mwebservice_payload\u001b[0m\u001b[0;34m,\u001b[0m \u001b[0moverwrite\u001b[0m\u001b[0;34m,\u001b[0m \u001b[0mwebservice_class\u001b[0m\u001b[0;34m)\u001b[0m\u001b[0;34m\u001b[0m\u001b[0;34m\u001b[0m\u001b[0m\n\u001b[0m\u001b[1;32m   1861\u001b[0m \u001b[0;34m\u001b[0m\u001b[0m\n\u001b[1;32m   1862\u001b[0m     \u001b[0;32mdef\u001b[0m \u001b[0mget_sas_urls\u001b[0m\u001b[0;34m(\u001b[0m\u001b[0mself\u001b[0m\u001b[0;34m)\u001b[0m\u001b[0;34m:\u001b[0m\u001b[0;34m\u001b[0m\u001b[0;34m\u001b[0m\u001b[0m\n",
      "\u001b[0;32m/anaconda/envs/azureml_py36/lib/python3.6/site-packages/azureml/core/webservice/webservice.py\u001b[0m in \u001b[0;36m_deploy_webservice\u001b[0;34m(workspace, name, webservice_payload, overwrite, webservice_class)\u001b[0m\n\u001b[1;32m    824\u001b[0m         \u001b[0mWebservice\u001b[0m\u001b[0;34m.\u001b[0m\u001b[0mcheck_for_existing_webservice\u001b[0m\u001b[0;34m(\u001b[0m\u001b[0mworkspace\u001b[0m\u001b[0;34m,\u001b[0m \u001b[0mname\u001b[0m\u001b[0;34m,\u001b[0m \u001b[0moverwrite\u001b[0m\u001b[0;34m)\u001b[0m\u001b[0;34m\u001b[0m\u001b[0;34m\u001b[0m\u001b[0m\n\u001b[1;32m    825\u001b[0m         Webservice._check_for_webservice(workspace, name, Webservice._get_deploy_compute_type(webservice_payload),\n\u001b[0;32m--> 826\u001b[0;31m                                          webservice_payload, SERVICE_REQUEST_OPERATION_CREATE)\n\u001b[0m\u001b[1;32m    827\u001b[0m         \u001b[0mWebservice\u001b[0m\u001b[0;34m.\u001b[0m\u001b[0m_check_for_compute_resource\u001b[0m\u001b[0;34m(\u001b[0m\u001b[0mworkspace\u001b[0m\u001b[0;34m,\u001b[0m \u001b[0mwebservice_payload\u001b[0m\u001b[0;34m)\u001b[0m\u001b[0;34m\u001b[0m\u001b[0;34m\u001b[0m\u001b[0m\n\u001b[1;32m    828\u001b[0m \u001b[0;34m\u001b[0m\u001b[0m\n",
      "\u001b[0;32m/anaconda/envs/azureml_py36/lib/python3.6/site-packages/azureml/core/webservice/webservice.py\u001b[0m in \u001b[0;36m_check_for_webservice\u001b[0;34m(workspace, name, compute_type, payload, action, request_func, check_func)\u001b[0m\n\u001b[1;32m    742\u001b[0m                 \u001b[0;32mreturn\u001b[0m \u001b[0mWebservice\u001b[0m\u001b[0;34m.\u001b[0m\u001b[0m_check_validate_error\u001b[0m\u001b[0;34m(\u001b[0m\u001b[0mcontent\u001b[0m\u001b[0;34m)\u001b[0m\u001b[0;34m\u001b[0m\u001b[0;34m\u001b[0m\u001b[0m\n\u001b[1;32m    743\u001b[0m \u001b[0;34m\u001b[0m\u001b[0m\n\u001b[0;32m--> 744\u001b[0;31m         \u001b[0mWebservice\u001b[0m\u001b[0;34m.\u001b[0m\u001b[0m_run_validate_framework\u001b[0m\u001b[0;34m(\u001b[0m\u001b[0mrequest_func\u001b[0m\u001b[0;34m,\u001b[0m \u001b[0mcheck_func\u001b[0m\u001b[0;34m)\u001b[0m\u001b[0;34m\u001b[0m\u001b[0;34m\u001b[0m\u001b[0m\n\u001b[0m\u001b[1;32m    745\u001b[0m \u001b[0;34m\u001b[0m\u001b[0m\n\u001b[1;32m    746\u001b[0m     \u001b[0;34m@\u001b[0m\u001b[0mstaticmethod\u001b[0m\u001b[0;34m\u001b[0m\u001b[0;34m\u001b[0m\u001b[0m\n",
      "\u001b[0;32m/anaconda/envs/azureml_py36/lib/python3.6/site-packages/azureml/core/webservice/webservice.py\u001b[0m in \u001b[0;36m_run_validate_framework\u001b[0;34m(request_func, check_func)\u001b[0m\n\u001b[1;32m    636\u001b[0m             \u001b[0;32mreturn\u001b[0m\u001b[0;34m\u001b[0m\u001b[0;34m\u001b[0m\u001b[0m\n\u001b[1;32m    637\u001b[0m \u001b[0;34m\u001b[0m\u001b[0m\n\u001b[0;32m--> 638\u001b[0;31m         \u001b[0;32mraise\u001b[0m \u001b[0mWebserviceException\u001b[0m\u001b[0;34m(\u001b[0m\u001b[0merror\u001b[0m\u001b[0;34m)\u001b[0m\u001b[0;34m\u001b[0m\u001b[0;34m\u001b[0m\u001b[0m\n\u001b[0m\u001b[1;32m    639\u001b[0m \u001b[0;34m\u001b[0m\u001b[0m\n\u001b[1;32m    640\u001b[0m     \u001b[0;34m@\u001b[0m\u001b[0mstaticmethod\u001b[0m\u001b[0;34m\u001b[0m\u001b[0;34m\u001b[0m\u001b[0m\n",
      "\u001b[0;31mWebserviceException\u001b[0m: WebserviceException:\n\tMessage: Conflict of operation, another operation on same entity is already running in workspace quick-starts-ws-138652.\n\tInnerException None\n\tErrorResponse \n{\n    \"error\": {\n        \"message\": \"Conflict of operation, another operation on same entity is already running in workspace quick-starts-ws-138652.\"\n    }\n}"
     ]
    }
   ],
   "source": [
    "#create an inference config and deploy the model as a web service on Azure Container Instance\n",
    "\n",
    "from azureml.core.model import InferenceConfig\n",
    "from azureml.core.webservice import AciWebservice\n",
    "from azureml.core.webservice import Webservice\n",
    "from azureml.core.model import Model\n",
    "from azureml.core.environment import Environment\n",
    "\n",
    "\n",
    "environment = Environment.get(ws, \"AzureML-AutoML\")\n",
    "\n",
    "inference_config = InferenceConfig(entry_script='score.py',\n",
    "                                   environment=environment)\n",
    "service_name = 'heart-failure-automl-deploy'\n",
    "deployment_config = AciWebservice.deploy_configuration(cpu_cores=1, memory_gb=1)\n",
    "\n",
    "service = Model.deploy(workspace=ws,\n",
    "                       name=service_name,\n",
    "                       models=[model],\n",
    "                       inference_config=inference_config,\n",
    "                       deployment_config=deployment_config,\n",
    "                       overwrite=True\n",
    "                      )\n",
    "service.wait_for_deployment(show_output=True)\n",
    "\n",
    "scoring_uri = service.scoring_uri\n",
    "print(scoring_uri)"
   ]
  },
  {
   "cell_type": "code",
   "execution_count": 31,
   "metadata": {},
   "outputs": [],
   "source": [
    "service.update(enable_app_insights=True)"
   ]
  },
  {
   "cell_type": "markdown",
   "metadata": {
    "collapsed": true,
    "gather": {
     "logged": 1598431657736
    },
    "jupyter": {
     "outputs_hidden": false,
     "source_hidden": false
    },
    "nteract": {
     "transient": {
      "deleting": false
     }
    }
   },
   "source": [
    "Sending a request to the web service we deployed to test it."
   ]
  },
  {
   "cell_type": "code",
   "execution_count": 32,
   "metadata": {
    "gather": {
     "logged": 1598432707604
    },
    "jupyter": {
     "outputs_hidden": false,
     "source_hidden": false
    },
    "nteract": {
     "transient": {
      "deleting": false
     }
    }
   },
   "outputs": [
    {
     "ename": "URLError",
     "evalue": "<urlopen error [Errno -2] Name or service not known>",
     "output_type": "error",
     "traceback": [
      "\u001b[0;31m---------------------------------------------------------------------------\u001b[0m",
      "\u001b[0;31mgaierror\u001b[0m                                  Traceback (most recent call last)",
      "\u001b[0;32m/anaconda/envs/azureml_py36/lib/python3.6/urllib/request.py\u001b[0m in \u001b[0;36mdo_open\u001b[0;34m(self, http_class, req, **http_conn_args)\u001b[0m\n\u001b[1;32m   1317\u001b[0m                 h.request(req.get_method(), req.selector, req.data, headers,\n\u001b[0;32m-> 1318\u001b[0;31m                           encode_chunked=req.has_header('Transfer-encoding'))\n\u001b[0m\u001b[1;32m   1319\u001b[0m             \u001b[0;32mexcept\u001b[0m \u001b[0mOSError\u001b[0m \u001b[0;32mas\u001b[0m \u001b[0merr\u001b[0m\u001b[0;34m:\u001b[0m \u001b[0;31m# timeout error\u001b[0m\u001b[0;34m\u001b[0m\u001b[0;34m\u001b[0m\u001b[0m\n",
      "\u001b[0;32m/anaconda/envs/azureml_py36/lib/python3.6/http/client.py\u001b[0m in \u001b[0;36mrequest\u001b[0;34m(self, method, url, body, headers, encode_chunked)\u001b[0m\n\u001b[1;32m   1253\u001b[0m         \u001b[0;34m\"\"\"Send a complete request to the server.\"\"\"\u001b[0m\u001b[0;34m\u001b[0m\u001b[0;34m\u001b[0m\u001b[0m\n\u001b[0;32m-> 1254\u001b[0;31m         \u001b[0mself\u001b[0m\u001b[0;34m.\u001b[0m\u001b[0m_send_request\u001b[0m\u001b[0;34m(\u001b[0m\u001b[0mmethod\u001b[0m\u001b[0;34m,\u001b[0m \u001b[0murl\u001b[0m\u001b[0;34m,\u001b[0m \u001b[0mbody\u001b[0m\u001b[0;34m,\u001b[0m \u001b[0mheaders\u001b[0m\u001b[0;34m,\u001b[0m \u001b[0mencode_chunked\u001b[0m\u001b[0;34m)\u001b[0m\u001b[0;34m\u001b[0m\u001b[0;34m\u001b[0m\u001b[0m\n\u001b[0m\u001b[1;32m   1255\u001b[0m \u001b[0;34m\u001b[0m\u001b[0m\n",
      "\u001b[0;32m/anaconda/envs/azureml_py36/lib/python3.6/http/client.py\u001b[0m in \u001b[0;36m_send_request\u001b[0;34m(self, method, url, body, headers, encode_chunked)\u001b[0m\n\u001b[1;32m   1299\u001b[0m             \u001b[0mbody\u001b[0m \u001b[0;34m=\u001b[0m \u001b[0m_encode\u001b[0m\u001b[0;34m(\u001b[0m\u001b[0mbody\u001b[0m\u001b[0;34m,\u001b[0m \u001b[0;34m'body'\u001b[0m\u001b[0;34m)\u001b[0m\u001b[0;34m\u001b[0m\u001b[0;34m\u001b[0m\u001b[0m\n\u001b[0;32m-> 1300\u001b[0;31m         \u001b[0mself\u001b[0m\u001b[0;34m.\u001b[0m\u001b[0mendheaders\u001b[0m\u001b[0;34m(\u001b[0m\u001b[0mbody\u001b[0m\u001b[0;34m,\u001b[0m \u001b[0mencode_chunked\u001b[0m\u001b[0;34m=\u001b[0m\u001b[0mencode_chunked\u001b[0m\u001b[0;34m)\u001b[0m\u001b[0;34m\u001b[0m\u001b[0;34m\u001b[0m\u001b[0m\n\u001b[0m\u001b[1;32m   1301\u001b[0m \u001b[0;34m\u001b[0m\u001b[0m\n",
      "\u001b[0;32m/anaconda/envs/azureml_py36/lib/python3.6/http/client.py\u001b[0m in \u001b[0;36mendheaders\u001b[0;34m(self, message_body, encode_chunked)\u001b[0m\n\u001b[1;32m   1248\u001b[0m             \u001b[0;32mraise\u001b[0m \u001b[0mCannotSendHeader\u001b[0m\u001b[0;34m(\u001b[0m\u001b[0;34m)\u001b[0m\u001b[0;34m\u001b[0m\u001b[0;34m\u001b[0m\u001b[0m\n\u001b[0;32m-> 1249\u001b[0;31m         \u001b[0mself\u001b[0m\u001b[0;34m.\u001b[0m\u001b[0m_send_output\u001b[0m\u001b[0;34m(\u001b[0m\u001b[0mmessage_body\u001b[0m\u001b[0;34m,\u001b[0m \u001b[0mencode_chunked\u001b[0m\u001b[0;34m=\u001b[0m\u001b[0mencode_chunked\u001b[0m\u001b[0;34m)\u001b[0m\u001b[0;34m\u001b[0m\u001b[0;34m\u001b[0m\u001b[0m\n\u001b[0m\u001b[1;32m   1250\u001b[0m \u001b[0;34m\u001b[0m\u001b[0m\n",
      "\u001b[0;32m/anaconda/envs/azureml_py36/lib/python3.6/http/client.py\u001b[0m in \u001b[0;36m_send_output\u001b[0;34m(self, message_body, encode_chunked)\u001b[0m\n\u001b[1;32m   1035\u001b[0m         \u001b[0;32mdel\u001b[0m \u001b[0mself\u001b[0m\u001b[0;34m.\u001b[0m\u001b[0m_buffer\u001b[0m\u001b[0;34m[\u001b[0m\u001b[0;34m:\u001b[0m\u001b[0;34m]\u001b[0m\u001b[0;34m\u001b[0m\u001b[0;34m\u001b[0m\u001b[0m\n\u001b[0;32m-> 1036\u001b[0;31m         \u001b[0mself\u001b[0m\u001b[0;34m.\u001b[0m\u001b[0msend\u001b[0m\u001b[0;34m(\u001b[0m\u001b[0mmsg\u001b[0m\u001b[0;34m)\u001b[0m\u001b[0;34m\u001b[0m\u001b[0;34m\u001b[0m\u001b[0m\n\u001b[0m\u001b[1;32m   1037\u001b[0m \u001b[0;34m\u001b[0m\u001b[0m\n",
      "\u001b[0;32m/anaconda/envs/azureml_py36/lib/python3.6/http/client.py\u001b[0m in \u001b[0;36msend\u001b[0;34m(self, data)\u001b[0m\n\u001b[1;32m    973\u001b[0m             \u001b[0;32mif\u001b[0m \u001b[0mself\u001b[0m\u001b[0;34m.\u001b[0m\u001b[0mauto_open\u001b[0m\u001b[0;34m:\u001b[0m\u001b[0;34m\u001b[0m\u001b[0;34m\u001b[0m\u001b[0m\n\u001b[0;32m--> 974\u001b[0;31m                 \u001b[0mself\u001b[0m\u001b[0;34m.\u001b[0m\u001b[0mconnect\u001b[0m\u001b[0;34m(\u001b[0m\u001b[0;34m)\u001b[0m\u001b[0;34m\u001b[0m\u001b[0;34m\u001b[0m\u001b[0m\n\u001b[0m\u001b[1;32m    975\u001b[0m             \u001b[0;32melse\u001b[0m\u001b[0;34m:\u001b[0m\u001b[0;34m\u001b[0m\u001b[0;34m\u001b[0m\u001b[0m\n",
      "\u001b[0;32m/anaconda/envs/azureml_py36/lib/python3.6/http/client.py\u001b[0m in \u001b[0;36mconnect\u001b[0;34m(self)\u001b[0m\n\u001b[1;32m    945\u001b[0m         self.sock = self._create_connection(\n\u001b[0;32m--> 946\u001b[0;31m             (self.host,self.port), self.timeout, self.source_address)\n\u001b[0m\u001b[1;32m    947\u001b[0m         \u001b[0mself\u001b[0m\u001b[0;34m.\u001b[0m\u001b[0msock\u001b[0m\u001b[0;34m.\u001b[0m\u001b[0msetsockopt\u001b[0m\u001b[0;34m(\u001b[0m\u001b[0msocket\u001b[0m\u001b[0;34m.\u001b[0m\u001b[0mIPPROTO_TCP\u001b[0m\u001b[0;34m,\u001b[0m \u001b[0msocket\u001b[0m\u001b[0;34m.\u001b[0m\u001b[0mTCP_NODELAY\u001b[0m\u001b[0;34m,\u001b[0m \u001b[0;36m1\u001b[0m\u001b[0;34m)\u001b[0m\u001b[0;34m\u001b[0m\u001b[0;34m\u001b[0m\u001b[0m\n",
      "\u001b[0;32m/anaconda/envs/azureml_py36/lib/python3.6/socket.py\u001b[0m in \u001b[0;36mcreate_connection\u001b[0;34m(address, timeout, source_address)\u001b[0m\n\u001b[1;32m    703\u001b[0m     \u001b[0merr\u001b[0m \u001b[0;34m=\u001b[0m \u001b[0;32mNone\u001b[0m\u001b[0;34m\u001b[0m\u001b[0;34m\u001b[0m\u001b[0m\n\u001b[0;32m--> 704\u001b[0;31m     \u001b[0;32mfor\u001b[0m \u001b[0mres\u001b[0m \u001b[0;32min\u001b[0m \u001b[0mgetaddrinfo\u001b[0m\u001b[0;34m(\u001b[0m\u001b[0mhost\u001b[0m\u001b[0;34m,\u001b[0m \u001b[0mport\u001b[0m\u001b[0;34m,\u001b[0m \u001b[0;36m0\u001b[0m\u001b[0;34m,\u001b[0m \u001b[0mSOCK_STREAM\u001b[0m\u001b[0;34m)\u001b[0m\u001b[0;34m:\u001b[0m\u001b[0;34m\u001b[0m\u001b[0;34m\u001b[0m\u001b[0m\n\u001b[0m\u001b[1;32m    705\u001b[0m         \u001b[0maf\u001b[0m\u001b[0;34m,\u001b[0m \u001b[0msocktype\u001b[0m\u001b[0;34m,\u001b[0m \u001b[0mproto\u001b[0m\u001b[0;34m,\u001b[0m \u001b[0mcanonname\u001b[0m\u001b[0;34m,\u001b[0m \u001b[0msa\u001b[0m \u001b[0;34m=\u001b[0m \u001b[0mres\u001b[0m\u001b[0;34m\u001b[0m\u001b[0;34m\u001b[0m\u001b[0m\n",
      "\u001b[0;32m/anaconda/envs/azureml_py36/lib/python3.6/socket.py\u001b[0m in \u001b[0;36mgetaddrinfo\u001b[0;34m(host, port, family, type, proto, flags)\u001b[0m\n\u001b[1;32m    744\u001b[0m     \u001b[0maddrlist\u001b[0m \u001b[0;34m=\u001b[0m \u001b[0;34m[\u001b[0m\u001b[0;34m]\u001b[0m\u001b[0;34m\u001b[0m\u001b[0;34m\u001b[0m\u001b[0m\n\u001b[0;32m--> 745\u001b[0;31m     \u001b[0;32mfor\u001b[0m \u001b[0mres\u001b[0m \u001b[0;32min\u001b[0m \u001b[0m_socket\u001b[0m\u001b[0;34m.\u001b[0m\u001b[0mgetaddrinfo\u001b[0m\u001b[0;34m(\u001b[0m\u001b[0mhost\u001b[0m\u001b[0;34m,\u001b[0m \u001b[0mport\u001b[0m\u001b[0;34m,\u001b[0m \u001b[0mfamily\u001b[0m\u001b[0;34m,\u001b[0m \u001b[0mtype\u001b[0m\u001b[0;34m,\u001b[0m \u001b[0mproto\u001b[0m\u001b[0;34m,\u001b[0m \u001b[0mflags\u001b[0m\u001b[0;34m)\u001b[0m\u001b[0;34m:\u001b[0m\u001b[0;34m\u001b[0m\u001b[0;34m\u001b[0m\u001b[0m\n\u001b[0m\u001b[1;32m    746\u001b[0m         \u001b[0maf\u001b[0m\u001b[0;34m,\u001b[0m \u001b[0msocktype\u001b[0m\u001b[0;34m,\u001b[0m \u001b[0mproto\u001b[0m\u001b[0;34m,\u001b[0m \u001b[0mcanonname\u001b[0m\u001b[0;34m,\u001b[0m \u001b[0msa\u001b[0m \u001b[0;34m=\u001b[0m \u001b[0mres\u001b[0m\u001b[0;34m\u001b[0m\u001b[0;34m\u001b[0m\u001b[0m\n",
      "\u001b[0;31mgaierror\u001b[0m: [Errno -2] Name or service not known",
      "\nDuring handling of the above exception, another exception occurred:\n",
      "\u001b[0;31mURLError\u001b[0m                                  Traceback (most recent call last)",
      "\u001b[0;32m<ipython-input-32-784953c54653>\u001b[0m in \u001b[0;36m<module>\u001b[0;34m\u001b[0m\n\u001b[1;32m     54\u001b[0m \u001b[0;34m\u001b[0m\u001b[0m\n\u001b[1;32m     55\u001b[0m \u001b[0;32mtry\u001b[0m\u001b[0;34m:\u001b[0m\u001b[0;34m\u001b[0m\u001b[0;34m\u001b[0m\u001b[0m\n\u001b[0;32m---> 56\u001b[0;31m     \u001b[0mresponse\u001b[0m \u001b[0;34m=\u001b[0m \u001b[0murllib\u001b[0m\u001b[0;34m.\u001b[0m\u001b[0mrequest\u001b[0m\u001b[0;34m.\u001b[0m\u001b[0murlopen\u001b[0m\u001b[0;34m(\u001b[0m\u001b[0mreq\u001b[0m\u001b[0;34m)\u001b[0m\u001b[0;34m\u001b[0m\u001b[0;34m\u001b[0m\u001b[0m\n\u001b[0m\u001b[1;32m     57\u001b[0m \u001b[0;34m\u001b[0m\u001b[0m\n\u001b[1;32m     58\u001b[0m     \u001b[0mresult\u001b[0m \u001b[0;34m=\u001b[0m \u001b[0mresponse\u001b[0m\u001b[0;34m.\u001b[0m\u001b[0mread\u001b[0m\u001b[0;34m(\u001b[0m\u001b[0;34m)\u001b[0m\u001b[0;34m\u001b[0m\u001b[0;34m\u001b[0m\u001b[0m\n",
      "\u001b[0;32m/anaconda/envs/azureml_py36/lib/python3.6/urllib/request.py\u001b[0m in \u001b[0;36murlopen\u001b[0;34m(url, data, timeout, cafile, capath, cadefault, context)\u001b[0m\n\u001b[1;32m    221\u001b[0m     \u001b[0;32melse\u001b[0m\u001b[0;34m:\u001b[0m\u001b[0;34m\u001b[0m\u001b[0;34m\u001b[0m\u001b[0m\n\u001b[1;32m    222\u001b[0m         \u001b[0mopener\u001b[0m \u001b[0;34m=\u001b[0m \u001b[0m_opener\u001b[0m\u001b[0;34m\u001b[0m\u001b[0;34m\u001b[0m\u001b[0m\n\u001b[0;32m--> 223\u001b[0;31m     \u001b[0;32mreturn\u001b[0m \u001b[0mopener\u001b[0m\u001b[0;34m.\u001b[0m\u001b[0mopen\u001b[0m\u001b[0;34m(\u001b[0m\u001b[0murl\u001b[0m\u001b[0;34m,\u001b[0m \u001b[0mdata\u001b[0m\u001b[0;34m,\u001b[0m \u001b[0mtimeout\u001b[0m\u001b[0;34m)\u001b[0m\u001b[0;34m\u001b[0m\u001b[0;34m\u001b[0m\u001b[0m\n\u001b[0m\u001b[1;32m    224\u001b[0m \u001b[0;34m\u001b[0m\u001b[0m\n\u001b[1;32m    225\u001b[0m \u001b[0;32mdef\u001b[0m \u001b[0minstall_opener\u001b[0m\u001b[0;34m(\u001b[0m\u001b[0mopener\u001b[0m\u001b[0;34m)\u001b[0m\u001b[0;34m:\u001b[0m\u001b[0;34m\u001b[0m\u001b[0;34m\u001b[0m\u001b[0m\n",
      "\u001b[0;32m/anaconda/envs/azureml_py36/lib/python3.6/urllib/request.py\u001b[0m in \u001b[0;36mopen\u001b[0;34m(self, fullurl, data, timeout)\u001b[0m\n\u001b[1;32m    524\u001b[0m             \u001b[0mreq\u001b[0m \u001b[0;34m=\u001b[0m \u001b[0mmeth\u001b[0m\u001b[0;34m(\u001b[0m\u001b[0mreq\u001b[0m\u001b[0;34m)\u001b[0m\u001b[0;34m\u001b[0m\u001b[0;34m\u001b[0m\u001b[0m\n\u001b[1;32m    525\u001b[0m \u001b[0;34m\u001b[0m\u001b[0m\n\u001b[0;32m--> 526\u001b[0;31m         \u001b[0mresponse\u001b[0m \u001b[0;34m=\u001b[0m \u001b[0mself\u001b[0m\u001b[0;34m.\u001b[0m\u001b[0m_open\u001b[0m\u001b[0;34m(\u001b[0m\u001b[0mreq\u001b[0m\u001b[0;34m,\u001b[0m \u001b[0mdata\u001b[0m\u001b[0;34m)\u001b[0m\u001b[0;34m\u001b[0m\u001b[0;34m\u001b[0m\u001b[0m\n\u001b[0m\u001b[1;32m    527\u001b[0m \u001b[0;34m\u001b[0m\u001b[0m\n\u001b[1;32m    528\u001b[0m         \u001b[0;31m# post-process response\u001b[0m\u001b[0;34m\u001b[0m\u001b[0;34m\u001b[0m\u001b[0;34m\u001b[0m\u001b[0m\n",
      "\u001b[0;32m/anaconda/envs/azureml_py36/lib/python3.6/urllib/request.py\u001b[0m in \u001b[0;36m_open\u001b[0;34m(self, req, data)\u001b[0m\n\u001b[1;32m    542\u001b[0m         \u001b[0mprotocol\u001b[0m \u001b[0;34m=\u001b[0m \u001b[0mreq\u001b[0m\u001b[0;34m.\u001b[0m\u001b[0mtype\u001b[0m\u001b[0;34m\u001b[0m\u001b[0;34m\u001b[0m\u001b[0m\n\u001b[1;32m    543\u001b[0m         result = self._call_chain(self.handle_open, protocol, protocol +\n\u001b[0;32m--> 544\u001b[0;31m                                   '_open', req)\n\u001b[0m\u001b[1;32m    545\u001b[0m         \u001b[0;32mif\u001b[0m \u001b[0mresult\u001b[0m\u001b[0;34m:\u001b[0m\u001b[0;34m\u001b[0m\u001b[0;34m\u001b[0m\u001b[0m\n\u001b[1;32m    546\u001b[0m             \u001b[0;32mreturn\u001b[0m \u001b[0mresult\u001b[0m\u001b[0;34m\u001b[0m\u001b[0;34m\u001b[0m\u001b[0m\n",
      "\u001b[0;32m/anaconda/envs/azureml_py36/lib/python3.6/urllib/request.py\u001b[0m in \u001b[0;36m_call_chain\u001b[0;34m(self, chain, kind, meth_name, *args)\u001b[0m\n\u001b[1;32m    502\u001b[0m         \u001b[0;32mfor\u001b[0m \u001b[0mhandler\u001b[0m \u001b[0;32min\u001b[0m \u001b[0mhandlers\u001b[0m\u001b[0;34m:\u001b[0m\u001b[0;34m\u001b[0m\u001b[0;34m\u001b[0m\u001b[0m\n\u001b[1;32m    503\u001b[0m             \u001b[0mfunc\u001b[0m \u001b[0;34m=\u001b[0m \u001b[0mgetattr\u001b[0m\u001b[0;34m(\u001b[0m\u001b[0mhandler\u001b[0m\u001b[0;34m,\u001b[0m \u001b[0mmeth_name\u001b[0m\u001b[0;34m)\u001b[0m\u001b[0;34m\u001b[0m\u001b[0;34m\u001b[0m\u001b[0m\n\u001b[0;32m--> 504\u001b[0;31m             \u001b[0mresult\u001b[0m \u001b[0;34m=\u001b[0m \u001b[0mfunc\u001b[0m\u001b[0;34m(\u001b[0m\u001b[0;34m*\u001b[0m\u001b[0margs\u001b[0m\u001b[0;34m)\u001b[0m\u001b[0;34m\u001b[0m\u001b[0;34m\u001b[0m\u001b[0m\n\u001b[0m\u001b[1;32m    505\u001b[0m             \u001b[0;32mif\u001b[0m \u001b[0mresult\u001b[0m \u001b[0;32mis\u001b[0m \u001b[0;32mnot\u001b[0m \u001b[0;32mNone\u001b[0m\u001b[0;34m:\u001b[0m\u001b[0;34m\u001b[0m\u001b[0;34m\u001b[0m\u001b[0m\n\u001b[1;32m    506\u001b[0m                 \u001b[0;32mreturn\u001b[0m \u001b[0mresult\u001b[0m\u001b[0;34m\u001b[0m\u001b[0;34m\u001b[0m\u001b[0m\n",
      "\u001b[0;32m/anaconda/envs/azureml_py36/lib/python3.6/urllib/request.py\u001b[0m in \u001b[0;36mhttp_open\u001b[0;34m(self, req)\u001b[0m\n\u001b[1;32m   1344\u001b[0m \u001b[0;34m\u001b[0m\u001b[0m\n\u001b[1;32m   1345\u001b[0m     \u001b[0;32mdef\u001b[0m \u001b[0mhttp_open\u001b[0m\u001b[0;34m(\u001b[0m\u001b[0mself\u001b[0m\u001b[0;34m,\u001b[0m \u001b[0mreq\u001b[0m\u001b[0;34m)\u001b[0m\u001b[0;34m:\u001b[0m\u001b[0;34m\u001b[0m\u001b[0;34m\u001b[0m\u001b[0m\n\u001b[0;32m-> 1346\u001b[0;31m         \u001b[0;32mreturn\u001b[0m \u001b[0mself\u001b[0m\u001b[0;34m.\u001b[0m\u001b[0mdo_open\u001b[0m\u001b[0;34m(\u001b[0m\u001b[0mhttp\u001b[0m\u001b[0;34m.\u001b[0m\u001b[0mclient\u001b[0m\u001b[0;34m.\u001b[0m\u001b[0mHTTPConnection\u001b[0m\u001b[0;34m,\u001b[0m \u001b[0mreq\u001b[0m\u001b[0;34m)\u001b[0m\u001b[0;34m\u001b[0m\u001b[0;34m\u001b[0m\u001b[0m\n\u001b[0m\u001b[1;32m   1347\u001b[0m \u001b[0;34m\u001b[0m\u001b[0m\n\u001b[1;32m   1348\u001b[0m     \u001b[0mhttp_request\u001b[0m \u001b[0;34m=\u001b[0m \u001b[0mAbstractHTTPHandler\u001b[0m\u001b[0;34m.\u001b[0m\u001b[0mdo_request_\u001b[0m\u001b[0;34m\u001b[0m\u001b[0;34m\u001b[0m\u001b[0m\n",
      "\u001b[0;32m/anaconda/envs/azureml_py36/lib/python3.6/urllib/request.py\u001b[0m in \u001b[0;36mdo_open\u001b[0;34m(self, http_class, req, **http_conn_args)\u001b[0m\n\u001b[1;32m   1318\u001b[0m                           encode_chunked=req.has_header('Transfer-encoding'))\n\u001b[1;32m   1319\u001b[0m             \u001b[0;32mexcept\u001b[0m \u001b[0mOSError\u001b[0m \u001b[0;32mas\u001b[0m \u001b[0merr\u001b[0m\u001b[0;34m:\u001b[0m \u001b[0;31m# timeout error\u001b[0m\u001b[0;34m\u001b[0m\u001b[0;34m\u001b[0m\u001b[0m\n\u001b[0;32m-> 1320\u001b[0;31m                 \u001b[0;32mraise\u001b[0m \u001b[0mURLError\u001b[0m\u001b[0;34m(\u001b[0m\u001b[0merr\u001b[0m\u001b[0;34m)\u001b[0m\u001b[0;34m\u001b[0m\u001b[0;34m\u001b[0m\u001b[0m\n\u001b[0m\u001b[1;32m   1321\u001b[0m             \u001b[0mr\u001b[0m \u001b[0;34m=\u001b[0m \u001b[0mh\u001b[0m\u001b[0;34m.\u001b[0m\u001b[0mgetresponse\u001b[0m\u001b[0;34m(\u001b[0m\u001b[0;34m)\u001b[0m\u001b[0;34m\u001b[0m\u001b[0;34m\u001b[0m\u001b[0m\n\u001b[1;32m   1322\u001b[0m         \u001b[0;32mexcept\u001b[0m\u001b[0;34m:\u001b[0m\u001b[0;34m\u001b[0m\u001b[0;34m\u001b[0m\u001b[0m\n",
      "\u001b[0;31mURLError\u001b[0m: <urlopen error [Errno -2] Name or service not known>"
     ]
    }
   ],
   "source": [
    "import urllib.request\n",
    "import json\n",
    "import os\n",
    "import ssl\n",
    "\n",
    "def allowSelfSignedHttps(allowed):\n",
    "    # bypass the server certificate verification on client side\n",
    "    if allowed and not os.environ.get('PYTHONHTTPSVERIFY', '') and getattr(ssl, '_create_unverified_context', None):\n",
    "        ssl._create_default_https_context = ssl._create_unverified_context\n",
    "\n",
    "allowSelfSignedHttps(True) # this line is needed if you use self-signed certificate in your scoring service.\n",
    "\n",
    "data = {\n",
    "    \"data\":\n",
    "    [\n",
    "        {\n",
    "            'age': \"75\",\n",
    "            'anaemia': \"0\",\n",
    "            'creatinine_phosphokinase': \"582\",\n",
    "            'diabetes': \"0\",\n",
    "            'ejection_fraction': \"20\",\n",
    "            'high_blood_pressure': \"1\",\n",
    "            'platelets': \"265000\",\n",
    "            'serum_creatinine': \"1.9\",\n",
    "            'serum_sodium': \"130\",\n",
    "            'sex': \"1\",\n",
    "            'smoking': \"0\",\n",
    "            'time': \"4\",\n",
    "        },\n",
    "        {\n",
    "            'age': \"42\",\n",
    "            'anaemia': \"0\",\n",
    "            'creatinine_phosphokinase': \"320\",\n",
    "            'diabetes': \"0\",\n",
    "            'ejection_fraction': \"31\",\n",
    "            'high_blood_pressure': \"0\",\n",
    "            'platelets': \"221000\",\n",
    "            'serum_creatinine': \"1\",\n",
    "            'serum_sodium': \"130\",\n",
    "            'sex': \"1\",\n",
    "            'smoking': \"0\",\n",
    "            'time': \"144\",\n",
    "        },\n",
    "    ],\n",
    "}\n",
    "\n",
    "body = str.encode(json.dumps(data))\n",
    "\n",
    "url = 'http://d31eb118-db76-45d2-a8bf-6054fa981909.southcentralus.azurecontainer.io/score'\n",
    "api_key = '' # Replace this with the API key for the web service\n",
    "headers = {'Content-Type':'application/json', 'Authorization':('Bearer '+ api_key)}\n",
    "\n",
    "req = urllib.request.Request(url, body, headers)\n",
    "\n",
    "try:\n",
    "    response = urllib.request.urlopen(req)\n",
    "\n",
    "    result = response.read()\n",
    "    print(result)\n",
    "except urllib.error.HTTPError as error:\n",
    "    print(\"The request failed with status code: \" + str(error.code))\n",
    "\n",
    "    # Print the headers - they include the requert ID and the timestamp, which are useful for debugging the failure\n",
    "    print(error.info())\n",
    "    print(json.loads(error.read().decode(\"utf8\", 'ignore')))"
   ]
  },
  {
   "cell_type": "markdown",
   "metadata": {
    "collapsed": true,
    "gather": {
     "logged": 1598432765711
    },
    "jupyter": {
     "outputs_hidden": false,
     "source_hidden": false
    },
    "nteract": {
     "transient": {
      "deleting": false
     }
    }
   },
   "source": [
    "Print the logs of the web service and delete the service"
   ]
  },
  {
   "cell_type": "code",
   "execution_count": 28,
   "metadata": {
    "jupyter": {
     "outputs_hidden": false,
     "source_hidden": false
    },
    "nteract": {
     "transient": {
      "deleting": false
     }
    }
   },
   "outputs": [
    {
     "data": {
      "text/plain": [
       "'2021-02-12T03:39:06,077507700+00:00 - rsyslog/run \\n2021-02-12T03:39:06,086125200+00:00 - gunicorn/run \\n2021-02-12T03:39:06,080827200+00:00 - iot-server/run \\n2021-02-12T03:39:06,179104200+00:00 - nginx/run \\n/usr/sbin/nginx: /azureml-envs/azureml_09ff55f546b313bb1ab136a466214499/lib/libcrypto.so.1.0.0: no version information available (required by /usr/sbin/nginx)\\n/usr/sbin/nginx: /azureml-envs/azureml_09ff55f546b313bb1ab136a466214499/lib/libcrypto.so.1.0.0: no version information available (required by /usr/sbin/nginx)\\n/usr/sbin/nginx: /azureml-envs/azureml_09ff55f546b313bb1ab136a466214499/lib/libssl.so.1.0.0: no version information available (required by /usr/sbin/nginx)\\n/usr/sbin/nginx: /azureml-envs/azureml_09ff55f546b313bb1ab136a466214499/lib/libssl.so.1.0.0: no version information available (required by /usr/sbin/nginx)\\n/usr/sbin/nginx: /azureml-envs/azureml_09ff55f546b313bb1ab136a466214499/lib/libssl.so.1.0.0: no version information available (required by /usr/sbin/nginx)\\nrsyslogd: /azureml-envs/azureml_09ff55f546b313bb1ab136a466214499/lib/libuuid.so.1: no version information available (required by rsyslogd)\\nEdgeHubConnectionString and IOTEDGE_IOTHUBHOSTNAME are not set. Exiting...\\n2021-02-12T03:39:08,074616800+00:00 - iot-server/finish 1 0\\n2021-02-12T03:39:08,086101500+00:00 - Exit code 1 is normal. Not restarting iot-server.\\nStarting gunicorn 19.9.0\\nListening at: http://127.0.0.1:31311 (62)\\nUsing worker: sync\\nworker timeout is set to 300\\nBooting worker with pid: 96\\nSPARK_HOME not set. Skipping PySpark Initialization.\\nGenerating new fontManager, this may take some time...\\nInitializing logger\\n2021-02-12 03:39:13,843 | root | INFO | Starting up app insights client\\n2021-02-12 03:39:13,844 | root | INFO | Starting up request id generator\\n2021-02-12 03:39:13,844 | root | INFO | Starting up app insight hooks\\n2021-02-12 03:39:13,845 | root | INFO | Invoking user\\'s init function\\n2021-02-12 03:39:25,586 | root | INFO | Users\\'s init has completed successfully\\n2021-02-12 03:39:25,638 | root | INFO | Skipping middleware: dbg_model_info as it\\'s not enabled.\\n2021-02-12 03:39:25,638 | root | INFO | Skipping middleware: dbg_resource_usage as it\\'s not enabled.\\n2021-02-12 03:39:25,642 | root | INFO | Scoring timeout is found from os.environ: 60000 ms\\n2021-02-12 03:40:08,129 | root | INFO | Validation Request Content-Type\\n2021-02-12 03:40:08,129 | root | INFO | Scoring Timer is set to 60.0 seconds\\n2021-02-12 03:40:08,314 | root | INFO | 200\\n127.0.0.1 - - [12/Feb/2021:03:40:08 +0000] \"POST /score HTTP/1.0\" 200 22 \"-\" \"Python-urllib/3.6\"\\n'"
      ]
     },
     "execution_count": 28,
     "metadata": {},
     "output_type": "execute_result"
    }
   ],
   "source": [
    "service.get_logs()"
   ]
  },
  {
   "cell_type": "code",
   "execution_count": 29,
   "metadata": {},
   "outputs": [],
   "source": [
    "service.delete()"
   ]
  },
  {
   "cell_type": "code",
   "execution_count": null,
   "metadata": {},
   "outputs": [],
   "source": []
  }
 ],
 "metadata": {
  "kernel_info": {
   "name": "python3-azureml"
  },
  "kernelspec": {
   "display_name": "Python 3.6 - AzureML",
   "language": "python",
   "name": "python3-azureml"
  },
  "language_info": {
   "codemirror_mode": {
    "name": "ipython",
    "version": 3
   },
   "file_extension": ".py",
   "mimetype": "text/x-python",
   "name": "python",
   "nbconvert_exporter": "python",
   "pygments_lexer": "ipython3",
   "version": "3.6.9"
  },
  "nteract": {
   "version": "nteract-front-end@1.0.0"
  }
 },
 "nbformat": 4,
 "nbformat_minor": 2
}
